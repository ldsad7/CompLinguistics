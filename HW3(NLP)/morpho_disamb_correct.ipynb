{
  "nbformat": 4,
  "nbformat_minor": 0,
  "metadata": {
    "colab": {
      "name": "Copy of morpho_disamb_correct.ipynb",
      "version": "0.3.2",
      "provenance": [],
      "collapsed_sections": [],
      "toc_visible": true
    },
    "kernelspec": {
      "name": "python3",
      "display_name": "Python 3"
    },
    "accelerator": "GPU"
  },
  "cells": [
    {
      "cell_type": "markdown",
      "metadata": {
        "id": "NPOgMnI-81so",
        "colab_type": "text"
      },
      "source": [
        "Про существующие инструменты хорошо написано вот тут  - http://web-corpora.net/wsgi/mystemplus.wsgi/mystemplus/instructions/"
      ]
    },
    {
      "cell_type": "markdown",
      "metadata": {
        "id": "P6H5NM8O9BJf",
        "colab_type": "text"
      },
      "source": [
        "Не все из списка просто установить даже в колабе. Воспользуемся TreeTagger. Он хотя бы работает."
      ]
    },
    {
      "cell_type": "markdown",
      "metadata": {
        "id": "t6g4DGAj9BMp",
        "colab_type": "text"
      },
      "source": [
        "Скачиваем нужные файлы по инструкции."
      ]
    },
    {
      "cell_type": "code",
      "metadata": {
        "id": "QJSOrmGM80vJ",
        "colab_type": "code",
        "outputId": "0f46d632-4685-478a-d5af-c3e456a926dc",
        "colab": {
          "base_uri": "https://localhost:8080/",
          "height": 272
        }
      },
      "source": [
        "!wget http://www.cis.uni-muenchen.de/~schmid/tools/TreeTagger/data/tree-tagger-linux-3.2.2.tar.gz"
      ],
      "execution_count": 1,
      "outputs": [
        {
          "output_type": "stream",
          "text": [
            "--2019-06-01 17:02:42--  http://www.cis.uni-muenchen.de/~schmid/tools/TreeTagger/data/tree-tagger-linux-3.2.2.tar.gz\n",
            "Resolving www.cis.uni-muenchen.de (www.cis.uni-muenchen.de)... 129.187.148.72, 2001:4ca0:4f01::5\n",
            "Connecting to www.cis.uni-muenchen.de (www.cis.uni-muenchen.de)|129.187.148.72|:80... connected.\n",
            "HTTP request sent, awaiting response... 302 Found\n",
            "Location: https://www.cis.uni-muenchen.de/~schmid/tools/TreeTagger/data/tree-tagger-linux-3.2.2.tar.gz [following]\n",
            "--2019-06-01 17:02:43--  https://www.cis.uni-muenchen.de/~schmid/tools/TreeTagger/data/tree-tagger-linux-3.2.2.tar.gz\n",
            "Connecting to www.cis.uni-muenchen.de (www.cis.uni-muenchen.de)|129.187.148.72|:443... connected.\n",
            "HTTP request sent, awaiting response... 200 OK\n",
            "Length: 1821366 (1.7M) [application/x-gzip]\n",
            "Saving to: ‘tree-tagger-linux-3.2.2.tar.gz’\n",
            "\n",
            "tree-tagger-linux-3 100%[===================>]   1.74M  1.84MB/s    in 0.9s    \n",
            "\n",
            "2019-06-01 17:02:44 (1.84 MB/s) - ‘tree-tagger-linux-3.2.2.tar.gz’ saved [1821366/1821366]\n",
            "\n"
          ],
          "name": "stdout"
        }
      ]
    },
    {
      "cell_type": "code",
      "metadata": {
        "id": "uAH8K4T_5z8o",
        "colab_type": "code",
        "outputId": "ae2b2488-fdb7-46f4-8506-e6e77b8476d6",
        "colab": {
          "base_uri": "https://localhost:8080/",
          "height": 272
        }
      },
      "source": [
        "!wget http://www.cis.uni-muenchen.de/~schmid/tools/TreeTagger/data/tagger-scripts.tar.gz"
      ],
      "execution_count": 2,
      "outputs": [
        {
          "output_type": "stream",
          "text": [
            "--2019-06-01 17:02:46--  http://www.cis.uni-muenchen.de/~schmid/tools/TreeTagger/data/tagger-scripts.tar.gz\n",
            "Resolving www.cis.uni-muenchen.de (www.cis.uni-muenchen.de)... 129.187.148.72, 2001:4ca0:4f01::5\n",
            "Connecting to www.cis.uni-muenchen.de (www.cis.uni-muenchen.de)|129.187.148.72|:80... connected.\n",
            "HTTP request sent, awaiting response... 302 Found\n",
            "Location: https://www.cis.uni-muenchen.de/~schmid/tools/TreeTagger/data/tagger-scripts.tar.gz [following]\n",
            "--2019-06-01 17:02:47--  https://www.cis.uni-muenchen.de/~schmid/tools/TreeTagger/data/tagger-scripts.tar.gz\n",
            "Connecting to www.cis.uni-muenchen.de (www.cis.uni-muenchen.de)|129.187.148.72|:443... connected.\n",
            "HTTP request sent, awaiting response... 200 OK\n",
            "Length: 101810 (99K) [application/x-gzip]\n",
            "Saving to: ‘tagger-scripts.tar.gz’\n",
            "\n",
            "tagger-scripts.tar. 100%[===================>]  99.42K   327KB/s    in 0.3s    \n",
            "\n",
            "2019-06-01 17:02:47 (327 KB/s) - ‘tagger-scripts.tar.gz’ saved [101810/101810]\n",
            "\n"
          ],
          "name": "stdout"
        }
      ]
    },
    {
      "cell_type": "code",
      "metadata": {
        "id": "8SJ8rbYf5z-e",
        "colab_type": "code",
        "outputId": "151691f1-32b6-449b-c1d8-3130f5724843",
        "colab": {
          "base_uri": "https://localhost:8080/",
          "height": 272
        }
      },
      "source": [
        "!wget http://www.cis.uni-muenchen.de/~schmid/tools/TreeTagger/data/install-tagger.sh"
      ],
      "execution_count": 3,
      "outputs": [
        {
          "output_type": "stream",
          "text": [
            "--2019-06-01 17:02:49--  http://www.cis.uni-muenchen.de/~schmid/tools/TreeTagger/data/install-tagger.sh\n",
            "Resolving www.cis.uni-muenchen.de (www.cis.uni-muenchen.de)... 129.187.148.72, 2001:4ca0:4f01::5\n",
            "Connecting to www.cis.uni-muenchen.de (www.cis.uni-muenchen.de)|129.187.148.72|:80... connected.\n",
            "HTTP request sent, awaiting response... 302 Found\n",
            "Location: https://www.cis.uni-muenchen.de/~schmid/tools/TreeTagger/data/install-tagger.sh [following]\n",
            "--2019-06-01 17:02:50--  https://www.cis.uni-muenchen.de/~schmid/tools/TreeTagger/data/install-tagger.sh\n",
            "Connecting to www.cis.uni-muenchen.de (www.cis.uni-muenchen.de)|129.187.148.72|:443... connected.\n",
            "HTTP request sent, awaiting response... 200 OK\n",
            "Length: 12409 (12K) [application/x-shellscript]\n",
            "Saving to: ‘install-tagger.sh’\n",
            "\n",
            "install-tagger.sh   100%[===================>]  12.12K  --.-KB/s    in 0s      \n",
            "\n",
            "2019-06-01 17:02:50 (176 MB/s) - ‘install-tagger.sh’ saved [12409/12409]\n",
            "\n"
          ],
          "name": "stdout"
        }
      ]
    },
    {
      "cell_type": "code",
      "metadata": {
        "id": "n__NxBzk50DC",
        "colab_type": "code",
        "outputId": "d5fbc3c5-65c3-4faa-b247-70531a2bfa6c",
        "colab": {
          "base_uri": "https://localhost:8080/",
          "height": 272
        }
      },
      "source": [
        "!wget http://www.cis.uni-muenchen.de/~schmid/tools/TreeTagger/data/russian.par.gz"
      ],
      "execution_count": 4,
      "outputs": [
        {
          "output_type": "stream",
          "text": [
            "--2019-06-01 17:02:51--  http://www.cis.uni-muenchen.de/~schmid/tools/TreeTagger/data/russian.par.gz\n",
            "Resolving www.cis.uni-muenchen.de (www.cis.uni-muenchen.de)... 129.187.148.72, 2001:4ca0:4f01::5\n",
            "Connecting to www.cis.uni-muenchen.de (www.cis.uni-muenchen.de)|129.187.148.72|:80... connected.\n",
            "HTTP request sent, awaiting response... 302 Found\n",
            "Location: https://www.cis.uni-muenchen.de/~schmid/tools/TreeTagger/data/russian.par.gz [following]\n",
            "--2019-06-01 17:02:52--  https://www.cis.uni-muenchen.de/~schmid/tools/TreeTagger/data/russian.par.gz\n",
            "Connecting to www.cis.uni-muenchen.de (www.cis.uni-muenchen.de)|129.187.148.72|:443... connected.\n",
            "HTTP request sent, awaiting response... 200 OK\n",
            "Length: 115748255 (110M) [application/x-gzip]\n",
            "Saving to: ‘russian.par.gz’\n",
            "\n",
            "russian.par.gz      100%[===================>] 110.39M  19.5MB/s    in 6.7s    \n",
            "\n",
            "2019-06-01 17:02:59 (16.4 MB/s) - ‘russian.par.gz’ saved [115748255/115748255]\n",
            "\n"
          ],
          "name": "stdout"
        }
      ]
    },
    {
      "cell_type": "markdown",
      "metadata": {
        "id": "zUTvm68R9Qz8",
        "colab_type": "text"
      },
      "source": [
        "Устанавливаем."
      ]
    },
    {
      "cell_type": "code",
      "metadata": {
        "id": "Y_Zl4nv050G0",
        "colab_type": "code",
        "outputId": "c1e82424-820a-40f8-f5ed-ab490c83006c",
        "colab": {
          "base_uri": "https://localhost:8080/",
          "height": 153
        }
      },
      "source": [
        "!sh install-tagger.sh"
      ],
      "execution_count": 5,
      "outputs": [
        {
          "output_type": "stream",
          "text": [
            "\n",
            "TreeTagger version for PC-Linux installed.\n",
            "Tagging scripts installed.\n",
            "Russian parameter file installed.\n",
            "Path variables modified in tagging scripts.\n",
            "\n",
            "You might want to add /content/cmd and /content/bin to the PATH variable so that you do not need to specify the full path to run the tagging scripts.\n",
            "\n"
          ],
          "name": "stdout"
        }
      ]
    },
    {
      "cell_type": "markdown",
      "metadata": {
        "id": "83EIeB1j9TR4",
        "colab_type": "text"
      },
      "source": [
        "Предобученная модель для русского уже есть. Можно потестить."
      ]
    },
    {
      "cell_type": "code",
      "metadata": {
        "id": "opn4plRc50Ij",
        "colab_type": "code",
        "outputId": "5c4a17f8-b977-420c-97a7-c50dba46aff8",
        "colab": {
          "base_uri": "https://localhost:8080/",
          "height": 153
        }
      },
      "source": [
        "!echo 'Я хочу съесть яблоко!' | ./cmd/tree-tagger-russian"
      ],
      "execution_count": 6,
      "outputs": [
        {
          "output_type": "stream",
          "text": [
            "\treading parameters ...\n",
            "\ttagging ...\n",
            "Я\tP-1-snn\tя\n",
            "хочу\tVmip1s-a-e\tхотеть\n",
            "съесть\tVmn----a-p\tсъесть\n",
            "яблоко\tNcnsan\tяблоко\n",
            "!\tSENT\t!\n",
            "\t finished.\n"
          ],
          "name": "stdout"
        }
      ]
    },
    {
      "cell_type": "markdown",
      "metadata": {
        "id": "Va0btbvi9Y55",
        "colab_type": "text"
      },
      "source": [
        "Но тэги тут странноватые. Чтобы оценить это все на нашем корпусе, нужно будет обучить модель заново."
      ]
    },
    {
      "cell_type": "code",
      "metadata": {
        "id": "M0V-1lxg50NF",
        "colab_type": "code",
        "outputId": "0afe2960-299f-4229-f36f-28fdac887d8a",
        "colab": {
          "base_uri": "https://localhost:8080/",
          "height": 204
        }
      },
      "source": [
        "!wget http://opencorpora.org/files/export/annot/annot.opcorpora.no_ambig_strict.xml.zip"
      ],
      "execution_count": 7,
      "outputs": [
        {
          "output_type": "stream",
          "text": [
            "--2019-06-01 17:03:08--  http://opencorpora.org/files/export/annot/annot.opcorpora.no_ambig_strict.xml.zip\n",
            "Resolving opencorpora.org (opencorpora.org)... 148.251.2.141\n",
            "Connecting to opencorpora.org (opencorpora.org)|148.251.2.141|:80... connected.\n",
            "HTTP request sent, awaiting response... 200 OK\n",
            "Length: 2194082 (2.1M) [application/zip]\n",
            "Saving to: ‘annot.opcorpora.no_ambig_strict.xml.zip’\n",
            "\n",
            "annot.opcorpora.no_ 100%[===================>]   2.09M  1.97MB/s    in 1.1s    \n",
            "\n",
            "2019-06-01 17:03:10 (1.97 MB/s) - ‘annot.opcorpora.no_ambig_strict.xml.zip’ saved [2194082/2194082]\n",
            "\n"
          ],
          "name": "stdout"
        }
      ]
    },
    {
      "cell_type": "code",
      "metadata": {
        "id": "JHLr7nmv-F3c",
        "colab_type": "code",
        "outputId": "f9a173e4-07ad-4930-b9cf-3f190badd41a",
        "colab": {
          "base_uri": "https://localhost:8080/",
          "height": 51
        }
      },
      "source": [
        "!unzip annot.opcorpora.no_ambig_strict.xml.zip"
      ],
      "execution_count": 8,
      "outputs": [
        {
          "output_type": "stream",
          "text": [
            "Archive:  annot.opcorpora.no_ambig_strict.xml.zip\n",
            "  inflating: annot.opcorpora.no_ambig_strict.xml  \n"
          ],
          "name": "stdout"
        }
      ]
    },
    {
      "cell_type": "code",
      "metadata": {
        "id": "dh8OpwE5-F6h",
        "colab_type": "code",
        "colab": {}
      },
      "source": [
        "from lxml import etree\n",
        "from collections import defaultdict"
      ],
      "execution_count": 0,
      "outputs": []
    },
    {
      "cell_type": "code",
      "metadata": {
        "id": "GCuVu_w9-bC2",
        "colab_type": "code",
        "colab": {}
      },
      "source": [
        "open_corpora = etree.fromstring(open('annot.opcorpora.no_ambig_strict.xml', 'rb').read())"
      ],
      "execution_count": 0,
      "outputs": []
    },
    {
      "cell_type": "markdown",
      "metadata": {
        "id": "KAi-Sq0A9num",
        "colab_type": "text"
      },
      "source": [
        "Формат файлов делаем по инструкции."
      ]
    },
    {
      "cell_type": "code",
      "metadata": {
        "id": "PWp7bYeD-bEg",
        "colab_type": "code",
        "colab": {}
      },
      "source": [
        "with open('corpus_train.txt', 'w') as corpus:\n",
        "    vocab = defaultdict(set)\n",
        "    tags = set()\n",
        "\n",
        "    for sentence in open_corpora.xpath('//tokens'):\n",
        "        tokens = sentence.xpath('token')\n",
        "        length = len(tokens)\n",
        "        ended = False\n",
        "        for i, token in enumerate(tokens):\n",
        "            word = token.xpath('@text')\n",
        "            gram_info = token.xpath('tfr/v/l/g/@v')\n",
        "\n",
        "            if i == length - 1 and gram_info[0] == 'PNCT': # last symbol is a punctuation mark\n",
        "                gram_info = ['SENT']\n",
        "                ended = True\n",
        "\n",
        "            corpus.write(word[0] + '\\t' + ','.join(gram_info) + '\\n')\n",
        "            lemma = token.xpath('tfr/v/l/@t')[0] # get lemma in t-attribute of l-tag\n",
        "            vocab[word[0].lower()].add((','.join(gram_info), lemma.lower()))\n",
        "            tags.add(','.join(gram_info))\n",
        "\n",
        "        if not ended: # for consistency\n",
        "            corpus.write('.\\tSENT\\n')"
      ],
      "execution_count": 0,
      "outputs": []
    },
    {
      "cell_type": "code",
      "metadata": {
        "id": "_3oToRHbhH7F",
        "colab_type": "code",
        "outputId": "c1d41038-cdd8-4f75-f0fe-3bfb44bbc3a9",
        "colab": {
          "base_uri": "https://localhost:8080/",
          "height": 187
        }
      },
      "source": [
        "!head -n 10 corpus_train.txt"
      ],
      "execution_count": 12,
      "outputs": [
        {
          "output_type": "stream",
          "text": [
            "«\tPNCT\n",
            "Школа\tNOUN,inan,femn,sing,nomn\n",
            "злословия\tNOUN,inan,neut,sing,gent\n",
            "»\tPNCT\n",
            "учит\tVERB,impf,tran,sing,3per,pres,indc\n",
            "прикусить\tINFN,perf,tran\n",
            "язык\tNOUN,inan,masc,sing,accs\n",
            ".\tSENT\n",
            "Сохранится\tVERB,perf,intr,sing,3per,futr,indc\n",
            "ли\tPRCL\n"
          ],
          "name": "stdout"
        }
      ]
    },
    {
      "cell_type": "code",
      "metadata": {
        "id": "YIoE24i2ib7c",
        "colab_type": "code",
        "outputId": "a557789d-8f36-46a2-efa1-c9ab7e0367a5",
        "colab": {
          "base_uri": "https://localhost:8080/",
          "height": 51
        }
      },
      "source": [
        "for pair in vocab['.']:\n",
        "    print(' '.join(pair))"
      ],
      "execution_count": 13,
      "outputs": [
        {
          "output_type": "stream",
          "text": [
            "PNCT .\n",
            "SENT .\n"
          ],
          "name": "stdout"
        }
      ]
    },
    {
      "cell_type": "markdown",
      "metadata": {
        "id": "Ow7I0AkC9rsa",
        "colab_type": "text"
      },
      "source": [
        "Словарь создаем по инструкции."
      ]
    },
    {
      "cell_type": "code",
      "metadata": {
        "id": "2ffrmMswF7h-",
        "colab_type": "code",
        "colab": {}
      },
      "source": [
        "with open('lexicon.txt', 'w', encoding='utf-8') as f:\n",
        "    for word in vocab:\n",
        "        f.write(word + '\\t')\n",
        "        f.write('\\t'.join([' '.join(pair) for pair in vocab[word]]))\n",
        "        f.write('\\n')"
      ],
      "execution_count": 0,
      "outputs": []
    },
    {
      "cell_type": "code",
      "metadata": {
        "id": "yvEoeaqVjXMy",
        "colab_type": "code",
        "outputId": "28b0fb32-81ad-4baf-f582-dd410eea5088",
        "colab": {
          "base_uri": "https://localhost:8080/",
          "height": 187
        }
      },
      "source": [
        "!head -n 10 lexicon.txt"
      ],
      "execution_count": 15,
      "outputs": [
        {
          "output_type": "stream",
          "text": [
            "«\tPNCT «\n",
            "школа\tNOUN,inan,femn,sing,nomn школа\n",
            "злословия\tNOUN,inan,neut,sing,gent злословие\n",
            "»\tPNCT »\tSENT »\n",
            "учит\tVERB,impf,tran,sing,3per,pres,indc учу\n",
            "прикусить\tINFN,perf,tran прикусить\n",
            "язык\tNOUN,inan,masc,sing,accs язык\n",
            "сохранится\tVERB,perf,intr,sing,3per,futr,indc сохранился\n",
            "ли\tPRCL ли\n",
            "градус\tNOUN,inan,masc,sing,nomn градус\n"
          ],
          "name": "stdout"
        }
      ]
    },
    {
      "cell_type": "markdown",
      "metadata": {
        "id": "IoUI-i1A9yS1",
        "colab_type": "text"
      },
      "source": [
        "Словарь для UNK создаем по инструкции."
      ]
    },
    {
      "cell_type": "code",
      "metadata": {
        "id": "l2YiqhaWk4Oe",
        "colab_type": "code",
        "outputId": "22acac8c-0245-40ca-bfa5-c217fc369b34",
        "colab": {
          "base_uri": "https://localhost:8080/",
          "height": 187
        }
      },
      "source": [
        "list(tags)[:10]"
      ],
      "execution_count": 16,
      "outputs": [
        {
          "output_type": "execute_result",
          "data": {
            "text/plain": [
              "['NOUN,inan,neut,Sgtm,sing,accs',\n",
              " 'NUMR,femn,loct',\n",
              " 'NOUN,anim,femn,sing,ablt,V-oy',\n",
              " 'NOUN,inan,masc,Fixd,Sgtm,sing,datv',\n",
              " 'NOUN,inan,masc,sing,loc1',\n",
              " 'ADJF,Qual,femn,sing,accs',\n",
              " 'NPRO,femn,sing,nomn',\n",
              " 'PRTF,perf,tran,past,pssv,neut,sing,datv',\n",
              " 'ADJF,Qual,neut,sing,loct',\n",
              " 'NPRO,Anph,sing,gent']"
            ]
          },
          "metadata": {
            "tags": []
          },
          "execution_count": 16
        }
      ]
    },
    {
      "cell_type": "code",
      "metadata": {
        "id": "d1MbTCEKG4gj",
        "colab_type": "code",
        "colab": {}
      },
      "source": [
        "with open('open_class.txt', 'w') as f:\n",
        "    # define tags for unknown words\n",
        "    f.write('\\n'.join([tag for tag in tags if 'NOUN' in tag or 'VERB' in tag or 'ADJF' in tag]))"
      ],
      "execution_count": 0,
      "outputs": []
    },
    {
      "cell_type": "code",
      "metadata": {
        "id": "f2vbnYfvlBeH",
        "colab_type": "code",
        "outputId": "1e52d1fb-82c2-412c-db1d-cd5327b24a03",
        "colab": {
          "base_uri": "https://localhost:8080/",
          "height": 187
        }
      },
      "source": [
        "!tail -n 10 open_class.txt"
      ],
      "execution_count": 18,
      "outputs": [
        {
          "output_type": "stream",
          "text": [
            "ADJF,Qual,neut,sing,nomn\n",
            "ADJF,Apro,Anum,femn,sing,ablt\n",
            "ADJF,Apro,Anph,masc,sing,ablt\n",
            "ADJF,Qual,masc,sing,loct\n",
            "ADJF,Abbr,Anum,femn,sing,nomn\n",
            "NOUN,inan,GNdr,Pltm,Fixd,Abbr,plur,nomn\n",
            "NOUN,anim,femn,Sgtm,Fixd,Surn,sing,accs\n",
            "VERB,impf,tran,plur,2per,pres,indc\n",
            "NOUN,inan,femn,plur,accs\n",
            "VERB,perf,tran,sing,impr,excl,Abbr"
          ],
          "name": "stdout"
        }
      ]
    },
    {
      "cell_type": "markdown",
      "metadata": {
        "id": "C-QgRvn9908G",
        "colab_type": "text"
      },
      "source": [
        "Обучаем."
      ]
    },
    {
      "cell_type": "code",
      "metadata": {
        "id": "W3J535DI-bMy",
        "colab_type": "code",
        "outputId": "f85d6c64-b77c-49d7-b491-58a8556945a4",
        "colab": {
          "base_uri": "https://localhost:8080/",
          "height": 425
        }
      },
      "source": [
        "!./bin/train-tree-tagger lexicon.txt open_class.txt corpus_train.txt model_oc"
      ],
      "execution_count": 19,
      "outputs": [
        {
          "output_type": "stream",
          "text": [
            "\n",
            "train-tree-tagger -cl 2 -dtg 0.50 -sw 1.00 -ecw 0.15 -atg 1.20 lexicon.txt open_class.txt corpus_train.txt model_oc\n",
            "\n",
            "\treading the lexicon ...\n",
            "\t\treading the tagset ...\n",
            "\t\treading the lemmas ...\n",
            "\t\treading the entries ...\n",
            "\t\tsorting the lexicon ...\n",
            "\t\treading the open class tags ...\n",
            "\tcalculating tag frequencies ...\n",
            "\r1000\r2000\r3000\r4000\r5000\r6000\r7000\r8000\r9000\r10000\r11000\r12000\r13000\r14000\r15000\r16000\r17000\r18000\r19000\r20000\r21000\r22000\r23000\r24000\r25000\r26000\r27000\r28000\r29000\r30000\r31000\r32000\r33000\r34000\r35000\r36000\r37000\r38000\r39000\r40000\r41000\r42000\r43000\r44000\r45000\r46000\r47000\r48000\r49000\r50000\r51000\r52000\r53000\r54000\r55000\r56000\r57000\r58000\tmaking affix tree ...\n",
            "prefix lexicon: 807 nodes\n",
            "suffix lexicon: 1790 nodes\n",
            "\treading classes ...\n",
            "\tmaking ngram table ...\n",
            "\r1000\t943\r2000\t1734\r3000\t2524\r4000\t3306\r5000\t3893\r6000\t4601\r7000\t5248\r8000\t5815\r9000\t6497\r10000\t7176\r11000\t7832\r12000\t8481\r13000\t9117\r14000\t9726\r15000\t10326\r16000\t10838\r17000\t11403\r18000\t12028\r19000\t12516\r20000\t13106\r21000\t13706\r22000\t14293\r23000\t14802\r24000\t15353\r25000\t15898\r26000\t16444\r27000\t17023\r28000\t17567\r29000\t18099\r30000\t18631\r31000\t19119\r32000\t19623\r33000\t20143\r34000\t20530\r35000\t21043\r36000\t21568\r37000\t22020\r38000\t22417\r39000\t22840\r40000\t23175\r41000\t23611\r42000\t23938\r43000\t24411\r44000\t24714\r45000\t24911\r46000\t25250\r47000\t25579\r48000\t25982\r49000\t26353\r50000\t26778\r51000\t27145\r52000\t27527\r53000\t27930\r54000\t28246\r55000\t28511\r56000\t28793\r57000\t29195\r58000\t29571\r59000\t29938\r60000\t30249\r61000\t30544\r62000\t30892\r63000\t31298\r64000\t31679\r65000\t32118\r66000\t32489\r67000\t32850\r68000\t33096\r69000\t33422\r70000\t33723\r71000\t33978\r71531\t34066\n",
            "finished.\n",
            "\tmaking decision tree ...\n",
            "92\tsaving parameters ...\n",
            "\n",
            "Number of nodes: 93\n",
            "Max. path length: 16\n",
            "\n",
            "done.\n"
          ],
          "name": "stdout"
        }
      ]
    },
    {
      "cell_type": "markdown",
      "metadata": {
        "id": "9G_X1NAd93Cy",
        "colab_type": "text"
      },
      "source": [
        "Предиктим."
      ]
    },
    {
      "cell_type": "code",
      "metadata": {
        "id": "ZOIlVOF7xNE0",
        "colab_type": "code",
        "colab": {}
      },
      "source": [
        "with open('test_corpus.txt', 'w') as test:\n",
        "    test.write('\\n'.join('Я хочу съесть яблоко .'.split()))"
      ],
      "execution_count": 0,
      "outputs": []
    },
    {
      "cell_type": "code",
      "metadata": {
        "id": "9tsgrLND-bOu",
        "colab_type": "code",
        "outputId": "c7ca2551-c280-4412-971d-04ffd5c782fa",
        "colab": {
          "base_uri": "https://localhost:8080/",
          "height": 68
        }
      },
      "source": [
        "!./bin/tree-tagger -token -lemma model_oc test_corpus.txt output.txt"
      ],
      "execution_count": 21,
      "outputs": [
        {
          "output_type": "stream",
          "text": [
            "\treading parameters ...\n",
            "\ttagging ...\n",
            "\t finished.\n"
          ],
          "name": "stdout"
        }
      ]
    },
    {
      "cell_type": "code",
      "metadata": {
        "id": "SqQK1I2jhk2v",
        "colab_type": "code",
        "outputId": "8eff3e4f-1393-46a2-9e1c-f2688cb0aefd",
        "colab": {
          "base_uri": "https://localhost:8080/",
          "height": 102
        }
      },
      "source": [
        "!head output.txt"
      ],
      "execution_count": 22,
      "outputs": [
        {
          "output_type": "stream",
          "text": [
            "Я\tNOUN,inan,masc,sing,nomn\t<unknown>\n",
            "хочу\tVERB,impf,tran,sing,1per,pres,indc\tхочу\n",
            "съесть\tVERB,perf,tran,masc,sing,past,indc\t<unknown>\n",
            "яблоко\tNOUN,anim,masc,Name,sing,nomn\t<unknown>\n",
            ".\tSENT\t.\n"
          ],
          "name": "stdout"
        }
      ]
    },
    {
      "cell_type": "markdown",
      "metadata": {
        "id": "zzFApZ-hn0FN",
        "colab_type": "text"
      },
      "source": [
        "# Задание 1"
      ]
    },
    {
      "cell_type": "code",
      "metadata": {
        "id": "JDen4jIknzmM",
        "colab_type": "code",
        "colab": {}
      },
      "source": [
        "with open('corpus_train.txt', 'r', encoding='utf-8') as f:\n",
        "    lines = f.readlines()"
      ],
      "execution_count": 0,
      "outputs": []
    },
    {
      "cell_type": "code",
      "metadata": {
        "id": "IXBVgxX6rFan",
        "colab_type": "code",
        "colab": {}
      },
      "source": [
        "import numpy as np\n",
        "from sklearn.model_selection import KFold"
      ],
      "execution_count": 0,
      "outputs": []
    },
    {
      "cell_type": "code",
      "metadata": {
        "id": "gpwk7h1UrqN9",
        "colab_type": "code",
        "colab": {}
      },
      "source": [
        "# number of folds in cross-validation\n",
        "n_folds = 5\n",
        "kf = KFold(n_splits=n_folds, shuffle=True, random_state=21)"
      ],
      "execution_count": 0,
      "outputs": []
    },
    {
      "cell_type": "code",
      "metadata": {
        "id": "gDuchSNzrvlm",
        "colab_type": "code",
        "outputId": "fd5664f1-707f-4653-a5d6-67212f1ad0e6",
        "colab": {
          "base_uri": "https://localhost:8080/",
          "height": 2312
        }
      },
      "source": [
        "lines = np.array(lines)\n",
        "\n",
        "words = []\n",
        "correct_tags = []\n",
        "predicted_tags = []\n",
        "trained_models = []\n",
        "for n_fold, (train, test) in enumerate(kf.split(lines)):\n",
        "    with open('corpus_train_fold.txt', 'w', encoding='utf-8') as f:\n",
        "        f.writelines(lines[train])\n",
        "    filename = 'model_oc_' + str(n_fold)\n",
        "    !./bin/train-tree-tagger lexicon.txt open_class.txt corpus_train_fold.txt $filename\n",
        "    with open('corpus_test_fold.txt', 'w', encoding='utf-8') as f:\n",
        "        correct_tags_in_fold = np.array([])\n",
        "        words_fold = np.array([])\n",
        "        for line in lines[test]:\n",
        "            word, tag = line.split()\n",
        "            words_fold = np.append(words_fold, word)\n",
        "            correct_tags_in_fold = np.append(correct_tags_in_fold, tag)\n",
        "        correct_tags.append(correct_tags_in_fold)\n",
        "        f.write('\\n'.join(words_fold))\n",
        "        words.append(words_fold)\n",
        "    !./bin/tree-tagger $filename corpus_test_fold.txt output.txt\n",
        "    with open('output.txt', 'r', encoding='utf-8') as f:\n",
        "        predicted_tags.append(np.array([line.strip() for line in f.readlines()]))"
      ],
      "execution_count": 26,
      "outputs": [
        {
          "output_type": "stream",
          "text": [
            "\n",
            "train-tree-tagger -cl 2 -dtg 0.50 -sw 1.00 -ecw 0.15 -atg 1.20 lexicon.txt open_class.txt corpus_train_fold.txt model_oc_0\n",
            "\n",
            "\treading the lexicon ...\n",
            "\t\treading the tagset ...\n",
            "\t\treading the lemmas ...\n",
            "\t\treading the entries ...\n",
            "\t\tsorting the lexicon ...\n",
            "\t\treading the open class tags ...\n",
            "\tcalculating tag frequencies ...\n",
            "\r1000\r2000\r3000\r4000\r5000\r6000\r7000\r8000\r9000\r10000\r11000\r12000\r13000\r14000\r15000\r16000\r17000\r18000\r19000\r20000\r21000\r22000\r23000\r24000\r25000\r26000\r27000\r28000\r29000\r30000\r31000\r32000\r33000\r34000\r35000\r36000\r37000\r38000\r39000\r40000\r41000\r42000\r43000\r44000\r45000\r46000\tmaking affix tree ...\n",
            "prefix lexicon: 807 nodes\n",
            "suffix lexicon: 1792 nodes\n",
            "\treading classes ...\n",
            "\tmaking ngram table ...\n",
            "\r1000\t965\r2000\t1807\r3000\t2683\r4000\t3379\r5000\t4165\r6000\t4943\r7000\t5613\r8000\t6387\r9000\t7140\r10000\t7861\r11000\t8584\r12000\t9266\r13000\t9932\r14000\t10619\r15000\t11287\r16000\t11975\r17000\t12664\r18000\t13353\r19000\t13937\r20000\t14623\r21000\t15290\r22000\t15931\r23000\t16570\r24000\t17220\r25000\t17815\r26000\t18426\r27000\t18993\r28000\t19596\r29000\t20204\r30000\t20790\r31000\t21280\r32000\t21718\r33000\t22227\r34000\t22753\r35000\t23242\r36000\t23553\r37000\t23972\r38000\t24417\r39000\t24877\r40000\t25397\r41000\t25877\r42000\t26376\r43000\t26843\r44000\t27213\r45000\t27585\r46000\t28077\r47000\t28534\r48000\t28973\r49000\t29395\r50000\t29866\r51000\t30400\r52000\t30897\r53000\t31390\r54000\t31807\r55000\t32181\r56000\t32580\r57000\t32931\r57224\t33006\n",
            "finished.\n",
            "\tmaking decision tree ...\n",
            "26\tsaving parameters ...\n",
            "\n",
            "Number of nodes: 27\n",
            "Max. path length: 9\n",
            "\n",
            "done.\n",
            "\treading parameters ...\n",
            "\ttagging ...\n",
            "14000\t finished.\n",
            "\n",
            "train-tree-tagger -cl 2 -dtg 0.50 -sw 1.00 -ecw 0.15 -atg 1.20 lexicon.txt open_class.txt corpus_train_fold.txt model_oc_1\n",
            "\n",
            "\treading the lexicon ...\n",
            "\t\treading the tagset ...\n",
            "\t\treading the lemmas ...\n",
            "\t\treading the entries ...\n",
            "\t\tsorting the lexicon ...\n",
            "\t\treading the open class tags ...\n",
            "\tcalculating tag frequencies ...\n",
            "46000\tmaking affix tree ...\n",
            "prefix lexicon: 807 nodes\n",
            "suffix lexicon: 1795 nodes\n",
            "\treading classes ...\n",
            "\tmaking ngram table ...\n",
            "57225\t33070\n",
            "finished.\n",
            "\tmaking decision tree ...\n",
            "28\tsaving parameters ...\n",
            "\n",
            "Number of nodes: 29\n",
            "Max. path length: 9\n",
            "\n",
            "done.\n",
            "\treading parameters ...\n",
            "\ttagging ...\n",
            "14000\t finished.\n",
            "\n",
            "train-tree-tagger -cl 2 -dtg 0.50 -sw 1.00 -ecw 0.15 -atg 1.20 lexicon.txt open_class.txt corpus_train_fold.txt model_oc_2\n",
            "\n",
            "\treading the lexicon ...\n",
            "\t\treading the tagset ...\n",
            "\t\treading the lemmas ...\n",
            "\t\treading the entries ...\n",
            "\t\tsorting the lexicon ...\n",
            "\t\treading the open class tags ...\n",
            "\tcalculating tag frequencies ...\n",
            "46000\tmaking affix tree ...\n",
            "prefix lexicon: 807 nodes\n",
            "suffix lexicon: 1791 nodes\n",
            "\treading classes ...\n",
            "\tmaking ngram table ...\n",
            "57225\t32836\n",
            "finished.\n",
            "\tmaking decision tree ...\n",
            "30\tsaving parameters ...\n",
            "\n",
            "Number of nodes: 31\n",
            "Max. path length: 9\n",
            "\n",
            "done.\n",
            "\treading parameters ...\n",
            "\ttagging ...\n",
            "14000\t finished.\n",
            "\n",
            "train-tree-tagger -cl 2 -dtg 0.50 -sw 1.00 -ecw 0.15 -atg 1.20 lexicon.txt open_class.txt corpus_train_fold.txt model_oc_3\n",
            "\n",
            "\treading the lexicon ...\n",
            "\t\treading the tagset ...\n",
            "\t\treading the lemmas ...\n",
            "\t\treading the entries ...\n",
            "\t\tsorting the lexicon ...\n",
            "\t\treading the open class tags ...\n",
            "\tcalculating tag frequencies ...\n",
            "46000\tmaking affix tree ...\n",
            "prefix lexicon: 807 nodes\n",
            "suffix lexicon: 1795 nodes\n",
            "\treading classes ...\n",
            "\tmaking ngram table ...\n",
            "57225\t33088\n",
            "finished.\n",
            "\tmaking decision tree ...\n",
            "28\tsaving parameters ...\n",
            "\n",
            "Number of nodes: 29\n",
            "Max. path length: 9\n",
            "\n",
            "done.\n",
            "\treading parameters ...\n",
            "\ttagging ...\n",
            "14000\t finished.\n",
            "\n",
            "train-tree-tagger -cl 2 -dtg 0.50 -sw 1.00 -ecw 0.15 -atg 1.20 lexicon.txt open_class.txt corpus_train_fold.txt model_oc_4\n",
            "\n",
            "\treading the lexicon ...\n",
            "\t\treading the tagset ...\n",
            "\t\treading the lemmas ...\n",
            "\t\treading the entries ...\n",
            "\t\tsorting the lexicon ...\n",
            "\t\treading the open class tags ...\n",
            "\tcalculating tag frequencies ...\n",
            "46000\tmaking affix tree ...\n",
            "prefix lexicon: 807 nodes\n",
            "suffix lexicon: 1794 nodes\n",
            "\treading classes ...\n",
            "\tmaking ngram table ...\n",
            "57225\t32859\n",
            "finished.\n",
            "\tmaking decision tree ...\n",
            "26\tsaving parameters ...\n",
            "\n",
            "Number of nodes: 27\n",
            "Max. path length: 8\n",
            "\n",
            "done.\n",
            "\treading parameters ...\n",
            "\ttagging ...\n",
            "14000\t finished.\n"
          ],
          "name": "stdout"
        }
      ]
    },
    {
      "cell_type": "code",
      "metadata": {
        "id": "m6zjTRDZ6vlz",
        "colab_type": "code",
        "colab": {}
      },
      "source": [
        "# for predicted_tag, correct_tag, word in zip(predicted_tags[0], correct_tags[0], words[0]):\n",
        "#     if predicted_tag != correct_tag:\n",
        "#         print(word + ':\\n' + 'predicted tag: ' + predicted_tag.strip() + '\\n' + 'correct tag: ' + correct_tag.strip())"
      ],
      "execution_count": 0,
      "outputs": []
    },
    {
      "cell_type": "code",
      "metadata": {
        "id": "gqN0T62p5VQz",
        "colab_type": "code",
        "colab": {}
      },
      "source": [
        "from collections import Counter\n",
        "mistakes = []\n",
        "preds = []\n",
        "\n",
        "for fold in range(n_folds):\n",
        "    mistakes.append(Counter())\n",
        "    preds.append([])\n",
        "    for predicted_tag, correct_tag, word in zip(predicted_tags[fold], correct_tags[fold], words[fold]):\n",
        "        predicted_tag = set(predicted_tag.split(','))\n",
        "        correct_tag = set(correct_tag.split(','))\n",
        "        preds[-1].append(len(predicted_tag & correct_tag) / len(predicted_tag | correct_tag))\n",
        "        if preds[-1][-1] < 0.5:\n",
        "            mistakes[-1].update([(word, tuple(correct_tag), tuple(predicted_tag))])"
      ],
      "execution_count": 0,
      "outputs": []
    },
    {
      "cell_type": "code",
      "metadata": {
        "id": "Mmulv1rL8gQx",
        "colab_type": "code",
        "outputId": "84e29452-8c15-4773-a5f0-945ad160614f",
        "colab": {
          "base_uri": "https://localhost:8080/",
          "height": 323
        }
      },
      "source": [
        "mean_values = []\n",
        "std_values = []\n",
        "for fold in range(n_folds):\n",
        "    mean_values.append(np.mean(preds[fold]))\n",
        "    std_values.append(np.std(preds[fold]))\n",
        "    print('fold №' + str(fold) + ':\\n' + 'mean: ' + str(mean_values[-1]) + '\\nstd: ' + str(std_values[-1]))\n",
        "print('---------------------------------------')\n",
        "print('mean_value: ' + str(np.mean(mean_values)))\n",
        "print('mean_std_value: ' + str(np.mean(std_values)))"
      ],
      "execution_count": 29,
      "outputs": [
        {
          "output_type": "stream",
          "text": [
            "fold №0:\n",
            "mean: 0.8339482774977637\n",
            "std: 0.3307875796821816\n",
            "fold №1:\n",
            "mean: 0.8407380168179832\n",
            "std: 0.3246594596021001\n",
            "fold №2:\n",
            "mean: 0.8371118082253269\n",
            "std: 0.32585187596791765\n",
            "fold №3:\n",
            "mean: 0.839101772297634\n",
            "std: 0.3237464758684762\n",
            "fold №4:\n",
            "mean: 0.8312753170994468\n",
            "std: 0.3319245915817799\n",
            "---------------------------------------\n",
            "mean_value: 0.8364350383876309\n",
            "mean_std_value: 0.3273939965404911\n"
          ],
          "name": "stdout"
        }
      ]
    },
    {
      "cell_type": "code",
      "metadata": {
        "id": "PSuF067v8ua5",
        "colab_type": "code",
        "outputId": "b99d3413-3344-412e-e451-207bc4547e6e",
        "colab": {
          "base_uri": "https://localhost:8080/",
          "height": 295
        }
      },
      "source": [
        "import matplotlib.pyplot as plt\n",
        "\n",
        "# we subtracted 0.8 to make differences visible\n",
        "plt.bar(range(n_folds), [np.mean(preds[fold]) - 0.8 for fold in range(n_folds)])\n",
        "plt.xlabel('fold\\'s number')\n",
        "plt.ylabel('Jaccard index - 0.8')\n",
        "plt.title('Differences between folds');"
      ],
      "execution_count": 30,
      "outputs": [
        {
          "output_type": "display_data",
          "data": {
            "image/png": "[encoded data removed]",
            "text/plain": [
              "<Figure size 432x288 with 1 Axes>"
            ]
          },
          "metadata": {
            "tags": []
          }
        }
      ]
    },
    {
      "cell_type": "markdown",
      "metadata": {
        "id": "r_27qjDqGn6R",
        "colab_type": "text"
      },
      "source": [
        "Качество хуже, чем у pymorphy, на 10%. Отчасти это может быть связано с тем, что мы обучались не на всём датасете (только на 80%), но скорее всего этот TreeTagger просто уступает в качестве, поскольку алгоритм не совершенен, также почти наверняка теггер pymorphy обучен на большем датасете. Также у pymorphy std меньше в 3 раза, чем у TreeTagger, т.е. TreeTagger выдаёт качество не только хуже, но и менее стабильнее (больше стандартное отклонение)."
      ]
    },
    {
      "cell_type": "markdown",
      "metadata": {
        "id": "QMLx_Y8EASQb",
        "colab_type": "text"
      },
      "source": [
        "Покажем, что TreeTagger обучен правильно, т.е. что предсказания адекватные, например, на модели model_oc_4:"
      ]
    },
    {
      "cell_type": "code",
      "metadata": {
        "id": "8id5uKTWBEB4",
        "colab_type": "code",
        "colab": {}
      },
      "source": [
        "with open('corpus_test.txt', 'w', encoding='utf-8') as f:\n",
        "    f.write('\\n'.join('Я хочу съесть яблоко . Он видел дом !'.split()))"
      ],
      "execution_count": 0,
      "outputs": []
    },
    {
      "cell_type": "code",
      "metadata": {
        "id": "jIKrV6skAR1z",
        "colab_type": "code",
        "outputId": "46e9520b-ffb7-424b-f1f0-11b33f167cec",
        "colab": {
          "base_uri": "https://localhost:8080/",
          "height": 68
        }
      },
      "source": [
        "!./bin/tree-tagger model_oc_0 corpus_test.txt output.txt"
      ],
      "execution_count": 32,
      "outputs": [
        {
          "output_type": "stream",
          "text": [
            "\treading parameters ...\n",
            "\ttagging ...\n",
            "\t finished.\n"
          ],
          "name": "stdout"
        }
      ]
    },
    {
      "cell_type": "code",
      "metadata": {
        "id": "SpC3r6QHBSht",
        "colab_type": "code",
        "outputId": "98bed508-5b24-481a-cdb2-5bd2a3d229cb",
        "colab": {
          "base_uri": "https://localhost:8080/",
          "height": 170
        }
      },
      "source": [
        "!head output.txt"
      ],
      "execution_count": 33,
      "outputs": [
        {
          "output_type": "stream",
          "text": [
            "NOUN,inan,masc,sing,nomn\n",
            "VERB,impf,tran,sing,1per,pres,indc\n",
            "NOUN,inan,femn,plur,gent\n",
            "NOUN,inan,neut,plur,ablt\n",
            "SENT\n",
            "NOUN,inan,masc,sing,nomn\n",
            "VERB,impf,tran,masc,sing,past,indc\n",
            "NOUN,inan,masc,sing,accs\n",
            "SENT\n"
          ],
          "name": "stdout"
        }
      ]
    },
    {
      "cell_type": "code",
      "metadata": {
        "id": "Q_TFGdiY_FWF",
        "colab_type": "code",
        "outputId": "028a6377-d8ce-4bfa-b53c-06a8c203c044",
        "colab": {
          "base_uri": "https://localhost:8080/",
          "height": 34
        }
      },
      "source": [
        "len(train), len(test)"
      ],
      "execution_count": 34,
      "outputs": [
        {
          "output_type": "execute_result",
          "data": {
            "text/plain": [
              "(57225, 14306)"
            ]
          },
          "metadata": {
            "tags": []
          },
          "execution_count": 34
        }
      ]
    },
    {
      "cell_type": "markdown",
      "metadata": {
        "id": "sjmetxlYEUnF",
        "colab_type": "text"
      },
      "source": [
        "Как видно, наша модель ошибается в глаголе \"съесть\", хотя модель, обученная на полном датасете, правильно приписывает POS (хотя и выдаёт некорректное значение past для tense). Наша модель ошибается также и в морфологическом разборе (в падеже) слова \"яблоко\", тогда как модель, обученная на всех данных, выдаёт неправильный род для этого же слова. Поскольку у нас всего 5 фолдов (т.е. тестовая выборка занимает 20%, обучаемся всего лишь на 80%), ошибки и ухудшение качества неизбежны, но в целом данные примеры демонстрируют, что модель корректно (для данного теггера) обучилась."
      ]
    },
    {
      "cell_type": "code",
      "metadata": {
        "id": "FIbXce_XETm5",
        "colab_type": "code",
        "outputId": "479a1ea8-ed04-44ad-e44f-32849a55d005",
        "colab": {
          "base_uri": "https://localhost:8080/",
          "height": 207
        }
      },
      "source": [
        "for fold in range(n_folds):\n",
        "    print('top-10 mistakes (fold №{})'.format(fold))\n",
        "    print(mistakes[fold].most_common(10))"
      ],
      "execution_count": 35,
      "outputs": [
        {
          "output_type": "stream",
          "text": [
            "top-10 mistakes (fold №0)\n",
            "[(('.', ('PNCT',), ('SENT',)), 81), (('В', ('PREP',), ('gent', 'NOUN', 'neut', 'inan', 'sing')), 50), ((',', ('SENT',), ('PNCT',)), 43), (('.', ('SENT',), ('PNCT',)), 38), (('В', ('PREP',), ('masc', 'NOUN', 'nomn', 'inan', 'sing')), 37), (('Статья', ('NOUN', 'nomn', 'femn', 'inan', 'sing'), ('gent', 'NOUN', 'neut', 'inan', 'sing')), 35), ((':', ('PNCT',), ('SENT',)), 29), (('»', ('SENT',), ('PNCT',)), 24), (('Я', ('sing', 'NPRO', '1per', 'nomn'), ('gent', 'NOUN', 'neut', 'inan', 'sing')), 23), ((')', ('SENT',), ('PNCT',)), 19)]\n",
            "top-10 mistakes (fold №1)\n",
            "[(('.', ('PNCT',), ('SENT',)), 68), ((',', ('SENT',), ('PNCT',)), 42), (('В', ('PREP',), ('gent', 'NOUN', 'neut', 'inan', 'sing')), 39), (('Статья', ('NOUN', 'nomn', 'femn', 'inan', 'sing'), ('gent', 'NOUN', 'neut', 'inan', 'sing')), 32), (('В', ('PREP',), ('masc', 'NOUN', 'nomn', 'inan', 'sing')), 31), (('.', ('SENT',), ('PNCT',)), 24), (('Я', ('sing', 'NPRO', '1per', 'nomn'), ('gent', 'NOUN', 'neut', 'inan', 'sing')), 24), ((':', ('PNCT',), ('SENT',)), 23), ((')', ('SENT',), ('PNCT',)), 22), (('Не', ('PRCL',), ('gent', 'NOUN', 'neut', 'inan', 'sing')), 14)]\n",
            "top-10 mistakes (fold №2)\n",
            "[(('.', ('PNCT',), ('SENT',)), 85), (('В', ('PREP',), ('gent', 'NOUN', 'neut', 'inan', 'sing')), 43), (('.', ('SENT',), ('PNCT',)), 31), (('В', ('PREP',), ('masc', 'NOUN', 'nomn', 'inan', 'sing')), 31), (('Статья', ('NOUN', 'nomn', 'femn', 'inan', 'sing'), ('gent', 'NOUN', 'neut', 'inan', 'sing')), 29), (('Я', ('sing', 'NPRO', '1per', 'nomn'), ('gent', 'NOUN', 'neut', 'inan', 'sing')), 27), ((':', ('SENT',), ('PNCT',)), 24), ((',', ('SENT',), ('PNCT',)), 23), (('»', ('SENT',), ('PNCT',)), 22), ((':', ('PNCT',), ('SENT',)), 18)]\n",
            "top-10 mistakes (fold №3)\n",
            "[(('.', ('PNCT',), ('SENT',)), 83), (('В', ('PREP',), ('gent', 'NOUN', 'neut', 'inan', 'sing')), 51), (('В', ('PREP',), ('masc', 'NOUN', 'nomn', 'inan', 'sing')), 35), ((',', ('SENT',), ('PNCT',)), 34), (('Статья', ('NOUN', 'nomn', 'femn', 'inan', 'sing'), ('gent', 'NOUN', 'neut', 'inan', 'sing')), 33), (('»', ('SENT',), ('PNCT',)), 25), (('Я', ('sing', 'NPRO', '1per', 'nomn'), ('masc', 'NOUN', 'nomn', 'inan', 'sing')), 23), ((':', ('PNCT',), ('SENT',)), 20), (('Я', ('sing', 'NPRO', '1per', 'nomn'), ('gent', 'NOUN', 'neut', 'inan', 'sing')), 18), (('!', ('PNCT',), ('SENT',)), 16)]\n",
            "top-10 mistakes (fold №4)\n",
            "[(('.', ('PNCT',), ('SENT',)), 91), (('В', ('PREP',), ('gent', 'NOUN', 'neut', 'inan', 'sing')), 57), ((',', ('SENT',), ('PNCT',)), 43), (('В', ('PREP',), ('masc', 'NOUN', 'nomn', 'inan', 'sing')), 32), (('»', ('SENT',), ('PNCT',)), 30), (('Статья', ('NOUN', 'nomn', 'femn', 'inan', 'sing'), ('gent', 'NOUN', 'neut', 'inan', 'sing')), 29), (('Я', ('sing', 'NPRO', '1per', 'nomn'), ('gent', 'NOUN', 'neut', 'inan', 'sing')), 22), ((':', ('PNCT',), ('SENT',)), 20), (('.', ('SENT',), ('PNCT',)), 18), ((':', ('SENT',), ('PNCT',)), 17)]\n"
          ],
          "name": "stdout"
        }
      ]
    },
    {
      "cell_type": "markdown",
      "metadata": {
        "id": "malHgdPJI0GE",
        "colab_type": "text"
      },
      "source": [
        "Во всех 5 фолдах ('.', ('PNCT',), ('SENT',)) -- это самая популярная ошибка, т.е. мы часто атрибутируем точку как конец предложения, тогда как она, возможно, завершает аббревиатуру или сокращение. В pymorphy нет такой ошибки, поскольку там есть встроенный токенизатор, а мы часто предсказываем PNCT-точку как SENT-точку или наоборот, поскольку в корпусе гораздо больше случаев, когда точка имеет тип SENT, а не PNCT.  \n",
        "\n",
        "Обучиться таким тонким различиям без помощи токенизатора для нашей модели довольно затруднительно. Аналогичным образом во всех фолдах, кроме 4-го, есть обратная ошибка: ('.', ('SENT',), ('PNCT',).\n",
        "Вторая по популярности ошибка связана с предлогом \"В\" (например, ('В', ('PREP',), ('neut', 'NOUN', 'gent', 'inan', 'sing')): его мы по непонятной, если честно, мне причине относим к существительному, притом часто с разными грамматическими характеристиками, поэтому эта ошибка дублируется в разных вариантах.\n",
        "\n",
        "Похожая ошибка связана с запятой ((',', ('SENT',), ('PNCT',))), правой кавычкой (('»', ('SENT',), ('PNCT',)); для левой кавычки по понятным причинам такой проблемы не возникает), двоеточием ((':', ('PNCT',), ('SENT',))), правой скобочкой ((')', ('SENT',), ('PNCT',)), восклицательным знаком (('!', ('PNCT',), ('SENT',))) и некоторыми другими. Если для правых, закрывающих элементов причины ясны (трудно понять без токенизатора, когда \")\" или \"»\" закрывают предложение, а когда нет), то в случае с запятой, судя по ошибке, мы хотим предсказывать конец предложения, что нелогично и скорее всего является ошибкой в разметке, а именно в сегментации предложений. Не очень понятно, почему мы предсказываем для двоеточия тег конца предложения, возможно, в разметке двоеточие часто выступает в такой роли. Часть ошибок связана с неправильным определением рода и/или падежа: например, в случае с частотным существительным \"статья\". Для местоимений (например, для местоимения \"Я\") предсказывается неправильная часть речи (NOUN вместо NPRO), но эти части речи обладают рядом общих признаков, поэтому такая ошибка довольно естественна.\n",
        "\n",
        "Все остальные ошибки не входят в топ-10. В целом типы ошибок распределились равномерно по фолдам, хотя можно сказать, например, что в первом фолде ошибки, связанные со знаками препинания, встречаются чаще (5/10) и т.д."
      ]
    },
    {
      "cell_type": "markdown",
      "metadata": {
        "id": "tvKlp_-en5uO",
        "colab_type": "text"
      },
      "source": [
        "# Задание 2"
      ]
    },
    {
      "cell_type": "markdown",
      "metadata": {
        "id": "P4OyesBr97wT",
        "colab_type": "text"
      },
      "source": [
        "Ещё можно просто обучить нейронку на этих же данных. Построим модель, которая предсказывает часть речи и одушевленность. Остальные морфологические характеристики также добавим по аналогии."
      ]
    },
    {
      "cell_type": "code",
      "metadata": {
        "id": "i6gGX5EXhk54",
        "colab_type": "code",
        "colab": {}
      },
      "source": [
        "import keras\n",
        "from collections import Counter"
      ],
      "execution_count": 0,
      "outputs": []
    },
    {
      "cell_type": "markdown",
      "metadata": {
        "id": "KXsYDfvrFEaz",
        "colab_type": "text"
      },
      "source": [
        "Соберем корпус в список."
      ]
    },
    {
      "cell_type": "code",
      "metadata": {
        "id": "c5iNhTg-hk87",
        "colab_type": "code",
        "colab": {}
      },
      "source": [
        "corpus = []\n",
        "vocab = defaultdict(set)\n",
        "\n",
        "for sentence in open_corpora.xpath('//tokens'):\n",
        "    sent = []\n",
        "    for token in sentence.xpath('token'):\n",
        "        word = token.xpath('@text')\n",
        "        gram_info = token.xpath('tfr/v/l/g/@v')\n",
        "        sent.append(word + gram_info)\n",
        "    corpus.append(sent)"
      ],
      "execution_count": 0,
      "outputs": []
    },
    {
      "cell_type": "code",
      "metadata": {
        "id": "SnULlLDKXJ_g",
        "colab_type": "code",
        "outputId": "73a507f0-40b7-49b6-b327-83861ef63052",
        "colab": {
          "base_uri": "https://localhost:8080/",
          "height": 136
        }
      },
      "source": [
        "corpus[0]"
      ],
      "execution_count": 176,
      "outputs": [
        {
          "output_type": "execute_result",
          "data": {
            "text/plain": [
              "[['«', 'PNCT'],\n",
              " ['Школа', 'NOUN', 'inan', 'femn', 'sing', 'nomn'],\n",
              " ['злословия', 'NOUN', 'inan', 'neut', 'sing', 'gent'],\n",
              " ['»', 'PNCT'],\n",
              " ['учит', 'VERB', 'impf', 'tran', 'sing', '3per', 'pres', 'indc'],\n",
              " ['прикусить', 'INFN', 'perf', 'tran'],\n",
              " ['язык', 'NOUN', 'inan', 'masc', 'sing', 'accs']]"
            ]
          },
          "metadata": {
            "tags": []
          },
          "execution_count": 176
        }
      ]
    },
    {
      "cell_type": "markdown",
      "metadata": {
        "id": "RRhYKi5JFNv9",
        "colab_type": "text"
      },
      "source": [
        "Создадим словарь для слов и частей речи. По одушевленности и другим тегам проще построить словарь вручную."
      ]
    },
    {
      "cell_type": "code",
      "metadata": {
        "id": "iMa9OGsVlQ3s",
        "colab_type": "code",
        "colab": {}
      },
      "source": [
        "vocab = Counter()\n",
        "poses = Counter()\n",
        "\n",
        "for sent in corpus:\n",
        "    for word, pos, *tags in sent:\n",
        "        vocab[word.lower()] += 1\n",
        "        poses[pos] += 1"
      ],
      "execution_count": 0,
      "outputs": []
    },
    {
      "cell_type": "markdown",
      "metadata": {
        "id": "yqcIz33LZCYA",
        "colab_type": "text"
      },
      "source": [
        "Создадим множество со всеми используемыми граммемами:"
      ]
    },
    {
      "cell_type": "code",
      "metadata": {
        "id": "527Rv7XsZBrY",
        "colab_type": "code",
        "colab": {}
      },
      "source": [
        "# All grammemes\n",
        "grs = set()\n",
        "for sent in corpus:\n",
        "    for token in sent:\n",
        "        grs.update(token[1:])"
      ],
      "execution_count": 0,
      "outputs": []
    },
    {
      "cell_type": "markdown",
      "metadata": {
        "id": "Cyq0-HqrZLYs",
        "colab_type": "text"
      },
      "source": [
        "Заведём множества для значений различных морфологических признаков:"
      ]
    },
    {
      "cell_type": "code",
      "metadata": {
        "id": "tGAHPfZuZKlf",
        "colab_type": "code",
        "outputId": "4391d30c-977c-463e-8532-b2331c0413d3",
        "colab": {
          "base_uri": "https://localhost:8080/",
          "height": 54
        }
      },
      "source": [
        "poses = set(poses)\n",
        "grs -= set(poses)\n",
        "print(poses)"
      ],
      "execution_count": 179,
      "outputs": [
        {
          "output_type": "stream",
          "text": [
            "{'INFN', 'PRED', 'NOUN', 'ADJF', 'GRND', 'INTJ', 'SYMB', 'PREP', 'PRCL', 'PRTF', 'NPRO', 'ROMN', 'CONJ', 'COMP', 'ADJS', 'NUMB', 'NUMR', 'PNCT', 'PRTS', 'VERB', 'ADVB', 'LATN'}\n"
          ],
          "name": "stdout"
        }
      ]
    },
    {
      "cell_type": "code",
      "metadata": {
        "id": "iUmYlxeOZVVP",
        "colab_type": "code",
        "outputId": "61a8cc34-b279-4b8d-df0b-48e4c3913a8a",
        "colab": {
          "base_uri": "https://localhost:8080/",
          "height": 34
        }
      },
      "source": [
        "animacy = ['ANim', 'anim', 'inan']\n",
        "grs -= set(animacy)\n",
        "print(animacy)"
      ],
      "execution_count": 180,
      "outputs": [
        {
          "output_type": "stream",
          "text": [
            "['ANim', 'anim', 'inan']\n"
          ],
          "name": "stdout"
        }
      ]
    },
    {
      "cell_type": "code",
      "metadata": {
        "id": "Tfuq5SQ7ZVYK",
        "colab_type": "code",
        "outputId": "70442fe0-8568-4fe4-a550-d7bf59748285",
        "colab": {
          "base_uri": "https://localhost:8080/",
          "height": 34
        }
      },
      "source": [
        "persons = ['1per', '2per', '3per']\n",
        "grs -= set(persons)\n",
        "print(persons)"
      ],
      "execution_count": 181,
      "outputs": [
        {
          "output_type": "stream",
          "text": [
            "['1per', '2per', '3per']\n"
          ],
          "name": "stdout"
        }
      ]
    },
    {
      "cell_type": "code",
      "metadata": {
        "id": "SYQbKuWjZkUT",
        "colab_type": "code",
        "outputId": "22d3a138-915c-4589-b4d4-767296ed57ee",
        "colab": {
          "base_uri": "https://localhost:8080/",
          "height": 34
        }
      },
      "source": [
        "cases = ['nomn', 'gent', 'datv', 'accs', 'ablt', 'loct', 'voct', 'gen1', 'gen2', 'acc2', 'loc1', 'loc2']\n",
        "grs -= set(cases)\n",
        "print(cases)"
      ],
      "execution_count": 182,
      "outputs": [
        {
          "output_type": "stream",
          "text": [
            "['nomn', 'gent', 'datv', 'accs', 'ablt', 'loct', 'voct', 'gen1', 'gen2', 'acc2', 'loc1', 'loc2']\n"
          ],
          "name": "stdout"
        }
      ]
    },
    {
      "cell_type": "code",
      "metadata": {
        "id": "qM181ViiZkkh",
        "colab_type": "code",
        "outputId": "1e48d644-49c2-4626-b75e-b20dbfecc382",
        "colab": {
          "base_uri": "https://localhost:8080/",
          "height": 34
        }
      },
      "source": [
        "numbers = ['sing', 'plur', 'Sgtm', 'Pltm', 'Fixd']\n",
        "grs -= set(numbers)\n",
        "print(numbers)"
      ],
      "execution_count": 183,
      "outputs": [
        {
          "output_type": "stream",
          "text": [
            "['sing', 'plur', 'Sgtm', 'Pltm', 'Fixd']\n"
          ],
          "name": "stdout"
        }
      ]
    },
    {
      "cell_type": "code",
      "metadata": {
        "id": "cwnqx8HfZpaD",
        "colab_type": "code",
        "outputId": "31be6cbc-3a3c-433f-d22d-1d1bb037a7d0",
        "colab": {
          "base_uri": "https://localhost:8080/",
          "height": 34
        }
      },
      "source": [
        "genders = ['masc', 'femn', 'neut', 'ms-f', 'Ms-f', 'GNdr']\n",
        "grs -= set(genders)\n",
        "print(genders)"
      ],
      "execution_count": 184,
      "outputs": [
        {
          "output_type": "stream",
          "text": [
            "['masc', 'femn', 'neut', 'ms-f', 'Ms-f', 'GNdr']\n"
          ],
          "name": "stdout"
        }
      ]
    },
    {
      "cell_type": "code",
      "metadata": {
        "id": "wfcOAKbiZsCR",
        "colab_type": "code",
        "outputId": "45ca1427-f665-48dd-d402-d4b3a9ef2648",
        "colab": {
          "base_uri": "https://localhost:8080/",
          "height": 34
        }
      },
      "source": [
        "transitivity = ['tran', 'intr']\n",
        "grs -= set(transitivity)\n",
        "print(transitivity)"
      ],
      "execution_count": 185,
      "outputs": [
        {
          "output_type": "stream",
          "text": [
            "['tran', 'intr']\n"
          ],
          "name": "stdout"
        }
      ]
    },
    {
      "cell_type": "code",
      "metadata": {
        "id": "NNEAKcitZufg",
        "colab_type": "code",
        "outputId": "07366f91-45c2-419a-ba4b-cca225d1d139",
        "colab": {
          "base_uri": "https://localhost:8080/",
          "height": 34
        }
      },
      "source": [
        "aspect = ['perf', 'impf', 'Impe', 'Impx']\n",
        "grs -= set(aspect)\n",
        "print(aspect)"
      ],
      "execution_count": 186,
      "outputs": [
        {
          "output_type": "stream",
          "text": [
            "['perf', 'impf', 'Impe', 'Impx']\n"
          ],
          "name": "stdout"
        }
      ]
    },
    {
      "cell_type": "code",
      "metadata": {
        "id": "nLoAQN78ZwLk",
        "colab_type": "code",
        "outputId": "07803a3c-89fd-4235-bc10-ff88c92dab0c",
        "colab": {
          "base_uri": "https://localhost:8080/",
          "height": 34
        }
      },
      "source": [
        "tense = ['pres', 'past', 'futr']\n",
        "grs -= set(tense)\n",
        "print(tense)"
      ],
      "execution_count": 187,
      "outputs": [
        {
          "output_type": "stream",
          "text": [
            "['pres', 'past', 'futr']\n"
          ],
          "name": "stdout"
        }
      ]
    },
    {
      "cell_type": "code",
      "metadata": {
        "id": "2qV25WZ5Z_S5",
        "colab_type": "code",
        "outputId": "30decfb9-afe9-4585-ccca-977a17730801",
        "colab": {
          "base_uri": "https://localhost:8080/",
          "height": 34
        }
      },
      "source": [
        "mood = ['indc', 'impr']\n",
        "grs -= set(mood)\n",
        "print(mood)"
      ],
      "execution_count": 188,
      "outputs": [
        {
          "output_type": "stream",
          "text": [
            "['indc', 'impr']\n"
          ],
          "name": "stdout"
        }
      ]
    },
    {
      "cell_type": "code",
      "metadata": {
        "id": "P9jSW80gZ_ac",
        "colab_type": "code",
        "outputId": "6e3e0a54-6935-4a31-b4a4-e7a76e16eea4",
        "colab": {
          "base_uri": "https://localhost:8080/",
          "height": 34
        }
      },
      "source": [
        "inclusivity = ['incl', 'excl']\n",
        "grs -= set(inclusivity)\n",
        "print(inclusivity)"
      ],
      "execution_count": 189,
      "outputs": [
        {
          "output_type": "stream",
          "text": [
            "['incl', 'excl']\n"
          ],
          "name": "stdout"
        }
      ]
    },
    {
      "cell_type": "code",
      "metadata": {
        "id": "gpAxU0l4aDcd",
        "colab_type": "code",
        "outputId": "34bc20c0-e833-405f-fac7-0f8fd6969b60",
        "colab": {
          "base_uri": "https://localhost:8080/",
          "height": 34
        }
      },
      "source": [
        "voice = ['actv', 'pssv']\n",
        "grs -= set(voice)\n",
        "print(voice)"
      ],
      "execution_count": 190,
      "outputs": [
        {
          "output_type": "stream",
          "text": [
            "['actv', 'pssv']\n"
          ],
          "name": "stdout"
        }
      ]
    },
    {
      "cell_type": "code",
      "metadata": {
        "id": "1ge6fhmFaDZ6",
        "colab_type": "code",
        "outputId": "f4e7a97c-768b-434f-bd32-a901b4dfcad0",
        "colab": {
          "base_uri": "https://localhost:8080/",
          "height": 34
        }
      },
      "source": [
        "forms = ['V-be', 'V-ej', 'V-en', 'V-ey', 'V-oy', 'V-sh', 'V-ie', 'V-bi']\n",
        "grs -= set(forms)\n",
        "print(forms)"
      ],
      "execution_count": 191,
      "outputs": [
        {
          "output_type": "stream",
          "text": [
            "['V-be', 'V-ej', 'V-en', 'V-ey', 'V-oy', 'V-sh', 'V-ie', 'V-bi']\n"
          ],
          "name": "stdout"
        }
      ]
    },
    {
      "cell_type": "code",
      "metadata": {
        "id": "8xS3yldHaJnM",
        "colab_type": "code",
        "outputId": "ab412a47-b6e3-4a94-a416-af7b214b7b8d",
        "colab": {
          "base_uri": "https://localhost:8080/",
          "height": 54
        }
      },
      "source": [
        "# All the rest are some 'categories'\n",
        "categories = []\n",
        "for gr in grs:\n",
        "    categories.append([gr])\n",
        "print(categories)"
      ],
      "execution_count": 192,
      "outputs": [
        {
          "output_type": "stream",
          "text": [
            "[['Litr'], ['Anum'], ['Adjx'], ['Surn'], ['Qual'], ['Supr'], ['Dist'], ['Anph'], ['Vpre'], ['Coun'], ['Prnt'], ['Name'], ['Inmx'], ['Subx'], ['Prdx'], ['Cmp2'], ['Slng'], ['Geox'], ['Dmns'], ['Abbr'], ['Poss'], ['Orgn'], ['Ques'], ['Af-p'], ['Patr'], ['Infr'], ['Arch'], ['Coll'], ['Apro']]\n"
          ],
          "name": "stdout"
        }
      ]
    },
    {
      "cell_type": "markdown",
      "metadata": {
        "id": "EQNISgpXFQW_",
        "colab_type": "text"
      },
      "source": [
        "Возьмем только слова, встретившиеся 3+ раз."
      ]
    },
    {
      "cell_type": "code",
      "metadata": {
        "id": "Fqpx4Df3wddO",
        "colab_type": "code",
        "colab": {}
      },
      "source": [
        "vocab = {word for word, c in vocab.most_common() if c > 3}"
      ],
      "execution_count": 0,
      "outputs": []
    },
    {
      "cell_type": "code",
      "metadata": {
        "id": "pAV7d5u0l914",
        "colab_type": "code",
        "outputId": "d27f8951-d9fb-4e48-b6a0-4fdaa43c9071",
        "colab": {
          "base_uri": "https://localhost:8080/",
          "height": 34
        }
      },
      "source": [
        "len(vocab)"
      ],
      "execution_count": 194,
      "outputs": [
        {
          "output_type": "execute_result",
          "data": {
            "text/plain": [
              "2155"
            ]
          },
          "metadata": {
            "tags": []
          },
          "execution_count": 194
        }
      ]
    },
    {
      "cell_type": "code",
      "metadata": {
        "id": "ZWsJKnP1l946",
        "colab_type": "code",
        "outputId": "a2b0438a-5df9-468e-e599-d4aeb83c76e5",
        "colab": {
          "base_uri": "https://localhost:8080/",
          "height": 34
        }
      },
      "source": [
        "# including some not official parts of speech, e.g. PNCT, LATN, ...\n",
        "len(poses)"
      ],
      "execution_count": 195,
      "outputs": [
        {
          "output_type": "execute_result",
          "data": {
            "text/plain": [
              "22"
            ]
          },
          "metadata": {
            "tags": []
          },
          "execution_count": 195
        }
      ]
    },
    {
      "cell_type": "code",
      "metadata": {
        "id": "zbeYYt3EeuQN",
        "colab_type": "code",
        "outputId": "9c0003ce-e7e2-4c10-aad5-77942df09f1e",
        "colab": {
          "base_uri": "https://localhost:8080/",
          "height": 391
        }
      },
      "source": [
        "poses"
      ],
      "execution_count": 196,
      "outputs": [
        {
          "output_type": "execute_result",
          "data": {
            "text/plain": [
              "{'ADJF',\n",
              " 'ADJS',\n",
              " 'ADVB',\n",
              " 'COMP',\n",
              " 'CONJ',\n",
              " 'GRND',\n",
              " 'INFN',\n",
              " 'INTJ',\n",
              " 'LATN',\n",
              " 'NOUN',\n",
              " 'NPRO',\n",
              " 'NUMB',\n",
              " 'NUMR',\n",
              " 'PNCT',\n",
              " 'PRCL',\n",
              " 'PRED',\n",
              " 'PREP',\n",
              " 'PRTF',\n",
              " 'PRTS',\n",
              " 'ROMN',\n",
              " 'SYMB',\n",
              " 'VERB'}"
            ]
          },
          "metadata": {
            "tags": []
          },
          "execution_count": 196
        }
      ]
    },
    {
      "cell_type": "markdown",
      "metadata": {
        "id": "dKBqaMfVFU6g",
        "colab_type": "text"
      },
      "source": [
        "Сделам словари - слово в индекс, тэг в индекс и наоборот."
      ]
    },
    {
      "cell_type": "markdown",
      "metadata": {
        "id": "6oThfWNQGOXh",
        "colab_type": "text"
      },
      "source": [
        "UNK нужен для словарных слов."
      ]
    },
    {
      "cell_type": "code",
      "metadata": {
        "id": "oY9qXo91lQ5n",
        "colab_type": "code",
        "colab": {}
      },
      "source": [
        "id2word = {i+2:word for i, word in enumerate(vocab)}\n",
        "id2word[0] = '<PAD>'\n",
        "id2word[1] = '<UNK>'\n",
        "word2id = {word:i for i, word in id2word.items()}"
      ],
      "execution_count": 0,
      "outputs": []
    },
    {
      "cell_type": "code",
      "metadata": {
        "id": "OgQiZm4ClQ9w",
        "colab_type": "code",
        "colab": {}
      },
      "source": [
        "id2pos = {i+2:pos for i, pos in enumerate(poses)}\n",
        "id2pos[0] = '<PAD>'\n",
        "id2pos[1] = 'NONE'\n",
        "pos2id = {pos:i for i, pos in id2pos.items()}"
      ],
      "execution_count": 0,
      "outputs": []
    },
    {
      "cell_type": "code",
      "metadata": {
        "id": "sPPJySJFH84A",
        "colab_type": "code",
        "colab": {}
      },
      "source": [
        "id2animacy = {i+2:tag for i, tag in enumerate(animacy)}\n",
        "id2animacy[0] = '<PAD>'\n",
        "id2animacy[1] = 'NONE'\n",
        "animacy2id = {tag:i for i, tag in id2animacy.items()}"
      ],
      "execution_count": 0,
      "outputs": []
    },
    {
      "cell_type": "markdown",
      "metadata": {
        "id": "7fSn1PNcazEO",
        "colab_type": "text"
      },
      "source": [
        "Добавим аналогичные словари для других грамматических характеристик."
      ]
    },
    {
      "cell_type": "code",
      "metadata": {
        "id": "dgCDC5KRavH-",
        "colab_type": "code",
        "colab": {}
      },
      "source": [
        "id2person = {i+2:tag for i, tag in enumerate(persons)}\n",
        "id2person[0] = '<PAD>'\n",
        "id2person[1] = 'NONE'\n",
        "person2id = {tag:i for i, tag in id2person.items()}"
      ],
      "execution_count": 0,
      "outputs": []
    },
    {
      "cell_type": "code",
      "metadata": {
        "id": "G4R8n0-favRh",
        "colab_type": "code",
        "colab": {}
      },
      "source": [
        "id2case = {i+2:tag for i, tag in enumerate(cases)}\n",
        "id2case[0] = '<PAD>'\n",
        "id2case[1] = 'NONE'\n",
        "case2id = {tag:i for i, tag in id2case.items()}"
      ],
      "execution_count": 0,
      "outputs": []
    },
    {
      "cell_type": "code",
      "metadata": {
        "id": "EozqwbG5avPc",
        "colab_type": "code",
        "colab": {}
      },
      "source": [
        "id2number = {i+2:tag for i, tag in enumerate(numbers)}\n",
        "id2number[0] = '<PAD>'\n",
        "id2number[1] = 'NONE'\n",
        "number2id = {tag:i for i, tag in id2number.items()}"
      ],
      "execution_count": 0,
      "outputs": []
    },
    {
      "cell_type": "code",
      "metadata": {
        "id": "76725z6ka275",
        "colab_type": "code",
        "colab": {}
      },
      "source": [
        "id2gender = {i+2:tag for i, tag in enumerate(genders)}\n",
        "id2gender[0] = '<PAD>'\n",
        "id2gender[1] = 'NONE'\n",
        "gender2id = {tag:i for i, tag in id2gender.items()}"
      ],
      "execution_count": 0,
      "outputs": []
    },
    {
      "cell_type": "code",
      "metadata": {
        "id": "8vVFQGTva249",
        "colab_type": "code",
        "colab": {}
      },
      "source": [
        "id2transitivity = {i+2:tag for i, tag in enumerate(transitivity)}\n",
        "id2transitivity[0] = '<PAD>'\n",
        "id2transitivity[1] = 'NONE'\n",
        "transitivity2id = {tag:i for i, tag in id2transitivity.items()}"
      ],
      "execution_count": 0,
      "outputs": []
    },
    {
      "cell_type": "code",
      "metadata": {
        "id": "Nm4rZP2Ea22d",
        "colab_type": "code",
        "colab": {}
      },
      "source": [
        "id2aspect = {i+2:tag for i, tag in enumerate(aspect)}\n",
        "id2aspect[0] = '<PAD>'\n",
        "id2aspect[1] = 'NONE'\n",
        "aspect2id = {tag:i for i, tag in id2aspect.items()}"
      ],
      "execution_count": 0,
      "outputs": []
    },
    {
      "cell_type": "code",
      "metadata": {
        "id": "9Ck95lEra-Ie",
        "colab_type": "code",
        "colab": {}
      },
      "source": [
        "id2tense = {i+2:tag for i, tag in enumerate(tense)}\n",
        "id2tense[0] = '<PAD>'\n",
        "id2tense[1] = 'NONE'\n",
        "tense2id = {tag:i for i, tag in id2tense.items()}"
      ],
      "execution_count": 0,
      "outputs": []
    },
    {
      "cell_type": "code",
      "metadata": {
        "id": "10G0WqW2a-Fh",
        "colab_type": "code",
        "colab": {}
      },
      "source": [
        "id2mood = {i+2:tag for i, tag in enumerate(mood)}\n",
        "id2mood[0] = '<PAD>'\n",
        "id2mood[1] = 'NONE'\n",
        "mood2id = {tag:i for i, tag in id2mood.items()}"
      ],
      "execution_count": 0,
      "outputs": []
    },
    {
      "cell_type": "code",
      "metadata": {
        "id": "ouWEsAcLavLo",
        "colab_type": "code",
        "colab": {}
      },
      "source": [
        "id2inclusivity = {i+2:tag for i, tag in enumerate(inclusivity)}\n",
        "id2inclusivity[0] = '<PAD>'\n",
        "id2inclusivity[1] = 'NONE'\n",
        "inclusivity2id = {tag:i for i, tag in id2inclusivity.items()}"
      ],
      "execution_count": 0,
      "outputs": []
    },
    {
      "cell_type": "code",
      "metadata": {
        "id": "DzPRr1eFbC1s",
        "colab_type": "code",
        "colab": {}
      },
      "source": [
        "id2voice = {i+2:tag for i, tag in enumerate(voice)}\n",
        "id2voice[0] = '<PAD>'\n",
        "id2voice[1] = 'NONE'\n",
        "voice2id = {tag:i for i, tag in id2voice.items()}"
      ],
      "execution_count": 0,
      "outputs": []
    },
    {
      "cell_type": "code",
      "metadata": {
        "id": "cPtOO036bCyl",
        "colab_type": "code",
        "colab": {}
      },
      "source": [
        "id2forms = {i+2:tag for i, tag in enumerate(forms)}\n",
        "id2forms[0] = '<PAD>'\n",
        "id2forms[1] = 'NONE'\n",
        "forms2id = {tag:i for i, tag in id2forms.items()}"
      ],
      "execution_count": 0,
      "outputs": []
    },
    {
      "cell_type": "code",
      "metadata": {
        "id": "KvbbbkHsbGbP",
        "colab_type": "code",
        "colab": {}
      },
      "source": [
        "id2categories = {}\n",
        "categories2id = {}\n",
        "for index, category in enumerate(categories):\n",
        "    id2categories[index] = {}\n",
        "    id2categories[index][0] = '<PAD>'\n",
        "    id2categories[index][1] = 'NONE'\n",
        "    id2categories[index][2] = category[0]\n",
        "    categories2id[index] = {tag:i for i, tag in id2categories[index].items()}"
      ],
      "execution_count": 0,
      "outputs": []
    },
    {
      "cell_type": "markdown",
      "metadata": {
        "id": "DQV1HXWzme7-",
        "colab_type": "text"
      },
      "source": [
        "Создадим списки индексов для всех грамматических характеристик: предложения, части речи, одушевленности, ... Вместо слов и тэгов в этих списках - индексы из построенных словарей."
      ]
    },
    {
      "cell_type": "code",
      "metadata": {
        "id": "4gxt7oCPmdUV",
        "colab_type": "code",
        "colab": {}
      },
      "source": [
        "# animacy, person, case, number, gender, transitivity, aspect, tense, mood, inclusivity, voice, forms, categories\n",
        "sents_ids = []\n",
        "poses_ids = []\n",
        "animacy_ids = []\n",
        "persons_ids = []\n",
        "cases_ids = []\n",
        "numbers_ids = []\n",
        "genders_ids = []\n",
        "transitivity_ids = []\n",
        "aspect_ids = []\n",
        "tense_ids = []\n",
        "mood_ids = []\n",
        "inclusivity_ids = []\n",
        "voice_ids = []\n",
        "forms_ids = []\n",
        "categories_ids = []\n",
        "\n",
        "for sent in corpus:\n",
        "    sents_ids.append([word2id.get(word.lower(), 1) for word, *_ in sent])\n",
        "    for array, array_dest in zip([pos2id, animacy2id, person2id, case2id, number2id, gender2id, transitivity2id, aspect2id, tense2id, mood2id, inclusivity2id, voice2id, forms2id], \n",
        "            [poses_ids, animacy_ids, persons_ids, cases_ids, numbers_ids, genders_ids, transitivity_ids, aspect_ids, tense_ids, mood_ids, inclusivity_ids, voice_ids, forms_ids]):\n",
        "        array_dest.append([])\n",
        "        for word in sent:\n",
        "            lst = list(set(array) & set(word[1:]))\n",
        "            if lst:\n",
        "                array_dest[-1].append(array[lst[0]])\n",
        "            else:\n",
        "                array_dest[-1].append(1)\n",
        "    categories_ids.append([])\n",
        "    for index, array in enumerate(categories):\n",
        "        categories_ids[-1].append([])\n",
        "        for word in sent:\n",
        "            lst = list(set(array) & set(word[1:]))\n",
        "            if lst:\n",
        "                categories_ids[-1][-1].append(categories2id[index][lst[0]])\n",
        "            else:\n",
        "                categories_ids[-1][-1].append(1)"
      ],
      "execution_count": 0,
      "outputs": []
    },
    {
      "cell_type": "code",
      "metadata": {
        "id": "MH08lR5ipBBN",
        "colab_type": "code",
        "outputId": "7fa99005-3a8c-4da9-c050-f92fc581d820",
        "colab": {
          "base_uri": "https://localhost:8080/",
          "height": 34
        }
      },
      "source": [
        "import numpy as np\n",
        "np.mean([len(sent) for sent in sents_ids])"
      ],
      "execution_count": 213,
      "outputs": [
        {
          "output_type": "execute_result",
          "data": {
            "text/plain": [
              "6.544210625648769"
            ]
          },
          "metadata": {
            "tags": []
          },
          "execution_count": 213
        }
      ]
    },
    {
      "cell_type": "markdown",
      "metadata": {
        "id": "CbWAdBkZmOWc",
        "colab_type": "text"
      },
      "source": [
        "Приведем все предложения к одной длине. 10 больше средней длины, но и не очень большая, чтобы сильно усложнить модель."
      ]
    },
    {
      "cell_type": "code",
      "metadata": {
        "id": "oUvScVMzqIc9",
        "colab_type": "code",
        "colab": {}
      },
      "source": [
        "MAX_LENGTH = 10"
      ],
      "execution_count": 0,
      "outputs": []
    },
    {
      "cell_type": "code",
      "metadata": {
        "id": "j9VeIBkBMNve",
        "colab_type": "code",
        "colab": {}
      },
      "source": [
        "from keras.preprocessing.sequence import pad_sequences\n",
        " \n",
        "sents_ids_padded = pad_sequences(sents_ids, maxlen=MAX_LENGTH, padding='post', truncating='post')\n",
        "poses_ids_padded = pad_sequences(poses_ids, maxlen=MAX_LENGTH, padding='post', truncating='post')\n",
        "animacy_ids_padded = pad_sequences(animacy_ids, maxlen=MAX_LENGTH, padding='post', truncating='post')\n",
        "persons_ids_padded = pad_sequences(persons_ids, maxlen=MAX_LENGTH, padding='post', truncating='post')\n",
        "cases_ids_padded = pad_sequences(cases_ids, maxlen=MAX_LENGTH, padding='post', truncating='post')\n",
        "numbers_ids_padded = pad_sequences(numbers_ids, maxlen=MAX_LENGTH, padding='post', truncating='post')\n",
        "genders_ids_padded = pad_sequences(genders_ids, maxlen=MAX_LENGTH, padding='post', truncating='post')\n",
        "transitivity_ids_padded = pad_sequences(transitivity_ids, maxlen=MAX_LENGTH, padding='post', truncating='post')\n",
        "aspect_ids_padded = pad_sequences(aspect_ids, maxlen=MAX_LENGTH, padding='post', truncating='post')\n",
        "tense_ids_padded = pad_sequences(tense_ids, maxlen=MAX_LENGTH, padding='post', truncating='post')\n",
        "mood_ids_padded = pad_sequences(mood_ids, maxlen=MAX_LENGTH, padding='post', truncating='post')\n",
        "inclusivity_ids_padded = pad_sequences(inclusivity_ids, maxlen=MAX_LENGTH, padding='post', truncating='post')\n",
        "voice_ids_padded = pad_sequences(voice_ids, maxlen=MAX_LENGTH, padding='post', truncating='post')\n",
        "forms_ids_padded = pad_sequences(forms_ids, maxlen=MAX_LENGTH, padding='post', truncating='post')\n",
        "\n",
        "categories_ids_padded = []\n",
        "for index in range(len(categories_ids)):\n",
        "    categories_ids_padded.append([])\n",
        "    categories_ids_padded[-1] = pad_sequences(categories_ids[index], maxlen=MAX_LENGTH, padding='post', truncating='post')"
      ],
      "execution_count": 0,
      "outputs": []
    },
    {
      "cell_type": "markdown",
      "metadata": {
        "id": "gGtReOwHGa1n",
        "colab_type": "text"
      },
      "source": [
        "Разбиваем выборку на трейн и тест."
      ]
    },
    {
      "cell_type": "code",
      "metadata": {
        "id": "8aiF0PWTL_LR",
        "colab_type": "code",
        "colab": {}
      },
      "source": [
        "from sklearn.model_selection import train_test_split\n",
        "train_index, test_index = train_test_split(list(range(sents_ids_padded.shape[0])), test_size=0.2)"
      ],
      "execution_count": 0,
      "outputs": []
    },
    {
      "cell_type": "code",
      "metadata": {
        "id": "7u1BMK5rNWAr",
        "colab_type": "code",
        "colab": {}
      },
      "source": [
        "train_sents, test_sents = sents_ids_padded[train_index], sents_ids_padded[test_index]\n",
        "train_pos, test_pos = poses_ids_padded[train_index], poses_ids_padded[test_index]\n",
        "train_animacy, test_animacy = animacy_ids_padded[train_index], animacy_ids_padded[test_index]\n",
        "train_person, test_person = persons_ids_padded[train_index], persons_ids_padded[test_index]\n",
        "train_case, test_case = cases_ids_padded[train_index], cases_ids_padded[test_index]\n",
        "train_number, test_number = numbers_ids_padded[train_index], numbers_ids_padded[test_index]\n",
        "train_gender, test_gender = genders_ids_padded[train_index], genders_ids_padded[test_index]\n",
        "train_transitivity, test_transitivity = transitivity_ids_padded[train_index], transitivity_ids_padded[test_index]\n",
        "train_aspect, test_aspect = aspect_ids_padded[train_index], aspect_ids_padded[test_index]\n",
        "train_tense, test_tense = tense_ids_padded[train_index], tense_ids_padded[test_index]\n",
        "train_mood, test_mood = mood_ids_padded[train_index], mood_ids_padded[test_index]\n",
        "train_inclusivity, test_inclusivity = inclusivity_ids_padded[train_index], inclusivity_ids_padded[test_index]\n",
        "train_voice, test_voice = voice_ids_padded[train_index], voice_ids_padded[test_index]\n",
        "train_forms, test_forms = forms_ids_padded[train_index], forms_ids_padded[test_index]\n",
        "categories_ids_padded = np.array(categories_ids_padded)\n",
        "train_categories, test_categories = categories_ids_padded[train_index], categories_ids_padded[test_index]"
      ],
      "execution_count": 0,
      "outputs": []
    },
    {
      "cell_type": "markdown",
      "metadata": {
        "id": "eQU4RooaGy35",
        "colab_type": "text"
      },
      "source": [
        "Создаем модель (у модели два выхода - 1. для части речи 2-n. для всех остальных грамматических характеристик)"
      ]
    },
    {
      "cell_type": "code",
      "metadata": {
        "id": "YHaLrN_onVwm",
        "colab_type": "code",
        "outputId": "fab9d0bf-5add-4eb9-e846-6b18bc5e2bea",
        "colab": {
          "base_uri": "https://localhost:8080/",
          "height": 88
        }
      },
      "source": [
        "from keras.models import Model\n",
        "from keras.layers import Dense, LSTM, Input, Bidirectional, TimeDistributed, Embedding, Activation\n",
        "from keras.optimizers import Adam\n",
        "\n",
        "inp = Input(shape=(MAX_LENGTH, ))\n",
        "# создаем эбмеддинги размерностью 8\n",
        "x = Embedding(len(word2id), 8)(inp)\n",
        "\n",
        "# пропускаем эмбединги через LSTM, чтобы модель учитывала контекст\n",
        "x = LSTM(20, return_sequences=True)(x)\n",
        "\n",
        "# каждый выход - последовательность классов\n",
        "pos = TimeDistributed(Dense(len(pos2id), activation='softmax'))(x)\n",
        "animacy = TimeDistributed(Dense(len(animacy2id), activation='softmax'))(x)\n",
        "person = TimeDistributed(Dense(len(person2id), activation='softmax'))(x)\n",
        "case = TimeDistributed(Dense(len(case2id), activation='softmax'))(x)\n",
        "number = TimeDistributed(Dense(len(number2id), activation='softmax'))(x)\n",
        "gender = TimeDistributed(Dense(len(gender2id), activation='softmax'))(x)\n",
        "transitivity = TimeDistributed(Dense(len(transitivity2id), activation='softmax'))(x)\n",
        "tense = TimeDistributed(Dense(len(tense2id), activation='softmax'))(x)\n",
        "mood = TimeDistributed(Dense(len(mood2id), activation='softmax'))(x)\n",
        "inclusivity = TimeDistributed(Dense(len(inclusivity2id), activation='softmax'))(x)\n",
        "voice = TimeDistributed(Dense(len(voice2id), activation='softmax'))(x)\n",
        "# можно добавить ещё больше грамматических характеристик, но, на мой взгляд, этого хватит\n",
        "\n",
        "# aspect = TimeDistributed(Dense(len(aspect2id), activation='softmax'))(x)\n",
        "# forms = TimeDistributed(Dense(len(forms2id), activation='softmax'))(x)\n",
        "\n",
        "\"\"\"\n",
        "category_outputs = []\n",
        "for category in categories:\n",
        "    category_outputs.append(TimeDistributed(Dense(3, activation='softmax'))(x))\n",
        "\"\"\"\n",
        "\n",
        "model= Model(inputs=inp, outputs=[pos, animacy, person, case, number, gender, transitivity, tense, mood, inclusivity, voice]) # *category_outputs\n",
        "# aspect, forms\n",
        " \n",
        "model.compile(loss='categorical_crossentropy', optimizer='adam', metrics=['accuracy'])"
      ],
      "execution_count": 80,
      "outputs": [
        {
          "output_type": "stream",
          "text": [
            "WARNING:tensorflow:From /usr/local/lib/python3.6/dist-packages/tensorflow/python/framework/op_def_library.py:263: colocate_with (from tensorflow.python.framework.ops) is deprecated and will be removed in a future version.\n",
            "Instructions for updating:\n",
            "Colocations handled automatically by placer.\n"
          ],
          "name": "stdout"
        }
      ]
    },
    {
      "cell_type": "code",
      "metadata": {
        "id": "gXgTymivtVqQ",
        "colab_type": "code",
        "colab": {}
      },
      "source": [
        "from keras.utils import to_categorical"
      ],
      "execution_count": 0,
      "outputs": []
    },
    {
      "cell_type": "markdown",
      "metadata": {
        "id": "Qd-71dFEG6uD",
        "colab_type": "text"
      },
      "source": [
        "Обучаем."
      ]
    },
    {
      "cell_type": "code",
      "metadata": {
        "id": "CM2pnjrbtMJc",
        "colab_type": "code",
        "outputId": "b3650b26-a66e-4d63-84f3-001ef1bff2da",
        "colab": {
          "base_uri": "https://localhost:8080/",
          "height": 3522
        }
      },
      "source": [
        "model.fit(x=train_sents, \n",
        "        y=[to_categorical(train_pos), to_categorical(train_animacy), to_categorical(train_person), to_categorical(train_case), to_categorical(train_number),\n",
        "           to_categorical(train_gender), to_categorical(train_transitivity), to_categorical(train_tense), to_categorical(train_mood),\n",
        "           to_categorical(train_inclusivity), to_categorical(train_voice)],\n",
        "           batch_size=128, epochs=100, validation_split=0.2)\n",
        "#          to_categorical(train_aspect), to_categorical(train_forms)"
      ],
      "execution_count": 82,
      "outputs": [
        {
          "output_type": "stream",
          "text": [
            "WARNING:tensorflow:From /usr/local/lib/python3.6/dist-packages/tensorflow/python/ops/math_ops.py:3066: to_int32 (from tensorflow.python.ops.math_ops) is deprecated and will be removed in a future version.\n",
            "Instructions for updating:\n",
            "Use tf.cast instead.\n",
            "Train on 6781 samples, validate on 1696 samples\n",
            "Epoch 1/100\n",
            "6781/6781 [==============================] - 7s 988us/step - loss: 19.1854 - time_distributed_1_loss: 3.0758 - time_distributed_2_loss: 1.5096 - time_distributed_3_loss: 1.5137 - time_distributed_4_loss: 2.4871 - time_distributed_5_loss: 1.8881 - time_distributed_6_loss: 2.0411 - time_distributed_7_loss: 1.3104 - time_distributed_8_loss: 1.4975 - time_distributed_9_loss: 1.2817 - time_distributed_10_loss: 1.3072 - time_distributed_11_loss: 1.2732 - time_distributed_1_acc: 0.2319 - time_distributed_2_acc: 0.3491 - time_distributed_3_acc: 0.4128 - time_distributed_4_acc: 0.4153 - time_distributed_5_acc: 0.2258 - time_distributed_6_acc: 0.2399 - time_distributed_7_acc: 0.2947 - time_distributed_8_acc: 0.4354 - time_distributed_9_acc: 0.4140 - time_distributed_10_acc: 0.5579 - time_distributed_11_acc: 0.4273 - val_loss: 16.6930 - val_time_distributed_1_loss: 2.7604 - val_time_distributed_2_loss: 1.2570 - val_time_distributed_3_loss: 1.2667 - val_time_distributed_4_loss: 2.0687 - val_time_distributed_5_loss: 1.7553 - val_time_distributed_6_loss: 1.9092 - val_time_distributed_7_loss: 1.1051 - val_time_distributed_8_loss: 1.2209 - val_time_distributed_9_loss: 1.0499 - val_time_distributed_10_loss: 1.2826 - val_time_distributed_11_loss: 1.0172 - val_time_distributed_1_acc: 0.4402 - val_time_distributed_2_acc: 0.4402 - val_time_distributed_3_acc: 0.4402 - val_time_distributed_4_acc: 0.4402 - val_time_distributed_5_acc: 0.2575 - val_time_distributed_6_acc: 0.2943 - val_time_distributed_7_acc: 0.4712 - val_time_distributed_8_acc: 0.4429 - val_time_distributed_9_acc: 0.4402 - val_time_distributed_10_acc: 0.5570 - val_time_distributed_11_acc: 0.4402\n",
            "Epoch 2/100\n",
            "6781/6781 [==============================] - 2s 326us/step - loss: 14.0712 - time_distributed_1_loss: 2.2204 - time_distributed_2_loss: 1.1501 - time_distributed_3_loss: 1.0614 - time_distributed_4_loss: 1.6921 - time_distributed_5_loss: 1.4199 - time_distributed_6_loss: 1.5797 - time_distributed_7_loss: 0.9691 - time_distributed_8_loss: 1.0316 - time_distributed_9_loss: 0.9711 - time_distributed_10_loss: 1.1029 - time_distributed_11_loss: 0.8729 - time_distributed_1_acc: 0.4329 - time_distributed_2_acc: 0.4478 - time_distributed_3_acc: 0.4736 - time_distributed_4_acc: 0.4329 - time_distributed_5_acc: 0.3976 - time_distributed_6_acc: 0.3768 - time_distributed_7_acc: 0.4580 - time_distributed_8_acc: 0.4881 - time_distributed_9_acc: 0.4681 - time_distributed_10_acc: 0.5600 - time_distributed_11_acc: 0.4918 - val_loss: 12.4739 - val_time_distributed_1_loss: 1.9223 - val_time_distributed_2_loss: 1.0964 - val_time_distributed_3_loss: 0.9181 - val_time_distributed_4_loss: 1.5326 - val_time_distributed_5_loss: 1.2650 - val_time_distributed_6_loss: 1.3727 - val_time_distributed_7_loss: 0.9300 - val_time_distributed_8_loss: 0.9392 - val_time_distributed_9_loss: 0.8973 - val_time_distributed_10_loss: 0.8071 - val_time_distributed_11_loss: 0.7931 - val_time_distributed_1_acc: 0.4402 - val_time_distributed_2_acc: 0.5047 - val_time_distributed_3_acc: 0.6718 - val_time_distributed_4_acc: 0.4403 - val_time_distributed_5_acc: 0.4402 - val_time_distributed_6_acc: 0.4402 - val_time_distributed_7_acc: 0.5079 - val_time_distributed_8_acc: 0.6146 - val_time_distributed_9_acc: 0.5606 - val_time_distributed_10_acc: 0.5026 - val_time_distributed_11_acc: 0.6418\n",
            "Epoch 3/100\n",
            "6781/6781 [==============================] - 2s 323us/step - loss: 12.1672 - time_distributed_1_loss: 1.8910 - time_distributed_2_loss: 1.0999 - time_distributed_3_loss: 0.8661 - time_distributed_4_loss: 1.5103 - time_distributed_5_loss: 1.2385 - time_distributed_6_loss: 1.3315 - time_distributed_7_loss: 0.9174 - time_distributed_8_loss: 0.9105 - time_distributed_9_loss: 0.8773 - time_distributed_10_loss: 0.7578 - time_distributed_11_loss: 0.7671 - time_distributed_1_acc: 0.4329 - time_distributed_2_acc: 0.5072 - time_distributed_3_acc: 0.7393 - time_distributed_4_acc: 0.4394 - time_distributed_5_acc: 0.4765 - time_distributed_6_acc: 0.4522 - time_distributed_7_acc: 0.5699 - time_distributed_8_acc: 0.6940 - time_distributed_9_acc: 0.5910 - time_distributed_10_acc: 0.7236 - time_distributed_11_acc: 0.6977 - val_loss: 11.5959 - val_time_distributed_1_loss: 1.8345 - val_time_distributed_2_loss: 1.0696 - val_time_distributed_3_loss: 0.7953 - val_time_distributed_4_loss: 1.4460 - val_time_distributed_5_loss: 1.1701 - val_time_distributed_6_loss: 1.2634 - val_time_distributed_7_loss: 0.8860 - val_time_distributed_8_loss: 0.8525 - val_time_distributed_9_loss: 0.8351 - val_time_distributed_10_loss: 0.7125 - val_time_distributed_11_loss: 0.7308 - val_time_distributed_1_acc: 0.4402 - val_time_distributed_2_acc: 0.5332 - val_time_distributed_3_acc: 0.8018 - val_time_distributed_4_acc: 0.4584 - val_time_distributed_5_acc: 0.5110 - val_time_distributed_6_acc: 0.4889 - val_time_distributed_7_acc: 0.6400 - val_time_distributed_8_acc: 0.7612 - val_time_distributed_9_acc: 0.6297 - val_time_distributed_10_acc: 0.8580 - val_time_distributed_11_acc: 0.7560\n",
            "Epoch 4/100\n",
            "6781/6781 [==============================] - 2s 324us/step - loss: 10.9089 - time_distributed_1_loss: 1.7989 - time_distributed_2_loss: 1.0339 - time_distributed_3_loss: 0.7011 - time_distributed_4_loss: 1.3935 - time_distributed_5_loss: 1.0943 - time_distributed_6_loss: 1.2062 - time_distributed_7_loss: 0.8224 - time_distributed_8_loss: 0.7700 - time_distributed_9_loss: 0.7781 - time_distributed_10_loss: 0.6416 - time_distributed_11_loss: 0.6689 - time_distributed_1_acc: 0.4333 - time_distributed_2_acc: 0.5779 - time_distributed_3_acc: 0.8849 - time_distributed_4_acc: 0.4693 - time_distributed_5_acc: 0.5362 - time_distributed_6_acc: 0.5331 - time_distributed_7_acc: 0.7412 - time_distributed_8_acc: 0.8486 - time_distributed_9_acc: 0.7206 - time_distributed_10_acc: 0.9256 - time_distributed_11_acc: 0.8110 - val_loss: 9.9404 - val_time_distributed_1_loss: 1.7101 - val_time_distributed_2_loss: 0.9328 - val_time_distributed_3_loss: 0.6117 - val_time_distributed_4_loss: 1.2997 - val_time_distributed_5_loss: 1.0113 - val_time_distributed_6_loss: 1.1277 - val_time_distributed_7_loss: 0.7276 - val_time_distributed_8_loss: 0.6758 - val_time_distributed_9_loss: 0.7052 - val_time_distributed_10_loss: 0.5704 - val_time_distributed_11_loss: 0.5680 - val_time_distributed_1_acc: 0.4425 - val_time_distributed_2_acc: 0.6540 - val_time_distributed_3_acc: 0.9006 - val_time_distributed_4_acc: 0.5194 - val_time_distributed_5_acc: 0.6252 - val_time_distributed_6_acc: 0.6417 - val_time_distributed_7_acc: 0.8811 - val_time_distributed_8_acc: 0.8884 - val_time_distributed_9_acc: 0.8726 - val_time_distributed_10_acc: 0.9330 - val_time_distributed_11_acc: 0.9186\n",
            "Epoch 5/100\n",
            "6781/6781 [==============================] - 2s 324us/step - loss: 9.0745 - time_distributed_1_loss: 1.6326 - time_distributed_2_loss: 0.8559 - time_distributed_3_loss: 0.5348 - time_distributed_4_loss: 1.2347 - time_distributed_5_loss: 0.9547 - time_distributed_6_loss: 1.0698 - time_distributed_7_loss: 0.6374 - time_distributed_8_loss: 0.5922 - time_distributed_9_loss: 0.6220 - time_distributed_10_loss: 0.4889 - time_distributed_11_loss: 0.4515 - time_distributed_1_acc: 0.4495 - time_distributed_2_acc: 0.7305 - time_distributed_3_acc: 0.9080 - time_distributed_4_acc: 0.6391 - time_distributed_5_acc: 0.6252 - time_distributed_6_acc: 0.6808 - time_distributed_7_acc: 0.8821 - time_distributed_8_acc: 0.8896 - time_distributed_9_acc: 0.8889 - time_distributed_10_acc: 0.9398 - time_distributed_11_acc: 0.9425 - val_loss: 8.1425 - val_time_distributed_1_loss: 1.5312 - val_time_distributed_2_loss: 0.7599 - val_time_distributed_3_loss: 0.4683 - val_time_distributed_4_loss: 1.1400 - val_time_distributed_5_loss: 0.8894 - val_time_distributed_6_loss: 0.9873 - val_time_distributed_7_loss: 0.5557 - val_time_distributed_8_loss: 0.5163 - val_time_distributed_9_loss: 0.5333 - val_time_distributed_10_loss: 0.4124 - val_time_distributed_11_loss: 0.3488 - val_time_distributed_1_acc: 0.5156 - val_time_distributed_2_acc: 0.7805 - val_time_distributed_3_acc: 0.9165 - val_time_distributed_4_acc: 0.7038 - val_time_distributed_5_acc: 0.6422 - val_time_distributed_6_acc: 0.7108 - val_time_distributed_7_acc: 0.8912 - val_time_distributed_8_acc: 0.8965 - val_time_distributed_9_acc: 0.9045 - val_time_distributed_10_acc: 0.9511 - val_time_distributed_11_acc: 0.9570\n",
            "Epoch 6/100\n",
            "6781/6781 [==============================] - 2s 319us/step - loss: 7.4662 - time_distributed_1_loss: 1.4683 - time_distributed_2_loss: 0.7023 - time_distributed_3_loss: 0.4060 - time_distributed_4_loss: 1.0825 - time_distributed_5_loss: 0.8391 - time_distributed_6_loss: 0.9299 - time_distributed_7_loss: 0.4913 - time_distributed_8_loss: 0.4653 - time_distributed_9_loss: 0.4621 - time_distributed_10_loss: 0.3423 - time_distributed_11_loss: 0.2771 - time_distributed_1_acc: 0.5775 - time_distributed_2_acc: 0.7917 - time_distributed_3_acc: 0.9284 - time_distributed_4_acc: 0.7177 - time_distributed_5_acc: 0.6579 - time_distributed_6_acc: 0.7242 - time_distributed_7_acc: 0.9016 - time_distributed_8_acc: 0.9068 - time_distributed_9_acc: 0.9162 - time_distributed_10_acc: 0.9640 - time_distributed_11_acc: 0.9640 - val_loss: 6.8335 - val_time_distributed_1_loss: 1.3995 - val_time_distributed_2_loss: 0.6341 - val_time_distributed_3_loss: 0.3621 - val_time_distributed_4_loss: 1.0088 - val_time_distributed_5_loss: 0.7897 - val_time_distributed_6_loss: 0.8623 - val_time_distributed_7_loss: 0.4428 - val_time_distributed_8_loss: 0.4242 - val_time_distributed_9_loss: 0.4023 - val_time_distributed_10_loss: 0.2839 - val_time_distributed_11_loss: 0.2238 - val_time_distributed_1_acc: 0.5972 - val_time_distributed_2_acc: 0.8028 - val_time_distributed_3_acc: 0.9360 - val_time_distributed_4_acc: 0.7348 - val_time_distributed_5_acc: 0.6725 - val_time_distributed_6_acc: 0.7407 - val_time_distributed_7_acc: 0.9077 - val_time_distributed_8_acc: 0.9146 - val_time_distributed_9_acc: 0.9225 - val_time_distributed_10_acc: 0.9718 - val_time_distributed_11_acc: 0.9698\n",
            "Epoch 7/100\n",
            "6781/6781 [==============================] - 2s 321us/step - loss: 6.4473 - time_distributed_1_loss: 1.3660 - time_distributed_2_loss: 0.6080 - time_distributed_3_loss: 0.3229 - time_distributed_4_loss: 0.9768 - time_distributed_5_loss: 0.7611 - time_distributed_6_loss: 0.8273 - time_distributed_7_loss: 0.4055 - time_distributed_8_loss: 0.3965 - time_distributed_9_loss: 0.3614 - time_distributed_10_loss: 0.2357 - time_distributed_11_loss: 0.1861 - time_distributed_1_acc: 0.5980 - time_distributed_2_acc: 0.8037 - time_distributed_3_acc: 0.9429 - time_distributed_4_acc: 0.7365 - time_distributed_5_acc: 0.6761 - time_distributed_6_acc: 0.7414 - time_distributed_7_acc: 0.9145 - time_distributed_8_acc: 0.9210 - time_distributed_9_acc: 0.9279 - time_distributed_10_acc: 0.9790 - time_distributed_11_acc: 0.9752 - val_loss: 6.0783 - val_time_distributed_1_loss: 1.3248 - val_time_distributed_2_loss: 0.5649 - val_time_distributed_3_loss: 0.3019 - val_time_distributed_4_loss: 0.9260 - val_time_distributed_5_loss: 0.7319 - val_time_distributed_6_loss: 0.7827 - val_time_distributed_7_loss: 0.3796 - val_time_distributed_8_loss: 0.3729 - val_time_distributed_9_loss: 0.3303 - val_time_distributed_10_loss: 0.2013 - val_time_distributed_11_loss: 0.1620 - val_time_distributed_1_acc: 0.6037 - val_time_distributed_2_acc: 0.8107 - val_time_distributed_3_acc: 0.9475 - val_time_distributed_4_acc: 0.7458 - val_time_distributed_5_acc: 0.6873 - val_time_distributed_6_acc: 0.7531 - val_time_distributed_7_acc: 0.9158 - val_time_distributed_8_acc: 0.9248 - val_time_distributed_9_acc: 0.9301 - val_time_distributed_10_acc: 0.9802 - val_time_distributed_11_acc: 0.9763\n",
            "Epoch 8/100\n",
            "6781/6781 [==============================] - 2s 320us/step - loss: 5.8387 - time_distributed_1_loss: 1.3057 - time_distributed_2_loss: 0.5529 - time_distributed_3_loss: 0.2741 - time_distributed_4_loss: 0.9090 - time_distributed_5_loss: 0.7140 - time_distributed_6_loss: 0.7624 - time_distributed_7_loss: 0.3551 - time_distributed_8_loss: 0.3528 - time_distributed_9_loss: 0.3048 - time_distributed_10_loss: 0.1698 - time_distributed_11_loss: 0.1380 - time_distributed_1_acc: 0.6142 - time_distributed_2_acc: 0.8118 - time_distributed_3_acc: 0.9520 - time_distributed_4_acc: 0.7471 - time_distributed_5_acc: 0.6926 - time_distributed_6_acc: 0.7517 - time_distributed_7_acc: 0.9245 - time_distributed_8_acc: 0.9302 - time_distributed_9_acc: 0.9354 - time_distributed_10_acc: 0.9836 - time_distributed_11_acc: 0.9799 - val_loss: 5.5871 - val_time_distributed_1_loss: 1.2749 - val_time_distributed_2_loss: 0.5213 - val_time_distributed_3_loss: 0.2628 - val_time_distributed_4_loss: 0.8699 - val_time_distributed_5_loss: 0.6923 - val_time_distributed_6_loss: 0.7300 - val_time_distributed_7_loss: 0.3394 - val_time_distributed_8_loss: 0.3361 - val_time_distributed_9_loss: 0.2864 - val_time_distributed_10_loss: 0.1495 - val_time_distributed_11_loss: 0.1244 - val_time_distributed_1_acc: 0.6348 - val_time_distributed_2_acc: 0.8186 - val_time_distributed_3_acc: 0.9515 - val_time_distributed_4_acc: 0.7551 - val_time_distributed_5_acc: 0.7020 - val_time_distributed_6_acc: 0.7595 - val_time_distributed_7_acc: 0.9242 - val_time_distributed_8_acc: 0.9335 - val_time_distributed_9_acc: 0.9364 - val_time_distributed_10_acc: 0.9828 - val_time_distributed_11_acc: 0.9823\n",
            "Epoch 9/100\n",
            "6781/6781 [==============================] - 2s 322us/step - loss: 5.4185 - time_distributed_1_loss: 1.2621 - time_distributed_2_loss: 0.5153 - time_distributed_3_loss: 0.2416 - time_distributed_4_loss: 0.8594 - time_distributed_5_loss: 0.6787 - time_distributed_6_loss: 0.7163 - time_distributed_7_loss: 0.3211 - time_distributed_8_loss: 0.3206 - time_distributed_9_loss: 0.2685 - time_distributed_10_loss: 0.1271 - time_distributed_11_loss: 0.1077 - time_distributed_1_acc: 0.6509 - time_distributed_2_acc: 0.8180 - time_distributed_3_acc: 0.9559 - time_distributed_4_acc: 0.7532 - time_distributed_5_acc: 0.7074 - time_distributed_6_acc: 0.7565 - time_distributed_7_acc: 0.9291 - time_distributed_8_acc: 0.9363 - time_distributed_9_acc: 0.9401 - time_distributed_10_acc: 0.9882 - time_distributed_11_acc: 0.9863 - val_loss: 5.2235 - val_time_distributed_1_loss: 1.2343 - val_time_distributed_2_loss: 0.4890 - val_time_distributed_3_loss: 0.2358 - val_time_distributed_4_loss: 0.8252 - val_time_distributed_5_loss: 0.6592 - val_time_distributed_6_loss: 0.6895 - val_time_distributed_7_loss: 0.3107 - val_time_distributed_8_loss: 0.3085 - val_time_distributed_9_loss: 0.2565 - val_time_distributed_10_loss: 0.1150 - val_time_distributed_11_loss: 0.0999 - val_time_distributed_1_acc: 0.6769 - val_time_distributed_2_acc: 0.8244 - val_time_distributed_3_acc: 0.9573 - val_time_distributed_4_acc: 0.7594 - val_time_distributed_5_acc: 0.7305 - val_time_distributed_6_acc: 0.7639 - val_time_distributed_7_acc: 0.9298 - val_time_distributed_8_acc: 0.9384 - val_time_distributed_9_acc: 0.9417 - val_time_distributed_10_acc: 0.9893 - val_time_distributed_11_acc: 0.9864\n",
            "Epoch 10/100\n",
            "6781/6781 [==============================] - 2s 330us/step - loss: 5.0871 - time_distributed_1_loss: 1.2220 - time_distributed_2_loss: 0.4849 - time_distributed_3_loss: 0.2190 - time_distributed_4_loss: 0.8163 - time_distributed_5_loss: 0.6452 - time_distributed_6_loss: 0.6776 - time_distributed_7_loss: 0.2963 - time_distributed_8_loss: 0.2964 - time_distributed_9_loss: 0.2431 - time_distributed_10_loss: 0.0982 - time_distributed_11_loss: 0.0881 - time_distributed_1_acc: 0.6814 - time_distributed_2_acc: 0.8211 - time_distributed_3_acc: 0.9599 - time_distributed_4_acc: 0.7551 - time_distributed_5_acc: 0.7343 - time_distributed_6_acc: 0.7588 - time_distributed_7_acc: 0.9330 - time_distributed_8_acc: 0.9399 - time_distributed_9_acc: 0.9440 - time_distributed_10_acc: 0.9937 - time_distributed_11_acc: 0.9910 - val_loss: 4.9081 - val_time_distributed_1_loss: 1.1908 - val_time_distributed_2_loss: 0.4595 - val_time_distributed_3_loss: 0.2167 - val_time_distributed_4_loss: 0.7817 - val_time_distributed_5_loss: 0.6223 - val_time_distributed_6_loss: 0.6512 - val_time_distributed_7_loss: 0.2882 - val_time_distributed_8_loss: 0.2874 - val_time_distributed_9_loss: 0.2349 - val_time_distributed_10_loss: 0.0912 - val_time_distributed_11_loss: 0.0841 - val_time_distributed_1_acc: 0.6952 - val_time_distributed_2_acc: 0.8271 - val_time_distributed_3_acc: 0.9604 - val_time_distributed_4_acc: 0.7609 - val_time_distributed_5_acc: 0.7598 - val_time_distributed_6_acc: 0.7651 - val_time_distributed_7_acc: 0.9331 - val_time_distributed_8_acc: 0.9412 - val_time_distributed_9_acc: 0.9435 - val_time_distributed_10_acc: 0.9954 - val_time_distributed_11_acc: 0.9904\n",
            "Epoch 11/100\n",
            "6781/6781 [==============================] - 2s 324us/step - loss: 4.7671 - time_distributed_1_loss: 1.1724 - time_distributed_2_loss: 0.4533 - time_distributed_3_loss: 0.2026 - time_distributed_4_loss: 0.7695 - time_distributed_5_loss: 0.6024 - time_distributed_6_loss: 0.6361 - time_distributed_7_loss: 0.2760 - time_distributed_8_loss: 0.2773 - time_distributed_9_loss: 0.2237 - time_distributed_10_loss: 0.0783 - time_distributed_11_loss: 0.0756 - time_distributed_1_acc: 0.6991 - time_distributed_2_acc: 0.8224 - time_distributed_3_acc: 0.9622 - time_distributed_4_acc: 0.7557 - time_distributed_5_acc: 0.7789 - time_distributed_6_acc: 0.7592 - time_distributed_7_acc: 0.9344 - time_distributed_8_acc: 0.9408 - time_distributed_9_acc: 0.9450 - time_distributed_10_acc: 0.9975 - time_distributed_11_acc: 0.9923 - val_loss: 4.5744 - val_time_distributed_1_loss: 1.1321 - val_time_distributed_2_loss: 0.4267 - val_time_distributed_3_loss: 0.2019 - val_time_distributed_4_loss: 0.7318 - val_time_distributed_5_loss: 0.5708 - val_time_distributed_6_loss: 0.6066 - val_time_distributed_7_loss: 0.2690 - val_time_distributed_8_loss: 0.2694 - val_time_distributed_9_loss: 0.2173 - val_time_distributed_10_loss: 0.0748 - val_time_distributed_11_loss: 0.0741 - val_time_distributed_1_acc: 0.7140 - val_time_distributed_2_acc: 0.8276 - val_time_distributed_3_acc: 0.9619 - val_time_distributed_4_acc: 0.7613 - val_time_distributed_5_acc: 0.7998 - val_time_distributed_6_acc: 0.7653 - val_time_distributed_7_acc: 0.9338 - val_time_distributed_8_acc: 0.9416 - val_time_distributed_9_acc: 0.9455 - val_time_distributed_10_acc: 0.9972 - val_time_distributed_11_acc: 0.9924\n",
            "Epoch 12/100\n",
            "6781/6781 [==============================] - 2s 323us/step - loss: 4.4399 - time_distributed_1_loss: 1.1100 - time_distributed_2_loss: 0.4221 - time_distributed_3_loss: 0.1902 - time_distributed_4_loss: 0.7214 - time_distributed_5_loss: 0.5458 - time_distributed_6_loss: 0.5914 - time_distributed_7_loss: 0.2594 - time_distributed_8_loss: 0.2608 - time_distributed_9_loss: 0.2069 - time_distributed_10_loss: 0.0646 - time_distributed_11_loss: 0.0673 - time_distributed_1_acc: 0.7126 - time_distributed_2_acc: 0.8223 - time_distributed_3_acc: 0.9623 - time_distributed_4_acc: 0.7553 - time_distributed_5_acc: 0.8098 - time_distributed_6_acc: 0.7588 - time_distributed_7_acc: 0.9345 - time_distributed_8_acc: 0.9408 - time_distributed_9_acc: 0.9465 - time_distributed_10_acc: 0.9976 - time_distributed_11_acc: 0.9938 - val_loss: 4.2691 - val_time_distributed_1_loss: 1.0686 - val_time_distributed_2_loss: 0.4003 - val_time_distributed_3_loss: 0.1905 - val_time_distributed_4_loss: 0.6896 - val_time_distributed_5_loss: 0.5137 - val_time_distributed_6_loss: 0.5673 - val_time_distributed_7_loss: 0.2537 - val_time_distributed_8_loss: 0.2538 - val_time_distributed_9_loss: 0.2011 - val_time_distributed_10_loss: 0.0636 - val_time_distributed_11_loss: 0.0668 - val_time_distributed_1_acc: 0.7206 - val_time_distributed_2_acc: 0.8281 - val_time_distributed_3_acc: 0.9619 - val_time_distributed_4_acc: 0.7612 - val_time_distributed_5_acc: 0.8213 - val_time_distributed_6_acc: 0.7664 - val_time_distributed_7_acc: 0.9340 - val_time_distributed_8_acc: 0.9416 - val_time_distributed_9_acc: 0.9472 - val_time_distributed_10_acc: 0.9972 - val_time_distributed_11_acc: 0.9942\n",
            "Epoch 13/100\n",
            "6781/6781 [==============================] - 2s 322us/step - loss: 4.1666 - time_distributed_1_loss: 1.0513 - time_distributed_2_loss: 0.3986 - time_distributed_3_loss: 0.1810 - time_distributed_4_loss: 0.6835 - time_distributed_5_loss: 0.4939 - time_distributed_6_loss: 0.5556 - time_distributed_7_loss: 0.2467 - time_distributed_8_loss: 0.2472 - time_distributed_9_loss: 0.1926 - time_distributed_10_loss: 0.0548 - time_distributed_11_loss: 0.0613 - time_distributed_1_acc: 0.7166 - time_distributed_2_acc: 0.8235 - time_distributed_3_acc: 0.9624 - time_distributed_4_acc: 0.7542 - time_distributed_5_acc: 0.8236 - time_distributed_6_acc: 0.7608 - time_distributed_7_acc: 0.9346 - time_distributed_8_acc: 0.9408 - time_distributed_9_acc: 0.9471 - time_distributed_10_acc: 0.9977 - time_distributed_11_acc: 0.9942 - val_loss: 4.0342 - val_time_distributed_1_loss: 1.0157 - val_time_distributed_2_loss: 0.3807 - val_time_distributed_3_loss: 0.1825 - val_time_distributed_4_loss: 0.6583 - val_time_distributed_5_loss: 0.4705 - val_time_distributed_6_loss: 0.5379 - val_time_distributed_7_loss: 0.2422 - val_time_distributed_8_loss: 0.2416 - val_time_distributed_9_loss: 0.1887 - val_time_distributed_10_loss: 0.0549 - val_time_distributed_11_loss: 0.0612 - val_time_distributed_1_acc: 0.7235 - val_time_distributed_2_acc: 0.8344 - val_time_distributed_3_acc: 0.9619 - val_time_distributed_4_acc: 0.7601 - val_time_distributed_5_acc: 0.8293 - val_time_distributed_6_acc: 0.7679 - val_time_distributed_7_acc: 0.9340 - val_time_distributed_8_acc: 0.9416 - val_time_distributed_9_acc: 0.9473 - val_time_distributed_10_acc: 0.9972 - val_time_distributed_11_acc: 0.9943\n",
            "Epoch 14/100\n",
            "6781/6781 [==============================] - 2s 322us/step - loss: 3.9584 - time_distributed_1_loss: 1.0036 - time_distributed_2_loss: 0.3807 - time_distributed_3_loss: 0.1740 - time_distributed_4_loss: 0.6558 - time_distributed_5_loss: 0.4565 - time_distributed_6_loss: 0.5290 - time_distributed_7_loss: 0.2368 - time_distributed_8_loss: 0.2366 - time_distributed_9_loss: 0.1817 - time_distributed_10_loss: 0.0470 - time_distributed_11_loss: 0.0565 - time_distributed_1_acc: 0.7195 - time_distributed_2_acc: 0.8301 - time_distributed_3_acc: 0.9624 - time_distributed_4_acc: 0.7514 - time_distributed_5_acc: 0.8332 - time_distributed_6_acc: 0.7668 - time_distributed_7_acc: 0.9346 - time_distributed_8_acc: 0.9409 - time_distributed_9_acc: 0.9471 - time_distributed_10_acc: 0.9977 - time_distributed_11_acc: 0.9943 - val_loss: 3.8580 - val_time_distributed_1_loss: 0.9737 - val_time_distributed_2_loss: 0.3655 - val_time_distributed_3_loss: 0.1764 - val_time_distributed_4_loss: 0.6356 - val_time_distributed_5_loss: 0.4406 - val_time_distributed_6_loss: 0.5155 - val_time_distributed_7_loss: 0.2340 - val_time_distributed_8_loss: 0.2325 - val_time_distributed_9_loss: 0.1794 - val_time_distributed_10_loss: 0.0481 - val_time_distributed_11_loss: 0.0567 - val_time_distributed_1_acc: 0.7251 - val_time_distributed_2_acc: 0.8361 - val_time_distributed_3_acc: 0.9619 - val_time_distributed_4_acc: 0.7590 - val_time_distributed_5_acc: 0.8368 - val_time_distributed_6_acc: 0.7725 - val_time_distributed_7_acc: 0.9340 - val_time_distributed_8_acc: 0.9416 - val_time_distributed_9_acc: 0.9473 - val_time_distributed_10_acc: 0.9972 - val_time_distributed_11_acc: 0.9943\n",
            "Epoch 15/100\n",
            "6781/6781 [==============================] - 2s 321us/step - loss: 3.8024 - time_distributed_1_loss: 0.9649 - time_distributed_2_loss: 0.3669 - time_distributed_3_loss: 0.1688 - time_distributed_4_loss: 0.6362 - time_distributed_5_loss: 0.4306 - time_distributed_6_loss: 0.5093 - time_distributed_7_loss: 0.2298 - time_distributed_8_loss: 0.2286 - time_distributed_9_loss: 0.1736 - time_distributed_10_loss: 0.0412 - time_distributed_11_loss: 0.0525 - time_distributed_1_acc: 0.7231 - time_distributed_2_acc: 0.8346 - time_distributed_3_acc: 0.9624 - time_distributed_4_acc: 0.7497 - time_distributed_5_acc: 0.8469 - time_distributed_6_acc: 0.7756 - time_distributed_7_acc: 0.9347 - time_distributed_8_acc: 0.9409 - time_distributed_9_acc: 0.9472 - time_distributed_10_acc: 0.9977 - time_distributed_11_acc: 0.9943 - val_loss: 3.7255 - val_time_distributed_1_loss: 0.9391 - val_time_distributed_2_loss: 0.3537 - val_time_distributed_3_loss: 0.1720 - val_time_distributed_4_loss: 0.6193 - val_time_distributed_5_loss: 0.4199 - val_time_distributed_6_loss: 0.4989 - val_time_distributed_7_loss: 0.2284 - val_time_distributed_8_loss: 0.2257 - val_time_distributed_9_loss: 0.1725 - val_time_distributed_10_loss: 0.0428 - val_time_distributed_11_loss: 0.0531 - val_time_distributed_1_acc: 0.7301 - val_time_distributed_2_acc: 0.8432 - val_time_distributed_3_acc: 0.9619 - val_time_distributed_4_acc: 0.7607 - val_time_distributed_5_acc: 0.8502 - val_time_distributed_6_acc: 0.7778 - val_time_distributed_7_acc: 0.9340 - val_time_distributed_8_acc: 0.9416 - val_time_distributed_9_acc: 0.9473 - val_time_distributed_10_acc: 0.9972 - val_time_distributed_11_acc: 0.9943\n",
            "Epoch 16/100\n",
            "6781/6781 [==============================] - 2s 327us/step - loss: 3.6835 - time_distributed_1_loss: 0.9325 - time_distributed_2_loss: 0.3561 - time_distributed_3_loss: 0.1649 - time_distributed_4_loss: 0.6221 - time_distributed_5_loss: 0.4121 - time_distributed_6_loss: 0.4947 - time_distributed_7_loss: 0.2249 - time_distributed_8_loss: 0.2225 - time_distributed_9_loss: 0.1675 - time_distributed_10_loss: 0.0368 - time_distributed_11_loss: 0.0495 - time_distributed_1_acc: 0.7275 - time_distributed_2_acc: 0.8403 - time_distributed_3_acc: 0.9624 - time_distributed_4_acc: 0.7522 - time_distributed_5_acc: 0.8524 - time_distributed_6_acc: 0.7799 - time_distributed_7_acc: 0.9347 - time_distributed_8_acc: 0.9409 - time_distributed_9_acc: 0.9472 - time_distributed_10_acc: 0.9977 - time_distributed_11_acc: 0.9943 - val_loss: 3.6232 - val_time_distributed_1_loss: 0.9099 - val_time_distributed_2_loss: 0.3440 - val_time_distributed_3_loss: 0.1687 - val_time_distributed_4_loss: 0.6078 - val_time_distributed_5_loss: 0.4049 - val_time_distributed_6_loss: 0.4862 - val_time_distributed_7_loss: 0.2246 - val_time_distributed_8_loss: 0.2207 - val_time_distributed_9_loss: 0.1672 - val_time_distributed_10_loss: 0.0389 - val_time_distributed_11_loss: 0.0504 - val_time_distributed_1_acc: 0.7329 - val_time_distributed_2_acc: 0.8423 - val_time_distributed_3_acc: 0.9619 - val_time_distributed_4_acc: 0.7607 - val_time_distributed_5_acc: 0.8528 - val_time_distributed_6_acc: 0.7825 - val_time_distributed_7_acc: 0.9340 - val_time_distributed_8_acc: 0.9416 - val_time_distributed_9_acc: 0.9473 - val_time_distributed_10_acc: 0.9972 - val_time_distributed_11_acc: 0.9943\n",
            "Epoch 17/100\n",
            "6781/6781 [==============================] - 2s 327us/step - loss: 3.5896 - time_distributed_1_loss: 0.9039 - time_distributed_2_loss: 0.3476 - time_distributed_3_loss: 0.1619 - time_distributed_4_loss: 0.6116 - time_distributed_5_loss: 0.3984 - time_distributed_6_loss: 0.4836 - time_distributed_7_loss: 0.2213 - time_distributed_8_loss: 0.2179 - time_distributed_9_loss: 0.1628 - time_distributed_10_loss: 0.0334 - time_distributed_11_loss: 0.0471 - time_distributed_1_acc: 0.7359 - time_distributed_2_acc: 0.8423 - time_distributed_3_acc: 0.9624 - time_distributed_4_acc: 0.7522 - time_distributed_5_acc: 0.8551 - time_distributed_6_acc: 0.7854 - time_distributed_7_acc: 0.9347 - time_distributed_8_acc: 0.9409 - time_distributed_9_acc: 0.9472 - time_distributed_10_acc: 0.9977 - time_distributed_11_acc: 0.9943 - val_loss: 3.5397 - val_time_distributed_1_loss: 0.8819 - val_time_distributed_2_loss: 0.3369 - val_time_distributed_3_loss: 0.1658 - val_time_distributed_4_loss: 0.5989 - val_time_distributed_5_loss: 0.3936 - val_time_distributed_6_loss: 0.4774 - val_time_distributed_7_loss: 0.2215 - val_time_distributed_8_loss: 0.2166 - val_time_distributed_9_loss: 0.1630 - val_time_distributed_10_loss: 0.0359 - val_time_distributed_11_loss: 0.0482 - val_time_distributed_1_acc: 0.7492 - val_time_distributed_2_acc: 0.8458 - val_time_distributed_3_acc: 0.9619 - val_time_distributed_4_acc: 0.7620 - val_time_distributed_5_acc: 0.8560 - val_time_distributed_6_acc: 0.7853 - val_time_distributed_7_acc: 0.9340 - val_time_distributed_8_acc: 0.9416 - val_time_distributed_9_acc: 0.9473 - val_time_distributed_10_acc: 0.9972 - val_time_distributed_11_acc: 0.9943\n",
            "Epoch 18/100\n",
            "6781/6781 [==============================] - 2s 328us/step - loss: 3.5128 - time_distributed_1_loss: 0.8777 - time_distributed_2_loss: 0.3407 - time_distributed_3_loss: 0.1597 - time_distributed_4_loss: 0.6036 - time_distributed_5_loss: 0.3883 - time_distributed_6_loss: 0.4752 - time_distributed_7_loss: 0.2185 - time_distributed_8_loss: 0.2141 - time_distributed_9_loss: 0.1590 - time_distributed_10_loss: 0.0308 - time_distributed_11_loss: 0.0452 - time_distributed_1_acc: 0.7549 - time_distributed_2_acc: 0.8445 - time_distributed_3_acc: 0.9624 - time_distributed_4_acc: 0.7535 - time_distributed_5_acc: 0.8596 - time_distributed_6_acc: 0.7882 - time_distributed_7_acc: 0.9347 - time_distributed_8_acc: 0.9409 - time_distributed_9_acc: 0.9472 - time_distributed_10_acc: 0.9977 - time_distributed_11_acc: 0.9943 - val_loss: 3.4701 - val_time_distributed_1_loss: 0.8571 - val_time_distributed_2_loss: 0.3306 - val_time_distributed_3_loss: 0.1639 - val_time_distributed_4_loss: 0.5911 - val_time_distributed_5_loss: 0.3850 - val_time_distributed_6_loss: 0.4700 - val_time_distributed_7_loss: 0.2194 - val_time_distributed_8_loss: 0.2134 - val_time_distributed_9_loss: 0.1597 - val_time_distributed_10_loss: 0.0334 - val_time_distributed_11_loss: 0.0464 - val_time_distributed_1_acc: 0.7626 - val_time_distributed_2_acc: 0.8498 - val_time_distributed_3_acc: 0.9619 - val_time_distributed_4_acc: 0.7639 - val_time_distributed_5_acc: 0.8607 - val_time_distributed_6_acc: 0.7881 - val_time_distributed_7_acc: 0.9339 - val_time_distributed_8_acc: 0.9416 - val_time_distributed_9_acc: 0.9475 - val_time_distributed_10_acc: 0.9972 - val_time_distributed_11_acc: 0.9943\n",
            "Epoch 19/100\n",
            "6781/6781 [==============================] - 2s 328us/step - loss: 3.4473 - time_distributed_1_loss: 0.8533 - time_distributed_2_loss: 0.3351 - time_distributed_3_loss: 0.1577 - time_distributed_4_loss: 0.5964 - time_distributed_5_loss: 0.3804 - time_distributed_6_loss: 0.4685 - time_distributed_7_loss: 0.2164 - time_distributed_8_loss: 0.2111 - time_distributed_9_loss: 0.1559 - time_distributed_10_loss: 0.0288 - time_distributed_11_loss: 0.0437 - time_distributed_1_acc: 0.7684 - time_distributed_2_acc: 0.8479 - time_distributed_3_acc: 0.9624 - time_distributed_4_acc: 0.7545 - time_distributed_5_acc: 0.8621 - time_distributed_6_acc: 0.7901 - time_distributed_7_acc: 0.9347 - time_distributed_8_acc: 0.9409 - time_distributed_9_acc: 0.9474 - time_distributed_10_acc: 0.9977 - time_distributed_11_acc: 0.9943 - val_loss: 3.4105 - val_time_distributed_1_loss: 0.8347 - val_time_distributed_2_loss: 0.3252 - val_time_distributed_3_loss: 0.1625 - val_time_distributed_4_loss: 0.5843 - val_time_distributed_5_loss: 0.3786 - val_time_distributed_6_loss: 0.4632 - val_time_distributed_7_loss: 0.2178 - val_time_distributed_8_loss: 0.2107 - val_time_distributed_9_loss: 0.1569 - val_time_distributed_10_loss: 0.0315 - val_time_distributed_11_loss: 0.0451 - val_time_distributed_1_acc: 0.7768 - val_time_distributed_2_acc: 0.8507 - val_time_distributed_3_acc: 0.9619 - val_time_distributed_4_acc: 0.7648 - val_time_distributed_5_acc: 0.8612 - val_time_distributed_6_acc: 0.7930 - val_time_distributed_7_acc: 0.9339 - val_time_distributed_8_acc: 0.9416 - val_time_distributed_9_acc: 0.9477 - val_time_distributed_10_acc: 0.9972 - val_time_distributed_11_acc: 0.9943\n",
            "Epoch 20/100\n",
            "6781/6781 [==============================] - 2s 325us/step - loss: 3.3899 - time_distributed_1_loss: 0.8308 - time_distributed_2_loss: 0.3298 - time_distributed_3_loss: 0.1562 - time_distributed_4_loss: 0.5900 - time_distributed_5_loss: 0.3745 - time_distributed_6_loss: 0.4629 - time_distributed_7_loss: 0.2144 - time_distributed_8_loss: 0.2085 - time_distributed_9_loss: 0.1532 - time_distributed_10_loss: 0.0271 - time_distributed_11_loss: 0.0424 - time_distributed_1_acc: 0.7779 - time_distributed_2_acc: 0.8504 - time_distributed_3_acc: 0.9624 - time_distributed_4_acc: 0.7573 - time_distributed_5_acc: 0.8638 - time_distributed_6_acc: 0.7920 - time_distributed_7_acc: 0.9347 - time_distributed_8_acc: 0.9409 - time_distributed_9_acc: 0.9477 - time_distributed_10_acc: 0.9977 - time_distributed_11_acc: 0.9943 - val_loss: 3.3566 - val_time_distributed_1_loss: 0.8131 - val_time_distributed_2_loss: 0.3207 - val_time_distributed_3_loss: 0.1604 - val_time_distributed_4_loss: 0.5782 - val_time_distributed_5_loss: 0.3734 - val_time_distributed_6_loss: 0.4586 - val_time_distributed_7_loss: 0.2158 - val_time_distributed_8_loss: 0.2082 - val_time_distributed_9_loss: 0.1543 - val_time_distributed_10_loss: 0.0299 - val_time_distributed_11_loss: 0.0438 - val_time_distributed_1_acc: 0.7813 - val_time_distributed_2_acc: 0.8537 - val_time_distributed_3_acc: 0.9619 - val_time_distributed_4_acc: 0.7683 - val_time_distributed_5_acc: 0.8639 - val_time_distributed_6_acc: 0.7932 - val_time_distributed_7_acc: 0.9340 - val_time_distributed_8_acc: 0.9416 - val_time_distributed_9_acc: 0.9479 - val_time_distributed_10_acc: 0.9972 - val_time_distributed_11_acc: 0.9943\n",
            "Epoch 21/100\n",
            "6781/6781 [==============================] - 2s 328us/step - loss: 3.3376 - time_distributed_1_loss: 0.8099 - time_distributed_2_loss: 0.3252 - time_distributed_3_loss: 0.1546 - time_distributed_4_loss: 0.5836 - time_distributed_5_loss: 0.3698 - time_distributed_6_loss: 0.4579 - time_distributed_7_loss: 0.2126 - time_distributed_8_loss: 0.2062 - time_distributed_9_loss: 0.1508 - time_distributed_10_loss: 0.0257 - time_distributed_11_loss: 0.0413 - time_distributed_1_acc: 0.7813 - time_distributed_2_acc: 0.8536 - time_distributed_3_acc: 0.9624 - time_distributed_4_acc: 0.7617 - time_distributed_5_acc: 0.8654 - time_distributed_6_acc: 0.7942 - time_distributed_7_acc: 0.9348 - time_distributed_8_acc: 0.9409 - time_distributed_9_acc: 0.9479 - time_distributed_10_acc: 0.9977 - time_distributed_11_acc: 0.9943 - val_loss: 3.3063 - val_time_distributed_1_loss: 0.7932 - val_time_distributed_2_loss: 0.3162 - val_time_distributed_3_loss: 0.1585 - val_time_distributed_4_loss: 0.5721 - val_time_distributed_5_loss: 0.3695 - val_time_distributed_6_loss: 0.4542 - val_time_distributed_7_loss: 0.2137 - val_time_distributed_8_loss: 0.2057 - val_time_distributed_9_loss: 0.1518 - val_time_distributed_10_loss: 0.0286 - val_time_distributed_11_loss: 0.0428 - val_time_distributed_1_acc: 0.7837 - val_time_distributed_2_acc: 0.8567 - val_time_distributed_3_acc: 0.9619 - val_time_distributed_4_acc: 0.7708 - val_time_distributed_5_acc: 0.8647 - val_time_distributed_6_acc: 0.7920 - val_time_distributed_7_acc: 0.9340 - val_time_distributed_8_acc: 0.9416 - val_time_distributed_9_acc: 0.9481 - val_time_distributed_10_acc: 0.9972 - val_time_distributed_11_acc: 0.9943\n",
            "Epoch 22/100\n",
            "6781/6781 [==============================] - 2s 328us/step - loss: 3.2881 - time_distributed_1_loss: 0.7905 - time_distributed_2_loss: 0.3206 - time_distributed_3_loss: 0.1528 - time_distributed_4_loss: 0.5772 - time_distributed_5_loss: 0.3660 - time_distributed_6_loss: 0.4534 - time_distributed_7_loss: 0.2105 - time_distributed_8_loss: 0.2038 - time_distributed_9_loss: 0.1484 - time_distributed_10_loss: 0.0246 - time_distributed_11_loss: 0.0404 - time_distributed_1_acc: 0.7828 - time_distributed_2_acc: 0.8553 - time_distributed_3_acc: 0.9624 - time_distributed_4_acc: 0.7692 - time_distributed_5_acc: 0.8663 - time_distributed_6_acc: 0.7955 - time_distributed_7_acc: 0.9349 - time_distributed_8_acc: 0.9409 - time_distributed_9_acc: 0.9482 - time_distributed_10_acc: 0.9977 - time_distributed_11_acc: 0.9943 - val_loss: 3.2579 - val_time_distributed_1_loss: 0.7746 - val_time_distributed_2_loss: 0.3116 - val_time_distributed_3_loss: 0.1567 - val_time_distributed_4_loss: 0.5649 - val_time_distributed_5_loss: 0.3665 - val_time_distributed_6_loss: 0.4492 - val_time_distributed_7_loss: 0.2119 - val_time_distributed_8_loss: 0.2035 - val_time_distributed_9_loss: 0.1495 - val_time_distributed_10_loss: 0.0275 - val_time_distributed_11_loss: 0.0421 - val_time_distributed_1_acc: 0.7849 - val_time_distributed_2_acc: 0.8577 - val_time_distributed_3_acc: 0.9619 - val_time_distributed_4_acc: 0.7829 - val_time_distributed_5_acc: 0.8658 - val_time_distributed_6_acc: 0.7946 - val_time_distributed_7_acc: 0.9342 - val_time_distributed_8_acc: 0.9416 - val_time_distributed_9_acc: 0.9486 - val_time_distributed_10_acc: 0.9972 - val_time_distributed_11_acc: 0.9943\n",
            "Epoch 23/100\n",
            "6781/6781 [==============================] - 2s 326us/step - loss: 3.2394 - time_distributed_1_loss: 0.7721 - time_distributed_2_loss: 0.3159 - time_distributed_3_loss: 0.1510 - time_distributed_4_loss: 0.5700 - time_distributed_5_loss: 0.3630 - time_distributed_6_loss: 0.4487 - time_distributed_7_loss: 0.2082 - time_distributed_8_loss: 0.2012 - time_distributed_9_loss: 0.1459 - time_distributed_10_loss: 0.0236 - time_distributed_11_loss: 0.0397 - time_distributed_1_acc: 0.7846 - time_distributed_2_acc: 0.8567 - time_distributed_3_acc: 0.9624 - time_distributed_4_acc: 0.7787 - time_distributed_5_acc: 0.8676 - time_distributed_6_acc: 0.7976 - time_distributed_7_acc: 0.9350 - time_distributed_8_acc: 0.9409 - time_distributed_9_acc: 0.9487 - time_distributed_10_acc: 0.9977 - time_distributed_11_acc: 0.9943 - val_loss: 3.2102 - val_time_distributed_1_loss: 0.7574 - val_time_distributed_2_loss: 0.3068 - val_time_distributed_3_loss: 0.1548 - val_time_distributed_4_loss: 0.5582 - val_time_distributed_5_loss: 0.3637 - val_time_distributed_6_loss: 0.4446 - val_time_distributed_7_loss: 0.2095 - val_time_distributed_8_loss: 0.2008 - val_time_distributed_9_loss: 0.1466 - val_time_distributed_10_loss: 0.0264 - val_time_distributed_11_loss: 0.0414 - val_time_distributed_1_acc: 0.7865 - val_time_distributed_2_acc: 0.8604 - val_time_distributed_3_acc: 0.9619 - val_time_distributed_4_acc: 0.7887 - val_time_distributed_5_acc: 0.8667 - val_time_distributed_6_acc: 0.8010 - val_time_distributed_7_acc: 0.9342 - val_time_distributed_8_acc: 0.9416 - val_time_distributed_9_acc: 0.9486 - val_time_distributed_10_acc: 0.9972 - val_time_distributed_11_acc: 0.9943\n",
            "Epoch 24/100\n",
            "6781/6781 [==============================] - 2s 323us/step - loss: 3.1903 - time_distributed_1_loss: 0.7543 - time_distributed_2_loss: 0.3109 - time_distributed_3_loss: 0.1487 - time_distributed_4_loss: 0.5630 - time_distributed_5_loss: 0.3604 - time_distributed_6_loss: 0.4443 - time_distributed_7_loss: 0.2055 - time_distributed_8_loss: 0.1984 - time_distributed_9_loss: 0.1431 - time_distributed_10_loss: 0.0227 - time_distributed_11_loss: 0.0390 - time_distributed_1_acc: 0.7875 - time_distributed_2_acc: 0.8582 - time_distributed_3_acc: 0.9624 - time_distributed_4_acc: 0.7877 - time_distributed_5_acc: 0.8686 - time_distributed_6_acc: 0.8005 - time_distributed_7_acc: 0.9353 - time_distributed_8_acc: 0.9409 - time_distributed_9_acc: 0.9496 - time_distributed_10_acc: 0.9977 - time_distributed_11_acc: 0.9943 - val_loss: 3.1604 - val_time_distributed_1_loss: 0.7397 - val_time_distributed_2_loss: 0.3020 - val_time_distributed_3_loss: 0.1522 - val_time_distributed_4_loss: 0.5511 - val_time_distributed_5_loss: 0.3614 - val_time_distributed_6_loss: 0.4400 - val_time_distributed_7_loss: 0.2065 - val_time_distributed_8_loss: 0.1977 - val_time_distributed_9_loss: 0.1436 - val_time_distributed_10_loss: 0.0256 - val_time_distributed_11_loss: 0.0407 - val_time_distributed_1_acc: 0.7911 - val_time_distributed_2_acc: 0.8637 - val_time_distributed_3_acc: 0.9619 - val_time_distributed_4_acc: 0.7927 - val_time_distributed_5_acc: 0.8676 - val_time_distributed_6_acc: 0.8029 - val_time_distributed_7_acc: 0.9345 - val_time_distributed_8_acc: 0.9416 - val_time_distributed_9_acc: 0.9501 - val_time_distributed_10_acc: 0.9972 - val_time_distributed_11_acc: 0.9943\n",
            "Epoch 25/100\n",
            "6781/6781 [==============================] - 2s 323us/step - loss: 3.1385 - time_distributed_1_loss: 0.7362 - time_distributed_2_loss: 0.3053 - time_distributed_3_loss: 0.1463 - time_distributed_4_loss: 0.5557 - time_distributed_5_loss: 0.3580 - time_distributed_6_loss: 0.4395 - time_distributed_7_loss: 0.2023 - time_distributed_8_loss: 0.1951 - time_distributed_9_loss: 0.1400 - time_distributed_10_loss: 0.0219 - time_distributed_11_loss: 0.0383 - time_distributed_1_acc: 0.7918 - time_distributed_2_acc: 0.8606 - time_distributed_3_acc: 0.9624 - time_distributed_4_acc: 0.7921 - time_distributed_5_acc: 0.8690 - time_distributed_6_acc: 0.8048 - time_distributed_7_acc: 0.9358 - time_distributed_8_acc: 0.9410 - time_distributed_9_acc: 0.9519 - time_distributed_10_acc: 0.9977 - time_distributed_11_acc: 0.9943 - val_loss: 3.1080 - val_time_distributed_1_loss: 0.7214 - val_time_distributed_2_loss: 0.2967 - val_time_distributed_3_loss: 0.1491 - val_time_distributed_4_loss: 0.5443 - val_time_distributed_5_loss: 0.3597 - val_time_distributed_6_loss: 0.4361 - val_time_distributed_7_loss: 0.2023 - val_time_distributed_8_loss: 0.1937 - val_time_distributed_9_loss: 0.1400 - val_time_distributed_10_loss: 0.0247 - val_time_distributed_11_loss: 0.0400 - val_time_distributed_1_acc: 0.7932 - val_time_distributed_2_acc: 0.8660 - val_time_distributed_3_acc: 0.9619 - val_time_distributed_4_acc: 0.8012 - val_time_distributed_5_acc: 0.8680 - val_time_distributed_6_acc: 0.8077 - val_time_distributed_7_acc: 0.9350 - val_time_distributed_8_acc: 0.9417 - val_time_distributed_9_acc: 0.9527 - val_time_distributed_10_acc: 0.9972 - val_time_distributed_11_acc: 0.9943\n",
            "Epoch 26/100\n",
            "6781/6781 [==============================] - 2s 321us/step - loss: 3.0830 - time_distributed_1_loss: 0.7174 - time_distributed_2_loss: 0.2992 - time_distributed_3_loss: 0.1433 - time_distributed_4_loss: 0.5483 - time_distributed_5_loss: 0.3562 - time_distributed_6_loss: 0.4344 - time_distributed_7_loss: 0.1982 - time_distributed_8_loss: 0.1910 - time_distributed_9_loss: 0.1362 - time_distributed_10_loss: 0.0212 - time_distributed_11_loss: 0.0377 - time_distributed_1_acc: 0.7944 - time_distributed_2_acc: 0.8656 - time_distributed_3_acc: 0.9625 - time_distributed_4_acc: 0.7989 - time_distributed_5_acc: 0.8694 - time_distributed_6_acc: 0.8099 - time_distributed_7_acc: 0.9369 - time_distributed_8_acc: 0.9413 - time_distributed_9_acc: 0.9551 - time_distributed_10_acc: 0.9977 - time_distributed_11_acc: 0.9943 - val_loss: 3.0531 - val_time_distributed_1_loss: 0.7026 - val_time_distributed_2_loss: 0.2905 - val_time_distributed_3_loss: 0.1457 - val_time_distributed_4_loss: 0.5374 - val_time_distributed_5_loss: 0.3584 - val_time_distributed_6_loss: 0.4313 - val_time_distributed_7_loss: 0.1980 - val_time_distributed_8_loss: 0.1897 - val_time_distributed_9_loss: 0.1361 - val_time_distributed_10_loss: 0.0240 - val_time_distributed_11_loss: 0.0393 - val_time_distributed_1_acc: 0.7965 - val_time_distributed_2_acc: 0.8706 - val_time_distributed_3_acc: 0.9620 - val_time_distributed_4_acc: 0.8068 - val_time_distributed_5_acc: 0.8682 - val_time_distributed_6_acc: 0.8150 - val_time_distributed_7_acc: 0.9364 - val_time_distributed_8_acc: 0.9421 - val_time_distributed_9_acc: 0.9562 - val_time_distributed_10_acc: 0.9972 - val_time_distributed_11_acc: 0.9943\n",
            "Epoch 27/100\n",
            "6781/6781 [==============================] - 2s 323us/step - loss: 3.0235 - time_distributed_1_loss: 0.6976 - time_distributed_2_loss: 0.2919 - time_distributed_3_loss: 0.1400 - time_distributed_4_loss: 0.5400 - time_distributed_5_loss: 0.3542 - time_distributed_6_loss: 0.4289 - time_distributed_7_loss: 0.1939 - time_distributed_8_loss: 0.1869 - time_distributed_9_loss: 0.1323 - time_distributed_10_loss: 0.0206 - time_distributed_11_loss: 0.0371 - time_distributed_1_acc: 0.7986 - time_distributed_2_acc: 0.8718 - time_distributed_3_acc: 0.9626 - time_distributed_4_acc: 0.8060 - time_distributed_5_acc: 0.8692 - time_distributed_6_acc: 0.8119 - time_distributed_7_acc: 0.9388 - time_distributed_8_acc: 0.9424 - time_distributed_9_acc: 0.9583 - time_distributed_10_acc: 0.9977 - time_distributed_11_acc: 0.9943 - val_loss: 2.9945 - val_time_distributed_1_loss: 0.6833 - val_time_distributed_2_loss: 0.2835 - val_time_distributed_3_loss: 0.1422 - val_time_distributed_4_loss: 0.5298 - val_time_distributed_5_loss: 0.3568 - val_time_distributed_6_loss: 0.4258 - val_time_distributed_7_loss: 0.1935 - val_time_distributed_8_loss: 0.1855 - val_time_distributed_9_loss: 0.1322 - val_time_distributed_10_loss: 0.0233 - val_time_distributed_11_loss: 0.0387 - val_time_distributed_1_acc: 0.8021 - val_time_distributed_2_acc: 0.8768 - val_time_distributed_3_acc: 0.9621 - val_time_distributed_4_acc: 0.8123 - val_time_distributed_5_acc: 0.8682 - val_time_distributed_6_acc: 0.8164 - val_time_distributed_7_acc: 0.9388 - val_time_distributed_8_acc: 0.9435 - val_time_distributed_9_acc: 0.9584 - val_time_distributed_10_acc: 0.9972 - val_time_distributed_11_acc: 0.9943\n",
            "Epoch 28/100\n",
            "6781/6781 [==============================] - 2s 325us/step - loss: 2.9607 - time_distributed_1_loss: 0.6771 - time_distributed_2_loss: 0.2842 - time_distributed_3_loss: 0.1366 - time_distributed_4_loss: 0.5317 - time_distributed_5_loss: 0.3527 - time_distributed_6_loss: 0.4234 - time_distributed_7_loss: 0.1887 - time_distributed_8_loss: 0.1821 - time_distributed_9_loss: 0.1278 - time_distributed_10_loss: 0.0200 - time_distributed_11_loss: 0.0365 - time_distributed_1_acc: 0.8032 - time_distributed_2_acc: 0.8762 - time_distributed_3_acc: 0.9628 - time_distributed_4_acc: 0.8109 - time_distributed_5_acc: 0.8694 - time_distributed_6_acc: 0.8155 - time_distributed_7_acc: 0.9410 - time_distributed_8_acc: 0.9442 - time_distributed_9_acc: 0.9600 - time_distributed_10_acc: 0.9977 - time_distributed_11_acc: 0.9943 - val_loss: 2.9327 - val_time_distributed_1_loss: 0.6631 - val_time_distributed_2_loss: 0.2760 - val_time_distributed_3_loss: 0.1385 - val_time_distributed_4_loss: 0.5213 - val_time_distributed_5_loss: 0.3550 - val_time_distributed_6_loss: 0.4204 - val_time_distributed_7_loss: 0.1886 - val_time_distributed_8_loss: 0.1812 - val_time_distributed_9_loss: 0.1279 - val_time_distributed_10_loss: 0.0227 - val_time_distributed_11_loss: 0.0380 - val_time_distributed_1_acc: 0.8059 - val_time_distributed_2_acc: 0.8824 - val_time_distributed_3_acc: 0.9622 - val_time_distributed_4_acc: 0.8163 - val_time_distributed_5_acc: 0.8676 - val_time_distributed_6_acc: 0.8181 - val_time_distributed_7_acc: 0.9409 - val_time_distributed_8_acc: 0.9447 - val_time_distributed_9_acc: 0.9598 - val_time_distributed_10_acc: 0.9972 - val_time_distributed_11_acc: 0.9943\n",
            "Epoch 29/100\n",
            "6781/6781 [==============================] - 2s 325us/step - loss: 2.8957 - time_distributed_1_loss: 0.6563 - time_distributed_2_loss: 0.2767 - time_distributed_3_loss: 0.1331 - time_distributed_4_loss: 0.5224 - time_distributed_5_loss: 0.3508 - time_distributed_6_loss: 0.4180 - time_distributed_7_loss: 0.1829 - time_distributed_8_loss: 0.1771 - time_distributed_9_loss: 0.1230 - time_distributed_10_loss: 0.0195 - time_distributed_11_loss: 0.0359 - time_distributed_1_acc: 0.8092 - time_distributed_2_acc: 0.8827 - time_distributed_3_acc: 0.9631 - time_distributed_4_acc: 0.8160 - time_distributed_5_acc: 0.8689 - time_distributed_6_acc: 0.8176 - time_distributed_7_acc: 0.9434 - time_distributed_8_acc: 0.9474 - time_distributed_9_acc: 0.9619 - time_distributed_10_acc: 0.9977 - time_distributed_11_acc: 0.9943 - val_loss: 2.8721 - val_time_distributed_1_loss: 0.6430 - val_time_distributed_2_loss: 0.2688 - val_time_distributed_3_loss: 0.1351 - val_time_distributed_4_loss: 0.5137 - val_time_distributed_5_loss: 0.3540 - val_time_distributed_6_loss: 0.4159 - val_time_distributed_7_loss: 0.1827 - val_time_distributed_8_loss: 0.1762 - val_time_distributed_9_loss: 0.1233 - val_time_distributed_10_loss: 0.0221 - val_time_distributed_11_loss: 0.0373 - val_time_distributed_1_acc: 0.8122 - val_time_distributed_2_acc: 0.8864 - val_time_distributed_3_acc: 0.9620 - val_time_distributed_4_acc: 0.8187 - val_time_distributed_5_acc: 0.8677 - val_time_distributed_6_acc: 0.8186 - val_time_distributed_7_acc: 0.9427 - val_time_distributed_8_acc: 0.9476 - val_time_distributed_9_acc: 0.9613 - val_time_distributed_10_acc: 0.9972 - val_time_distributed_11_acc: 0.9943\n",
            "Epoch 30/100\n",
            "6781/6781 [==============================] - 2s 324us/step - loss: 2.8320 - time_distributed_1_loss: 0.6357 - time_distributed_2_loss: 0.2694 - time_distributed_3_loss: 0.1297 - time_distributed_4_loss: 0.5131 - time_distributed_5_loss: 0.3494 - time_distributed_6_loss: 0.4131 - time_distributed_7_loss: 0.1771 - time_distributed_8_loss: 0.1721 - time_distributed_9_loss: 0.1180 - time_distributed_10_loss: 0.0190 - time_distributed_11_loss: 0.0355 - time_distributed_1_acc: 0.8140 - time_distributed_2_acc: 0.8871 - time_distributed_3_acc: 0.9636 - time_distributed_4_acc: 0.8192 - time_distributed_5_acc: 0.8688 - time_distributed_6_acc: 0.8187 - time_distributed_7_acc: 0.9448 - time_distributed_8_acc: 0.9492 - time_distributed_9_acc: 0.9634 - time_distributed_10_acc: 0.9977 - time_distributed_11_acc: 0.9943 - val_loss: 2.8114 - val_time_distributed_1_loss: 0.6231 - val_time_distributed_2_loss: 0.2625 - val_time_distributed_3_loss: 0.1318 - val_time_distributed_4_loss: 0.5038 - val_time_distributed_5_loss: 0.3528 - val_time_distributed_6_loss: 0.4113 - val_time_distributed_7_loss: 0.1772 - val_time_distributed_8_loss: 0.1717 - val_time_distributed_9_loss: 0.1188 - val_time_distributed_10_loss: 0.0216 - val_time_distributed_11_loss: 0.0368 - val_time_distributed_1_acc: 0.8159 - val_time_distributed_2_acc: 0.8900 - val_time_distributed_3_acc: 0.9633 - val_time_distributed_4_acc: 0.8221 - val_time_distributed_5_acc: 0.8670 - val_time_distributed_6_acc: 0.8199 - val_time_distributed_7_acc: 0.9443 - val_time_distributed_8_acc: 0.9496 - val_time_distributed_9_acc: 0.9637 - val_time_distributed_10_acc: 0.9972 - val_time_distributed_11_acc: 0.9943\n",
            "Epoch 31/100\n",
            "6781/6781 [==============================] - 2s 324us/step - loss: 2.7716 - time_distributed_1_loss: 0.6162 - time_distributed_2_loss: 0.2634 - time_distributed_3_loss: 0.1270 - time_distributed_4_loss: 0.5040 - time_distributed_5_loss: 0.3479 - time_distributed_6_loss: 0.4088 - time_distributed_7_loss: 0.1709 - time_distributed_8_loss: 0.1669 - time_distributed_9_loss: 0.1131 - time_distributed_10_loss: 0.0185 - time_distributed_11_loss: 0.0349 - time_distributed_1_acc: 0.8198 - time_distributed_2_acc: 0.8898 - time_distributed_3_acc: 0.9643 - time_distributed_4_acc: 0.8231 - time_distributed_5_acc: 0.8685 - time_distributed_6_acc: 0.8218 - time_distributed_7_acc: 0.9457 - time_distributed_8_acc: 0.9506 - time_distributed_9_acc: 0.9650 - time_distributed_10_acc: 0.9977 - time_distributed_11_acc: 0.9943 - val_loss: 2.7583 - val_time_distributed_1_loss: 0.6051 - val_time_distributed_2_loss: 0.2575 - val_time_distributed_3_loss: 0.1292 - val_time_distributed_4_loss: 0.4954 - val_time_distributed_5_loss: 0.3515 - val_time_distributed_6_loss: 0.4074 - val_time_distributed_7_loss: 0.1725 - val_time_distributed_8_loss: 0.1676 - val_time_distributed_9_loss: 0.1149 - val_time_distributed_10_loss: 0.0211 - val_time_distributed_11_loss: 0.0363 - val_time_distributed_1_acc: 0.8228 - val_time_distributed_2_acc: 0.8927 - val_time_distributed_3_acc: 0.9637 - val_time_distributed_4_acc: 0.8279 - val_time_distributed_5_acc: 0.8667 - val_time_distributed_6_acc: 0.8226 - val_time_distributed_7_acc: 0.9449 - val_time_distributed_8_acc: 0.9513 - val_time_distributed_9_acc: 0.9653 - val_time_distributed_10_acc: 0.9972 - val_time_distributed_11_acc: 0.9943\n",
            "Epoch 32/100\n",
            "6781/6781 [==============================] - 2s 322us/step - loss: 2.7162 - time_distributed_1_loss: 0.5978 - time_distributed_2_loss: 0.2580 - time_distributed_3_loss: 0.1246 - time_distributed_4_loss: 0.4950 - time_distributed_5_loss: 0.3463 - time_distributed_6_loss: 0.4045 - time_distributed_7_loss: 0.1661 - time_distributed_8_loss: 0.1625 - time_distributed_9_loss: 0.1088 - time_distributed_10_loss: 0.0181 - time_distributed_11_loss: 0.0345 - time_distributed_1_acc: 0.8254 - time_distributed_2_acc: 0.8911 - time_distributed_3_acc: 0.9648 - time_distributed_4_acc: 0.8267 - time_distributed_5_acc: 0.8685 - time_distributed_6_acc: 0.8245 - time_distributed_7_acc: 0.9471 - time_distributed_8_acc: 0.9518 - time_distributed_9_acc: 0.9664 - time_distributed_10_acc: 0.9977 - time_distributed_11_acc: 0.9943 - val_loss: 2.7085 - val_time_distributed_1_loss: 0.5883 - val_time_distributed_2_loss: 0.2525 - val_time_distributed_3_loss: 0.1271 - val_time_distributed_4_loss: 0.4866 - val_time_distributed_5_loss: 0.3503 - val_time_distributed_6_loss: 0.4039 - val_time_distributed_7_loss: 0.1682 - val_time_distributed_8_loss: 0.1640 - val_time_distributed_9_loss: 0.1113 - val_time_distributed_10_loss: 0.0206 - val_time_distributed_11_loss: 0.0358 - val_time_distributed_1_acc: 0.8294 - val_time_distributed_2_acc: 0.8929 - val_time_distributed_3_acc: 0.9642 - val_time_distributed_4_acc: 0.8315 - val_time_distributed_5_acc: 0.8666 - val_time_distributed_6_acc: 0.8256 - val_time_distributed_7_acc: 0.9457 - val_time_distributed_8_acc: 0.9519 - val_time_distributed_9_acc: 0.9659 - val_time_distributed_10_acc: 0.9972 - val_time_distributed_11_acc: 0.9943\n",
            "Epoch 33/100\n",
            "6781/6781 [==============================] - 2s 326us/step - loss: 2.6648 - time_distributed_1_loss: 0.5810 - time_distributed_2_loss: 0.2537 - time_distributed_3_loss: 0.1225 - time_distributed_4_loss: 0.4859 - time_distributed_5_loss: 0.3444 - time_distributed_6_loss: 0.4007 - time_distributed_7_loss: 0.1614 - time_distributed_8_loss: 0.1585 - time_distributed_9_loss: 0.1048 - time_distributed_10_loss: 0.0177 - time_distributed_11_loss: 0.0341 - time_distributed_1_acc: 0.8301 - time_distributed_2_acc: 0.8925 - time_distributed_3_acc: 0.9650 - time_distributed_4_acc: 0.8305 - time_distributed_5_acc: 0.8683 - time_distributed_6_acc: 0.8268 - time_distributed_7_acc: 0.9480 - time_distributed_8_acc: 0.9527 - time_distributed_9_acc: 0.9671 - time_distributed_10_acc: 0.9977 - time_distributed_11_acc: 0.9943 - val_loss: 2.6649 - val_time_distributed_1_loss: 0.5729 - val_time_distributed_2_loss: 0.2492 - val_time_distributed_3_loss: 0.1251 - val_time_distributed_4_loss: 0.4789 - val_time_distributed_5_loss: 0.3485 - val_time_distributed_6_loss: 0.4007 - val_time_distributed_7_loss: 0.1650 - val_time_distributed_8_loss: 0.1608 - val_time_distributed_9_loss: 0.1082 - val_time_distributed_10_loss: 0.0202 - val_time_distributed_11_loss: 0.0355 - val_time_distributed_1_acc: 0.8305 - val_time_distributed_2_acc: 0.8947 - val_time_distributed_3_acc: 0.9647 - val_time_distributed_4_acc: 0.8362 - val_time_distributed_5_acc: 0.8665 - val_time_distributed_6_acc: 0.8280 - val_time_distributed_7_acc: 0.9468 - val_time_distributed_8_acc: 0.9531 - val_time_distributed_9_acc: 0.9667 - val_time_distributed_10_acc: 0.9972 - val_time_distributed_11_acc: 0.9943\n",
            "Epoch 34/100\n",
            "6781/6781 [==============================] - 2s 325us/step - loss: 2.6186 - time_distributed_1_loss: 0.5656 - time_distributed_2_loss: 0.2497 - time_distributed_3_loss: 0.1208 - time_distributed_4_loss: 0.4775 - time_distributed_5_loss: 0.3430 - time_distributed_6_loss: 0.3975 - time_distributed_7_loss: 0.1575 - time_distributed_8_loss: 0.1548 - time_distributed_9_loss: 0.1013 - time_distributed_10_loss: 0.0174 - time_distributed_11_loss: 0.0337 - time_distributed_1_acc: 0.8328 - time_distributed_2_acc: 0.8947 - time_distributed_3_acc: 0.9651 - time_distributed_4_acc: 0.8343 - time_distributed_5_acc: 0.8686 - time_distributed_6_acc: 0.8274 - time_distributed_7_acc: 0.9484 - time_distributed_8_acc: 0.9539 - time_distributed_9_acc: 0.9677 - time_distributed_10_acc: 0.9977 - time_distributed_11_acc: 0.9943 - val_loss: 2.6233 - val_time_distributed_1_loss: 0.5591 - val_time_distributed_2_loss: 0.2461 - val_time_distributed_3_loss: 0.1239 - val_time_distributed_4_loss: 0.4706 - val_time_distributed_5_loss: 0.3469 - val_time_distributed_6_loss: 0.3978 - val_time_distributed_7_loss: 0.1615 - val_time_distributed_8_loss: 0.1576 - val_time_distributed_9_loss: 0.1050 - val_time_distributed_10_loss: 0.0198 - val_time_distributed_11_loss: 0.0351 - val_time_distributed_1_acc: 0.8346 - val_time_distributed_2_acc: 0.8956 - val_time_distributed_3_acc: 0.9648 - val_time_distributed_4_acc: 0.8384 - val_time_distributed_5_acc: 0.8663 - val_time_distributed_6_acc: 0.8288 - val_time_distributed_7_acc: 0.9475 - val_time_distributed_8_acc: 0.9539 - val_time_distributed_9_acc: 0.9670 - val_time_distributed_10_acc: 0.9972 - val_time_distributed_11_acc: 0.9943\n",
            "Epoch 35/100\n",
            "6781/6781 [==============================] - 2s 326us/step - loss: 2.5743 - time_distributed_1_loss: 0.5513 - time_distributed_2_loss: 0.2465 - time_distributed_3_loss: 0.1195 - time_distributed_4_loss: 0.4683 - time_distributed_5_loss: 0.3412 - time_distributed_6_loss: 0.3944 - time_distributed_7_loss: 0.1536 - time_distributed_8_loss: 0.1513 - time_distributed_9_loss: 0.0978 - time_distributed_10_loss: 0.0171 - time_distributed_11_loss: 0.0333 - time_distributed_1_acc: 0.8368 - time_distributed_2_acc: 0.8951 - time_distributed_3_acc: 0.9653 - time_distributed_4_acc: 0.8378 - time_distributed_5_acc: 0.8688 - time_distributed_6_acc: 0.8296 - time_distributed_7_acc: 0.9491 - time_distributed_8_acc: 0.9544 - time_distributed_9_acc: 0.9681 - time_distributed_10_acc: 0.9977 - time_distributed_11_acc: 0.9943 - val_loss: 2.5836 - val_time_distributed_1_loss: 0.5457 - val_time_distributed_2_loss: 0.2429 - val_time_distributed_3_loss: 0.1228 - val_time_distributed_4_loss: 0.4619 - val_time_distributed_5_loss: 0.3455 - val_time_distributed_6_loss: 0.3950 - val_time_distributed_7_loss: 0.1587 - val_time_distributed_8_loss: 0.1547 - val_time_distributed_9_loss: 0.1023 - val_time_distributed_10_loss: 0.0195 - val_time_distributed_11_loss: 0.0347 - val_time_distributed_1_acc: 0.8386 - val_time_distributed_2_acc: 0.8963 - val_time_distributed_3_acc: 0.9651 - val_time_distributed_4_acc: 0.8409 - val_time_distributed_5_acc: 0.8669 - val_time_distributed_6_acc: 0.8300 - val_time_distributed_7_acc: 0.9475 - val_time_distributed_8_acc: 0.9537 - val_time_distributed_9_acc: 0.9677 - val_time_distributed_10_acc: 0.9972 - val_time_distributed_11_acc: 0.9943\n",
            "Epoch 36/100\n",
            "6781/6781 [==============================] - 2s 325us/step - loss: 2.5317 - time_distributed_1_loss: 0.5373 - time_distributed_2_loss: 0.2431 - time_distributed_3_loss: 0.1183 - time_distributed_4_loss: 0.4595 - time_distributed_5_loss: 0.3391 - time_distributed_6_loss: 0.3913 - time_distributed_7_loss: 0.1503 - time_distributed_8_loss: 0.1481 - time_distributed_9_loss: 0.0947 - time_distributed_10_loss: 0.0169 - time_distributed_11_loss: 0.0330 - time_distributed_1_acc: 0.8398 - time_distributed_2_acc: 0.8962 - time_distributed_3_acc: 0.9654 - time_distributed_4_acc: 0.8406 - time_distributed_5_acc: 0.8690 - time_distributed_6_acc: 0.8294 - time_distributed_7_acc: 0.9493 - time_distributed_8_acc: 0.9549 - time_distributed_9_acc: 0.9687 - time_distributed_10_acc: 0.9977 - time_distributed_11_acc: 0.9943 - val_loss: 2.5449 - val_time_distributed_1_loss: 0.5330 - val_time_distributed_2_loss: 0.2402 - val_time_distributed_3_loss: 0.1221 - val_time_distributed_4_loss: 0.4531 - val_time_distributed_5_loss: 0.3434 - val_time_distributed_6_loss: 0.3927 - val_time_distributed_7_loss: 0.1557 - val_time_distributed_8_loss: 0.1517 - val_time_distributed_9_loss: 0.0993 - val_time_distributed_10_loss: 0.0192 - val_time_distributed_11_loss: 0.0345 - val_time_distributed_1_acc: 0.8403 - val_time_distributed_2_acc: 0.8974 - val_time_distributed_3_acc: 0.9654 - val_time_distributed_4_acc: 0.8456 - val_time_distributed_5_acc: 0.8668 - val_time_distributed_6_acc: 0.8287 - val_time_distributed_7_acc: 0.9483 - val_time_distributed_8_acc: 0.9541 - val_time_distributed_9_acc: 0.9682 - val_time_distributed_10_acc: 0.9972 - val_time_distributed_11_acc: 0.9943\n",
            "Epoch 37/100\n",
            "6781/6781 [==============================] - 2s 327us/step - loss: 2.4903 - time_distributed_1_loss: 0.5240 - time_distributed_2_loss: 0.2406 - time_distributed_3_loss: 0.1168 - time_distributed_4_loss: 0.4502 - time_distributed_5_loss: 0.3367 - time_distributed_6_loss: 0.3885 - time_distributed_7_loss: 0.1471 - time_distributed_8_loss: 0.1452 - time_distributed_9_loss: 0.0918 - time_distributed_10_loss: 0.0166 - time_distributed_11_loss: 0.0328 - time_distributed_1_acc: 0.8426 - time_distributed_2_acc: 0.8970 - time_distributed_3_acc: 0.9656 - time_distributed_4_acc: 0.8443 - time_distributed_5_acc: 0.8697 - time_distributed_6_acc: 0.8319 - time_distributed_7_acc: 0.9498 - time_distributed_8_acc: 0.9552 - time_distributed_9_acc: 0.9692 - time_distributed_10_acc: 0.9977 - time_distributed_11_acc: 0.9943 - val_loss: 2.5075 - val_time_distributed_1_loss: 0.5196 - val_time_distributed_2_loss: 0.2376 - val_time_distributed_3_loss: 0.1206 - val_time_distributed_4_loss: 0.4450 - val_time_distributed_5_loss: 0.3419 - val_time_distributed_6_loss: 0.3911 - val_time_distributed_7_loss: 0.1529 - val_time_distributed_8_loss: 0.1490 - val_time_distributed_9_loss: 0.0965 - val_time_distributed_10_loss: 0.0189 - val_time_distributed_11_loss: 0.0342 - val_time_distributed_1_acc: 0.8435 - val_time_distributed_2_acc: 0.8981 - val_time_distributed_3_acc: 0.9652 - val_time_distributed_4_acc: 0.8464 - val_time_distributed_5_acc: 0.8673 - val_time_distributed_6_acc: 0.8299 - val_time_distributed_7_acc: 0.9480 - val_time_distributed_8_acc: 0.9550 - val_time_distributed_9_acc: 0.9686 - val_time_distributed_10_acc: 0.9972 - val_time_distributed_11_acc: 0.9943\n",
            "Epoch 38/100\n",
            "6781/6781 [==============================] - 2s 324us/step - loss: 2.4513 - time_distributed_1_loss: 0.5106 - time_distributed_2_loss: 0.2379 - time_distributed_3_loss: 0.1151 - time_distributed_4_loss: 0.4417 - time_distributed_5_loss: 0.3347 - time_distributed_6_loss: 0.3863 - time_distributed_7_loss: 0.1444 - time_distributed_8_loss: 0.1424 - time_distributed_9_loss: 0.0892 - time_distributed_10_loss: 0.0164 - time_distributed_11_loss: 0.0326 - time_distributed_1_acc: 0.8467 - time_distributed_2_acc: 0.8979 - time_distributed_3_acc: 0.9658 - time_distributed_4_acc: 0.8473 - time_distributed_5_acc: 0.8704 - time_distributed_6_acc: 0.8321 - time_distributed_7_acc: 0.9500 - time_distributed_8_acc: 0.9555 - time_distributed_9_acc: 0.9700 - time_distributed_10_acc: 0.9977 - time_distributed_11_acc: 0.9943 - val_loss: 2.4702 - val_time_distributed_1_loss: 0.5070 - val_time_distributed_2_loss: 0.2355 - val_time_distributed_3_loss: 0.1193 - val_time_distributed_4_loss: 0.4359 - val_time_distributed_5_loss: 0.3391 - val_time_distributed_6_loss: 0.3881 - val_time_distributed_7_loss: 0.1509 - val_time_distributed_8_loss: 0.1469 - val_time_distributed_9_loss: 0.0946 - val_time_distributed_10_loss: 0.0188 - val_time_distributed_11_loss: 0.0340 - val_time_distributed_1_acc: 0.8488 - val_time_distributed_2_acc: 0.8986 - val_time_distributed_3_acc: 0.9650 - val_time_distributed_4_acc: 0.8483 - val_time_distributed_5_acc: 0.8683 - val_time_distributed_6_acc: 0.8314 - val_time_distributed_7_acc: 0.9484 - val_time_distributed_8_acc: 0.9547 - val_time_distributed_9_acc: 0.9691 - val_time_distributed_10_acc: 0.9972 - val_time_distributed_11_acc: 0.9943\n",
            "Epoch 39/100\n",
            "6781/6781 [==============================] - 2s 322us/step - loss: 2.4098 - time_distributed_1_loss: 0.4969 - time_distributed_2_loss: 0.2351 - time_distributed_3_loss: 0.1130 - time_distributed_4_loss: 0.4327 - time_distributed_5_loss: 0.3320 - time_distributed_6_loss: 0.3830 - time_distributed_7_loss: 0.1416 - time_distributed_8_loss: 0.1399 - time_distributed_9_loss: 0.0869 - time_distributed_10_loss: 0.0162 - time_distributed_11_loss: 0.0323 - time_distributed_1_acc: 0.8526 - time_distributed_2_acc: 0.8991 - time_distributed_3_acc: 0.9661 - time_distributed_4_acc: 0.8502 - time_distributed_5_acc: 0.8714 - time_distributed_6_acc: 0.8348 - time_distributed_7_acc: 0.9507 - time_distributed_8_acc: 0.9557 - time_distributed_9_acc: 0.9706 - time_distributed_10_acc: 0.9977 - time_distributed_11_acc: 0.9943 - val_loss: 2.4355 - val_time_distributed_1_loss: 0.4939 - val_time_distributed_2_loss: 0.2338 - val_time_distributed_3_loss: 0.1172 - val_time_distributed_4_loss: 0.4283 - val_time_distributed_5_loss: 0.3368 - val_time_distributed_6_loss: 0.3867 - val_time_distributed_7_loss: 0.1490 - val_time_distributed_8_loss: 0.1446 - val_time_distributed_9_loss: 0.0930 - val_time_distributed_10_loss: 0.0186 - val_time_distributed_11_loss: 0.0338 - val_time_distributed_1_acc: 0.8551 - val_time_distributed_2_acc: 0.8999 - val_time_distributed_3_acc: 0.9646 - val_time_distributed_4_acc: 0.8521 - val_time_distributed_5_acc: 0.8703 - val_time_distributed_6_acc: 0.8331 - val_time_distributed_7_acc: 0.9482 - val_time_distributed_8_acc: 0.9554 - val_time_distributed_9_acc: 0.9699 - val_time_distributed_10_acc: 0.9972 - val_time_distributed_11_acc: 0.9943\n",
            "Epoch 40/100\n",
            "6781/6781 [==============================] - 2s 323us/step - loss: 2.3713 - time_distributed_1_loss: 0.4841 - time_distributed_2_loss: 0.2325 - time_distributed_3_loss: 0.1106 - time_distributed_4_loss: 0.4249 - time_distributed_5_loss: 0.3291 - time_distributed_6_loss: 0.3804 - time_distributed_7_loss: 0.1390 - time_distributed_8_loss: 0.1375 - time_distributed_9_loss: 0.0849 - time_distributed_10_loss: 0.0160 - time_distributed_11_loss: 0.0321 - time_distributed_1_acc: 0.8576 - time_distributed_2_acc: 0.8994 - time_distributed_3_acc: 0.9661 - time_distributed_4_acc: 0.8535 - time_distributed_5_acc: 0.8726 - time_distributed_6_acc: 0.8360 - time_distributed_7_acc: 0.9513 - time_distributed_8_acc: 0.9561 - time_distributed_9_acc: 0.9714 - time_distributed_10_acc: 0.9977 - time_distributed_11_acc: 0.9943 - val_loss: 2.4010 - val_time_distributed_1_loss: 0.4819 - val_time_distributed_2_loss: 0.2315 - val_time_distributed_3_loss: 0.1145 - val_time_distributed_4_loss: 0.4211 - val_time_distributed_5_loss: 0.3344 - val_time_distributed_6_loss: 0.3840 - val_time_distributed_7_loss: 0.1474 - val_time_distributed_8_loss: 0.1429 - val_time_distributed_9_loss: 0.0914 - val_time_distributed_10_loss: 0.0184 - val_time_distributed_11_loss: 0.0337 - val_time_distributed_1_acc: 0.8604 - val_time_distributed_2_acc: 0.9003 - val_time_distributed_3_acc: 0.9653 - val_time_distributed_4_acc: 0.8548 - val_time_distributed_5_acc: 0.8708 - val_time_distributed_6_acc: 0.8336 - val_time_distributed_7_acc: 0.9490 - val_time_distributed_8_acc: 0.9556 - val_time_distributed_9_acc: 0.9700 - val_time_distributed_10_acc: 0.9972 - val_time_distributed_11_acc: 0.9943\n",
            "Epoch 41/100\n",
            "6781/6781 [==============================] - 2s 325us/step - loss: 2.3331 - time_distributed_1_loss: 0.4715 - time_distributed_2_loss: 0.2298 - time_distributed_3_loss: 0.1077 - time_distributed_4_loss: 0.4172 - time_distributed_5_loss: 0.3262 - time_distributed_6_loss: 0.3774 - time_distributed_7_loss: 0.1369 - time_distributed_8_loss: 0.1356 - time_distributed_9_loss: 0.0831 - time_distributed_10_loss: 0.0159 - time_distributed_11_loss: 0.0320 - time_distributed_1_acc: 0.8629 - time_distributed_2_acc: 0.9003 - time_distributed_3_acc: 0.9667 - time_distributed_4_acc: 0.8578 - time_distributed_5_acc: 0.8730 - time_distributed_6_acc: 0.8376 - time_distributed_7_acc: 0.9520 - time_distributed_8_acc: 0.9565 - time_distributed_9_acc: 0.9720 - time_distributed_10_acc: 0.9977 - time_distributed_11_acc: 0.9943 - val_loss: 2.3677 - val_time_distributed_1_loss: 0.4704 - val_time_distributed_2_loss: 0.2296 - val_time_distributed_3_loss: 0.1120 - val_time_distributed_4_loss: 0.4136 - val_time_distributed_5_loss: 0.3314 - val_time_distributed_6_loss: 0.3817 - val_time_distributed_7_loss: 0.1457 - val_time_distributed_8_loss: 0.1414 - val_time_distributed_9_loss: 0.0904 - val_time_distributed_10_loss: 0.0182 - val_time_distributed_11_loss: 0.0335 - val_time_distributed_1_acc: 0.8644 - val_time_distributed_2_acc: 0.9006 - val_time_distributed_3_acc: 0.9652 - val_time_distributed_4_acc: 0.8573 - val_time_distributed_5_acc: 0.8704 - val_time_distributed_6_acc: 0.8346 - val_time_distributed_7_acc: 0.9494 - val_time_distributed_8_acc: 0.9555 - val_time_distributed_9_acc: 0.9707 - val_time_distributed_10_acc: 0.9972 - val_time_distributed_11_acc: 0.9943\n",
            "Epoch 42/100\n",
            "6781/6781 [==============================] - 2s 323us/step - loss: 2.2988 - time_distributed_1_loss: 0.4601 - time_distributed_2_loss: 0.2277 - time_distributed_3_loss: 0.1050 - time_distributed_4_loss: 0.4105 - time_distributed_5_loss: 0.3238 - time_distributed_6_loss: 0.3749 - time_distributed_7_loss: 0.1345 - time_distributed_8_loss: 0.1334 - time_distributed_9_loss: 0.0815 - time_distributed_10_loss: 0.0157 - time_distributed_11_loss: 0.0318 - time_distributed_1_acc: 0.8662 - time_distributed_2_acc: 0.9003 - time_distributed_3_acc: 0.9668 - time_distributed_4_acc: 0.8608 - time_distributed_5_acc: 0.8735 - time_distributed_6_acc: 0.8381 - time_distributed_7_acc: 0.9522 - time_distributed_8_acc: 0.9569 - time_distributed_9_acc: 0.9725 - time_distributed_10_acc: 0.9977 - time_distributed_11_acc: 0.9943 - val_loss: 2.3395 - val_time_distributed_1_loss: 0.4601 - val_time_distributed_2_loss: 0.2275 - val_time_distributed_3_loss: 0.1090 - val_time_distributed_4_loss: 0.4082 - val_time_distributed_5_loss: 0.3292 - val_time_distributed_6_loss: 0.3795 - val_time_distributed_7_loss: 0.1448 - val_time_distributed_8_loss: 0.1401 - val_time_distributed_9_loss: 0.0896 - val_time_distributed_10_loss: 0.0181 - val_time_distributed_11_loss: 0.0333 - val_time_distributed_1_acc: 0.8673 - val_time_distributed_2_acc: 0.9015 - val_time_distributed_3_acc: 0.9657 - val_time_distributed_4_acc: 0.8581 - val_time_distributed_5_acc: 0.8710 - val_time_distributed_6_acc: 0.8361 - val_time_distributed_7_acc: 0.9498 - val_time_distributed_8_acc: 0.9555 - val_time_distributed_9_acc: 0.9707 - val_time_distributed_10_acc: 0.9972 - val_time_distributed_11_acc: 0.9943\n",
            "Epoch 43/100\n",
            "6781/6781 [==============================] - 2s 322us/step - loss: 2.2649 - time_distributed_1_loss: 0.4496 - time_distributed_2_loss: 0.2251 - time_distributed_3_loss: 0.1021 - time_distributed_4_loss: 0.4038 - time_distributed_5_loss: 0.3207 - time_distributed_6_loss: 0.3718 - time_distributed_7_loss: 0.1325 - time_distributed_8_loss: 0.1318 - time_distributed_9_loss: 0.0801 - time_distributed_10_loss: 0.0156 - time_distributed_11_loss: 0.0317 - time_distributed_1_acc: 0.8704 - time_distributed_2_acc: 0.9016 - time_distributed_3_acc: 0.9672 - time_distributed_4_acc: 0.8630 - time_distributed_5_acc: 0.8743 - time_distributed_6_acc: 0.8406 - time_distributed_7_acc: 0.9532 - time_distributed_8_acc: 0.9572 - time_distributed_9_acc: 0.9733 - time_distributed_10_acc: 0.9977 - time_distributed_11_acc: 0.9943 - val_loss: 2.3103 - val_time_distributed_1_loss: 0.4512 - val_time_distributed_2_loss: 0.2256 - val_time_distributed_3_loss: 0.1065 - val_time_distributed_4_loss: 0.4022 - val_time_distributed_5_loss: 0.3263 - val_time_distributed_6_loss: 0.3764 - val_time_distributed_7_loss: 0.1435 - val_time_distributed_8_loss: 0.1389 - val_time_distributed_9_loss: 0.0887 - val_time_distributed_10_loss: 0.0179 - val_time_distributed_11_loss: 0.0331 - val_time_distributed_1_acc: 0.8708 - val_time_distributed_2_acc: 0.9017 - val_time_distributed_3_acc: 0.9664 - val_time_distributed_4_acc: 0.8613 - val_time_distributed_5_acc: 0.8703 - val_time_distributed_6_acc: 0.8377 - val_time_distributed_7_acc: 0.9501 - val_time_distributed_8_acc: 0.9555 - val_time_distributed_9_acc: 0.9709 - val_time_distributed_10_acc: 0.9972 - val_time_distributed_11_acc: 0.9943\n",
            "Epoch 44/100\n",
            "6781/6781 [==============================] - 2s 322us/step - loss: 2.2327 - time_distributed_1_loss: 0.4396 - time_distributed_2_loss: 0.2227 - time_distributed_3_loss: 0.0993 - time_distributed_4_loss: 0.3977 - time_distributed_5_loss: 0.3181 - time_distributed_6_loss: 0.3687 - time_distributed_7_loss: 0.1305 - time_distributed_8_loss: 0.1302 - time_distributed_9_loss: 0.0789 - time_distributed_10_loss: 0.0155 - time_distributed_11_loss: 0.0315 - time_distributed_1_acc: 0.8737 - time_distributed_2_acc: 0.9022 - time_distributed_3_acc: 0.9679 - time_distributed_4_acc: 0.8645 - time_distributed_5_acc: 0.8748 - time_distributed_6_acc: 0.8419 - time_distributed_7_acc: 0.9537 - time_distributed_8_acc: 0.9575 - time_distributed_9_acc: 0.9737 - time_distributed_10_acc: 0.9977 - time_distributed_11_acc: 0.9943 - val_loss: 2.2844 - val_time_distributed_1_loss: 0.4425 - val_time_distributed_2_loss: 0.2234 - val_time_distributed_3_loss: 0.1040 - val_time_distributed_4_loss: 0.3975 - val_time_distributed_5_loss: 0.3237 - val_time_distributed_6_loss: 0.3739 - val_time_distributed_7_loss: 0.1424 - val_time_distributed_8_loss: 0.1379 - val_time_distributed_9_loss: 0.0883 - val_time_distributed_10_loss: 0.0178 - val_time_distributed_11_loss: 0.0330 - val_time_distributed_1_acc: 0.8749 - val_time_distributed_2_acc: 0.9032 - val_time_distributed_3_acc: 0.9673 - val_time_distributed_4_acc: 0.8631 - val_time_distributed_5_acc: 0.8702 - val_time_distributed_6_acc: 0.8384 - val_time_distributed_7_acc: 0.9496 - val_time_distributed_8_acc: 0.9555 - val_time_distributed_9_acc: 0.9709 - val_time_distributed_10_acc: 0.9972 - val_time_distributed_11_acc: 0.9943\n",
            "Epoch 45/100\n",
            "6781/6781 [==============================] - 2s 326us/step - loss: 2.2030 - time_distributed_1_loss: 0.4306 - time_distributed_2_loss: 0.2203 - time_distributed_3_loss: 0.0967 - time_distributed_4_loss: 0.3923 - time_distributed_5_loss: 0.3154 - time_distributed_6_loss: 0.3658 - time_distributed_7_loss: 0.1289 - time_distributed_8_loss: 0.1286 - time_distributed_9_loss: 0.0777 - time_distributed_10_loss: 0.0154 - time_distributed_11_loss: 0.0313 - time_distributed_1_acc: 0.8772 - time_distributed_2_acc: 0.9031 - time_distributed_3_acc: 0.9687 - time_distributed_4_acc: 0.8659 - time_distributed_5_acc: 0.8750 - time_distributed_6_acc: 0.8435 - time_distributed_7_acc: 0.9542 - time_distributed_8_acc: 0.9579 - time_distributed_9_acc: 0.9742 - time_distributed_10_acc: 0.9977 - time_distributed_11_acc: 0.9943 - val_loss: 2.2603 - val_time_distributed_1_loss: 0.4345 - val_time_distributed_2_loss: 0.2225 - val_time_distributed_3_loss: 0.1017 - val_time_distributed_4_loss: 0.3924 - val_time_distributed_5_loss: 0.3212 - val_time_distributed_6_loss: 0.3718 - val_time_distributed_7_loss: 0.1413 - val_time_distributed_8_loss: 0.1369 - val_time_distributed_9_loss: 0.0875 - val_time_distributed_10_loss: 0.0176 - val_time_distributed_11_loss: 0.0328 - val_time_distributed_1_acc: 0.8788 - val_time_distributed_2_acc: 0.9032 - val_time_distributed_3_acc: 0.9673 - val_time_distributed_4_acc: 0.8644 - val_time_distributed_5_acc: 0.8708 - val_time_distributed_6_acc: 0.8404 - val_time_distributed_7_acc: 0.9509 - val_time_distributed_8_acc: 0.9557 - val_time_distributed_9_acc: 0.9711 - val_time_distributed_10_acc: 0.9972 - val_time_distributed_11_acc: 0.9943\n",
            "Epoch 46/100\n",
            "6781/6781 [==============================] - 2s 324us/step - loss: 2.1754 - time_distributed_1_loss: 0.4224 - time_distributed_2_loss: 0.2182 - time_distributed_3_loss: 0.0945 - time_distributed_4_loss: 0.3870 - time_distributed_5_loss: 0.3127 - time_distributed_6_loss: 0.3629 - time_distributed_7_loss: 0.1272 - time_distributed_8_loss: 0.1273 - time_distributed_9_loss: 0.0767 - time_distributed_10_loss: 0.0152 - time_distributed_11_loss: 0.0312 - time_distributed_1_acc: 0.8808 - time_distributed_2_acc: 0.9043 - time_distributed_3_acc: 0.9694 - time_distributed_4_acc: 0.8672 - time_distributed_5_acc: 0.8755 - time_distributed_6_acc: 0.8462 - time_distributed_7_acc: 0.9548 - time_distributed_8_acc: 0.9583 - time_distributed_9_acc: 0.9745 - time_distributed_10_acc: 0.9977 - time_distributed_11_acc: 0.9943 - val_loss: 2.2391 - val_time_distributed_1_loss: 0.4276 - val_time_distributed_2_loss: 0.2208 - val_time_distributed_3_loss: 0.0996 - val_time_distributed_4_loss: 0.3888 - val_time_distributed_5_loss: 0.3190 - val_time_distributed_6_loss: 0.3690 - val_time_distributed_7_loss: 0.1406 - val_time_distributed_8_loss: 0.1362 - val_time_distributed_9_loss: 0.0873 - val_time_distributed_10_loss: 0.0176 - val_time_distributed_11_loss: 0.0326 - val_time_distributed_1_acc: 0.8822 - val_time_distributed_2_acc: 0.9043 - val_time_distributed_3_acc: 0.9682 - val_time_distributed_4_acc: 0.8656 - val_time_distributed_5_acc: 0.8714 - val_time_distributed_6_acc: 0.8426 - val_time_distributed_7_acc: 0.9505 - val_time_distributed_8_acc: 0.9561 - val_time_distributed_9_acc: 0.9715 - val_time_distributed_10_acc: 0.9972 - val_time_distributed_11_acc: 0.9943\n",
            "Epoch 47/100\n",
            "6781/6781 [==============================] - 2s 327us/step - loss: 2.1496 - time_distributed_1_loss: 0.4149 - time_distributed_2_loss: 0.2160 - time_distributed_3_loss: 0.0925 - time_distributed_4_loss: 0.3824 - time_distributed_5_loss: 0.3102 - time_distributed_6_loss: 0.3601 - time_distributed_7_loss: 0.1256 - time_distributed_8_loss: 0.1260 - time_distributed_9_loss: 0.0758 - time_distributed_10_loss: 0.0151 - time_distributed_11_loss: 0.0310 - time_distributed_1_acc: 0.8840 - time_distributed_2_acc: 0.9047 - time_distributed_3_acc: 0.9706 - time_distributed_4_acc: 0.8689 - time_distributed_5_acc: 0.8762 - time_distributed_6_acc: 0.8473 - time_distributed_7_acc: 0.9552 - time_distributed_8_acc: 0.9583 - time_distributed_9_acc: 0.9749 - time_distributed_10_acc: 0.9977 - time_distributed_11_acc: 0.9943 - val_loss: 2.2264 - val_time_distributed_1_loss: 0.4224 - val_time_distributed_2_loss: 0.2205 - val_time_distributed_3_loss: 0.0978 - val_time_distributed_4_loss: 0.3860 - val_time_distributed_5_loss: 0.3169 - val_time_distributed_6_loss: 0.3680 - val_time_distributed_7_loss: 0.1410 - val_time_distributed_8_loss: 0.1362 - val_time_distributed_9_loss: 0.0876 - val_time_distributed_10_loss: 0.0174 - val_time_distributed_11_loss: 0.0325 - val_time_distributed_1_acc: 0.8835 - val_time_distributed_2_acc: 0.9041 - val_time_distributed_3_acc: 0.9705 - val_time_distributed_4_acc: 0.8661 - val_time_distributed_5_acc: 0.8729 - val_time_distributed_6_acc: 0.8452 - val_time_distributed_7_acc: 0.9504 - val_time_distributed_8_acc: 0.9561 - val_time_distributed_9_acc: 0.9712 - val_time_distributed_10_acc: 0.9972 - val_time_distributed_11_acc: 0.9943\n",
            "Epoch 48/100\n",
            "6781/6781 [==============================] - 2s 325us/step - loss: 2.1255 - time_distributed_1_loss: 0.4080 - time_distributed_2_loss: 0.2146 - time_distributed_3_loss: 0.0905 - time_distributed_4_loss: 0.3775 - time_distributed_5_loss: 0.3075 - time_distributed_6_loss: 0.3572 - time_distributed_7_loss: 0.1244 - time_distributed_8_loss: 0.1250 - time_distributed_9_loss: 0.0750 - time_distributed_10_loss: 0.0150 - time_distributed_11_loss: 0.0308 - time_distributed_1_acc: 0.8873 - time_distributed_2_acc: 0.9057 - time_distributed_3_acc: 0.9727 - time_distributed_4_acc: 0.8695 - time_distributed_5_acc: 0.8777 - time_distributed_6_acc: 0.8491 - time_distributed_7_acc: 0.9560 - time_distributed_8_acc: 0.9588 - time_distributed_9_acc: 0.9752 - time_distributed_10_acc: 0.9977 - time_distributed_11_acc: 0.9943 - val_loss: 2.2025 - val_time_distributed_1_loss: 0.4165 - val_time_distributed_2_loss: 0.2182 - val_time_distributed_3_loss: 0.0964 - val_time_distributed_4_loss: 0.3808 - val_time_distributed_5_loss: 0.3144 - val_time_distributed_6_loss: 0.3648 - val_time_distributed_7_loss: 0.1396 - val_time_distributed_8_loss: 0.1351 - val_time_distributed_9_loss: 0.0871 - val_time_distributed_10_loss: 0.0173 - val_time_distributed_11_loss: 0.0323 - val_time_distributed_1_acc: 0.8869 - val_time_distributed_2_acc: 0.9048 - val_time_distributed_3_acc: 0.9710 - val_time_distributed_4_acc: 0.8671 - val_time_distributed_5_acc: 0.8730 - val_time_distributed_6_acc: 0.8452 - val_time_distributed_7_acc: 0.9506 - val_time_distributed_8_acc: 0.9562 - val_time_distributed_9_acc: 0.9716 - val_time_distributed_10_acc: 0.9972 - val_time_distributed_11_acc: 0.9943\n",
            "Epoch 49/100\n",
            "6781/6781 [==============================] - 2s 324us/step - loss: 2.1024 - time_distributed_1_loss: 0.4018 - time_distributed_2_loss: 0.2125 - time_distributed_3_loss: 0.0888 - time_distributed_4_loss: 0.3729 - time_distributed_5_loss: 0.3053 - time_distributed_6_loss: 0.3547 - time_distributed_7_loss: 0.1229 - time_distributed_8_loss: 0.1238 - time_distributed_9_loss: 0.0741 - time_distributed_10_loss: 0.0149 - time_distributed_11_loss: 0.0306 - time_distributed_1_acc: 0.8896 - time_distributed_2_acc: 0.9068 - time_distributed_3_acc: 0.9730 - time_distributed_4_acc: 0.8719 - time_distributed_5_acc: 0.8780 - time_distributed_6_acc: 0.8504 - time_distributed_7_acc: 0.9562 - time_distributed_8_acc: 0.9595 - time_distributed_9_acc: 0.9756 - time_distributed_10_acc: 0.9977 - time_distributed_11_acc: 0.9943 - val_loss: 2.1857 - val_time_distributed_1_loss: 0.4113 - val_time_distributed_2_loss: 0.2179 - val_time_distributed_3_loss: 0.0950 - val_time_distributed_4_loss: 0.3779 - val_time_distributed_5_loss: 0.3120 - val_time_distributed_6_loss: 0.3623 - val_time_distributed_7_loss: 0.1389 - val_time_distributed_8_loss: 0.1345 - val_time_distributed_9_loss: 0.0866 - val_time_distributed_10_loss: 0.0171 - val_time_distributed_11_loss: 0.0321 - val_time_distributed_1_acc: 0.8881 - val_time_distributed_2_acc: 0.9051 - val_time_distributed_3_acc: 0.9718 - val_time_distributed_4_acc: 0.8680 - val_time_distributed_5_acc: 0.8735 - val_time_distributed_6_acc: 0.8475 - val_time_distributed_7_acc: 0.9508 - val_time_distributed_8_acc: 0.9567 - val_time_distributed_9_acc: 0.9712 - val_time_distributed_10_acc: 0.9972 - val_time_distributed_11_acc: 0.9943\n",
            "Epoch 50/100\n",
            "6781/6781 [==============================] - 2s 324us/step - loss: 2.0806 - time_distributed_1_loss: 0.3954 - time_distributed_2_loss: 0.2108 - time_distributed_3_loss: 0.0874 - time_distributed_4_loss: 0.3690 - time_distributed_5_loss: 0.3025 - time_distributed_6_loss: 0.3519 - time_distributed_7_loss: 0.1219 - time_distributed_8_loss: 0.1229 - time_distributed_9_loss: 0.0735 - time_distributed_10_loss: 0.0148 - time_distributed_11_loss: 0.0305 - time_distributed_1_acc: 0.8917 - time_distributed_2_acc: 0.9075 - time_distributed_3_acc: 0.9741 - time_distributed_4_acc: 0.8723 - time_distributed_5_acc: 0.8790 - time_distributed_6_acc: 0.8512 - time_distributed_7_acc: 0.9566 - time_distributed_8_acc: 0.9597 - time_distributed_9_acc: 0.9758 - time_distributed_10_acc: 0.9977 - time_distributed_11_acc: 0.9943 - val_loss: 2.1705 - val_time_distributed_1_loss: 0.4066 - val_time_distributed_2_loss: 0.2166 - val_time_distributed_3_loss: 0.0937 - val_time_distributed_4_loss: 0.3747 - val_time_distributed_5_loss: 0.3101 - val_time_distributed_6_loss: 0.3602 - val_time_distributed_7_loss: 0.1387 - val_time_distributed_8_loss: 0.1342 - val_time_distributed_9_loss: 0.0868 - val_time_distributed_10_loss: 0.0170 - val_time_distributed_11_loss: 0.0319 - val_time_distributed_1_acc: 0.8899 - val_time_distributed_2_acc: 0.9058 - val_time_distributed_3_acc: 0.9733 - val_time_distributed_4_acc: 0.8686 - val_time_distributed_5_acc: 0.8747 - val_time_distributed_6_acc: 0.8466 - val_time_distributed_7_acc: 0.9508 - val_time_distributed_8_acc: 0.9572 - val_time_distributed_9_acc: 0.9709 - val_time_distributed_10_acc: 0.9972 - val_time_distributed_11_acc: 0.9943\n",
            "Epoch 51/100\n",
            "6781/6781 [==============================] - 2s 322us/step - loss: 2.0594 - time_distributed_1_loss: 0.3902 - time_distributed_2_loss: 0.2094 - time_distributed_3_loss: 0.0860 - time_distributed_4_loss: 0.3647 - time_distributed_5_loss: 0.2999 - time_distributed_6_loss: 0.3488 - time_distributed_7_loss: 0.1208 - time_distributed_8_loss: 0.1220 - time_distributed_9_loss: 0.0728 - time_distributed_10_loss: 0.0147 - time_distributed_11_loss: 0.0303 - time_distributed_1_acc: 0.8939 - time_distributed_2_acc: 0.9083 - time_distributed_3_acc: 0.9754 - time_distributed_4_acc: 0.8735 - time_distributed_5_acc: 0.8804 - time_distributed_6_acc: 0.8529 - time_distributed_7_acc: 0.9568 - time_distributed_8_acc: 0.9600 - time_distributed_9_acc: 0.9759 - time_distributed_10_acc: 0.9977 - time_distributed_11_acc: 0.9943 - val_loss: 2.1606 - val_time_distributed_1_loss: 0.4031 - val_time_distributed_2_loss: 0.2155 - val_time_distributed_3_loss: 0.0925 - val_time_distributed_4_loss: 0.3731 - val_time_distributed_5_loss: 0.3077 - val_time_distributed_6_loss: 0.3584 - val_time_distributed_7_loss: 0.1394 - val_time_distributed_8_loss: 0.1347 - val_time_distributed_9_loss: 0.0874 - val_time_distributed_10_loss: 0.0170 - val_time_distributed_11_loss: 0.0318 - val_time_distributed_1_acc: 0.8909 - val_time_distributed_2_acc: 0.9055 - val_time_distributed_3_acc: 0.9744 - val_time_distributed_4_acc: 0.8695 - val_time_distributed_5_acc: 0.8755 - val_time_distributed_6_acc: 0.8482 - val_time_distributed_7_acc: 0.9504 - val_time_distributed_8_acc: 0.9577 - val_time_distributed_9_acc: 0.9711 - val_time_distributed_10_acc: 0.9972 - val_time_distributed_11_acc: 0.9943\n",
            "Epoch 52/100\n",
            "6781/6781 [==============================] - 2s 320us/step - loss: 2.0398 - time_distributed_1_loss: 0.3849 - time_distributed_2_loss: 0.2078 - time_distributed_3_loss: 0.0847 - time_distributed_4_loss: 0.3610 - time_distributed_5_loss: 0.2973 - time_distributed_6_loss: 0.3463 - time_distributed_7_loss: 0.1198 - time_distributed_8_loss: 0.1211 - time_distributed_9_loss: 0.0722 - time_distributed_10_loss: 0.0145 - time_distributed_11_loss: 0.0301 - time_distributed_1_acc: 0.8958 - time_distributed_2_acc: 0.9089 - time_distributed_3_acc: 0.9766 - time_distributed_4_acc: 0.8744 - time_distributed_5_acc: 0.8813 - time_distributed_6_acc: 0.8545 - time_distributed_7_acc: 0.9573 - time_distributed_8_acc: 0.9601 - time_distributed_9_acc: 0.9762 - time_distributed_10_acc: 0.9977 - time_distributed_11_acc: 0.9943 - val_loss: 2.1437 - val_time_distributed_1_loss: 0.3989 - val_time_distributed_2_loss: 0.2140 - val_time_distributed_3_loss: 0.0916 - val_time_distributed_4_loss: 0.3692 - val_time_distributed_5_loss: 0.3060 - val_time_distributed_6_loss: 0.3560 - val_time_distributed_7_loss: 0.1386 - val_time_distributed_8_loss: 0.1339 - val_time_distributed_9_loss: 0.0871 - val_time_distributed_10_loss: 0.0168 - val_time_distributed_11_loss: 0.0316 - val_time_distributed_1_acc: 0.8929 - val_time_distributed_2_acc: 0.9070 - val_time_distributed_3_acc: 0.9753 - val_time_distributed_4_acc: 0.8699 - val_time_distributed_5_acc: 0.8756 - val_time_distributed_6_acc: 0.8490 - val_time_distributed_7_acc: 0.9516 - val_time_distributed_8_acc: 0.9581 - val_time_distributed_9_acc: 0.9707 - val_time_distributed_10_acc: 0.9972 - val_time_distributed_11_acc: 0.9943\n",
            "Epoch 53/100\n",
            "6781/6781 [==============================] - 2s 322us/step - loss: 2.0203 - time_distributed_1_loss: 0.3799 - time_distributed_2_loss: 0.2062 - time_distributed_3_loss: 0.0835 - time_distributed_4_loss: 0.3573 - time_distributed_5_loss: 0.2948 - time_distributed_6_loss: 0.3435 - time_distributed_7_loss: 0.1188 - time_distributed_8_loss: 0.1202 - time_distributed_9_loss: 0.0717 - time_distributed_10_loss: 0.0144 - time_distributed_11_loss: 0.0299 - time_distributed_1_acc: 0.8970 - time_distributed_2_acc: 0.9092 - time_distributed_3_acc: 0.9775 - time_distributed_4_acc: 0.8758 - time_distributed_5_acc: 0.8823 - time_distributed_6_acc: 0.8557 - time_distributed_7_acc: 0.9580 - time_distributed_8_acc: 0.9605 - time_distributed_9_acc: 0.9762 - time_distributed_10_acc: 0.9977 - time_distributed_11_acc: 0.9943 - val_loss: 2.1293 - val_time_distributed_1_loss: 0.3950 - val_time_distributed_2_loss: 0.2136 - val_time_distributed_3_loss: 0.0905 - val_time_distributed_4_loss: 0.3665 - val_time_distributed_5_loss: 0.3035 - val_time_distributed_6_loss: 0.3541 - val_time_distributed_7_loss: 0.1378 - val_time_distributed_8_loss: 0.1335 - val_time_distributed_9_loss: 0.0867 - val_time_distributed_10_loss: 0.0166 - val_time_distributed_11_loss: 0.0314 - val_time_distributed_1_acc: 0.8941 - val_time_distributed_2_acc: 0.9077 - val_time_distributed_3_acc: 0.9758 - val_time_distributed_4_acc: 0.8706 - val_time_distributed_5_acc: 0.8771 - val_time_distributed_6_acc: 0.8517 - val_time_distributed_7_acc: 0.9513 - val_time_distributed_8_acc: 0.9581 - val_time_distributed_9_acc: 0.9711 - val_time_distributed_10_acc: 0.9972 - val_time_distributed_11_acc: 0.9943\n",
            "Epoch 54/100\n",
            "6781/6781 [==============================] - 2s 326us/step - loss: 2.0020 - time_distributed_1_loss: 0.3753 - time_distributed_2_loss: 0.2049 - time_distributed_3_loss: 0.0823 - time_distributed_4_loss: 0.3542 - time_distributed_5_loss: 0.2922 - time_distributed_6_loss: 0.3409 - time_distributed_7_loss: 0.1179 - time_distributed_8_loss: 0.1193 - time_distributed_9_loss: 0.0710 - time_distributed_10_loss: 0.0143 - time_distributed_11_loss: 0.0297 - time_distributed_1_acc: 0.8986 - time_distributed_2_acc: 0.9100 - time_distributed_3_acc: 0.9778 - time_distributed_4_acc: 0.8766 - time_distributed_5_acc: 0.8833 - time_distributed_6_acc: 0.8573 - time_distributed_7_acc: 0.9581 - time_distributed_8_acc: 0.9607 - time_distributed_9_acc: 0.9765 - time_distributed_10_acc: 0.9977 - time_distributed_11_acc: 0.9943 - val_loss: 2.1207 - val_time_distributed_1_loss: 0.3922 - val_time_distributed_2_loss: 0.2126 - val_time_distributed_3_loss: 0.0897 - val_time_distributed_4_loss: 0.3652 - val_time_distributed_5_loss: 0.3015 - val_time_distributed_6_loss: 0.3523 - val_time_distributed_7_loss: 0.1382 - val_time_distributed_8_loss: 0.1339 - val_time_distributed_9_loss: 0.0873 - val_time_distributed_10_loss: 0.0166 - val_time_distributed_11_loss: 0.0313 - val_time_distributed_1_acc: 0.8955 - val_time_distributed_2_acc: 0.9075 - val_time_distributed_3_acc: 0.9760 - val_time_distributed_4_acc: 0.8706 - val_time_distributed_5_acc: 0.8789 - val_time_distributed_6_acc: 0.8520 - val_time_distributed_7_acc: 0.9512 - val_time_distributed_8_acc: 0.9580 - val_time_distributed_9_acc: 0.9710 - val_time_distributed_10_acc: 0.9972 - val_time_distributed_11_acc: 0.9943\n",
            "Epoch 55/100\n",
            "6781/6781 [==============================] - 2s 322us/step - loss: 1.9839 - time_distributed_1_loss: 0.3709 - time_distributed_2_loss: 0.2034 - time_distributed_3_loss: 0.0813 - time_distributed_4_loss: 0.3507 - time_distributed_5_loss: 0.2895 - time_distributed_6_loss: 0.3384 - time_distributed_7_loss: 0.1169 - time_distributed_8_loss: 0.1186 - time_distributed_9_loss: 0.0705 - time_distributed_10_loss: 0.0142 - time_distributed_11_loss: 0.0295 - time_distributed_1_acc: 0.9011 - time_distributed_2_acc: 0.9107 - time_distributed_3_acc: 0.9782 - time_distributed_4_acc: 0.8784 - time_distributed_5_acc: 0.8855 - time_distributed_6_acc: 0.8584 - time_distributed_7_acc: 0.9584 - time_distributed_8_acc: 0.9610 - time_distributed_9_acc: 0.9765 - time_distributed_10_acc: 0.9977 - time_distributed_11_acc: 0.9943 - val_loss: 2.1081 - val_time_distributed_1_loss: 0.3888 - val_time_distributed_2_loss: 0.2121 - val_time_distributed_3_loss: 0.0889 - val_time_distributed_4_loss: 0.3624 - val_time_distributed_5_loss: 0.3002 - val_time_distributed_6_loss: 0.3506 - val_time_distributed_7_loss: 0.1376 - val_time_distributed_8_loss: 0.1333 - val_time_distributed_9_loss: 0.0868 - val_time_distributed_10_loss: 0.0164 - val_time_distributed_11_loss: 0.0310 - val_time_distributed_1_acc: 0.8974 - val_time_distributed_2_acc: 0.9078 - val_time_distributed_3_acc: 0.9766 - val_time_distributed_4_acc: 0.8709 - val_time_distributed_5_acc: 0.8788 - val_time_distributed_6_acc: 0.8511 - val_time_distributed_7_acc: 0.9511 - val_time_distributed_8_acc: 0.9584 - val_time_distributed_9_acc: 0.9708 - val_time_distributed_10_acc: 0.9972 - val_time_distributed_11_acc: 0.9943\n",
            "Epoch 56/100\n",
            "6781/6781 [==============================] - 2s 328us/step - loss: 1.9678 - time_distributed_1_loss: 0.3668 - time_distributed_2_loss: 0.2025 - time_distributed_3_loss: 0.0802 - time_distributed_4_loss: 0.3476 - time_distributed_5_loss: 0.2875 - time_distributed_6_loss: 0.3359 - time_distributed_7_loss: 0.1163 - time_distributed_8_loss: 0.1177 - time_distributed_9_loss: 0.0699 - time_distributed_10_loss: 0.0141 - time_distributed_11_loss: 0.0293 - time_distributed_1_acc: 0.9021 - time_distributed_2_acc: 0.9115 - time_distributed_3_acc: 0.9784 - time_distributed_4_acc: 0.8789 - time_distributed_5_acc: 0.8859 - time_distributed_6_acc: 0.8597 - time_distributed_7_acc: 0.9586 - time_distributed_8_acc: 0.9610 - time_distributed_9_acc: 0.9766 - time_distributed_10_acc: 0.9977 - time_distributed_11_acc: 0.9943 - val_loss: 2.1008 - val_time_distributed_1_loss: 0.3876 - val_time_distributed_2_loss: 0.2114 - val_time_distributed_3_loss: 0.0884 - val_time_distributed_4_loss: 0.3599 - val_time_distributed_5_loss: 0.2982 - val_time_distributed_6_loss: 0.3490 - val_time_distributed_7_loss: 0.1382 - val_time_distributed_8_loss: 0.1334 - val_time_distributed_9_loss: 0.0874 - val_time_distributed_10_loss: 0.0163 - val_time_distributed_11_loss: 0.0308 - val_time_distributed_1_acc: 0.8978 - val_time_distributed_2_acc: 0.9083 - val_time_distributed_3_acc: 0.9769 - val_time_distributed_4_acc: 0.8732 - val_time_distributed_5_acc: 0.8803 - val_time_distributed_6_acc: 0.8540 - val_time_distributed_7_acc: 0.9518 - val_time_distributed_8_acc: 0.9587 - val_time_distributed_9_acc: 0.9712 - val_time_distributed_10_acc: 0.9972 - val_time_distributed_11_acc: 0.9943\n",
            "Epoch 57/100\n",
            "6781/6781 [==============================] - 2s 324us/step - loss: 1.9545 - time_distributed_1_loss: 0.3638 - time_distributed_2_loss: 0.2017 - time_distributed_3_loss: 0.0793 - time_distributed_4_loss: 0.3448 - time_distributed_5_loss: 0.2851 - time_distributed_6_loss: 0.3339 - time_distributed_7_loss: 0.1157 - time_distributed_8_loss: 0.1173 - time_distributed_9_loss: 0.0697 - time_distributed_10_loss: 0.0140 - time_distributed_11_loss: 0.0292 - time_distributed_1_acc: 0.9028 - time_distributed_2_acc: 0.9115 - time_distributed_3_acc: 0.9786 - time_distributed_4_acc: 0.8795 - time_distributed_5_acc: 0.8879 - time_distributed_6_acc: 0.8603 - time_distributed_7_acc: 0.9590 - time_distributed_8_acc: 0.9614 - time_distributed_9_acc: 0.9770 - time_distributed_10_acc: 0.9977 - time_distributed_11_acc: 0.9943 - val_loss: 2.0874 - val_time_distributed_1_loss: 0.3838 - val_time_distributed_2_loss: 0.2110 - val_time_distributed_3_loss: 0.0875 - val_time_distributed_4_loss: 0.3584 - val_time_distributed_5_loss: 0.2956 - val_time_distributed_6_loss: 0.3468 - val_time_distributed_7_loss: 0.1372 - val_time_distributed_8_loss: 0.1331 - val_time_distributed_9_loss: 0.0871 - val_time_distributed_10_loss: 0.0162 - val_time_distributed_11_loss: 0.0307 - val_time_distributed_1_acc: 0.8988 - val_time_distributed_2_acc: 0.9088 - val_time_distributed_3_acc: 0.9773 - val_time_distributed_4_acc: 0.8721 - val_time_distributed_5_acc: 0.8814 - val_time_distributed_6_acc: 0.8531 - val_time_distributed_7_acc: 0.9515 - val_time_distributed_8_acc: 0.9584 - val_time_distributed_9_acc: 0.9710 - val_time_distributed_10_acc: 0.9972 - val_time_distributed_11_acc: 0.9943\n",
            "Epoch 58/100\n",
            "6781/6781 [==============================] - 2s 322us/step - loss: 1.9374 - time_distributed_1_loss: 0.3597 - time_distributed_2_loss: 0.2004 - time_distributed_3_loss: 0.0785 - time_distributed_4_loss: 0.3417 - time_distributed_5_loss: 0.2823 - time_distributed_6_loss: 0.3312 - time_distributed_7_loss: 0.1151 - time_distributed_8_loss: 0.1167 - time_distributed_9_loss: 0.0692 - time_distributed_10_loss: 0.0138 - time_distributed_11_loss: 0.0290 - time_distributed_1_acc: 0.9036 - time_distributed_2_acc: 0.9127 - time_distributed_3_acc: 0.9788 - time_distributed_4_acc: 0.8807 - time_distributed_5_acc: 0.8889 - time_distributed_6_acc: 0.8615 - time_distributed_7_acc: 0.9589 - time_distributed_8_acc: 0.9613 - time_distributed_9_acc: 0.9771 - time_distributed_10_acc: 0.9977 - time_distributed_11_acc: 0.9943 - val_loss: 2.0783 - val_time_distributed_1_loss: 0.3819 - val_time_distributed_2_loss: 0.2104 - val_time_distributed_3_loss: 0.0870 - val_time_distributed_4_loss: 0.3563 - val_time_distributed_5_loss: 0.2934 - val_time_distributed_6_loss: 0.3447 - val_time_distributed_7_loss: 0.1376 - val_time_distributed_8_loss: 0.1330 - val_time_distributed_9_loss: 0.0873 - val_time_distributed_10_loss: 0.0161 - val_time_distributed_11_loss: 0.0305 - val_time_distributed_1_acc: 0.8998 - val_time_distributed_2_acc: 0.9087 - val_time_distributed_3_acc: 0.9776 - val_time_distributed_4_acc: 0.8738 - val_time_distributed_5_acc: 0.8832 - val_time_distributed_6_acc: 0.8562 - val_time_distributed_7_acc: 0.9519 - val_time_distributed_8_acc: 0.9585 - val_time_distributed_9_acc: 0.9710 - val_time_distributed_10_acc: 0.9972 - val_time_distributed_11_acc: 0.9943\n",
            "Epoch 59/100\n",
            "6781/6781 [==============================] - 2s 324us/step - loss: 1.9219 - time_distributed_1_loss: 0.3562 - time_distributed_2_loss: 0.1992 - time_distributed_3_loss: 0.0777 - time_distributed_4_loss: 0.3389 - time_distributed_5_loss: 0.2797 - time_distributed_6_loss: 0.3283 - time_distributed_7_loss: 0.1145 - time_distributed_8_loss: 0.1159 - time_distributed_9_loss: 0.0689 - time_distributed_10_loss: 0.0137 - time_distributed_11_loss: 0.0288 - time_distributed_1_acc: 0.9050 - time_distributed_2_acc: 0.9127 - time_distributed_3_acc: 0.9789 - time_distributed_4_acc: 0.8818 - time_distributed_5_acc: 0.8907 - time_distributed_6_acc: 0.8628 - time_distributed_7_acc: 0.9589 - time_distributed_8_acc: 0.9617 - time_distributed_9_acc: 0.9771 - time_distributed_10_acc: 0.9977 - time_distributed_11_acc: 0.9943 - val_loss: 2.0722 - val_time_distributed_1_loss: 0.3799 - val_time_distributed_2_loss: 0.2106 - val_time_distributed_3_loss: 0.0865 - val_time_distributed_4_loss: 0.3558 - val_time_distributed_5_loss: 0.2919 - val_time_distributed_6_loss: 0.3440 - val_time_distributed_7_loss: 0.1372 - val_time_distributed_8_loss: 0.1327 - val_time_distributed_9_loss: 0.0871 - val_time_distributed_10_loss: 0.0160 - val_time_distributed_11_loss: 0.0304 - val_time_distributed_1_acc: 0.9002 - val_time_distributed_2_acc: 0.9087 - val_time_distributed_3_acc: 0.9776 - val_time_distributed_4_acc: 0.8749 - val_time_distributed_5_acc: 0.8829 - val_time_distributed_6_acc: 0.8554 - val_time_distributed_7_acc: 0.9518 - val_time_distributed_8_acc: 0.9591 - val_time_distributed_9_acc: 0.9712 - val_time_distributed_10_acc: 0.9972 - val_time_distributed_11_acc: 0.9943\n",
            "Epoch 60/100\n",
            "6781/6781 [==============================] - 2s 322us/step - loss: 1.9079 - time_distributed_1_loss: 0.3529 - time_distributed_2_loss: 0.1981 - time_distributed_3_loss: 0.0768 - time_distributed_4_loss: 0.3366 - time_distributed_5_loss: 0.2774 - time_distributed_6_loss: 0.3262 - time_distributed_7_loss: 0.1139 - time_distributed_8_loss: 0.1152 - time_distributed_9_loss: 0.0684 - time_distributed_10_loss: 0.0136 - time_distributed_11_loss: 0.0287 - time_distributed_1_acc: 0.9054 - time_distributed_2_acc: 0.9137 - time_distributed_3_acc: 0.9791 - time_distributed_4_acc: 0.8822 - time_distributed_5_acc: 0.8923 - time_distributed_6_acc: 0.8632 - time_distributed_7_acc: 0.9592 - time_distributed_8_acc: 0.9622 - time_distributed_9_acc: 0.9771 - time_distributed_10_acc: 0.9977 - time_distributed_11_acc: 0.9943 - val_loss: 2.0624 - val_time_distributed_1_loss: 0.3774 - val_time_distributed_2_loss: 0.2092 - val_time_distributed_3_loss: 0.0858 - val_time_distributed_4_loss: 0.3538 - val_time_distributed_5_loss: 0.2906 - val_time_distributed_6_loss: 0.3429 - val_time_distributed_7_loss: 0.1370 - val_time_distributed_8_loss: 0.1325 - val_time_distributed_9_loss: 0.0872 - val_time_distributed_10_loss: 0.0159 - val_time_distributed_11_loss: 0.0303 - val_time_distributed_1_acc: 0.9006 - val_time_distributed_2_acc: 0.9093 - val_time_distributed_3_acc: 0.9777 - val_time_distributed_4_acc: 0.8752 - val_time_distributed_5_acc: 0.8853 - val_time_distributed_6_acc: 0.8559 - val_time_distributed_7_acc: 0.9519 - val_time_distributed_8_acc: 0.9592 - val_time_distributed_9_acc: 0.9710 - val_time_distributed_10_acc: 0.9972 - val_time_distributed_11_acc: 0.9943\n",
            "Epoch 61/100\n",
            "6781/6781 [==============================] - 2s 325us/step - loss: 1.8933 - time_distributed_1_loss: 0.3500 - time_distributed_2_loss: 0.1970 - time_distributed_3_loss: 0.0760 - time_distributed_4_loss: 0.3338 - time_distributed_5_loss: 0.2751 - time_distributed_6_loss: 0.3240 - time_distributed_7_loss: 0.1130 - time_distributed_8_loss: 0.1145 - time_distributed_9_loss: 0.0679 - time_distributed_10_loss: 0.0135 - time_distributed_11_loss: 0.0285 - time_distributed_1_acc: 0.9062 - time_distributed_2_acc: 0.9146 - time_distributed_3_acc: 0.9792 - time_distributed_4_acc: 0.8839 - time_distributed_5_acc: 0.8942 - time_distributed_6_acc: 0.8645 - time_distributed_7_acc: 0.9592 - time_distributed_8_acc: 0.9623 - time_distributed_9_acc: 0.9773 - time_distributed_10_acc: 0.9977 - time_distributed_11_acc: 0.9943 - val_loss: 2.0556 - val_time_distributed_1_loss: 0.3754 - val_time_distributed_2_loss: 0.2094 - val_time_distributed_3_loss: 0.0854 - val_time_distributed_4_loss: 0.3532 - val_time_distributed_5_loss: 0.2886 - val_time_distributed_6_loss: 0.3415 - val_time_distributed_7_loss: 0.1368 - val_time_distributed_8_loss: 0.1324 - val_time_distributed_9_loss: 0.0871 - val_time_distributed_10_loss: 0.0158 - val_time_distributed_11_loss: 0.0301 - val_time_distributed_1_acc: 0.9013 - val_time_distributed_2_acc: 0.9085 - val_time_distributed_3_acc: 0.9778 - val_time_distributed_4_acc: 0.8750 - val_time_distributed_5_acc: 0.8878 - val_time_distributed_6_acc: 0.8570 - val_time_distributed_7_acc: 0.9520 - val_time_distributed_8_acc: 0.9589 - val_time_distributed_9_acc: 0.9715 - val_time_distributed_10_acc: 0.9972 - val_time_distributed_11_acc: 0.9943\n",
            "Epoch 62/100\n",
            "6781/6781 [==============================] - 2s 322us/step - loss: 1.8805 - time_distributed_1_loss: 0.3469 - time_distributed_2_loss: 0.1959 - time_distributed_3_loss: 0.0754 - time_distributed_4_loss: 0.3315 - time_distributed_5_loss: 0.2728 - time_distributed_6_loss: 0.3221 - time_distributed_7_loss: 0.1125 - time_distributed_8_loss: 0.1141 - time_distributed_9_loss: 0.0677 - time_distributed_10_loss: 0.0134 - time_distributed_11_loss: 0.0283 - time_distributed_1_acc: 0.9067 - time_distributed_2_acc: 0.9153 - time_distributed_3_acc: 0.9794 - time_distributed_4_acc: 0.8845 - time_distributed_5_acc: 0.8957 - time_distributed_6_acc: 0.8656 - time_distributed_7_acc: 0.9593 - time_distributed_8_acc: 0.9625 - time_distributed_9_acc: 0.9774 - time_distributed_10_acc: 0.9977 - time_distributed_11_acc: 0.9943 - val_loss: 2.0463 - val_time_distributed_1_loss: 0.3736 - val_time_distributed_2_loss: 0.2084 - val_time_distributed_3_loss: 0.0850 - val_time_distributed_4_loss: 0.3509 - val_time_distributed_5_loss: 0.2866 - val_time_distributed_6_loss: 0.3402 - val_time_distributed_7_loss: 0.1368 - val_time_distributed_8_loss: 0.1321 - val_time_distributed_9_loss: 0.0871 - val_time_distributed_10_loss: 0.0156 - val_time_distributed_11_loss: 0.0299 - val_time_distributed_1_acc: 0.9014 - val_time_distributed_2_acc: 0.9100 - val_time_distributed_3_acc: 0.9775 - val_time_distributed_4_acc: 0.8763 - val_time_distributed_5_acc: 0.8874 - val_time_distributed_6_acc: 0.8573 - val_time_distributed_7_acc: 0.9520 - val_time_distributed_8_acc: 0.9594 - val_time_distributed_9_acc: 0.9713 - val_time_distributed_10_acc: 0.9972 - val_time_distributed_11_acc: 0.9943\n",
            "Epoch 63/100\n",
            "6781/6781 [==============================] - 2s 326us/step - loss: 1.8676 - time_distributed_1_loss: 0.3440 - time_distributed_2_loss: 0.1949 - time_distributed_3_loss: 0.0748 - time_distributed_4_loss: 0.3289 - time_distributed_5_loss: 0.2707 - time_distributed_6_loss: 0.3202 - time_distributed_7_loss: 0.1120 - time_distributed_8_loss: 0.1134 - time_distributed_9_loss: 0.0673 - time_distributed_10_loss: 0.0133 - time_distributed_11_loss: 0.0281 - time_distributed_1_acc: 0.9075 - time_distributed_2_acc: 0.9153 - time_distributed_3_acc: 0.9795 - time_distributed_4_acc: 0.8854 - time_distributed_5_acc: 0.8967 - time_distributed_6_acc: 0.8652 - time_distributed_7_acc: 0.9593 - time_distributed_8_acc: 0.9628 - time_distributed_9_acc: 0.9773 - time_distributed_10_acc: 0.9977 - time_distributed_11_acc: 0.9943 - val_loss: 2.0393 - val_time_distributed_1_loss: 0.3719 - val_time_distributed_2_loss: 0.2086 - val_time_distributed_3_loss: 0.0843 - val_time_distributed_4_loss: 0.3501 - val_time_distributed_5_loss: 0.2853 - val_time_distributed_6_loss: 0.3386 - val_time_distributed_7_loss: 0.1365 - val_time_distributed_8_loss: 0.1319 - val_time_distributed_9_loss: 0.0868 - val_time_distributed_10_loss: 0.0155 - val_time_distributed_11_loss: 0.0298 - val_time_distributed_1_acc: 0.9016 - val_time_distributed_2_acc: 0.9107 - val_time_distributed_3_acc: 0.9780 - val_time_distributed_4_acc: 0.8782 - val_time_distributed_5_acc: 0.8893 - val_time_distributed_6_acc: 0.8598 - val_time_distributed_7_acc: 0.9521 - val_time_distributed_8_acc: 0.9597 - val_time_distributed_9_acc: 0.9713 - val_time_distributed_10_acc: 0.9972 - val_time_distributed_11_acc: 0.9943\n",
            "Epoch 64/100\n",
            "6781/6781 [==============================] - 2s 327us/step - loss: 1.8547 - time_distributed_1_loss: 0.3413 - time_distributed_2_loss: 0.1942 - time_distributed_3_loss: 0.0740 - time_distributed_4_loss: 0.3267 - time_distributed_5_loss: 0.2685 - time_distributed_6_loss: 0.3178 - time_distributed_7_loss: 0.1114 - time_distributed_8_loss: 0.1128 - time_distributed_9_loss: 0.0669 - time_distributed_10_loss: 0.0131 - time_distributed_11_loss: 0.0279 - time_distributed_1_acc: 0.9079 - time_distributed_2_acc: 0.9162 - time_distributed_3_acc: 0.9795 - time_distributed_4_acc: 0.8861 - time_distributed_5_acc: 0.8979 - time_distributed_6_acc: 0.8664 - time_distributed_7_acc: 0.9595 - time_distributed_8_acc: 0.9629 - time_distributed_9_acc: 0.9774 - time_distributed_10_acc: 0.9977 - time_distributed_11_acc: 0.9943 - val_loss: 2.0340 - val_time_distributed_1_loss: 0.3709 - val_time_distributed_2_loss: 0.2079 - val_time_distributed_3_loss: 0.0841 - val_time_distributed_4_loss: 0.3482 - val_time_distributed_5_loss: 0.2839 - val_time_distributed_6_loss: 0.3381 - val_time_distributed_7_loss: 0.1367 - val_time_distributed_8_loss: 0.1321 - val_time_distributed_9_loss: 0.0873 - val_time_distributed_10_loss: 0.0154 - val_time_distributed_11_loss: 0.0296 - val_time_distributed_1_acc: 0.9012 - val_time_distributed_2_acc: 0.9094 - val_time_distributed_3_acc: 0.9779 - val_time_distributed_4_acc: 0.8782 - val_time_distributed_5_acc: 0.8900 - val_time_distributed_6_acc: 0.8593 - val_time_distributed_7_acc: 0.9527 - val_time_distributed_8_acc: 0.9597 - val_time_distributed_9_acc: 0.9708 - val_time_distributed_10_acc: 0.9972 - val_time_distributed_11_acc: 0.9943\n",
            "Epoch 65/100\n",
            "6781/6781 [==============================] - 2s 331us/step - loss: 1.8440 - time_distributed_1_loss: 0.3389 - time_distributed_2_loss: 0.1933 - time_distributed_3_loss: 0.0734 - time_distributed_4_loss: 0.3252 - time_distributed_5_loss: 0.2663 - time_distributed_6_loss: 0.3164 - time_distributed_7_loss: 0.1109 - time_distributed_8_loss: 0.1122 - time_distributed_9_loss: 0.0665 - time_distributed_10_loss: 0.0131 - time_distributed_11_loss: 0.0277 - time_distributed_1_acc: 0.9084 - time_distributed_2_acc: 0.9163 - time_distributed_3_acc: 0.9797 - time_distributed_4_acc: 0.8865 - time_distributed_5_acc: 0.8991 - time_distributed_6_acc: 0.8664 - time_distributed_7_acc: 0.9596 - time_distributed_8_acc: 0.9631 - time_distributed_9_acc: 0.9776 - time_distributed_10_acc: 0.9977 - time_distributed_11_acc: 0.9943 - val_loss: 2.0243 - val_time_distributed_1_loss: 0.3686 - val_time_distributed_2_loss: 0.2073 - val_time_distributed_3_loss: 0.0837 - val_time_distributed_4_loss: 0.3472 - val_time_distributed_5_loss: 0.2821 - val_time_distributed_6_loss: 0.3361 - val_time_distributed_7_loss: 0.1362 - val_time_distributed_8_loss: 0.1315 - val_time_distributed_9_loss: 0.0869 - val_time_distributed_10_loss: 0.0153 - val_time_distributed_11_loss: 0.0295 - val_time_distributed_1_acc: 0.9017 - val_time_distributed_2_acc: 0.9111 - val_time_distributed_3_acc: 0.9780 - val_time_distributed_4_acc: 0.8784 - val_time_distributed_5_acc: 0.8910 - val_time_distributed_6_acc: 0.8603 - val_time_distributed_7_acc: 0.9527 - val_time_distributed_8_acc: 0.9600 - val_time_distributed_9_acc: 0.9712 - val_time_distributed_10_acc: 0.9972 - val_time_distributed_11_acc: 0.9943\n",
            "Epoch 66/100\n",
            "6781/6781 [==============================] - 2s 328us/step - loss: 1.8331 - time_distributed_1_loss: 0.3363 - time_distributed_2_loss: 0.1926 - time_distributed_3_loss: 0.0730 - time_distributed_4_loss: 0.3228 - time_distributed_5_loss: 0.2646 - time_distributed_6_loss: 0.3144 - time_distributed_7_loss: 0.1107 - time_distributed_8_loss: 0.1118 - time_distributed_9_loss: 0.0663 - time_distributed_10_loss: 0.0130 - time_distributed_11_loss: 0.0276 - time_distributed_1_acc: 0.9090 - time_distributed_2_acc: 0.9164 - time_distributed_3_acc: 0.9798 - time_distributed_4_acc: 0.8883 - time_distributed_5_acc: 0.9004 - time_distributed_6_acc: 0.8686 - time_distributed_7_acc: 0.9597 - time_distributed_8_acc: 0.9636 - time_distributed_9_acc: 0.9776 - time_distributed_10_acc: 0.9977 - time_distributed_11_acc: 0.9944 - val_loss: 2.0197 - val_time_distributed_1_loss: 0.3674 - val_time_distributed_2_loss: 0.2065 - val_time_distributed_3_loss: 0.0834 - val_time_distributed_4_loss: 0.3460 - val_time_distributed_5_loss: 0.2811 - val_time_distributed_6_loss: 0.3358 - val_time_distributed_7_loss: 0.1362 - val_time_distributed_8_loss: 0.1316 - val_time_distributed_9_loss: 0.0871 - val_time_distributed_10_loss: 0.0152 - val_time_distributed_11_loss: 0.0293 - val_time_distributed_1_acc: 0.9018 - val_time_distributed_2_acc: 0.9117 - val_time_distributed_3_acc: 0.9778 - val_time_distributed_4_acc: 0.8791 - val_time_distributed_5_acc: 0.8924 - val_time_distributed_6_acc: 0.8586 - val_time_distributed_7_acc: 0.9525 - val_time_distributed_8_acc: 0.9597 - val_time_distributed_9_acc: 0.9713 - val_time_distributed_10_acc: 0.9972 - val_time_distributed_11_acc: 0.9943\n",
            "Epoch 67/100\n",
            "6781/6781 [==============================] - 2s 325us/step - loss: 1.8221 - time_distributed_1_loss: 0.3340 - time_distributed_2_loss: 0.1916 - time_distributed_3_loss: 0.0723 - time_distributed_4_loss: 0.3212 - time_distributed_5_loss: 0.2626 - time_distributed_6_loss: 0.3128 - time_distributed_7_loss: 0.1101 - time_distributed_8_loss: 0.1111 - time_distributed_9_loss: 0.0660 - time_distributed_10_loss: 0.0129 - time_distributed_11_loss: 0.0274 - time_distributed_1_acc: 0.9098 - time_distributed_2_acc: 0.9172 - time_distributed_3_acc: 0.9800 - time_distributed_4_acc: 0.8892 - time_distributed_5_acc: 0.9014 - time_distributed_6_acc: 0.8682 - time_distributed_7_acc: 0.9598 - time_distributed_8_acc: 0.9637 - time_distributed_9_acc: 0.9774 - time_distributed_10_acc: 0.9977 - time_distributed_11_acc: 0.9944 - val_loss: 2.0120 - val_time_distributed_1_loss: 0.3654 - val_time_distributed_2_loss: 0.2064 - val_time_distributed_3_loss: 0.0829 - val_time_distributed_4_loss: 0.3447 - val_time_distributed_5_loss: 0.2803 - val_time_distributed_6_loss: 0.3348 - val_time_distributed_7_loss: 0.1357 - val_time_distributed_8_loss: 0.1310 - val_time_distributed_9_loss: 0.0866 - val_time_distributed_10_loss: 0.0151 - val_time_distributed_11_loss: 0.0291 - val_time_distributed_1_acc: 0.9030 - val_time_distributed_2_acc: 0.9115 - val_time_distributed_3_acc: 0.9782 - val_time_distributed_4_acc: 0.8805 - val_time_distributed_5_acc: 0.8937 - val_time_distributed_6_acc: 0.8587 - val_time_distributed_7_acc: 0.9516 - val_time_distributed_8_acc: 0.9596 - val_time_distributed_9_acc: 0.9712 - val_time_distributed_10_acc: 0.9972 - val_time_distributed_11_acc: 0.9943\n",
            "Epoch 68/100\n",
            "6781/6781 [==============================] - 2s 327us/step - loss: 1.8120 - time_distributed_1_loss: 0.3316 - time_distributed_2_loss: 0.1910 - time_distributed_3_loss: 0.0718 - time_distributed_4_loss: 0.3189 - time_distributed_5_loss: 0.2612 - time_distributed_6_loss: 0.3113 - time_distributed_7_loss: 0.1096 - time_distributed_8_loss: 0.1107 - time_distributed_9_loss: 0.0658 - time_distributed_10_loss: 0.0128 - time_distributed_11_loss: 0.0272 - time_distributed_1_acc: 0.9099 - time_distributed_2_acc: 0.9174 - time_distributed_3_acc: 0.9801 - time_distributed_4_acc: 0.8897 - time_distributed_5_acc: 0.9014 - time_distributed_6_acc: 0.8691 - time_distributed_7_acc: 0.9597 - time_distributed_8_acc: 0.9636 - time_distributed_9_acc: 0.9775 - time_distributed_10_acc: 0.9977 - time_distributed_11_acc: 0.9944 - val_loss: 2.0095 - val_time_distributed_1_loss: 0.3648 - val_time_distributed_2_loss: 0.2061 - val_time_distributed_3_loss: 0.0826 - val_time_distributed_4_loss: 0.3440 - val_time_distributed_5_loss: 0.2792 - val_time_distributed_6_loss: 0.3343 - val_time_distributed_7_loss: 0.1360 - val_time_distributed_8_loss: 0.1314 - val_time_distributed_9_loss: 0.0871 - val_time_distributed_10_loss: 0.0150 - val_time_distributed_11_loss: 0.0291 - val_time_distributed_1_acc: 0.9027 - val_time_distributed_2_acc: 0.9121 - val_time_distributed_3_acc: 0.9784 - val_time_distributed_4_acc: 0.8797 - val_time_distributed_5_acc: 0.8933 - val_time_distributed_6_acc: 0.8575 - val_time_distributed_7_acc: 0.9527 - val_time_distributed_8_acc: 0.9596 - val_time_distributed_9_acc: 0.9712 - val_time_distributed_10_acc: 0.9972 - val_time_distributed_11_acc: 0.9944\n",
            "Epoch 69/100\n",
            "6781/6781 [==============================] - 2s 326us/step - loss: 1.8019 - time_distributed_1_loss: 0.3295 - time_distributed_2_loss: 0.1903 - time_distributed_3_loss: 0.0713 - time_distributed_4_loss: 0.3173 - time_distributed_5_loss: 0.2594 - time_distributed_6_loss: 0.3097 - time_distributed_7_loss: 0.1091 - time_distributed_8_loss: 0.1102 - time_distributed_9_loss: 0.0653 - time_distributed_10_loss: 0.0127 - time_distributed_11_loss: 0.0271 - time_distributed_1_acc: 0.9102 - time_distributed_2_acc: 0.9181 - time_distributed_3_acc: 0.9802 - time_distributed_4_acc: 0.8912 - time_distributed_5_acc: 0.9026 - time_distributed_6_acc: 0.8695 - time_distributed_7_acc: 0.9599 - time_distributed_8_acc: 0.9641 - time_distributed_9_acc: 0.9775 - time_distributed_10_acc: 0.9977 - time_distributed_11_acc: 0.9944 - val_loss: 2.0019 - val_time_distributed_1_loss: 0.3631 - val_time_distributed_2_loss: 0.2057 - val_time_distributed_3_loss: 0.0823 - val_time_distributed_4_loss: 0.3426 - val_time_distributed_5_loss: 0.2774 - val_time_distributed_6_loss: 0.3327 - val_time_distributed_7_loss: 0.1359 - val_time_distributed_8_loss: 0.1313 - val_time_distributed_9_loss: 0.0870 - val_time_distributed_10_loss: 0.0149 - val_time_distributed_11_loss: 0.0290 - val_time_distributed_1_acc: 0.9029 - val_time_distributed_2_acc: 0.9116 - val_time_distributed_3_acc: 0.9787 - val_time_distributed_4_acc: 0.8790 - val_time_distributed_5_acc: 0.8937 - val_time_distributed_6_acc: 0.8591 - val_time_distributed_7_acc: 0.9524 - val_time_distributed_8_acc: 0.9596 - val_time_distributed_9_acc: 0.9705 - val_time_distributed_10_acc: 0.9972 - val_time_distributed_11_acc: 0.9944\n",
            "Epoch 70/100\n",
            "6781/6781 [==============================] - 2s 325us/step - loss: 1.7927 - time_distributed_1_loss: 0.3273 - time_distributed_2_loss: 0.1894 - time_distributed_3_loss: 0.0710 - time_distributed_4_loss: 0.3157 - time_distributed_5_loss: 0.2576 - time_distributed_6_loss: 0.3084 - time_distributed_7_loss: 0.1088 - time_distributed_8_loss: 0.1098 - time_distributed_9_loss: 0.0653 - time_distributed_10_loss: 0.0126 - time_distributed_11_loss: 0.0269 - time_distributed_1_acc: 0.9108 - time_distributed_2_acc: 0.9182 - time_distributed_3_acc: 0.9804 - time_distributed_4_acc: 0.8912 - time_distributed_5_acc: 0.9029 - time_distributed_6_acc: 0.8700 - time_distributed_7_acc: 0.9597 - time_distributed_8_acc: 0.9640 - time_distributed_9_acc: 0.9776 - time_distributed_10_acc: 0.9977 - time_distributed_11_acc: 0.9944 - val_loss: 2.0009 - val_time_distributed_1_loss: 0.3624 - val_time_distributed_2_loss: 0.2059 - val_time_distributed_3_loss: 0.0821 - val_time_distributed_4_loss: 0.3427 - val_time_distributed_5_loss: 0.2763 - val_time_distributed_6_loss: 0.3327 - val_time_distributed_7_loss: 0.1363 - val_time_distributed_8_loss: 0.1314 - val_time_distributed_9_loss: 0.0874 - val_time_distributed_10_loss: 0.0149 - val_time_distributed_11_loss: 0.0289 - val_time_distributed_1_acc: 0.9030 - val_time_distributed_2_acc: 0.9115 - val_time_distributed_3_acc: 0.9784 - val_time_distributed_4_acc: 0.8808 - val_time_distributed_5_acc: 0.8947 - val_time_distributed_6_acc: 0.8597 - val_time_distributed_7_acc: 0.9524 - val_time_distributed_8_acc: 0.9596 - val_time_distributed_9_acc: 0.9703 - val_time_distributed_10_acc: 0.9972 - val_time_distributed_11_acc: 0.9944\n",
            "Epoch 71/100\n",
            "6781/6781 [==============================] - 2s 324us/step - loss: 1.7846 - time_distributed_1_loss: 0.3251 - time_distributed_2_loss: 0.1889 - time_distributed_3_loss: 0.0704 - time_distributed_4_loss: 0.3144 - time_distributed_5_loss: 0.2563 - time_distributed_6_loss: 0.3074 - time_distributed_7_loss: 0.1084 - time_distributed_8_loss: 0.1094 - time_distributed_9_loss: 0.0649 - time_distributed_10_loss: 0.0126 - time_distributed_11_loss: 0.0268 - time_distributed_1_acc: 0.9113 - time_distributed_2_acc: 0.9183 - time_distributed_3_acc: 0.9807 - time_distributed_4_acc: 0.8916 - time_distributed_5_acc: 0.9039 - time_distributed_6_acc: 0.8701 - time_distributed_7_acc: 0.9602 - time_distributed_8_acc: 0.9643 - time_distributed_9_acc: 0.9775 - time_distributed_10_acc: 0.9977 - time_distributed_11_acc: 0.9944 - val_loss: 1.9928 - val_time_distributed_1_loss: 0.3612 - val_time_distributed_2_loss: 0.2054 - val_time_distributed_3_loss: 0.0816 - val_time_distributed_4_loss: 0.3402 - val_time_distributed_5_loss: 0.2751 - val_time_distributed_6_loss: 0.3318 - val_time_distributed_7_loss: 0.1359 - val_time_distributed_8_loss: 0.1310 - val_time_distributed_9_loss: 0.0871 - val_time_distributed_10_loss: 0.0147 - val_time_distributed_11_loss: 0.0288 - val_time_distributed_1_acc: 0.9028 - val_time_distributed_2_acc: 0.9124 - val_time_distributed_3_acc: 0.9792 - val_time_distributed_4_acc: 0.8821 - val_time_distributed_5_acc: 0.8951 - val_time_distributed_6_acc: 0.8625 - val_time_distributed_7_acc: 0.9524 - val_time_distributed_8_acc: 0.9594 - val_time_distributed_9_acc: 0.9707 - val_time_distributed_10_acc: 0.9972 - val_time_distributed_11_acc: 0.9944\n",
            "Epoch 72/100\n",
            "6781/6781 [==============================] - 2s 329us/step - loss: 1.7735 - time_distributed_1_loss: 0.3231 - time_distributed_2_loss: 0.1878 - time_distributed_3_loss: 0.0699 - time_distributed_4_loss: 0.3123 - time_distributed_5_loss: 0.2543 - time_distributed_6_loss: 0.3055 - time_distributed_7_loss: 0.1081 - time_distributed_8_loss: 0.1089 - time_distributed_9_loss: 0.0646 - time_distributed_10_loss: 0.0125 - time_distributed_11_loss: 0.0266 - time_distributed_1_acc: 0.9116 - time_distributed_2_acc: 0.9192 - time_distributed_3_acc: 0.9807 - time_distributed_4_acc: 0.8926 - time_distributed_5_acc: 0.9044 - time_distributed_6_acc: 0.8712 - time_distributed_7_acc: 0.9598 - time_distributed_8_acc: 0.9640 - time_distributed_9_acc: 0.9777 - time_distributed_10_acc: 0.9977 - time_distributed_11_acc: 0.9944 - val_loss: 1.9883 - val_time_distributed_1_loss: 0.3599 - val_time_distributed_2_loss: 0.2052 - val_time_distributed_3_loss: 0.0816 - val_time_distributed_4_loss: 0.3401 - val_time_distributed_5_loss: 0.2741 - val_time_distributed_6_loss: 0.3306 - val_time_distributed_7_loss: 0.1356 - val_time_distributed_8_loss: 0.1309 - val_time_distributed_9_loss: 0.0870 - val_time_distributed_10_loss: 0.0147 - val_time_distributed_11_loss: 0.0286 - val_time_distributed_1_acc: 0.9025 - val_time_distributed_2_acc: 0.9116 - val_time_distributed_3_acc: 0.9790 - val_time_distributed_4_acc: 0.8823 - val_time_distributed_5_acc: 0.8953 - val_time_distributed_6_acc: 0.8626 - val_time_distributed_7_acc: 0.9524 - val_time_distributed_8_acc: 0.9596 - val_time_distributed_9_acc: 0.9708 - val_time_distributed_10_acc: 0.9972 - val_time_distributed_11_acc: 0.9944\n",
            "Epoch 73/100\n",
            "6781/6781 [==============================] - 2s 324us/step - loss: 1.7659 - time_distributed_1_loss: 0.3214 - time_distributed_2_loss: 0.1875 - time_distributed_3_loss: 0.0695 - time_distributed_4_loss: 0.3111 - time_distributed_5_loss: 0.2528 - time_distributed_6_loss: 0.3039 - time_distributed_7_loss: 0.1078 - time_distributed_8_loss: 0.1086 - time_distributed_9_loss: 0.0645 - time_distributed_10_loss: 0.0124 - time_distributed_11_loss: 0.0265 - time_distributed_1_acc: 0.9119 - time_distributed_2_acc: 0.9189 - time_distributed_3_acc: 0.9809 - time_distributed_4_acc: 0.8932 - time_distributed_5_acc: 0.9053 - time_distributed_6_acc: 0.8713 - time_distributed_7_acc: 0.9606 - time_distributed_8_acc: 0.9650 - time_distributed_9_acc: 0.9777 - time_distributed_10_acc: 0.9977 - time_distributed_11_acc: 0.9944 - val_loss: 1.9825 - val_time_distributed_1_loss: 0.3587 - val_time_distributed_2_loss: 0.2047 - val_time_distributed_3_loss: 0.0812 - val_time_distributed_4_loss: 0.3386 - val_time_distributed_5_loss: 0.2728 - val_time_distributed_6_loss: 0.3294 - val_time_distributed_7_loss: 0.1359 - val_time_distributed_8_loss: 0.1308 - val_time_distributed_9_loss: 0.0872 - val_time_distributed_10_loss: 0.0147 - val_time_distributed_11_loss: 0.0286 - val_time_distributed_1_acc: 0.9028 - val_time_distributed_2_acc: 0.9121 - val_time_distributed_3_acc: 0.9791 - val_time_distributed_4_acc: 0.8830 - val_time_distributed_5_acc: 0.8964 - val_time_distributed_6_acc: 0.8636 - val_time_distributed_7_acc: 0.9521 - val_time_distributed_8_acc: 0.9599 - val_time_distributed_9_acc: 0.9708 - val_time_distributed_10_acc: 0.9972 - val_time_distributed_11_acc: 0.9945\n",
            "Epoch 74/100\n",
            "6781/6781 [==============================] - 2s 327us/step - loss: 1.7563 - time_distributed_1_loss: 0.3193 - time_distributed_2_loss: 0.1866 - time_distributed_3_loss: 0.0691 - time_distributed_4_loss: 0.3089 - time_distributed_5_loss: 0.2516 - time_distributed_6_loss: 0.3027 - time_distributed_7_loss: 0.1073 - time_distributed_8_loss: 0.1079 - time_distributed_9_loss: 0.0641 - time_distributed_10_loss: 0.0123 - time_distributed_11_loss: 0.0264 - time_distributed_1_acc: 0.9119 - time_distributed_2_acc: 0.9198 - time_distributed_3_acc: 0.9811 - time_distributed_4_acc: 0.8943 - time_distributed_5_acc: 0.9060 - time_distributed_6_acc: 0.8717 - time_distributed_7_acc: 0.9602 - time_distributed_8_acc: 0.9652 - time_distributed_9_acc: 0.9777 - time_distributed_10_acc: 0.9977 - time_distributed_11_acc: 0.9944 - val_loss: 1.9857 - val_time_distributed_1_loss: 0.3590 - val_time_distributed_2_loss: 0.2057 - val_time_distributed_3_loss: 0.0809 - val_time_distributed_4_loss: 0.3391 - val_time_distributed_5_loss: 0.2732 - val_time_distributed_6_loss: 0.3309 - val_time_distributed_7_loss: 0.1357 - val_time_distributed_8_loss: 0.1309 - val_time_distributed_9_loss: 0.0873 - val_time_distributed_10_loss: 0.0145 - val_time_distributed_11_loss: 0.0285 - val_time_distributed_1_acc: 0.9031 - val_time_distributed_2_acc: 0.9114 - val_time_distributed_3_acc: 0.9795 - val_time_distributed_4_acc: 0.8829 - val_time_distributed_5_acc: 0.8952 - val_time_distributed_6_acc: 0.8623 - val_time_distributed_7_acc: 0.9525 - val_time_distributed_8_acc: 0.9599 - val_time_distributed_9_acc: 0.9707 - val_time_distributed_10_acc: 0.9972 - val_time_distributed_11_acc: 0.9945\n",
            "Epoch 75/100\n",
            "6781/6781 [==============================] - 2s 327us/step - loss: 1.7488 - time_distributed_1_loss: 0.3174 - time_distributed_2_loss: 0.1861 - time_distributed_3_loss: 0.0686 - time_distributed_4_loss: 0.3081 - time_distributed_5_loss: 0.2499 - time_distributed_6_loss: 0.3018 - time_distributed_7_loss: 0.1069 - time_distributed_8_loss: 0.1076 - time_distributed_9_loss: 0.0640 - time_distributed_10_loss: 0.0123 - time_distributed_11_loss: 0.0262 - time_distributed_1_acc: 0.9123 - time_distributed_2_acc: 0.9202 - time_distributed_3_acc: 0.9810 - time_distributed_4_acc: 0.8951 - time_distributed_5_acc: 0.9069 - time_distributed_6_acc: 0.8725 - time_distributed_7_acc: 0.9603 - time_distributed_8_acc: 0.9646 - time_distributed_9_acc: 0.9776 - time_distributed_10_acc: 0.9977 - time_distributed_11_acc: 0.9944 - val_loss: 1.9788 - val_time_distributed_1_loss: 0.3577 - val_time_distributed_2_loss: 0.2047 - val_time_distributed_3_loss: 0.0807 - val_time_distributed_4_loss: 0.3377 - val_time_distributed_5_loss: 0.2708 - val_time_distributed_6_loss: 0.3288 - val_time_distributed_7_loss: 0.1364 - val_time_distributed_8_loss: 0.1313 - val_time_distributed_9_loss: 0.0878 - val_time_distributed_10_loss: 0.0145 - val_time_distributed_11_loss: 0.0284 - val_time_distributed_1_acc: 0.9025 - val_time_distributed_2_acc: 0.9120 - val_time_distributed_3_acc: 0.9794 - val_time_distributed_4_acc: 0.8838 - val_time_distributed_5_acc: 0.8975 - val_time_distributed_6_acc: 0.8637 - val_time_distributed_7_acc: 0.9521 - val_time_distributed_8_acc: 0.9595 - val_time_distributed_9_acc: 0.9702 - val_time_distributed_10_acc: 0.9972 - val_time_distributed_11_acc: 0.9945\n",
            "Epoch 76/100\n",
            "6781/6781 [==============================] - 2s 321us/step - loss: 1.7410 - time_distributed_1_loss: 0.3157 - time_distributed_2_loss: 0.1856 - time_distributed_3_loss: 0.0684 - time_distributed_4_loss: 0.3067 - time_distributed_5_loss: 0.2486 - time_distributed_6_loss: 0.3002 - time_distributed_7_loss: 0.1066 - time_distributed_8_loss: 0.1071 - time_distributed_9_loss: 0.0637 - time_distributed_10_loss: 0.0122 - time_distributed_11_loss: 0.0261 - time_distributed_1_acc: 0.9126 - time_distributed_2_acc: 0.9199 - time_distributed_3_acc: 0.9811 - time_distributed_4_acc: 0.8955 - time_distributed_5_acc: 0.9072 - time_distributed_6_acc: 0.8738 - time_distributed_7_acc: 0.9604 - time_distributed_8_acc: 0.9649 - time_distributed_9_acc: 0.9780 - time_distributed_10_acc: 0.9977 - time_distributed_11_acc: 0.9944 - val_loss: 1.9711 - val_time_distributed_1_loss: 0.3558 - val_time_distributed_2_loss: 0.2041 - val_time_distributed_3_loss: 0.0804 - val_time_distributed_4_loss: 0.3364 - val_time_distributed_5_loss: 0.2701 - val_time_distributed_6_loss: 0.3283 - val_time_distributed_7_loss: 0.1354 - val_time_distributed_8_loss: 0.1307 - val_time_distributed_9_loss: 0.0871 - val_time_distributed_10_loss: 0.0143 - val_time_distributed_11_loss: 0.0283 - val_time_distributed_1_acc: 0.9031 - val_time_distributed_2_acc: 0.9124 - val_time_distributed_3_acc: 0.9800 - val_time_distributed_4_acc: 0.8842 - val_time_distributed_5_acc: 0.8987 - val_time_distributed_6_acc: 0.8627 - val_time_distributed_7_acc: 0.9525 - val_time_distributed_8_acc: 0.9596 - val_time_distributed_9_acc: 0.9707 - val_time_distributed_10_acc: 0.9972 - val_time_distributed_11_acc: 0.9945\n",
            "Epoch 77/100\n",
            "6781/6781 [==============================] - 2s 328us/step - loss: 1.7323 - time_distributed_1_loss: 0.3141 - time_distributed_2_loss: 0.1846 - time_distributed_3_loss: 0.0679 - time_distributed_4_loss: 0.3053 - time_distributed_5_loss: 0.2470 - time_distributed_6_loss: 0.2989 - time_distributed_7_loss: 0.1061 - time_distributed_8_loss: 0.1068 - time_distributed_9_loss: 0.0634 - time_distributed_10_loss: 0.0121 - time_distributed_11_loss: 0.0260 - time_distributed_1_acc: 0.9131 - time_distributed_2_acc: 0.9204 - time_distributed_3_acc: 0.9813 - time_distributed_4_acc: 0.8966 - time_distributed_5_acc: 0.9077 - time_distributed_6_acc: 0.8729 - time_distributed_7_acc: 0.9608 - time_distributed_8_acc: 0.9650 - time_distributed_9_acc: 0.9777 - time_distributed_10_acc: 0.9977 - time_distributed_11_acc: 0.9944 - val_loss: 1.9690 - val_time_distributed_1_loss: 0.3551 - val_time_distributed_2_loss: 0.2039 - val_time_distributed_3_loss: 0.0803 - val_time_distributed_4_loss: 0.3354 - val_time_distributed_5_loss: 0.2692 - val_time_distributed_6_loss: 0.3275 - val_time_distributed_7_loss: 0.1362 - val_time_distributed_8_loss: 0.1312 - val_time_distributed_9_loss: 0.0877 - val_time_distributed_10_loss: 0.0143 - val_time_distributed_11_loss: 0.0282 - val_time_distributed_1_acc: 0.9033 - val_time_distributed_2_acc: 0.9127 - val_time_distributed_3_acc: 0.9796 - val_time_distributed_4_acc: 0.8847 - val_time_distributed_5_acc: 0.8985 - val_time_distributed_6_acc: 0.8638 - val_time_distributed_7_acc: 0.9525 - val_time_distributed_8_acc: 0.9599 - val_time_distributed_9_acc: 0.9707 - val_time_distributed_10_acc: 0.9972 - val_time_distributed_11_acc: 0.9945\n",
            "Epoch 78/100\n",
            "6781/6781 [==============================] - 2s 323us/step - loss: 1.7253 - time_distributed_1_loss: 0.3121 - time_distributed_2_loss: 0.1842 - time_distributed_3_loss: 0.0676 - time_distributed_4_loss: 0.3037 - time_distributed_5_loss: 0.2459 - time_distributed_6_loss: 0.2978 - time_distributed_7_loss: 0.1060 - time_distributed_8_loss: 0.1065 - time_distributed_9_loss: 0.0634 - time_distributed_10_loss: 0.0121 - time_distributed_11_loss: 0.0259 - time_distributed_1_acc: 0.9137 - time_distributed_2_acc: 0.9204 - time_distributed_3_acc: 0.9813 - time_distributed_4_acc: 0.8968 - time_distributed_5_acc: 0.9088 - time_distributed_6_acc: 0.8740 - time_distributed_7_acc: 0.9609 - time_distributed_8_acc: 0.9653 - time_distributed_9_acc: 0.9777 - time_distributed_10_acc: 0.9977 - time_distributed_11_acc: 0.9944 - val_loss: 1.9671 - val_time_distributed_1_loss: 0.3549 - val_time_distributed_2_loss: 0.2047 - val_time_distributed_3_loss: 0.0800 - val_time_distributed_4_loss: 0.3351 - val_time_distributed_5_loss: 0.2681 - val_time_distributed_6_loss: 0.3277 - val_time_distributed_7_loss: 0.1359 - val_time_distributed_8_loss: 0.1308 - val_time_distributed_9_loss: 0.0875 - val_time_distributed_10_loss: 0.0143 - val_time_distributed_11_loss: 0.0282 - val_time_distributed_1_acc: 0.9040 - val_time_distributed_2_acc: 0.9116 - val_time_distributed_3_acc: 0.9795 - val_time_distributed_4_acc: 0.8860 - val_time_distributed_5_acc: 0.8988 - val_time_distributed_6_acc: 0.8636 - val_time_distributed_7_acc: 0.9525 - val_time_distributed_8_acc: 0.9598 - val_time_distributed_9_acc: 0.9708 - val_time_distributed_10_acc: 0.9972 - val_time_distributed_11_acc: 0.9945\n",
            "Epoch 79/100\n",
            "6781/6781 [==============================] - 2s 327us/step - loss: 1.7180 - time_distributed_1_loss: 0.3104 - time_distributed_2_loss: 0.1837 - time_distributed_3_loss: 0.0673 - time_distributed_4_loss: 0.3024 - time_distributed_5_loss: 0.2447 - time_distributed_6_loss: 0.2969 - time_distributed_7_loss: 0.1056 - time_distributed_8_loss: 0.1062 - time_distributed_9_loss: 0.0630 - time_distributed_10_loss: 0.0120 - time_distributed_11_loss: 0.0258 - time_distributed_1_acc: 0.9141 - time_distributed_2_acc: 0.9209 - time_distributed_3_acc: 0.9814 - time_distributed_4_acc: 0.8973 - time_distributed_5_acc: 0.9091 - time_distributed_6_acc: 0.8744 - time_distributed_7_acc: 0.9607 - time_distributed_8_acc: 0.9651 - time_distributed_9_acc: 0.9779 - time_distributed_10_acc: 0.9977 - time_distributed_11_acc: 0.9945 - val_loss: 1.9683 - val_time_distributed_1_loss: 0.3542 - val_time_distributed_2_loss: 0.2043 - val_time_distributed_3_loss: 0.0797 - val_time_distributed_4_loss: 0.3348 - val_time_distributed_5_loss: 0.2687 - val_time_distributed_6_loss: 0.3289 - val_time_distributed_7_loss: 0.1362 - val_time_distributed_8_loss: 0.1312 - val_time_distributed_9_loss: 0.0879 - val_time_distributed_10_loss: 0.0142 - val_time_distributed_11_loss: 0.0280 - val_time_distributed_1_acc: 0.9041 - val_time_distributed_2_acc: 0.9129 - val_time_distributed_3_acc: 0.9800 - val_time_distributed_4_acc: 0.8843 - val_time_distributed_5_acc: 0.8999 - val_time_distributed_6_acc: 0.8606 - val_time_distributed_7_acc: 0.9528 - val_time_distributed_8_acc: 0.9597 - val_time_distributed_9_acc: 0.9704 - val_time_distributed_10_acc: 0.9972 - val_time_distributed_11_acc: 0.9946\n",
            "Epoch 80/100\n",
            "6781/6781 [==============================] - 2s 325us/step - loss: 1.7111 - time_distributed_1_loss: 0.3091 - time_distributed_2_loss: 0.1831 - time_distributed_3_loss: 0.0669 - time_distributed_4_loss: 0.3012 - time_distributed_5_loss: 0.2436 - time_distributed_6_loss: 0.2958 - time_distributed_7_loss: 0.1053 - time_distributed_8_loss: 0.1057 - time_distributed_9_loss: 0.0628 - time_distributed_10_loss: 0.0120 - time_distributed_11_loss: 0.0257 - time_distributed_1_acc: 0.9142 - time_distributed_2_acc: 0.9206 - time_distributed_3_acc: 0.9814 - time_distributed_4_acc: 0.8975 - time_distributed_5_acc: 0.9092 - time_distributed_6_acc: 0.8746 - time_distributed_7_acc: 0.9609 - time_distributed_8_acc: 0.9652 - time_distributed_9_acc: 0.9778 - time_distributed_10_acc: 0.9977 - time_distributed_11_acc: 0.9947 - val_loss: 1.9594 - val_time_distributed_1_loss: 0.3531 - val_time_distributed_2_loss: 0.2038 - val_time_distributed_3_loss: 0.0797 - val_time_distributed_4_loss: 0.3335 - val_time_distributed_5_loss: 0.2665 - val_time_distributed_6_loss: 0.3261 - val_time_distributed_7_loss: 0.1360 - val_time_distributed_8_loss: 0.1310 - val_time_distributed_9_loss: 0.0877 - val_time_distributed_10_loss: 0.0141 - val_time_distributed_11_loss: 0.0280 - val_time_distributed_1_acc: 0.9038 - val_time_distributed_2_acc: 0.9121 - val_time_distributed_3_acc: 0.9798 - val_time_distributed_4_acc: 0.8863 - val_time_distributed_5_acc: 0.8988 - val_time_distributed_6_acc: 0.8654 - val_time_distributed_7_acc: 0.9526 - val_time_distributed_8_acc: 0.9591 - val_time_distributed_9_acc: 0.9702 - val_time_distributed_10_acc: 0.9972 - val_time_distributed_11_acc: 0.9946\n",
            "Epoch 81/100\n",
            "6781/6781 [==============================] - 2s 328us/step - loss: 1.7041 - time_distributed_1_loss: 0.3074 - time_distributed_2_loss: 0.1825 - time_distributed_3_loss: 0.0666 - time_distributed_4_loss: 0.3001 - time_distributed_5_loss: 0.2422 - time_distributed_6_loss: 0.2949 - time_distributed_7_loss: 0.1050 - time_distributed_8_loss: 0.1054 - time_distributed_9_loss: 0.0626 - time_distributed_10_loss: 0.0119 - time_distributed_11_loss: 0.0256 - time_distributed_1_acc: 0.9144 - time_distributed_2_acc: 0.9213 - time_distributed_3_acc: 0.9816 - time_distributed_4_acc: 0.8985 - time_distributed_5_acc: 0.9101 - time_distributed_6_acc: 0.8749 - time_distributed_7_acc: 0.9611 - time_distributed_8_acc: 0.9654 - time_distributed_9_acc: 0.9779 - time_distributed_10_acc: 0.9977 - time_distributed_11_acc: 0.9947 - val_loss: 1.9577 - val_time_distributed_1_loss: 0.3525 - val_time_distributed_2_loss: 0.2033 - val_time_distributed_3_loss: 0.0794 - val_time_distributed_4_loss: 0.3329 - val_time_distributed_5_loss: 0.2658 - val_time_distributed_6_loss: 0.3260 - val_time_distributed_7_loss: 0.1364 - val_time_distributed_8_loss: 0.1313 - val_time_distributed_9_loss: 0.0881 - val_time_distributed_10_loss: 0.0141 - val_time_distributed_11_loss: 0.0279 - val_time_distributed_1_acc: 0.9045 - val_time_distributed_2_acc: 0.9124 - val_time_distributed_3_acc: 0.9802 - val_time_distributed_4_acc: 0.8863 - val_time_distributed_5_acc: 0.8992 - val_time_distributed_6_acc: 0.8625 - val_time_distributed_7_acc: 0.9525 - val_time_distributed_8_acc: 0.9596 - val_time_distributed_9_acc: 0.9703 - val_time_distributed_10_acc: 0.9972 - val_time_distributed_11_acc: 0.9946\n",
            "Epoch 82/100\n",
            "6781/6781 [==============================] - 2s 326us/step - loss: 1.6962 - time_distributed_1_loss: 0.3057 - time_distributed_2_loss: 0.1819 - time_distributed_3_loss: 0.0662 - time_distributed_4_loss: 0.2985 - time_distributed_5_loss: 0.2410 - time_distributed_6_loss: 0.2934 - time_distributed_7_loss: 0.1047 - time_distributed_8_loss: 0.1050 - time_distributed_9_loss: 0.0623 - time_distributed_10_loss: 0.0119 - time_distributed_11_loss: 0.0255 - time_distributed_1_acc: 0.9147 - time_distributed_2_acc: 0.9215 - time_distributed_3_acc: 0.9816 - time_distributed_4_acc: 0.8988 - time_distributed_5_acc: 0.9100 - time_distributed_6_acc: 0.8752 - time_distributed_7_acc: 0.9612 - time_distributed_8_acc: 0.9655 - time_distributed_9_acc: 0.9780 - time_distributed_10_acc: 0.9977 - time_distributed_11_acc: 0.9947 - val_loss: 1.9533 - val_time_distributed_1_loss: 0.3515 - val_time_distributed_2_loss: 0.2035 - val_time_distributed_3_loss: 0.0793 - val_time_distributed_4_loss: 0.3324 - val_time_distributed_5_loss: 0.2655 - val_time_distributed_6_loss: 0.3251 - val_time_distributed_7_loss: 0.1358 - val_time_distributed_8_loss: 0.1307 - val_time_distributed_9_loss: 0.0877 - val_time_distributed_10_loss: 0.0140 - val_time_distributed_11_loss: 0.0278 - val_time_distributed_1_acc: 0.9048 - val_time_distributed_2_acc: 0.9123 - val_time_distributed_3_acc: 0.9794 - val_time_distributed_4_acc: 0.8865 - val_time_distributed_5_acc: 0.8995 - val_time_distributed_6_acc: 0.8659 - val_time_distributed_7_acc: 0.9524 - val_time_distributed_8_acc: 0.9593 - val_time_distributed_9_acc: 0.9700 - val_time_distributed_10_acc: 0.9972 - val_time_distributed_11_acc: 0.9946\n",
            "Epoch 83/100\n",
            "6781/6781 [==============================] - 2s 328us/step - loss: 1.6908 - time_distributed_1_loss: 0.3046 - time_distributed_2_loss: 0.1813 - time_distributed_3_loss: 0.0659 - time_distributed_4_loss: 0.2978 - time_distributed_5_loss: 0.2398 - time_distributed_6_loss: 0.2926 - time_distributed_7_loss: 0.1045 - time_distributed_8_loss: 0.1047 - time_distributed_9_loss: 0.0624 - time_distributed_10_loss: 0.0118 - time_distributed_11_loss: 0.0254 - time_distributed_1_acc: 0.9150 - time_distributed_2_acc: 0.9218 - time_distributed_3_acc: 0.9817 - time_distributed_4_acc: 0.8991 - time_distributed_5_acc: 0.9105 - time_distributed_6_acc: 0.8758 - time_distributed_7_acc: 0.9612 - time_distributed_8_acc: 0.9655 - time_distributed_9_acc: 0.9779 - time_distributed_10_acc: 0.9977 - time_distributed_11_acc: 0.9947 - val_loss: 1.9538 - val_time_distributed_1_loss: 0.3508 - val_time_distributed_2_loss: 0.2032 - val_time_distributed_3_loss: 0.0790 - val_time_distributed_4_loss: 0.3317 - val_time_distributed_5_loss: 0.2655 - val_time_distributed_6_loss: 0.3262 - val_time_distributed_7_loss: 0.1362 - val_time_distributed_8_loss: 0.1312 - val_time_distributed_9_loss: 0.0882 - val_time_distributed_10_loss: 0.0139 - val_time_distributed_11_loss: 0.0278 - val_time_distributed_1_acc: 0.9051 - val_time_distributed_2_acc: 0.9135 - val_time_distributed_3_acc: 0.9798 - val_time_distributed_4_acc: 0.8859 - val_time_distributed_5_acc: 0.9004 - val_time_distributed_6_acc: 0.8625 - val_time_distributed_7_acc: 0.9529 - val_time_distributed_8_acc: 0.9592 - val_time_distributed_9_acc: 0.9698 - val_time_distributed_10_acc: 0.9972 - val_time_distributed_11_acc: 0.9946\n",
            "Epoch 84/100\n",
            "6781/6781 [==============================] - 2s 326us/step - loss: 1.6828 - time_distributed_1_loss: 0.3030 - time_distributed_2_loss: 0.1809 - time_distributed_3_loss: 0.0656 - time_distributed_4_loss: 0.2961 - time_distributed_5_loss: 0.2385 - time_distributed_6_loss: 0.2912 - time_distributed_7_loss: 0.1041 - time_distributed_8_loss: 0.1043 - time_distributed_9_loss: 0.0621 - time_distributed_10_loss: 0.0118 - time_distributed_11_loss: 0.0253 - time_distributed_1_acc: 0.9154 - time_distributed_2_acc: 0.9218 - time_distributed_3_acc: 0.9817 - time_distributed_4_acc: 0.8997 - time_distributed_5_acc: 0.9110 - time_distributed_6_acc: 0.8766 - time_distributed_7_acc: 0.9615 - time_distributed_8_acc: 0.9654 - time_distributed_9_acc: 0.9782 - time_distributed_10_acc: 0.9977 - time_distributed_11_acc: 0.9947 - val_loss: 1.9489 - val_time_distributed_1_loss: 0.3505 - val_time_distributed_2_loss: 0.2031 - val_time_distributed_3_loss: 0.0789 - val_time_distributed_4_loss: 0.3310 - val_time_distributed_5_loss: 0.2636 - val_time_distributed_6_loss: 0.3244 - val_time_distributed_7_loss: 0.1364 - val_time_distributed_8_loss: 0.1312 - val_time_distributed_9_loss: 0.0882 - val_time_distributed_10_loss: 0.0139 - val_time_distributed_11_loss: 0.0278 - val_time_distributed_1_acc: 0.9047 - val_time_distributed_2_acc: 0.9121 - val_time_distributed_3_acc: 0.9802 - val_time_distributed_4_acc: 0.8873 - val_time_distributed_5_acc: 0.9009 - val_time_distributed_6_acc: 0.8649 - val_time_distributed_7_acc: 0.9528 - val_time_distributed_8_acc: 0.9596 - val_time_distributed_9_acc: 0.9703 - val_time_distributed_10_acc: 0.9972 - val_time_distributed_11_acc: 0.9946\n",
            "Epoch 85/100\n",
            "6781/6781 [==============================] - 2s 325us/step - loss: 1.6770 - time_distributed_1_loss: 0.3014 - time_distributed_2_loss: 0.1804 - time_distributed_3_loss: 0.0653 - time_distributed_4_loss: 0.2953 - time_distributed_5_loss: 0.2373 - time_distributed_6_loss: 0.2903 - time_distributed_7_loss: 0.1040 - time_distributed_8_loss: 0.1041 - time_distributed_9_loss: 0.0619 - time_distributed_10_loss: 0.0117 - time_distributed_11_loss: 0.0252 - time_distributed_1_acc: 0.9162 - time_distributed_2_acc: 0.9222 - time_distributed_3_acc: 0.9818 - time_distributed_4_acc: 0.9002 - time_distributed_5_acc: 0.9115 - time_distributed_6_acc: 0.8760 - time_distributed_7_acc: 0.9617 - time_distributed_8_acc: 0.9655 - time_distributed_9_acc: 0.9780 - time_distributed_10_acc: 0.9977 - time_distributed_11_acc: 0.9947 - val_loss: 1.9473 - val_time_distributed_1_loss: 0.3500 - val_time_distributed_2_loss: 0.2031 - val_time_distributed_3_loss: 0.0788 - val_time_distributed_4_loss: 0.3306 - val_time_distributed_5_loss: 0.2632 - val_time_distributed_6_loss: 0.3237 - val_time_distributed_7_loss: 0.1366 - val_time_distributed_8_loss: 0.1313 - val_time_distributed_9_loss: 0.0884 - val_time_distributed_10_loss: 0.0139 - val_time_distributed_11_loss: 0.0277 - val_time_distributed_1_acc: 0.9049 - val_time_distributed_2_acc: 0.9132 - val_time_distributed_3_acc: 0.9799 - val_time_distributed_4_acc: 0.8877 - val_time_distributed_5_acc: 0.9004 - val_time_distributed_6_acc: 0.8655 - val_time_distributed_7_acc: 0.9530 - val_time_distributed_8_acc: 0.9595 - val_time_distributed_9_acc: 0.9703 - val_time_distributed_10_acc: 0.9972 - val_time_distributed_11_acc: 0.9946\n",
            "Epoch 86/100\n",
            "6781/6781 [==============================] - 2s 323us/step - loss: 1.6699 - time_distributed_1_loss: 0.3000 - time_distributed_2_loss: 0.1798 - time_distributed_3_loss: 0.0650 - time_distributed_4_loss: 0.2939 - time_distributed_5_loss: 0.2361 - time_distributed_6_loss: 0.2891 - time_distributed_7_loss: 0.1036 - time_distributed_8_loss: 0.1038 - time_distributed_9_loss: 0.0617 - time_distributed_10_loss: 0.0117 - time_distributed_11_loss: 0.0252 - time_distributed_1_acc: 0.9164 - time_distributed_2_acc: 0.9224 - time_distributed_3_acc: 0.9819 - time_distributed_4_acc: 0.9005 - time_distributed_5_acc: 0.9123 - time_distributed_6_acc: 0.8775 - time_distributed_7_acc: 0.9619 - time_distributed_8_acc: 0.9654 - time_distributed_9_acc: 0.9780 - time_distributed_10_acc: 0.9977 - time_distributed_11_acc: 0.9949 - val_loss: 1.9476 - val_time_distributed_1_loss: 0.3502 - val_time_distributed_2_loss: 0.2032 - val_time_distributed_3_loss: 0.0785 - val_time_distributed_4_loss: 0.3305 - val_time_distributed_5_loss: 0.2626 - val_time_distributed_6_loss: 0.3240 - val_time_distributed_7_loss: 0.1369 - val_time_distributed_8_loss: 0.1315 - val_time_distributed_9_loss: 0.0887 - val_time_distributed_10_loss: 0.0138 - val_time_distributed_11_loss: 0.0277 - val_time_distributed_1_acc: 0.9048 - val_time_distributed_2_acc: 0.9122 - val_time_distributed_3_acc: 0.9804 - val_time_distributed_4_acc: 0.8884 - val_time_distributed_5_acc: 0.9015 - val_time_distributed_6_acc: 0.8660 - val_time_distributed_7_acc: 0.9531 - val_time_distributed_8_acc: 0.9597 - val_time_distributed_9_acc: 0.9703 - val_time_distributed_10_acc: 0.9972 - val_time_distributed_11_acc: 0.9949\n",
            "Epoch 87/100\n",
            "6781/6781 [==============================] - 2s 327us/step - loss: 1.6638 - time_distributed_1_loss: 0.2987 - time_distributed_2_loss: 0.1793 - time_distributed_3_loss: 0.0646 - time_distributed_4_loss: 0.2930 - time_distributed_5_loss: 0.2350 - time_distributed_6_loss: 0.2881 - time_distributed_7_loss: 0.1034 - time_distributed_8_loss: 0.1034 - time_distributed_9_loss: 0.0615 - time_distributed_10_loss: 0.0116 - time_distributed_11_loss: 0.0251 - time_distributed_1_acc: 0.9169 - time_distributed_2_acc: 0.9225 - time_distributed_3_acc: 0.9820 - time_distributed_4_acc: 0.9010 - time_distributed_5_acc: 0.9129 - time_distributed_6_acc: 0.8780 - time_distributed_7_acc: 0.9618 - time_distributed_8_acc: 0.9656 - time_distributed_9_acc: 0.9781 - time_distributed_10_acc: 0.9977 - time_distributed_11_acc: 0.9949 - val_loss: 1.9484 - val_time_distributed_1_loss: 0.3498 - val_time_distributed_2_loss: 0.2027 - val_time_distributed_3_loss: 0.0785 - val_time_distributed_4_loss: 0.3301 - val_time_distributed_5_loss: 0.2626 - val_time_distributed_6_loss: 0.3245 - val_time_distributed_7_loss: 0.1375 - val_time_distributed_8_loss: 0.1320 - val_time_distributed_9_loss: 0.0892 - val_time_distributed_10_loss: 0.0138 - val_time_distributed_11_loss: 0.0277 - val_time_distributed_1_acc: 0.9060 - val_time_distributed_2_acc: 0.9141 - val_time_distributed_3_acc: 0.9801 - val_time_distributed_4_acc: 0.8880 - val_time_distributed_5_acc: 0.9024 - val_time_distributed_6_acc: 0.8637 - val_time_distributed_7_acc: 0.9527 - val_time_distributed_8_acc: 0.9598 - val_time_distributed_9_acc: 0.9701 - val_time_distributed_10_acc: 0.9972 - val_time_distributed_11_acc: 0.9949\n",
            "Epoch 88/100\n",
            "6781/6781 [==============================] - 2s 327us/step - loss: 1.6595 - time_distributed_1_loss: 0.2977 - time_distributed_2_loss: 0.1788 - time_distributed_3_loss: 0.0645 - time_distributed_4_loss: 0.2922 - time_distributed_5_loss: 0.2343 - time_distributed_6_loss: 0.2874 - time_distributed_7_loss: 0.1032 - time_distributed_8_loss: 0.1034 - time_distributed_9_loss: 0.0615 - time_distributed_10_loss: 0.0116 - time_distributed_11_loss: 0.0250 - time_distributed_1_acc: 0.9167 - time_distributed_2_acc: 0.9226 - time_distributed_3_acc: 0.9819 - time_distributed_4_acc: 0.9010 - time_distributed_5_acc: 0.9128 - time_distributed_6_acc: 0.8782 - time_distributed_7_acc: 0.9618 - time_distributed_8_acc: 0.9656 - time_distributed_9_acc: 0.9783 - time_distributed_10_acc: 0.9977 - time_distributed_11_acc: 0.9949 - val_loss: 1.9414 - val_time_distributed_1_loss: 0.3484 - val_time_distributed_2_loss: 0.2022 - val_time_distributed_3_loss: 0.0782 - val_time_distributed_4_loss: 0.3288 - val_time_distributed_5_loss: 0.2619 - val_time_distributed_6_loss: 0.3231 - val_time_distributed_7_loss: 0.1370 - val_time_distributed_8_loss: 0.1316 - val_time_distributed_9_loss: 0.0889 - val_time_distributed_10_loss: 0.0137 - val_time_distributed_11_loss: 0.0276 - val_time_distributed_1_acc: 0.9058 - val_time_distributed_2_acc: 0.9143 - val_time_distributed_3_acc: 0.9805 - val_time_distributed_4_acc: 0.8879 - val_time_distributed_5_acc: 0.9029 - val_time_distributed_6_acc: 0.8662 - val_time_distributed_7_acc: 0.9531 - val_time_distributed_8_acc: 0.9597 - val_time_distributed_9_acc: 0.9706 - val_time_distributed_10_acc: 0.9972 - val_time_distributed_11_acc: 0.9949\n",
            "Epoch 89/100\n",
            "6781/6781 [==============================] - 2s 322us/step - loss: 1.6535 - time_distributed_1_loss: 0.2965 - time_distributed_2_loss: 0.1785 - time_distributed_3_loss: 0.0641 - time_distributed_4_loss: 0.2910 - time_distributed_5_loss: 0.2331 - time_distributed_6_loss: 0.2868 - time_distributed_7_loss: 0.1029 - time_distributed_8_loss: 0.1029 - time_distributed_9_loss: 0.0612 - time_distributed_10_loss: 0.0115 - time_distributed_11_loss: 0.0249 - time_distributed_1_acc: 0.9171 - time_distributed_2_acc: 0.9225 - time_distributed_3_acc: 0.9821 - time_distributed_4_acc: 0.9018 - time_distributed_5_acc: 0.9130 - time_distributed_6_acc: 0.8782 - time_distributed_7_acc: 0.9620 - time_distributed_8_acc: 0.9654 - time_distributed_9_acc: 0.9782 - time_distributed_10_acc: 0.9977 - time_distributed_11_acc: 0.9949 - val_loss: 1.9386 - val_time_distributed_1_loss: 0.3481 - val_time_distributed_2_loss: 0.2021 - val_time_distributed_3_loss: 0.0780 - val_time_distributed_4_loss: 0.3279 - val_time_distributed_5_loss: 0.2605 - val_time_distributed_6_loss: 0.3223 - val_time_distributed_7_loss: 0.1373 - val_time_distributed_8_loss: 0.1318 - val_time_distributed_9_loss: 0.0892 - val_time_distributed_10_loss: 0.0136 - val_time_distributed_11_loss: 0.0275 - val_time_distributed_1_acc: 0.9063 - val_time_distributed_2_acc: 0.9140 - val_time_distributed_3_acc: 0.9806 - val_time_distributed_4_acc: 0.8887 - val_time_distributed_5_acc: 0.9028 - val_time_distributed_6_acc: 0.8659 - val_time_distributed_7_acc: 0.9534 - val_time_distributed_8_acc: 0.9596 - val_time_distributed_9_acc: 0.9703 - val_time_distributed_10_acc: 0.9972 - val_time_distributed_11_acc: 0.9949\n",
            "Epoch 90/100\n",
            "6781/6781 [==============================] - 2s 325us/step - loss: 1.6468 - time_distributed_1_loss: 0.2949 - time_distributed_2_loss: 0.1777 - time_distributed_3_loss: 0.0639 - time_distributed_4_loss: 0.2901 - time_distributed_5_loss: 0.2323 - time_distributed_6_loss: 0.2853 - time_distributed_7_loss: 0.1026 - time_distributed_8_loss: 0.1026 - time_distributed_9_loss: 0.0610 - time_distributed_10_loss: 0.0115 - time_distributed_11_loss: 0.0249 - time_distributed_1_acc: 0.9177 - time_distributed_2_acc: 0.9228 - time_distributed_3_acc: 0.9821 - time_distributed_4_acc: 0.9023 - time_distributed_5_acc: 0.9132 - time_distributed_6_acc: 0.8790 - time_distributed_7_acc: 0.9621 - time_distributed_8_acc: 0.9657 - time_distributed_9_acc: 0.9784 - time_distributed_10_acc: 0.9977 - time_distributed_11_acc: 0.9949 - val_loss: 1.9427 - val_time_distributed_1_loss: 0.3486 - val_time_distributed_2_loss: 0.2033 - val_time_distributed_3_loss: 0.0779 - val_time_distributed_4_loss: 0.3290 - val_time_distributed_5_loss: 0.2611 - val_time_distributed_6_loss: 0.3234 - val_time_distributed_7_loss: 0.1374 - val_time_distributed_8_loss: 0.1319 - val_time_distributed_9_loss: 0.0891 - val_time_distributed_10_loss: 0.0136 - val_time_distributed_11_loss: 0.0275 - val_time_distributed_1_acc: 0.9051 - val_time_distributed_2_acc: 0.9116 - val_time_distributed_3_acc: 0.9802 - val_time_distributed_4_acc: 0.8891 - val_time_distributed_5_acc: 0.9016 - val_time_distributed_6_acc: 0.8667 - val_time_distributed_7_acc: 0.9531 - val_time_distributed_8_acc: 0.9597 - val_time_distributed_9_acc: 0.9700 - val_time_distributed_10_acc: 0.9972 - val_time_distributed_11_acc: 0.9949\n",
            "Epoch 91/100\n",
            "6781/6781 [==============================] - 2s 330us/step - loss: 1.6426 - time_distributed_1_loss: 0.2939 - time_distributed_2_loss: 0.1775 - time_distributed_3_loss: 0.0636 - time_distributed_4_loss: 0.2892 - time_distributed_5_loss: 0.2314 - time_distributed_6_loss: 0.2849 - time_distributed_7_loss: 0.1026 - time_distributed_8_loss: 0.1024 - time_distributed_9_loss: 0.0608 - time_distributed_10_loss: 0.0115 - time_distributed_11_loss: 0.0248 - time_distributed_1_acc: 0.9177 - time_distributed_2_acc: 0.9230 - time_distributed_3_acc: 0.9823 - time_distributed_4_acc: 0.9024 - time_distributed_5_acc: 0.9139 - time_distributed_6_acc: 0.8784 - time_distributed_7_acc: 0.9618 - time_distributed_8_acc: 0.9657 - time_distributed_9_acc: 0.9785 - time_distributed_10_acc: 0.9977 - time_distributed_11_acc: 0.9949 - val_loss: 1.9382 - val_time_distributed_1_loss: 0.3478 - val_time_distributed_2_loss: 0.2025 - val_time_distributed_3_loss: 0.0777 - val_time_distributed_4_loss: 0.3269 - val_time_distributed_5_loss: 0.2608 - val_time_distributed_6_loss: 0.3224 - val_time_distributed_7_loss: 0.1376 - val_time_distributed_8_loss: 0.1319 - val_time_distributed_9_loss: 0.0894 - val_time_distributed_10_loss: 0.0136 - val_time_distributed_11_loss: 0.0275 - val_time_distributed_1_acc: 0.9052 - val_time_distributed_2_acc: 0.9123 - val_time_distributed_3_acc: 0.9804 - val_time_distributed_4_acc: 0.8892 - val_time_distributed_5_acc: 0.9018 - val_time_distributed_6_acc: 0.8679 - val_time_distributed_7_acc: 0.9531 - val_time_distributed_8_acc: 0.9601 - val_time_distributed_9_acc: 0.9706 - val_time_distributed_10_acc: 0.9972 - val_time_distributed_11_acc: 0.9949\n",
            "Epoch 92/100\n",
            "6781/6781 [==============================] - 2s 330us/step - loss: 1.6354 - time_distributed_1_loss: 0.2925 - time_distributed_2_loss: 0.1769 - time_distributed_3_loss: 0.0632 - time_distributed_4_loss: 0.2882 - time_distributed_5_loss: 0.2303 - time_distributed_6_loss: 0.2834 - time_distributed_7_loss: 0.1021 - time_distributed_8_loss: 0.1019 - time_distributed_9_loss: 0.0606 - time_distributed_10_loss: 0.0114 - time_distributed_11_loss: 0.0248 - time_distributed_1_acc: 0.9180 - time_distributed_2_acc: 0.9236 - time_distributed_3_acc: 0.9824 - time_distributed_4_acc: 0.9028 - time_distributed_5_acc: 0.9137 - time_distributed_6_acc: 0.8797 - time_distributed_7_acc: 0.9621 - time_distributed_8_acc: 0.9658 - time_distributed_9_acc: 0.9785 - time_distributed_10_acc: 0.9977 - time_distributed_11_acc: 0.9949 - val_loss: 1.9353 - val_time_distributed_1_loss: 0.3476 - val_time_distributed_2_loss: 0.2022 - val_time_distributed_3_loss: 0.0777 - val_time_distributed_4_loss: 0.3260 - val_time_distributed_5_loss: 0.2592 - val_time_distributed_6_loss: 0.3214 - val_time_distributed_7_loss: 0.1382 - val_time_distributed_8_loss: 0.1322 - val_time_distributed_9_loss: 0.0900 - val_time_distributed_10_loss: 0.0135 - val_time_distributed_11_loss: 0.0274 - val_time_distributed_1_acc: 0.9060 - val_time_distributed_2_acc: 0.9139 - val_time_distributed_3_acc: 0.9807 - val_time_distributed_4_acc: 0.8890 - val_time_distributed_5_acc: 0.9037 - val_time_distributed_6_acc: 0.8670 - val_time_distributed_7_acc: 0.9532 - val_time_distributed_8_acc: 0.9598 - val_time_distributed_9_acc: 0.9706 - val_time_distributed_10_acc: 0.9972 - val_time_distributed_11_acc: 0.9949\n",
            "Epoch 93/100\n",
            "6781/6781 [==============================] - 2s 328us/step - loss: 1.6305 - time_distributed_1_loss: 0.2916 - time_distributed_2_loss: 0.1765 - time_distributed_3_loss: 0.0630 - time_distributed_4_loss: 0.2869 - time_distributed_5_loss: 0.2293 - time_distributed_6_loss: 0.2829 - time_distributed_7_loss: 0.1019 - time_distributed_8_loss: 0.1018 - time_distributed_9_loss: 0.0605 - time_distributed_10_loss: 0.0114 - time_distributed_11_loss: 0.0247 - time_distributed_1_acc: 0.9182 - time_distributed_2_acc: 0.9235 - time_distributed_3_acc: 0.9825 - time_distributed_4_acc: 0.9029 - time_distributed_5_acc: 0.9147 - time_distributed_6_acc: 0.8799 - time_distributed_7_acc: 0.9620 - time_distributed_8_acc: 0.9659 - time_distributed_9_acc: 0.9785 - time_distributed_10_acc: 0.9977 - time_distributed_11_acc: 0.9949 - val_loss: 1.9303 - val_time_distributed_1_loss: 0.3460 - val_time_distributed_2_loss: 0.2020 - val_time_distributed_3_loss: 0.0774 - val_time_distributed_4_loss: 0.3259 - val_time_distributed_5_loss: 0.2583 - val_time_distributed_6_loss: 0.3202 - val_time_distributed_7_loss: 0.1378 - val_time_distributed_8_loss: 0.1321 - val_time_distributed_9_loss: 0.0898 - val_time_distributed_10_loss: 0.0135 - val_time_distributed_11_loss: 0.0274 - val_time_distributed_1_acc: 0.9064 - val_time_distributed_2_acc: 0.9135 - val_time_distributed_3_acc: 0.9805 - val_time_distributed_4_acc: 0.8880 - val_time_distributed_5_acc: 0.9037 - val_time_distributed_6_acc: 0.8673 - val_time_distributed_7_acc: 0.9535 - val_time_distributed_8_acc: 0.9603 - val_time_distributed_9_acc: 0.9702 - val_time_distributed_10_acc: 0.9972 - val_time_distributed_11_acc: 0.9949\n",
            "Epoch 94/100\n",
            "6781/6781 [==============================] - 2s 330us/step - loss: 1.6264 - time_distributed_1_loss: 0.2908 - time_distributed_2_loss: 0.1762 - time_distributed_3_loss: 0.0628 - time_distributed_4_loss: 0.2861 - time_distributed_5_loss: 0.2286 - time_distributed_6_loss: 0.2820 - time_distributed_7_loss: 0.1019 - time_distributed_8_loss: 0.1015 - time_distributed_9_loss: 0.0605 - time_distributed_10_loss: 0.0114 - time_distributed_11_loss: 0.0246 - time_distributed_1_acc: 0.9182 - time_distributed_2_acc: 0.9237 - time_distributed_3_acc: 0.9826 - time_distributed_4_acc: 0.9033 - time_distributed_5_acc: 0.9149 - time_distributed_6_acc: 0.8803 - time_distributed_7_acc: 0.9621 - time_distributed_8_acc: 0.9658 - time_distributed_9_acc: 0.9782 - time_distributed_10_acc: 0.9977 - time_distributed_11_acc: 0.9949 - val_loss: 1.9270 - val_time_distributed_1_loss: 0.3453 - val_time_distributed_2_loss: 0.2019 - val_time_distributed_3_loss: 0.0773 - val_time_distributed_4_loss: 0.3255 - val_time_distributed_5_loss: 0.2580 - val_time_distributed_6_loss: 0.3201 - val_time_distributed_7_loss: 0.1372 - val_time_distributed_8_loss: 0.1316 - val_time_distributed_9_loss: 0.0892 - val_time_distributed_10_loss: 0.0134 - val_time_distributed_11_loss: 0.0273 - val_time_distributed_1_acc: 0.9058 - val_time_distributed_2_acc: 0.9146 - val_time_distributed_3_acc: 0.9802 - val_time_distributed_4_acc: 0.8888 - val_time_distributed_5_acc: 0.9047 - val_time_distributed_6_acc: 0.8683 - val_time_distributed_7_acc: 0.9531 - val_time_distributed_8_acc: 0.9600 - val_time_distributed_9_acc: 0.9700 - val_time_distributed_10_acc: 0.9972 - val_time_distributed_11_acc: 0.9949\n",
            "Epoch 95/100\n",
            "6781/6781 [==============================] - 2s 324us/step - loss: 1.6194 - time_distributed_1_loss: 0.2893 - time_distributed_2_loss: 0.1754 - time_distributed_3_loss: 0.0626 - time_distributed_4_loss: 0.2850 - time_distributed_5_loss: 0.2275 - time_distributed_6_loss: 0.2808 - time_distributed_7_loss: 0.1015 - time_distributed_8_loss: 0.1011 - time_distributed_9_loss: 0.0602 - time_distributed_10_loss: 0.0113 - time_distributed_11_loss: 0.0246 - time_distributed_1_acc: 0.9184 - time_distributed_2_acc: 0.9240 - time_distributed_3_acc: 0.9826 - time_distributed_4_acc: 0.9036 - time_distributed_5_acc: 0.9154 - time_distributed_6_acc: 0.8809 - time_distributed_7_acc: 0.9624 - time_distributed_8_acc: 0.9661 - time_distributed_9_acc: 0.9786 - time_distributed_10_acc: 0.9977 - time_distributed_11_acc: 0.9949 - val_loss: 1.9289 - val_time_distributed_1_loss: 0.3459 - val_time_distributed_2_loss: 0.2017 - val_time_distributed_3_loss: 0.0772 - val_time_distributed_4_loss: 0.3252 - val_time_distributed_5_loss: 0.2579 - val_time_distributed_6_loss: 0.3201 - val_time_distributed_7_loss: 0.1380 - val_time_distributed_8_loss: 0.1323 - val_time_distributed_9_loss: 0.0900 - val_time_distributed_10_loss: 0.0134 - val_time_distributed_11_loss: 0.0273 - val_time_distributed_1_acc: 0.9060 - val_time_distributed_2_acc: 0.9137 - val_time_distributed_3_acc: 0.9804 - val_time_distributed_4_acc: 0.8886 - val_time_distributed_5_acc: 0.9041 - val_time_distributed_6_acc: 0.8680 - val_time_distributed_7_acc: 0.9533 - val_time_distributed_8_acc: 0.9599 - val_time_distributed_9_acc: 0.9700 - val_time_distributed_10_acc: 0.9972 - val_time_distributed_11_acc: 0.9949\n",
            "Epoch 96/100\n",
            "6781/6781 [==============================] - 2s 324us/step - loss: 1.6148 - time_distributed_1_loss: 0.2883 - time_distributed_2_loss: 0.1751 - time_distributed_3_loss: 0.0624 - time_distributed_4_loss: 0.2841 - time_distributed_5_loss: 0.2266 - time_distributed_6_loss: 0.2800 - time_distributed_7_loss: 0.1014 - time_distributed_8_loss: 0.1011 - time_distributed_9_loss: 0.0601 - time_distributed_10_loss: 0.0113 - time_distributed_11_loss: 0.0245 - time_distributed_1_acc: 0.9185 - time_distributed_2_acc: 0.9238 - time_distributed_3_acc: 0.9826 - time_distributed_4_acc: 0.9041 - time_distributed_5_acc: 0.9158 - time_distributed_6_acc: 0.8807 - time_distributed_7_acc: 0.9624 - time_distributed_8_acc: 0.9659 - time_distributed_9_acc: 0.9786 - time_distributed_10_acc: 0.9977 - time_distributed_11_acc: 0.9949 - val_loss: 1.9262 - val_time_distributed_1_loss: 0.3455 - val_time_distributed_2_loss: 0.2020 - val_time_distributed_3_loss: 0.0769 - val_time_distributed_4_loss: 0.3247 - val_time_distributed_5_loss: 0.2570 - val_time_distributed_6_loss: 0.3193 - val_time_distributed_7_loss: 0.1380 - val_time_distributed_8_loss: 0.1321 - val_time_distributed_9_loss: 0.0900 - val_time_distributed_10_loss: 0.0134 - val_time_distributed_11_loss: 0.0272 - val_time_distributed_1_acc: 0.9064 - val_time_distributed_2_acc: 0.9142 - val_time_distributed_3_acc: 0.9805 - val_time_distributed_4_acc: 0.8902 - val_time_distributed_5_acc: 0.9044 - val_time_distributed_6_acc: 0.8686 - val_time_distributed_7_acc: 0.9536 - val_time_distributed_8_acc: 0.9601 - val_time_distributed_9_acc: 0.9701 - val_time_distributed_10_acc: 0.9972 - val_time_distributed_11_acc: 0.9949\n",
            "Epoch 97/100\n",
            "6781/6781 [==============================] - 2s 324us/step - loss: 1.6091 - time_distributed_1_loss: 0.2871 - time_distributed_2_loss: 0.1747 - time_distributed_3_loss: 0.0621 - time_distributed_4_loss: 0.2831 - time_distributed_5_loss: 0.2258 - time_distributed_6_loss: 0.2790 - time_distributed_7_loss: 0.1011 - time_distributed_8_loss: 0.1006 - time_distributed_9_loss: 0.0599 - time_distributed_10_loss: 0.0112 - time_distributed_11_loss: 0.0244 - time_distributed_1_acc: 0.9188 - time_distributed_2_acc: 0.9243 - time_distributed_3_acc: 0.9826 - time_distributed_4_acc: 0.9048 - time_distributed_5_acc: 0.9160 - time_distributed_6_acc: 0.8820 - time_distributed_7_acc: 0.9626 - time_distributed_8_acc: 0.9661 - time_distributed_9_acc: 0.9785 - time_distributed_10_acc: 0.9977 - time_distributed_11_acc: 0.9949 - val_loss: 1.9274 - val_time_distributed_1_loss: 0.3455 - val_time_distributed_2_loss: 0.2018 - val_time_distributed_3_loss: 0.0770 - val_time_distributed_4_loss: 0.3245 - val_time_distributed_5_loss: 0.2572 - val_time_distributed_6_loss: 0.3196 - val_time_distributed_7_loss: 0.1384 - val_time_distributed_8_loss: 0.1326 - val_time_distributed_9_loss: 0.0903 - val_time_distributed_10_loss: 0.0133 - val_time_distributed_11_loss: 0.0272 - val_time_distributed_1_acc: 0.9067 - val_time_distributed_2_acc: 0.9133 - val_time_distributed_3_acc: 0.9807 - val_time_distributed_4_acc: 0.8892 - val_time_distributed_5_acc: 0.9054 - val_time_distributed_6_acc: 0.8663 - val_time_distributed_7_acc: 0.9534 - val_time_distributed_8_acc: 0.9601 - val_time_distributed_9_acc: 0.9700 - val_time_distributed_10_acc: 0.9972 - val_time_distributed_11_acc: 0.9949\n",
            "Epoch 98/100\n",
            "6781/6781 [==============================] - 2s 322us/step - loss: 1.6047 - time_distributed_1_loss: 0.2862 - time_distributed_2_loss: 0.1742 - time_distributed_3_loss: 0.0619 - time_distributed_4_loss: 0.2823 - time_distributed_5_loss: 0.2250 - time_distributed_6_loss: 0.2783 - time_distributed_7_loss: 0.1010 - time_distributed_8_loss: 0.1004 - time_distributed_9_loss: 0.0597 - time_distributed_10_loss: 0.0112 - time_distributed_11_loss: 0.0244 - time_distributed_1_acc: 0.9188 - time_distributed_2_acc: 0.9242 - time_distributed_3_acc: 0.9828 - time_distributed_4_acc: 0.9045 - time_distributed_5_acc: 0.9160 - time_distributed_6_acc: 0.8826 - time_distributed_7_acc: 0.9625 - time_distributed_8_acc: 0.9659 - time_distributed_9_acc: 0.9786 - time_distributed_10_acc: 0.9977 - time_distributed_11_acc: 0.9950 - val_loss: 1.9272 - val_time_distributed_1_loss: 0.3451 - val_time_distributed_2_loss: 0.2018 - val_time_distributed_3_loss: 0.0768 - val_time_distributed_4_loss: 0.3240 - val_time_distributed_5_loss: 0.2575 - val_time_distributed_6_loss: 0.3198 - val_time_distributed_7_loss: 0.1387 - val_time_distributed_8_loss: 0.1326 - val_time_distributed_9_loss: 0.0905 - val_time_distributed_10_loss: 0.0133 - val_time_distributed_11_loss: 0.0272 - val_time_distributed_1_acc: 0.9064 - val_time_distributed_2_acc: 0.9136 - val_time_distributed_3_acc: 0.9808 - val_time_distributed_4_acc: 0.8892 - val_time_distributed_5_acc: 0.9054 - val_time_distributed_6_acc: 0.8681 - val_time_distributed_7_acc: 0.9533 - val_time_distributed_8_acc: 0.9605 - val_time_distributed_9_acc: 0.9703 - val_time_distributed_10_acc: 0.9972 - val_time_distributed_11_acc: 0.9949\n",
            "Epoch 99/100\n",
            "6781/6781 [==============================] - 2s 323us/step - loss: 1.6013 - time_distributed_1_loss: 0.2854 - time_distributed_2_loss: 0.1739 - time_distributed_3_loss: 0.0617 - time_distributed_4_loss: 0.2815 - time_distributed_5_loss: 0.2247 - time_distributed_6_loss: 0.2778 - time_distributed_7_loss: 0.1008 - time_distributed_8_loss: 0.1003 - time_distributed_9_loss: 0.0598 - time_distributed_10_loss: 0.0112 - time_distributed_11_loss: 0.0243 - time_distributed_1_acc: 0.9189 - time_distributed_2_acc: 0.9248 - time_distributed_3_acc: 0.9827 - time_distributed_4_acc: 0.9050 - time_distributed_5_acc: 0.9164 - time_distributed_6_acc: 0.8816 - time_distributed_7_acc: 0.9625 - time_distributed_8_acc: 0.9659 - time_distributed_9_acc: 0.9789 - time_distributed_10_acc: 0.9977 - time_distributed_11_acc: 0.9949 - val_loss: 1.9263 - val_time_distributed_1_loss: 0.3452 - val_time_distributed_2_loss: 0.2015 - val_time_distributed_3_loss: 0.0768 - val_time_distributed_4_loss: 0.3238 - val_time_distributed_5_loss: 0.2569 - val_time_distributed_6_loss: 0.3198 - val_time_distributed_7_loss: 0.1387 - val_time_distributed_8_loss: 0.1327 - val_time_distributed_9_loss: 0.0905 - val_time_distributed_10_loss: 0.0133 - val_time_distributed_11_loss: 0.0271 - val_time_distributed_1_acc: 0.9069 - val_time_distributed_2_acc: 0.9148 - val_time_distributed_3_acc: 0.9804 - val_time_distributed_4_acc: 0.8886 - val_time_distributed_5_acc: 0.9055 - val_time_distributed_6_acc: 0.8670 - val_time_distributed_7_acc: 0.9536 - val_time_distributed_8_acc: 0.9602 - val_time_distributed_9_acc: 0.9699 - val_time_distributed_10_acc: 0.9972 - val_time_distributed_11_acc: 0.9949\n",
            "Epoch 100/100\n",
            "6781/6781 [==============================] - 2s 322us/step - loss: 1.5958 - time_distributed_1_loss: 0.2845 - time_distributed_2_loss: 0.1735 - time_distributed_3_loss: 0.0614 - time_distributed_4_loss: 0.2805 - time_distributed_5_loss: 0.2235 - time_distributed_6_loss: 0.2769 - time_distributed_7_loss: 0.1006 - time_distributed_8_loss: 0.0999 - time_distributed_9_loss: 0.0594 - time_distributed_10_loss: 0.0112 - time_distributed_11_loss: 0.0243 - time_distributed_1_acc: 0.9190 - time_distributed_2_acc: 0.9248 - time_distributed_3_acc: 0.9828 - time_distributed_4_acc: 0.9052 - time_distributed_5_acc: 0.9168 - time_distributed_6_acc: 0.8830 - time_distributed_7_acc: 0.9626 - time_distributed_8_acc: 0.9661 - time_distributed_9_acc: 0.9789 - time_distributed_10_acc: 0.9977 - time_distributed_11_acc: 0.9950 - val_loss: 1.9219 - val_time_distributed_1_loss: 0.3443 - val_time_distributed_2_loss: 0.2014 - val_time_distributed_3_loss: 0.0765 - val_time_distributed_4_loss: 0.3229 - val_time_distributed_5_loss: 0.2565 - val_time_distributed_6_loss: 0.3184 - val_time_distributed_7_loss: 0.1385 - val_time_distributed_8_loss: 0.1325 - val_time_distributed_9_loss: 0.0905 - val_time_distributed_10_loss: 0.0132 - val_time_distributed_11_loss: 0.0271 - val_time_distributed_1_acc: 0.9064 - val_time_distributed_2_acc: 0.9140 - val_time_distributed_3_acc: 0.9807 - val_time_distributed_4_acc: 0.8899 - val_time_distributed_5_acc: 0.9053 - val_time_distributed_6_acc: 0.8684 - val_time_distributed_7_acc: 0.9533 - val_time_distributed_8_acc: 0.9601 - val_time_distributed_9_acc: 0.9702 - val_time_distributed_10_acc: 0.9972 - val_time_distributed_11_acc: 0.9949\n"
          ],
          "name": "stdout"
        },
        {
          "output_type": "execute_result",
          "data": {
            "text/plain": [
              "<keras.callbacks.History at 0x7f7d720c0208>"
            ]
          },
          "metadata": {
            "tags": []
          },
          "execution_count": 82
        }
      ]
    },
    {
      "cell_type": "markdown",
      "metadata": {
        "id": "fv-WKLdalVmW",
        "colab_type": "text"
      },
      "source": [
        "Протестируем и посмотрим на метрики."
      ]
    },
    {
      "cell_type": "code",
      "metadata": {
        "id": "r7erY3-Iqttr",
        "colab_type": "code",
        "outputId": "a2d20cc6-9aaa-4b2e-fe6f-5d4386b394f9",
        "colab": {
          "base_uri": "https://localhost:8080/",
          "height": 34
        }
      },
      "source": [
        "scores = model.evaluate(x=test_sents, y=[to_categorical(test_pos), to_categorical(test_animacy), to_categorical(test_person), to_categorical(test_case),\n",
        "                                         to_categorical(test_number), to_categorical(test_gender), to_categorical(test_transitivity), to_categorical(test_tense),\n",
        "                                         to_categorical(test_mood), to_categorical(test_inclusivity), to_categorical(test_voice)])"
      ],
      "execution_count": 83,
      "outputs": [
        {
          "output_type": "stream",
          "text": [
            "2120/2120 [==============================] - 1s 358us/step\n"
          ],
          "name": "stdout"
        }
      ]
    },
    {
      "cell_type": "code",
      "metadata": {
        "id": "traYEbL4sUgO",
        "colab_type": "code",
        "outputId": "ed953081-2f16-4ba3-da53-5ec984f04ec0",
        "colab": {
          "base_uri": "https://localhost:8080/",
          "height": 459
        }
      },
      "source": [
        "print('overall loss: ' + str(scores[0]))\n",
        "print('loss:')\n",
        "for i, (tag, score) in enumerate(zip('pos, animacy, person, case, number, gender, transitivity, tense, mood, inclusivity, voice'.split(', '),\n",
        "                                 scores[1:])):\n",
        "    print(tag + ': ' + str(scores[1 + i]))\n",
        "print('--------------------------')\n",
        "print('accuracy:')\n",
        "for i, (tag, score) in enumerate(zip('pos, animacy, person, case, number, gender, transitivity, tense, mood, inclusivity, voice'.split(', '),\n",
        "                                 scores[12:])):\n",
        "    print(tag + ': ' + str(scores[12 + i]))"
      ],
      "execution_count": 84,
      "outputs": [
        {
          "output_type": "stream",
          "text": [
            "overall loss: 1.9346809819059552\n",
            "loss:\n",
            "pos: 0.3450742226726604\n",
            "animacy: 0.20198092691178593\n",
            "person: 0.07439034187568809\n",
            "case: 0.3250033754222798\n",
            "number: 0.25868783986793376\n",
            "gender: 0.32159894794788\n",
            "transitivity: 0.1375497912460903\n",
            "tense: 0.13057159815194472\n",
            "mood: 0.09155714539986737\n",
            "inclusivity: 0.017563808900919162\n",
            "voice: 0.030702976425582507\n",
            "--------------------------\n",
            "accuracy:\n",
            "pos: 0.9053773596601666\n",
            "animacy: 0.9115094313081705\n",
            "person: 0.9809905648231506\n",
            "case: 0.8889622636561124\n",
            "number: 0.9042924527852041\n",
            "gender: 0.8670754711582975\n",
            "transitivity: 0.9545283002673455\n",
            "tense: 0.9586792448781571\n",
            "mood: 0.9693867888090746\n",
            "inclusivity: 0.996132067914279\n",
            "voice: 0.9934905618991492\n"
          ],
          "name": "stdout"
        }
      ]
    },
    {
      "cell_type": "code",
      "metadata": {
        "id": "2oEH7v1CgK2r",
        "colab_type": "code",
        "outputId": "f113b170-5b6f-4e5c-d29b-46264cd86d0b",
        "colab": {
          "base_uri": "https://localhost:8080/",
          "height": 408
        }
      },
      "source": [
        "scores"
      ],
      "execution_count": 85,
      "outputs": [
        {
          "output_type": "execute_result",
          "data": {
            "text/plain": [
              "[1.9346809819059552,\n",
              " 0.3450742226726604,\n",
              " 0.20198092691178593,\n",
              " 0.07439034187568809,\n",
              " 0.3250033754222798,\n",
              " 0.25868783986793376,\n",
              " 0.32159894794788,\n",
              " 0.1375497912460903,\n",
              " 0.13057159815194472,\n",
              " 0.09155714539986737,\n",
              " 0.017563808900919162,\n",
              " 0.030702976425582507,\n",
              " 0.9053773596601666,\n",
              " 0.9115094313081705,\n",
              " 0.9809905648231506,\n",
              " 0.8889622636561124,\n",
              " 0.9042924527852041,\n",
              " 0.8670754711582975,\n",
              " 0.9545283002673455,\n",
              " 0.9586792448781571,\n",
              " 0.9693867888090746,\n",
              " 0.996132067914279,\n",
              " 0.9934905618991492]"
            ]
          },
          "metadata": {
            "tags": []
          },
          "execution_count": 85
        }
      ]
    },
    {
      "cell_type": "code",
      "metadata": {
        "id": "mNlrNWV2UdaV",
        "colab_type": "code",
        "outputId": "3de03868-9b99-446f-fd9e-76e4cf5fe7bc",
        "colab": {
          "base_uri": "https://localhost:8080/",
          "height": 408
        }
      },
      "source": [
        "model.metrics_names"
      ],
      "execution_count": 86,
      "outputs": [
        {
          "output_type": "execute_result",
          "data": {
            "text/plain": [
              "['loss',\n",
              " 'time_distributed_1_loss',\n",
              " 'time_distributed_2_loss',\n",
              " 'time_distributed_3_loss',\n",
              " 'time_distributed_4_loss',\n",
              " 'time_distributed_5_loss',\n",
              " 'time_distributed_6_loss',\n",
              " 'time_distributed_7_loss',\n",
              " 'time_distributed_8_loss',\n",
              " 'time_distributed_9_loss',\n",
              " 'time_distributed_10_loss',\n",
              " 'time_distributed_11_loss',\n",
              " 'time_distributed_1_acc',\n",
              " 'time_distributed_2_acc',\n",
              " 'time_distributed_3_acc',\n",
              " 'time_distributed_4_acc',\n",
              " 'time_distributed_5_acc',\n",
              " 'time_distributed_6_acc',\n",
              " 'time_distributed_7_acc',\n",
              " 'time_distributed_8_acc',\n",
              " 'time_distributed_9_acc',\n",
              " 'time_distributed_10_acc',\n",
              " 'time_distributed_11_acc']"
            ]
          },
          "metadata": {
            "tags": []
          },
          "execution_count": 86
        }
      ]
    },
    {
      "cell_type": "markdown",
      "metadata": {
        "id": "83Aae57OG9jW",
        "colab_type": "text"
      },
      "source": [
        "Тестируем на нашем предложении."
      ]
    },
    {
      "cell_type": "code",
      "metadata": {
        "id": "XwLzu3ZCsNiA",
        "colab_type": "code",
        "colab": {}
      },
      "source": [
        "test_samples = [\"эти типы стали есть на складе .\".split()]"
      ],
      "execution_count": 0,
      "outputs": []
    },
    {
      "cell_type": "markdown",
      "metadata": {
        "id": "DpYyrQqZk4Gf",
        "colab_type": "text"
      },
      "source": [
        "Предобработаем предложения таким же способом, как и обучающую выборку."
      ]
    },
    {
      "cell_type": "code",
      "metadata": {
        "id": "ygWXMpfOnVzg",
        "colab_type": "code",
        "outputId": "e454f14f-14a6-4013-8bd9-1fe268623eb6",
        "colab": {
          "base_uri": "https://localhost:8080/",
          "height": 51
        }
      },
      "source": [
        "test_samples_X = []\n",
        "for sent in test_samples:\n",
        "    sent_ids = []\n",
        "    for word in sent:\n",
        "        if word not in word2id:\n",
        "            print(word)\n",
        "        sent_ids.append(word2id.get(word.lower(), 1))\n",
        "    test_samples_X.append(sent_ids)"
      ],
      "execution_count": 88,
      "outputs": [
        {
          "output_type": "stream",
          "text": [
            "есть\n",
            "складе\n"
          ],
          "name": "stdout"
        }
      ]
    },
    {
      "cell_type": "code",
      "metadata": {
        "id": "s9lJvCOQqFWA",
        "colab_type": "code",
        "outputId": "1296274b-1ad6-4e6e-de80-3f5caf3d2d7e",
        "colab": {
          "base_uri": "https://localhost:8080/",
          "height": 34
        }
      },
      "source": [
        "test_samples_X"
      ],
      "execution_count": 89,
      "outputs": [
        {
          "output_type": "execute_result",
          "data": {
            "text/plain": [
              "[[1647, 452, 821, 1, 1365, 1, 1917]]"
            ]
          },
          "metadata": {
            "tags": []
          },
          "execution_count": 89
        }
      ]
    },
    {
      "cell_type": "code",
      "metadata": {
        "id": "VBBdjilPnV1d",
        "colab_type": "code",
        "outputId": "082f5057-6df4-4be6-aea8-51f720ed1b29",
        "colab": {
          "base_uri": "https://localhost:8080/",
          "height": 34
        }
      },
      "source": [
        "test_samples_X = pad_sequences(test_samples_X, maxlen=MAX_LENGTH, padding='post')\n",
        "print(test_samples_X)"
      ],
      "execution_count": 90,
      "outputs": [
        {
          "output_type": "stream",
          "text": [
            "[[1647  452  821    1 1365    1 1917    0    0    0]]\n"
          ],
          "name": "stdout"
        }
      ]
    },
    {
      "cell_type": "code",
      "metadata": {
        "id": "PQPc6xdXnV4b",
        "colab_type": "code",
        "colab": {}
      },
      "source": [
        "predictions = model.predict(test_samples_X)"
      ],
      "execution_count": 0,
      "outputs": []
    },
    {
      "cell_type": "markdown",
      "metadata": {
        "id": "t64ePuFslGge",
        "colab_type": "text"
      },
      "source": [
        "Модель выдает по предикшену для каждого аутпута"
      ]
    },
    {
      "cell_type": "code",
      "metadata": {
        "id": "rgujSXjrqLCz",
        "colab_type": "code",
        "outputId": "ed5c7f34-38b5-4748-f946-f8426e185585",
        "colab": {
          "base_uri": "https://localhost:8080/",
          "height": 34
        }
      },
      "source": [
        "len(predictions)"
      ],
      "execution_count": 92,
      "outputs": [
        {
          "output_type": "execute_result",
          "data": {
            "text/plain": [
              "11"
            ]
          },
          "metadata": {
            "tags": []
          },
          "execution_count": 92
        }
      ]
    },
    {
      "cell_type": "code",
      "metadata": {
        "id": "aiubwR8xnV7h",
        "colab_type": "code",
        "outputId": "94c5add1-f474-44ca-fca8-1cbaf9fc3a2e",
        "colab": {
          "base_uri": "https://localhost:8080/",
          "height": 136
        }
      },
      "source": [
        "for i, idx in enumerate(predictions[0].argmax(axis=2)[0]):\n",
        "    if i > (len(test_samples[0])-1):\n",
        "        break\n",
        "    print(test_samples[0][i], id2pos[idx])"
      ],
      "execution_count": 93,
      "outputs": [
        {
          "output_type": "stream",
          "text": [
            "эти ADJF\n",
            "типы NOUN\n",
            "стали VERB\n",
            "есть VERB\n",
            "на PREP\n",
            "складе NOUN\n",
            ". PNCT\n"
          ],
          "name": "stdout"
        }
      ]
    },
    {
      "cell_type": "code",
      "metadata": {
        "id": "vWkwNnyzVcew",
        "colab_type": "code",
        "outputId": "e956ba70-fdeb-43be-ac01-4ee68dd4cf29",
        "colab": {
          "base_uri": "https://localhost:8080/",
          "height": 136
        }
      },
      "source": [
        "for i, idx in enumerate(predictions[1].argmax(axis=2)[0]):\n",
        "    if i > (len(test_samples[0]) - 1):\n",
        "        break\n",
        "    print(test_samples[0][i], id2animacy[idx])"
      ],
      "execution_count": 94,
      "outputs": [
        {
          "output_type": "stream",
          "text": [
            "эти NONE\n",
            "типы inan\n",
            "стали NONE\n",
            "есть NONE\n",
            "на NONE\n",
            "складе inan\n",
            ". NONE\n"
          ],
          "name": "stdout"
        }
      ]
    },
    {
      "cell_type": "code",
      "metadata": {
        "id": "H7phMVLiiwMM",
        "colab_type": "code",
        "outputId": "7a9851a0-ba17-4c73-f87e-dd4b7754354e",
        "colab": {
          "base_uri": "https://localhost:8080/",
          "height": 136
        }
      },
      "source": [
        "# Как видно из примера, за 100 эпох модель не смогла корректно выучить падежную атрибуцию, но для демонстрации такого количества эпох достаточно\n",
        "for i, idx in enumerate(predictions[3].argmax(axis=2)[0]):\n",
        "    if i > (len(test_samples[0]) - 1):\n",
        "        break\n",
        "    if id2pos[idx] == 'VERB':\n",
        "       id2case[idx] = 'NONE' # можно также добавить множество других предсказаний для разных частей речи, но ради демонстрации обойдёмся только этим\n",
        "    print(test_samples[0][i], id2case[idx])"
      ],
      "execution_count": 95,
      "outputs": [
        {
          "output_type": "stream",
          "text": [
            "эти nomn\n",
            "типы gent\n",
            "стали NONE\n",
            "есть NONE\n",
            "на NONE\n",
            "складе loct\n",
            ". NONE\n"
          ],
          "name": "stdout"
        }
      ]
    },
    {
      "cell_type": "code",
      "metadata": {
        "id": "ucCYnEXOi9-8",
        "colab_type": "code",
        "outputId": "5099665f-4e15-4f4d-93cb-463d0b2342a7",
        "colab": {
          "base_uri": "https://localhost:8080/",
          "height": 136
        }
      },
      "source": [
        "# С числом чуть получше\n",
        "for i, idx in enumerate(predictions[4].argmax(axis=2)[0]):\n",
        "    if i > (len(test_samples[0]) - 1):\n",
        "        break\n",
        "    print(test_samples[0][i], id2number[idx])"
      ],
      "execution_count": 96,
      "outputs": [
        {
          "output_type": "stream",
          "text": [
            "эти plur\n",
            "типы plur\n",
            "стали plur\n",
            "есть NONE\n",
            "на NONE\n",
            "складе sing\n",
            ". NONE\n"
          ],
          "name": "stdout"
        }
      ]
    },
    {
      "cell_type": "code",
      "metadata": {
        "id": "M7xNllGQLZVm",
        "colab_type": "code",
        "outputId": "830d39b4-dfc1-410b-bd97-acba7a385e45",
        "colab": {
          "base_uri": "https://localhost:8080/",
          "height": 136
        }
      },
      "source": [
        "# Совсем всё хорошо (судя по accuracy, которое почти равно 1), например, с voice, но на данном примере предсказываются только None\n",
        "for i, idx in enumerate(predictions[-1].argmax(axis=2)[0]):\n",
        "    if i > (len(test_samples[0]) - 1):\n",
        "        break\n",
        "    print(test_samples[0][i], id2number[idx])"
      ],
      "execution_count": 97,
      "outputs": [
        {
          "output_type": "stream",
          "text": [
            "эти NONE\n",
            "типы NONE\n",
            "стали NONE\n",
            "есть NONE\n",
            "на NONE\n",
            "складе NONE\n",
            ". NONE\n"
          ],
          "name": "stdout"
        }
      ]
    },
    {
      "cell_type": "code",
      "metadata": {
        "id": "zTYUZDA1lvvh",
        "colab_type": "code",
        "outputId": "07b392c6-d4ab-455d-e4df-3dee74cccf2b",
        "colab": {
          "base_uri": "https://localhost:8080/",
          "height": 34
        }
      },
      "source": [
        "test_sents.shape"
      ],
      "execution_count": 98,
      "outputs": [
        {
          "output_type": "execute_result",
          "data": {
            "text/plain": [
              "(2120, 10)"
            ]
          },
          "metadata": {
            "tags": []
          },
          "execution_count": 98
        }
      ]
    },
    {
      "cell_type": "markdown",
      "metadata": {
        "id": "Qkoel38bmAp4",
        "colab_type": "text"
      },
      "source": [
        "Проверим качество на отложенной (т.е. на тестовой) выборке."
      ]
    },
    {
      "cell_type": "code",
      "metadata": {
        "id": "dQu-4G2FjNlj",
        "colab_type": "code",
        "colab": {}
      },
      "source": [
        "predictions = model.predict(test_sents)"
      ],
      "execution_count": 0,
      "outputs": []
    },
    {
      "cell_type": "code",
      "metadata": {
        "id": "MdyMJVA0jmDT",
        "colab_type": "code",
        "colab": {}
      },
      "source": [
        "words = []\n",
        "predicted_tags = []\n",
        "correct_tags = []\n",
        "for feature, func, test_array in zip(range(len(predictions)),\n",
        "                         [id2pos, id2animacy, id2person, id2case, id2number, id2gender,\n",
        "                          id2transitivity, id2tense, id2mood, id2inclusivity, id2voice],\n",
        "                         [test_pos, test_animacy, test_person, test_case,\n",
        "                          test_number, test_gender, test_transitivity, test_tense,\n",
        "                          test_mood, test_inclusivity, test_voice]):\n",
        "    for sent_i, sent_indices in enumerate(predictions[feature].argmax(axis=2)):\n",
        "        for word_i, word_id in enumerate(sent_indices):\n",
        "            words.append(id2word[test_sents[sent_i][word_i]])\n",
        "            predicted_tags.append(word_id)\n",
        "            correct_tags.append(test_array[sent_i][word_i])"
      ],
      "execution_count": 0,
      "outputs": []
    },
    {
      "cell_type": "code",
      "metadata": {
        "id": "O12xXESLwJST",
        "colab_type": "code",
        "outputId": "7b426bc4-447f-4197-d05e-0168f52ebeed",
        "colab": {
          "base_uri": "https://localhost:8080/",
          "height": 34
        }
      },
      "source": [
        "len(words), len(predicted_tags), len(correct_tags), len(predictions[0])"
      ],
      "execution_count": 101,
      "outputs": [
        {
          "output_type": "execute_result",
          "data": {
            "text/plain": [
              "(233200, 233200, 233200, 2120)"
            ]
          },
          "metadata": {
            "tags": []
          },
          "execution_count": 101
        }
      ]
    },
    {
      "cell_type": "code",
      "metadata": {
        "id": "JUBjj2RpwKWy",
        "colab_type": "code",
        "colab": {}
      },
      "source": [
        "factor = len(predictions[0])\n",
        "predicted_nums = []\n",
        "correct_nums = []\n",
        "for word_i in range(factor * MAX_LENGTH):\n",
        "    predicted_nums.append([])\n",
        "    correct_nums.append([])\n",
        "    for tmp in range(word_i, len(words), factor * 10):\n",
        "        predicted_nums[-1].append(predicted_tags[tmp])\n",
        "        correct_nums[-1].append(correct_tags[tmp])"
      ],
      "execution_count": 0,
      "outputs": []
    },
    {
      "cell_type": "code",
      "metadata": {
        "id": "vAymmM8mBW1n",
        "colab_type": "code",
        "colab": {}
      },
      "source": [
        "num_features = 11 # == len(predicten_nums[0])\n",
        "mistakes = Counter()\n",
        "preds = []\n",
        "\n",
        "for i in range(len(correct_nums)):\n",
        "    p = np.count_nonzero(np.equal(predicted_nums[i], correct_nums[i])) / num_features\n",
        "    preds.append(p)\n",
        "    if p < 0.5:\n",
        "        mistakes.update([(words[i], tuple(correct_nums[i]), tuple(predicted_nums[i]))])"
      ],
      "execution_count": 0,
      "outputs": []
    },
    {
      "cell_type": "code",
      "metadata": {
        "id": "sw9tVkB0EuUo",
        "colab_type": "code",
        "colab": {
          "base_uri": "https://localhost:8080/",
          "height": 34
        },
        "outputId": "d98a38bd-926e-49e0-e8bc-78a58331d273"
      },
      "source": [
        "# Качество лучше (несмотря на то, что мы обучали только на 100 эпохах), чем у pymorphy, на 6 тысячных, но мы предсказывали только 11 признаков, т.е. задачи не совсем равноценные.\n",
        "# Также мы подсчитывали результат по немного другой метрике: мы учитывали процент правильно угаданных грамматических признаков из 11 вышеупоминвашихся, а не меру Жакара.\n",
        "# Результат говорит о том, что в среднем нейросеть обучилась предсказывать > 10 из этих признаков правильно.\n",
        "np.mean(preds), np.std(preds)"
      ],
      "execution_count": 136,
      "outputs": [
        {
          "output_type": "execute_result",
          "data": {
            "text/plain": [
              "(0.9391295025728988, 0.13238091303386448)"
            ]
          },
          "metadata": {
            "tags": []
          },
          "execution_count": 136
        }
      ]
    },
    {
      "cell_type": "code",
      "metadata": {
        "id": "FlT--4jTGNZA",
        "colab_type": "code",
        "colab": {
          "base_uri": "https://localhost:8080/",
          "height": 697
        },
        "outputId": "f72b9a1e-6b18-4466-d0e3-c52593590239"
      },
      "source": [
        "# Как видно, наибольшее количество ошибок связано с <UNK> тегом. Скорее всего это связано с тем, что неизвестных слов много, т.е. научиться предсказывать разные случаи довольно затруднительно\n",
        "mistakes.most_common(10)"
      ],
      "execution_count": 137,
      "outputs": [
        {
          "output_type": "execute_result",
          "data": {
            "text/plain": [
              "[(('<UNK>',\n",
              "   (21, 1, 4, 1, 2, 1, 3, 2, 2, 1, 1),\n",
              "   (4, 1, 1, 1, 2, 2, 1, 1, 1, 1, 1)),\n",
              "  9),\n",
              " (('<UNK>',\n",
              "   (21, 1, 1, 1, 3, 1, 2, 1, 3, 3, 1),\n",
              "   (4, 1, 1, 2, 2, 1, 1, 1, 1, 1, 1)),\n",
              "  8),\n",
              " (('<UNK>',\n",
              "   (21, 1, 1, 1, 3, 1, 3, 1, 3, 3, 1),\n",
              "   (4, 1, 1, 2, 2, 1, 1, 1, 1, 1, 1)),\n",
              "  7),\n",
              " (('<UNK>',\n",
              "   (21, 1, 2, 1, 2, 1, 2, 2, 2, 1, 1),\n",
              "   (4, 1, 1, 2, 2, 1, 1, 1, 1, 1, 1)),\n",
              "  7),\n",
              " (('<UNK>',\n",
              "   (21, 1, 1, 1, 2, 3, 2, 3, 2, 1, 1),\n",
              "   (4, 1, 1, 2, 2, 1, 1, 1, 1, 1, 1)),\n",
              "  6),\n",
              " (('<UNK>',\n",
              "   (21, 1, 1, 1, 3, 1, 2, 3, 2, 1, 1),\n",
              "   (4, 1, 1, 2, 2, 1, 1, 1, 1, 1, 1)),\n",
              "  6),\n",
              " (('<UNK>',\n",
              "   (2, 1, 1, 1, 1, 1, 2, 1, 1, 1, 1),\n",
              "   (4, 4, 1, 2, 2, 2, 1, 1, 1, 1, 1)),\n",
              "  6),\n",
              " (('<UNK>',\n",
              "   (21, 1, 1, 1, 2, 2, 3, 3, 2, 1, 1),\n",
              "   (4, 1, 1, 2, 2, 1, 1, 1, 1, 1, 1)),\n",
              "  5),\n",
              " (('<UNK>',\n",
              "   (21, 1, 1, 1, 3, 1, 3, 3, 2, 1, 1),\n",
              "   (4, 1, 1, 1, 2, 2, 1, 1, 1, 1, 1)),\n",
              "  5),\n",
              " (('<UNK>',\n",
              "   (21, 1, 4, 1, 3, 1, 3, 2, 2, 1, 1),\n",
              "   (4, 4, 1, 3, 2, 2, 1, 1, 1, 1, 1)),\n",
              "  5)]"
            ]
          },
          "metadata": {
            "tags": []
          },
          "execution_count": 137
        }
      ]
    },
    {
      "cell_type": "code",
      "metadata": {
        "id": "6MZouyBTuQ6P",
        "colab_type": "code",
        "outputId": "6a37f2d8-80c6-4141-9a82-5dc40e6b2f9c",
        "colab": {
          "base_uri": "https://localhost:8080/",
          "height": 187
        }
      },
      "source": [
        "# Например, предсказание части речи\n",
        "for i, elem in enumerate(test_pos[0]):\n",
        "    print(id2word[test_sents[0][i]], id2pos[elem])"
      ],
      "execution_count": 138,
      "outputs": [
        {
          "output_type": "stream",
          "text": [
            "я NPRO\n",
            "<UNK> VERB\n",
            "<UNK> INFN\n",
            "к PREP\n",
            "<UNK> NOUN\n",
            "и CONJ\n",
            "в PREP\n",
            "обществе NOUN\n",
            "тех ADJF\n",
            "людей NOUN\n"
          ],
          "name": "stdout"
        }
      ]
    },
    {
      "cell_type": "markdown",
      "metadata": {
        "id": "DWvnBOsnH4Ah",
        "colab_type": "text"
      },
      "source": [
        "С аспектом возникают проблемы, попытаемся их исправить:"
      ]
    },
    {
      "cell_type": "code",
      "metadata": {
        "id": "7HDtSQWVn9PT",
        "colab_type": "code",
        "colab": {}
      },
      "source": [
        "from keras.models import Model\n",
        "from keras.layers import Dense, LSTM, Input, Bidirectional, TimeDistributed, Embedding, Activation\n",
        "from keras.optimizers import Adam\n",
        "\n",
        "inp = Input(shape=(MAX_LENGTH, ))\n",
        "# создаем эбмеддинги размерностью 8\n",
        "x = Embedding(len(word2id), 8)(inp)\n",
        "\n",
        "# пропускаем эмбединги через LSTM, чтобы модель учитывала контекст\n",
        "x = LSTM(20, return_sequences=True)(x)\n",
        "\n",
        "# каждый выход - последовательность классов\n",
        "pos = TimeDistributed(Dense(len(pos2id), activation='softmax'))(x)\n",
        "animacy = TimeDistributed(Dense(len(animacy2id), activation='softmax'))(x)\n",
        "person = TimeDistributed(Dense(len(person2id), activation='softmax'))(x)\n",
        "case = TimeDistributed(Dense(len(case2id), activation='softmax'))(x)\n",
        "number = TimeDistributed(Dense(len(number2id), activation='softmax'))(x)\n",
        "gender = TimeDistributed(Dense(len(gender2id), activation='softmax'))(x)\n",
        "transitivity = TimeDistributed(Dense(len(transitivity2id), activation='softmax'))(x)\n",
        "tense = TimeDistributed(Dense(len(tense2id), activation='softmax'))(x)\n",
        "mood = TimeDistributed(Dense(len(mood2id), activation='softmax'))(x)\n",
        "inclusivity = TimeDistributed(Dense(len(inclusivity2id), activation='softmax'))(x)\n",
        "voice = TimeDistributed(Dense(len(voice2id), activation='softmax'))(x)\n",
        "# можно добавить ещё больше грамматических характеристик, но, на мой взгляд, этого хватит\n",
        "\n",
        "# раскомментим эту строчку\n",
        "aspect = TimeDistributed(Dense(len(aspect2id), activation='softmax'))(x)\n",
        "# forms = TimeDistributed(Dense(len(forms2id), activation='softmax'))(x)\n",
        "\n",
        "\"\"\"\n",
        "category_outputs = []\n",
        "for category in categories:\n",
        "    category_outputs.append(TimeDistributed(Dense(3, activation='softmax'))(x))\n",
        "\"\"\"\n",
        "\n",
        "model= Model(inputs=inp, outputs=[pos, animacy, person, case, number, gender, transitivity, tense, mood, inclusivity, voice, aspect]) # *category_outputs\n",
        "# aspect, forms\n",
        " \n",
        "model.compile(loss='categorical_crossentropy', optimizer='adam', metrics=['accuracy'])"
      ],
      "execution_count": 0,
      "outputs": []
    },
    {
      "cell_type": "code",
      "metadata": {
        "id": "zK8-IkmWIK71",
        "colab_type": "code",
        "colab": {
          "base_uri": "https://localhost:8080/",
          "height": 341
        },
        "outputId": "43ae3485-6629-4176-a3e4-1c9bcd35907e"
      },
      "source": [
        "model.fit(x=train_sents, \n",
        "        y=[to_categorical(train_pos), to_categorical(train_animacy), to_categorical(train_person), to_categorical(train_case), to_categorical(train_number),\n",
        "           to_categorical(train_gender), to_categorical(train_transitivity), to_categorical(train_tense), to_categorical(train_mood),\n",
        "           to_categorical(train_inclusivity), to_categorical(train_voice), to_categorical(train_aspect)],\n",
        "           batch_size=128, epochs=10, validation_split=0.2)"
      ],
      "execution_count": 219,
      "outputs": [
        {
          "output_type": "error",
          "ename": "ValueError",
          "evalue": "ignored",
          "traceback": [
            "\u001b[0;31m---------------------------------------------------------------------------\u001b[0m",
            "\u001b[0;31mValueError\u001b[0m                                Traceback (most recent call last)",
            "\u001b[0;32m<ipython-input-219-c6f8d47b7f34>\u001b[0m in \u001b[0;36m<module>\u001b[0;34m()\u001b[0m\n\u001b[1;32m      3\u001b[0m            \u001b[0mto_categorical\u001b[0m\u001b[0;34m(\u001b[0m\u001b[0mtrain_gender\u001b[0m\u001b[0;34m)\u001b[0m\u001b[0;34m,\u001b[0m \u001b[0mto_categorical\u001b[0m\u001b[0;34m(\u001b[0m\u001b[0mtrain_transitivity\u001b[0m\u001b[0;34m)\u001b[0m\u001b[0;34m,\u001b[0m \u001b[0mto_categorical\u001b[0m\u001b[0;34m(\u001b[0m\u001b[0mtrain_tense\u001b[0m\u001b[0;34m)\u001b[0m\u001b[0;34m,\u001b[0m \u001b[0mto_categorical\u001b[0m\u001b[0;34m(\u001b[0m\u001b[0mtrain_mood\u001b[0m\u001b[0;34m)\u001b[0m\u001b[0;34m,\u001b[0m\u001b[0;34m\u001b[0m\u001b[0;34m\u001b[0m\u001b[0m\n\u001b[1;32m      4\u001b[0m            to_categorical(train_inclusivity), to_categorical(train_voice), to_categorical(train_aspect)],\n\u001b[0;32m----> 5\u001b[0;31m            batch_size=128, epochs=10, validation_split=0.2)\n\u001b[0m",
            "\u001b[0;32m/usr/local/lib/python3.6/dist-packages/keras/engine/training.py\u001b[0m in \u001b[0;36mfit\u001b[0;34m(self, x, y, batch_size, epochs, verbose, callbacks, validation_split, validation_data, shuffle, class_weight, sample_weight, initial_epoch, steps_per_epoch, validation_steps, **kwargs)\u001b[0m\n\u001b[1;32m    950\u001b[0m             \u001b[0msample_weight\u001b[0m\u001b[0;34m=\u001b[0m\u001b[0msample_weight\u001b[0m\u001b[0;34m,\u001b[0m\u001b[0;34m\u001b[0m\u001b[0;34m\u001b[0m\u001b[0m\n\u001b[1;32m    951\u001b[0m             \u001b[0mclass_weight\u001b[0m\u001b[0;34m=\u001b[0m\u001b[0mclass_weight\u001b[0m\u001b[0;34m,\u001b[0m\u001b[0;34m\u001b[0m\u001b[0;34m\u001b[0m\u001b[0m\n\u001b[0;32m--> 952\u001b[0;31m             batch_size=batch_size)\n\u001b[0m\u001b[1;32m    953\u001b[0m         \u001b[0;31m# Prepare validation data.\u001b[0m\u001b[0;34m\u001b[0m\u001b[0;34m\u001b[0m\u001b[0;34m\u001b[0m\u001b[0m\n\u001b[1;32m    954\u001b[0m         \u001b[0mdo_validation\u001b[0m \u001b[0;34m=\u001b[0m \u001b[0;32mFalse\u001b[0m\u001b[0;34m\u001b[0m\u001b[0;34m\u001b[0m\u001b[0m\n",
            "\u001b[0;32m/usr/local/lib/python3.6/dist-packages/keras/engine/training.py\u001b[0m in \u001b[0;36m_standardize_user_data\u001b[0;34m(self, x, y, sample_weight, class_weight, check_array_lengths, batch_size)\u001b[0m\n\u001b[1;32m    787\u001b[0m                 \u001b[0mfeed_output_shapes\u001b[0m\u001b[0;34m,\u001b[0m\u001b[0;34m\u001b[0m\u001b[0;34m\u001b[0m\u001b[0m\n\u001b[1;32m    788\u001b[0m                 \u001b[0mcheck_batch_axis\u001b[0m\u001b[0;34m=\u001b[0m\u001b[0;32mFalse\u001b[0m\u001b[0;34m,\u001b[0m  \u001b[0;31m# Don't enforce the batch size.\u001b[0m\u001b[0;34m\u001b[0m\u001b[0;34m\u001b[0m\u001b[0m\n\u001b[0;32m--> 789\u001b[0;31m                 exception_prefix='target')\n\u001b[0m\u001b[1;32m    790\u001b[0m \u001b[0;34m\u001b[0m\u001b[0m\n\u001b[1;32m    791\u001b[0m             \u001b[0;31m# Generate sample-wise weight values given the `sample_weight` and\u001b[0m\u001b[0;34m\u001b[0m\u001b[0;34m\u001b[0m\u001b[0;34m\u001b[0m\u001b[0m\n",
            "\u001b[0;32m/usr/local/lib/python3.6/dist-packages/keras/engine/training_utils.py\u001b[0m in \u001b[0;36mstandardize_input_data\u001b[0;34m(data, names, shapes, check_batch_axis, exception_prefix)\u001b[0m\n\u001b[1;32m    136\u001b[0m                             \u001b[0;34m': expected '\u001b[0m \u001b[0;34m+\u001b[0m \u001b[0mnames\u001b[0m\u001b[0;34m[\u001b[0m\u001b[0mi\u001b[0m\u001b[0;34m]\u001b[0m \u001b[0;34m+\u001b[0m \u001b[0;34m' to have shape '\u001b[0m \u001b[0;34m+\u001b[0m\u001b[0;34m\u001b[0m\u001b[0;34m\u001b[0m\u001b[0m\n\u001b[1;32m    137\u001b[0m                             \u001b[0mstr\u001b[0m\u001b[0;34m(\u001b[0m\u001b[0mshape\u001b[0m\u001b[0;34m)\u001b[0m \u001b[0;34m+\u001b[0m \u001b[0;34m' but got array with shape '\u001b[0m \u001b[0;34m+\u001b[0m\u001b[0;34m\u001b[0m\u001b[0;34m\u001b[0m\u001b[0m\n\u001b[0;32m--> 138\u001b[0;31m                             str(data_shape))\n\u001b[0m\u001b[1;32m    139\u001b[0m     \u001b[0;32mreturn\u001b[0m \u001b[0mdata\u001b[0m\u001b[0;34m\u001b[0m\u001b[0;34m\u001b[0m\u001b[0m\n\u001b[1;32m    140\u001b[0m \u001b[0;34m\u001b[0m\u001b[0m\n",
            "\u001b[0;31mValueError\u001b[0m: Error when checking target: expected time_distributed_47 to have shape (10, 6) but got array with shape (10, 4)"
          ]
        }
      ]
    },
    {
      "cell_type": "markdown",
      "metadata": {
        "id": "Nk9fpG2ZKoBT",
        "colab_type": "text"
      },
      "source": [
        "Попробуем явно указать, сколько классов мы ожидаем получить из to_categorical для aspect: len(aspect2id) # или len(id2aspect)"
      ]
    },
    {
      "cell_type": "code",
      "metadata": {
        "id": "3cg8nvBIJAax",
        "colab_type": "code",
        "colab": {
          "base_uri": "https://localhost:8080/",
          "height": 411
        },
        "outputId": "ab937b1c-9639-4150-cc04-40726f49fa1a"
      },
      "source": [
        "model.fit(x=train_sents, \n",
        "        y=[to_categorical(train_pos), to_categorical(train_animacy), to_categorical(train_person), to_categorical(train_case), to_categorical(train_number),\n",
        "           to_categorical(train_gender), to_categorical(train_transitivity), to_categorical(train_tense), to_categorical(train_mood),\n",
        "           to_categorical(train_inclusivity), to_categorical(train_voice), to_categorical(train_aspect, num_classes=len(aspect2id))],\n",
        "           batch_size=128, epochs=10, validation_split=0.2)"
      ],
      "execution_count": 168,
      "outputs": [
        {
          "output_type": "stream",
          "text": [
            "Train on 6781 samples, validate on 1696 samples\n",
            "Epoch 1/10\n",
            "6781/6781 [==============================] - 2s 328us/step - loss: 7.8573 - time_distributed_24_loss: 1.4550 - time_distributed_25_loss: 0.7182 - time_distributed_26_loss: 0.3831 - time_distributed_27_loss: 1.1075 - time_distributed_28_loss: 0.8372 - time_distributed_29_loss: 0.8905 - time_distributed_30_loss: 0.5385 - time_distributed_31_loss: 0.4452 - time_distributed_32_loss: 0.3719 - time_distributed_33_loss: 0.3074 - time_distributed_34_loss: 0.2796 - time_distributed_35_loss: 0.5231 - time_distributed_24_acc: 0.5929 - time_distributed_25_acc: 0.7967 - time_distributed_26_acc: 0.9402 - time_distributed_27_acc: 0.7332 - time_distributed_28_acc: 0.6694 - time_distributed_29_acc: 0.7394 - time_distributed_30_acc: 0.9094 - time_distributed_31_acc: 0.9229 - time_distributed_32_acc: 0.9291 - time_distributed_33_acc: 0.9789 - time_distributed_34_acc: 0.9746 - time_distributed_35_acc: 0.9091 - val_loss: 7.2418 - val_time_distributed_24_loss: 1.3983 - val_time_distributed_25_loss: 0.6526 - val_time_distributed_26_loss: 0.3481 - val_time_distributed_27_loss: 1.0340 - val_time_distributed_28_loss: 0.7932 - val_time_distributed_29_loss: 0.8332 - val_time_distributed_30_loss: 0.4890 - val_time_distributed_31_loss: 0.4065 - val_time_distributed_32_loss: 0.3328 - val_time_distributed_33_loss: 0.2463 - val_time_distributed_34_loss: 0.2290 - val_time_distributed_35_loss: 0.4788 - val_time_distributed_24_acc: 0.6008 - val_time_distributed_25_acc: 0.8134 - val_time_distributed_26_acc: 0.9456 - val_time_distributed_27_acc: 0.7476 - val_time_distributed_28_acc: 0.6850 - val_time_distributed_29_acc: 0.7528 - val_time_distributed_30_acc: 0.9156 - val_time_distributed_31_acc: 0.9294 - val_time_distributed_32_acc: 0.9344 - val_time_distributed_33_acc: 0.9817 - val_time_distributed_34_acc: 0.9803 - val_time_distributed_35_acc: 0.9136\n",
            "Epoch 2/10\n",
            "6781/6781 [==============================] - 2s 336us/step - loss: 6.8243 - time_distributed_24_loss: 1.3676 - time_distributed_25_loss: 0.6227 - time_distributed_26_loss: 0.3102 - time_distributed_27_loss: 1.0000 - time_distributed_28_loss: 0.7654 - time_distributed_29_loss: 0.8036 - time_distributed_30_loss: 0.4466 - time_distributed_31_loss: 0.3780 - time_distributed_32_loss: 0.3022 - time_distributed_33_loss: 0.1987 - time_distributed_34_loss: 0.1891 - time_distributed_35_loss: 0.4402 - time_distributed_24_acc: 0.6030 - time_distributed_25_acc: 0.8136 - time_distributed_26_acc: 0.9524 - time_distributed_27_acc: 0.7481 - time_distributed_28_acc: 0.6816 - time_distributed_29_acc: 0.7513 - time_distributed_30_acc: 0.9237 - time_distributed_31_acc: 0.9338 - time_distributed_32_acc: 0.9395 - time_distributed_33_acc: 0.9873 - time_distributed_34_acc: 0.9856 - time_distributed_35_acc: 0.9199 - val_loss: 6.4446 - val_time_distributed_24_loss: 1.3280 - val_time_distributed_25_loss: 0.5787 - val_time_distributed_26_loss: 0.2935 - val_time_distributed_27_loss: 0.9494 - val_time_distributed_28_loss: 0.7355 - val_time_distributed_29_loss: 0.7674 - val_time_distributed_30_loss: 0.4166 - val_time_distributed_31_loss: 0.3545 - val_time_distributed_32_loss: 0.2805 - val_time_distributed_33_loss: 0.1656 - val_time_distributed_34_loss: 0.1613 - val_time_distributed_35_loss: 0.4136 - val_time_distributed_24_acc: 0.6169 - val_time_distributed_25_acc: 0.8234 - val_time_distributed_26_acc: 0.9524 - val_time_distributed_27_acc: 0.7572 - val_time_distributed_28_acc: 0.6929 - val_time_distributed_29_acc: 0.7610 - val_time_distributed_30_acc: 0.9259 - val_time_distributed_31_acc: 0.9366 - val_time_distributed_32_acc: 0.9417 - val_time_distributed_33_acc: 0.9879 - val_time_distributed_34_acc: 0.9879 - val_time_distributed_35_acc: 0.9223\n",
            "Epoch 3/10\n",
            "6781/6781 [==============================] - 2s 338us/step - loss: 6.1729 - time_distributed_24_loss: 1.3093 - time_distributed_25_loss: 0.5629 - time_distributed_26_loss: 0.2650 - time_distributed_27_loss: 0.9306 - time_distributed_28_loss: 0.7175 - time_distributed_29_loss: 0.7493 - time_distributed_30_loss: 0.3860 - time_distributed_31_loss: 0.3344 - time_distributed_32_loss: 0.2603 - time_distributed_33_loss: 0.1355 - time_distributed_34_loss: 0.1359 - time_distributed_35_loss: 0.3859 - time_distributed_24_acc: 0.6243 - time_distributed_25_acc: 0.8204 - time_distributed_26_acc: 0.9585 - time_distributed_27_acc: 0.7540 - time_distributed_28_acc: 0.6892 - time_distributed_29_acc: 0.7581 - time_distributed_30_acc: 0.9299 - time_distributed_31_acc: 0.9385 - time_distributed_32_acc: 0.9443 - time_distributed_33_acc: 0.9929 - time_distributed_34_acc: 0.9910 - time_distributed_35_acc: 0.9261 - val_loss: 5.9111 - val_time_distributed_24_loss: 1.2788 - val_time_distributed_25_loss: 0.5298 - val_time_distributed_26_loss: 0.2564 - val_time_distributed_27_loss: 0.8921 - val_time_distributed_28_loss: 0.6946 - val_time_distributed_29_loss: 0.7225 - val_time_distributed_30_loss: 0.3658 - val_time_distributed_31_loss: 0.3184 - val_time_distributed_32_loss: 0.2473 - val_time_distributed_33_loss: 0.1171 - val_time_distributed_34_loss: 0.1200 - val_time_distributed_35_loss: 0.3682 - val_time_distributed_24_acc: 0.6386 - val_time_distributed_25_acc: 0.8265 - val_time_distributed_26_acc: 0.9587 - val_time_distributed_27_acc: 0.7598 - val_time_distributed_28_acc: 0.7002 - val_time_distributed_29_acc: 0.7650 - val_time_distributed_30_acc: 0.9305 - val_time_distributed_31_acc: 0.9399 - val_time_distributed_32_acc: 0.9458 - val_time_distributed_33_acc: 0.9938 - val_time_distributed_34_acc: 0.9922 - val_time_distributed_35_acc: 0.9272\n",
            "Epoch 4/10\n",
            "6781/6781 [==============================] - 2s 335us/step - loss: 5.7310 - time_distributed_24_loss: 1.2661 - time_distributed_25_loss: 0.5229 - time_distributed_26_loss: 0.2349 - time_distributed_27_loss: 0.8825 - time_distributed_28_loss: 0.6822 - time_distributed_29_loss: 0.7115 - time_distributed_30_loss: 0.3436 - time_distributed_31_loss: 0.3045 - time_distributed_32_loss: 0.2337 - time_distributed_33_loss: 0.0971 - time_distributed_34_loss: 0.1035 - time_distributed_35_loss: 0.3486 - time_distributed_24_acc: 0.6453 - time_distributed_25_acc: 0.8222 - time_distributed_26_acc: 0.9617 - time_distributed_27_acc: 0.7555 - time_distributed_28_acc: 0.7009 - time_distributed_29_acc: 0.7593 - time_distributed_30_acc: 0.9335 - time_distributed_31_acc: 0.9405 - time_distributed_32_acc: 0.9467 - time_distributed_33_acc: 0.9965 - time_distributed_34_acc: 0.9937 - time_distributed_35_acc: 0.9298 - val_loss: 5.5398 - val_time_distributed_24_loss: 1.2398 - val_time_distributed_25_loss: 0.4966 - val_time_distributed_26_loss: 0.2314 - val_time_distributed_27_loss: 0.8510 - val_time_distributed_28_loss: 0.6634 - val_time_distributed_29_loss: 0.6899 - val_time_distributed_30_loss: 0.3301 - val_time_distributed_31_loss: 0.2935 - val_time_distributed_32_loss: 0.2256 - val_time_distributed_33_loss: 0.0872 - val_time_distributed_34_loss: 0.0945 - val_time_distributed_35_loss: 0.3367 - val_time_distributed_24_acc: 0.6539 - val_time_distributed_25_acc: 0.8279 - val_time_distributed_26_acc: 0.9613 - val_time_distributed_27_acc: 0.7606 - val_time_distributed_28_acc: 0.7135 - val_time_distributed_29_acc: 0.7657 - val_time_distributed_30_acc: 0.9334 - val_time_distributed_31_acc: 0.9410 - val_time_distributed_32_acc: 0.9469 - val_time_distributed_33_acc: 0.9965 - val_time_distributed_34_acc: 0.9939 - val_time_distributed_35_acc: 0.9300\n",
            "Epoch 5/10\n",
            "6781/6781 [==============================] - 2s 338us/step - loss: 5.4133 - time_distributed_24_loss: 1.2294 - time_distributed_25_loss: 0.4946 - time_distributed_26_loss: 0.2148 - time_distributed_27_loss: 0.8467 - time_distributed_28_loss: 0.6532 - time_distributed_29_loss: 0.6824 - time_distributed_30_loss: 0.3138 - time_distributed_31_loss: 0.2837 - time_distributed_32_loss: 0.2157 - time_distributed_33_loss: 0.0733 - time_distributed_34_loss: 0.0836 - time_distributed_35_loss: 0.3223 - time_distributed_24_acc: 0.6613 - time_distributed_25_acc: 0.8226 - time_distributed_26_acc: 0.9623 - time_distributed_27_acc: 0.7559 - time_distributed_28_acc: 0.7168 - time_distributed_29_acc: 0.7597 - time_distributed_30_acc: 0.9346 - time_distributed_31_acc: 0.9408 - time_distributed_32_acc: 0.9471 - time_distributed_33_acc: 0.9976 - time_distributed_34_acc: 0.9943 - time_distributed_35_acc: 0.9307 - val_loss: 5.2585 - val_time_distributed_24_loss: 1.2033 - val_time_distributed_25_loss: 0.4716 - val_time_distributed_26_loss: 0.2146 - val_time_distributed_27_loss: 0.8182 - val_time_distributed_28_loss: 0.6347 - val_time_distributed_29_loss: 0.6621 - val_time_distributed_30_loss: 0.3051 - val_time_distributed_31_loss: 0.2762 - val_time_distributed_32_loss: 0.2105 - val_time_distributed_33_loss: 0.0688 - val_time_distributed_34_loss: 0.0789 - val_time_distributed_35_loss: 0.3144 - val_time_distributed_24_acc: 0.6710 - val_time_distributed_25_acc: 0.8281 - val_time_distributed_26_acc: 0.9614 - val_time_distributed_27_acc: 0.7613 - val_time_distributed_28_acc: 0.7279 - val_time_distributed_29_acc: 0.7660 - val_time_distributed_30_acc: 0.9337 - val_time_distributed_31_acc: 0.9412 - val_time_distributed_32_acc: 0.9472 - val_time_distributed_33_acc: 0.9969 - val_time_distributed_34_acc: 0.9942 - val_time_distributed_35_acc: 0.9302\n",
            "Epoch 6/10\n",
            "6781/6781 [==============================] - 2s 336us/step - loss: 5.1533 - time_distributed_24_loss: 1.1913 - time_distributed_25_loss: 0.4712 - time_distributed_26_loss: 0.2007 - time_distributed_27_loss: 0.8161 - time_distributed_28_loss: 0.6234 - time_distributed_29_loss: 0.6554 - time_distributed_30_loss: 0.2920 - time_distributed_31_loss: 0.2682 - time_distributed_32_loss: 0.2023 - time_distributed_33_loss: 0.0586 - time_distributed_34_loss: 0.0712 - time_distributed_35_loss: 0.3029 - time_distributed_24_acc: 0.6782 - time_distributed_25_acc: 0.8226 - time_distributed_26_acc: 0.9624 - time_distributed_27_acc: 0.7558 - time_distributed_28_acc: 0.7422 - time_distributed_29_acc: 0.7597 - time_distributed_30_acc: 0.9346 - time_distributed_31_acc: 0.9408 - time_distributed_32_acc: 0.9472 - time_distributed_33_acc: 0.9977 - time_distributed_34_acc: 0.9943 - time_distributed_35_acc: 0.9307 - val_loss: 5.0035 - val_time_distributed_24_loss: 1.1612 - val_time_distributed_25_loss: 0.4485 - val_time_distributed_26_loss: 0.2020 - val_time_distributed_27_loss: 0.7878 - val_time_distributed_28_loss: 0.6015 - val_time_distributed_29_loss: 0.6334 - val_time_distributed_30_loss: 0.2858 - val_time_distributed_31_loss: 0.2622 - val_time_distributed_32_loss: 0.1982 - val_time_distributed_33_loss: 0.0570 - val_time_distributed_34_loss: 0.0689 - val_time_distributed_35_loss: 0.2970 - val_time_distributed_24_acc: 0.7008 - val_time_distributed_25_acc: 0.8282 - val_time_distributed_26_acc: 0.9617 - val_time_distributed_27_acc: 0.7613 - val_time_distributed_28_acc: 0.7589 - val_time_distributed_29_acc: 0.7662 - val_time_distributed_30_acc: 0.9338 - val_time_distributed_31_acc: 0.9414 - val_time_distributed_32_acc: 0.9472 - val_time_distributed_33_acc: 0.9971 - val_time_distributed_34_acc: 0.9942 - val_time_distributed_35_acc: 0.9303\n",
            "Epoch 7/10\n",
            "6781/6781 [==============================] - 2s 341us/step - loss: 4.8907 - time_distributed_24_loss: 1.1444 - time_distributed_25_loss: 0.4472 - time_distributed_26_loss: 0.1897 - time_distributed_27_loss: 0.7840 - time_distributed_28_loss: 0.5847 - time_distributed_29_loss: 0.6235 - time_distributed_30_loss: 0.2738 - time_distributed_31_loss: 0.2548 - time_distributed_32_loss: 0.1903 - time_distributed_33_loss: 0.0488 - time_distributed_34_loss: 0.0629 - time_distributed_35_loss: 0.2868 - time_distributed_24_acc: 0.7041 - time_distributed_25_acc: 0.8222 - time_distributed_26_acc: 0.9624 - time_distributed_27_acc: 0.7558 - time_distributed_28_acc: 0.7741 - time_distributed_29_acc: 0.7598 - time_distributed_30_acc: 0.9346 - time_distributed_31_acc: 0.9409 - time_distributed_32_acc: 0.9472 - time_distributed_33_acc: 0.9977 - time_distributed_34_acc: 0.9943 - time_distributed_35_acc: 0.9307 - val_loss: 4.7249 - val_time_distributed_24_loss: 1.1081 - val_time_distributed_25_loss: 0.4233 - val_time_distributed_26_loss: 0.1916 - val_time_distributed_27_loss: 0.7532 - val_time_distributed_28_loss: 0.5564 - val_time_distributed_29_loss: 0.5972 - val_time_distributed_30_loss: 0.2681 - val_time_distributed_31_loss: 0.2488 - val_time_distributed_32_loss: 0.1860 - val_time_distributed_33_loss: 0.0489 - val_time_distributed_34_loss: 0.0619 - val_time_distributed_35_loss: 0.2815 - val_time_distributed_24_acc: 0.7160 - val_time_distributed_25_acc: 0.8271 - val_time_distributed_26_acc: 0.9618 - val_time_distributed_27_acc: 0.7616 - val_time_distributed_28_acc: 0.8070 - val_time_distributed_29_acc: 0.7661 - val_time_distributed_30_acc: 0.9339 - val_time_distributed_31_acc: 0.9416 - val_time_distributed_32_acc: 0.9473 - val_time_distributed_33_acc: 0.9972 - val_time_distributed_34_acc: 0.9943 - val_time_distributed_35_acc: 0.9304\n",
            "Epoch 8/10\n",
            "6781/6781 [==============================] - 2s 338us/step - loss: 4.5939 - time_distributed_24_loss: 1.0874 - time_distributed_25_loss: 0.4206 - time_distributed_26_loss: 0.1805 - time_distributed_27_loss: 0.7456 - time_distributed_28_loss: 0.5310 - time_distributed_29_loss: 0.5825 - time_distributed_30_loss: 0.2563 - time_distributed_31_loss: 0.2414 - time_distributed_32_loss: 0.1779 - time_distributed_33_loss: 0.0422 - time_distributed_34_loss: 0.0571 - time_distributed_35_loss: 0.2714 - time_distributed_24_acc: 0.7164 - time_distributed_25_acc: 0.8197 - time_distributed_26_acc: 0.9624 - time_distributed_27_acc: 0.7557 - time_distributed_28_acc: 0.8236 - time_distributed_29_acc: 0.7599 - time_distributed_30_acc: 0.9346 - time_distributed_31_acc: 0.9409 - time_distributed_32_acc: 0.9472 - time_distributed_33_acc: 0.9977 - time_distributed_34_acc: 0.9943 - time_distributed_35_acc: 0.9307 - val_loss: 4.4199 - val_time_distributed_24_loss: 1.0480 - val_time_distributed_25_loss: 0.3970 - val_time_distributed_26_loss: 0.1829 - val_time_distributed_27_loss: 0.7124 - val_time_distributed_28_loss: 0.4980 - val_time_distributed_29_loss: 0.5554 - val_time_distributed_30_loss: 0.2511 - val_time_distributed_31_loss: 0.2355 - val_time_distributed_32_loss: 0.1732 - val_time_distributed_33_loss: 0.0435 - val_time_distributed_34_loss: 0.0569 - val_time_distributed_35_loss: 0.2661 - val_time_distributed_24_acc: 0.7246 - val_time_distributed_25_acc: 0.8244 - val_time_distributed_26_acc: 0.9619 - val_time_distributed_27_acc: 0.7614 - val_time_distributed_28_acc: 0.8328 - val_time_distributed_29_acc: 0.7678 - val_time_distributed_30_acc: 0.9339 - val_time_distributed_31_acc: 0.9416 - val_time_distributed_32_acc: 0.9474 - val_time_distributed_33_acc: 0.9972 - val_time_distributed_34_acc: 0.9943 - val_time_distributed_35_acc: 0.9304\n",
            "Epoch 9/10\n",
            "6781/6781 [==============================] - 2s 342us/step - loss: 4.3084 - time_distributed_24_loss: 1.0303 - time_distributed_25_loss: 0.3968 - time_distributed_26_loss: 0.1729 - time_distributed_27_loss: 0.7054 - time_distributed_28_loss: 0.4761 - time_distributed_29_loss: 0.5435 - time_distributed_30_loss: 0.2407 - time_distributed_31_loss: 0.2293 - time_distributed_32_loss: 0.1668 - time_distributed_33_loss: 0.0376 - time_distributed_34_loss: 0.0527 - time_distributed_35_loss: 0.2563 - time_distributed_24_acc: 0.7219 - time_distributed_25_acc: 0.8175 - time_distributed_26_acc: 0.9624 - time_distributed_27_acc: 0.7555 - time_distributed_28_acc: 0.8409 - time_distributed_29_acc: 0.7615 - time_distributed_30_acc: 0.9346 - time_distributed_31_acc: 0.9409 - time_distributed_32_acc: 0.9473 - time_distributed_33_acc: 0.9977 - time_distributed_34_acc: 0.9943 - time_distributed_35_acc: 0.9307 - val_loss: 4.1742 - val_time_distributed_24_loss: 0.9954 - val_time_distributed_25_loss: 0.3782 - val_time_distributed_26_loss: 0.1758 - val_time_distributed_27_loss: 0.6772 - val_time_distributed_28_loss: 0.4530 - val_time_distributed_29_loss: 0.5241 - val_time_distributed_30_loss: 0.2375 - val_time_distributed_31_loss: 0.2248 - val_time_distributed_32_loss: 0.1637 - val_time_distributed_33_loss: 0.0394 - val_time_distributed_34_loss: 0.0531 - val_time_distributed_35_loss: 0.2520 - val_time_distributed_24_acc: 0.7267 - val_time_distributed_25_acc: 0.8236 - val_time_distributed_26_acc: 0.9619 - val_time_distributed_27_acc: 0.7608 - val_time_distributed_28_acc: 0.8426 - val_time_distributed_29_acc: 0.7683 - val_time_distributed_30_acc: 0.9339 - val_time_distributed_31_acc: 0.9416 - val_time_distributed_32_acc: 0.9479 - val_time_distributed_33_acc: 0.9972 - val_time_distributed_34_acc: 0.9943 - val_time_distributed_35_acc: 0.9304\n",
            "Epoch 10/10\n",
            "6781/6781 [==============================] - 2s 341us/step - loss: 4.0978 - time_distributed_24_loss: 0.9821 - time_distributed_25_loss: 0.3806 - time_distributed_26_loss: 0.1671 - time_distributed_27_loss: 0.6747 - time_distributed_28_loss: 0.4396 - time_distributed_29_loss: 0.5178 - time_distributed_30_loss: 0.2294 - time_distributed_31_loss: 0.2204 - time_distributed_32_loss: 0.1589 - time_distributed_33_loss: 0.0339 - time_distributed_34_loss: 0.0493 - time_distributed_35_loss: 0.2438 - time_distributed_24_acc: 0.7240 - time_distributed_25_acc: 0.8179 - time_distributed_26_acc: 0.9624 - time_distributed_27_acc: 0.7537 - time_distributed_28_acc: 0.8472 - time_distributed_29_acc: 0.7681 - time_distributed_30_acc: 0.9346 - time_distributed_31_acc: 0.9409 - time_distributed_32_acc: 0.9478 - time_distributed_33_acc: 0.9977 - time_distributed_34_acc: 0.9943 - time_distributed_35_acc: 0.9307 - val_loss: 4.0043 - val_time_distributed_24_loss: 0.9525 - val_time_distributed_25_loss: 0.3659 - val_time_distributed_26_loss: 0.1706 - val_time_distributed_27_loss: 0.6532 - val_time_distributed_28_loss: 0.4268 - val_time_distributed_29_loss: 0.5051 - val_time_distributed_30_loss: 0.2283 - val_time_distributed_31_loss: 0.2174 - val_time_distributed_32_loss: 0.1572 - val_time_distributed_33_loss: 0.0361 - val_time_distributed_34_loss: 0.0500 - val_time_distributed_35_loss: 0.2413 - val_time_distributed_24_acc: 0.7322 - val_time_distributed_25_acc: 0.8251 - val_time_distributed_26_acc: 0.9619 - val_time_distributed_27_acc: 0.7584 - val_time_distributed_28_acc: 0.8474 - val_time_distributed_29_acc: 0.7741 - val_time_distributed_30_acc: 0.9339 - val_time_distributed_31_acc: 0.9416 - val_time_distributed_32_acc: 0.9482 - val_time_distributed_33_acc: 0.9972 - val_time_distributed_34_acc: 0.9943 - val_time_distributed_35_acc: 0.9304\n"
          ],
          "name": "stdout"
        },
        {
          "output_type": "execute_result",
          "data": {
            "text/plain": [
              "<keras.callbacks.History at 0x7f7d3dab94a8>"
            ]
          },
          "metadata": {
            "tags": []
          },
          "execution_count": 168
        }
      ]
    },
    {
      "cell_type": "markdown",
      "metadata": {
        "id": "WQDHovPhLBAM",
        "colab_type": "text"
      },
      "source": [
        "Аналогичным образом можно прямо указать и для других признаков.\n",
        "\n",
        "Что касается id2categories, то с ними тяжелее (в том смысле, что код должен быть подстроен под этот частный случай), поскольку мы хотим научиться предсказывать наличие лишь одного признака, мне не захотелось с этим возиться, но по идее проблем с этой грамматической характеристикой возникнуть не должно:"
      ]
    },
    {
      "cell_type": "code",
      "metadata": {
        "id": "t1lFDlDkIoMl",
        "colab_type": "code",
        "colab": {
          "base_uri": "https://localhost:8080/",
          "height": 510
        },
        "outputId": "4f2ce493-69c0-403c-ec81-4231a55003b0"
      },
      "source": [
        "id2categories"
      ],
      "execution_count": 222,
      "outputs": [
        {
          "output_type": "execute_result",
          "data": {
            "text/plain": [
              "{0: {0: '<PAD>', 1: 'NONE', 2: 'Litr'},\n",
              " 1: {0: '<PAD>', 1: 'NONE', 2: 'Anum'},\n",
              " 2: {0: '<PAD>', 1: 'NONE', 2: 'Adjx'},\n",
              " 3: {0: '<PAD>', 1: 'NONE', 2: 'Surn'},\n",
              " 4: {0: '<PAD>', 1: 'NONE', 2: 'Qual'},\n",
              " 5: {0: '<PAD>', 1: 'NONE', 2: 'Supr'},\n",
              " 6: {0: '<PAD>', 1: 'NONE', 2: 'Dist'},\n",
              " 7: {0: '<PAD>', 1: 'NONE', 2: 'Anph'},\n",
              " 8: {0: '<PAD>', 1: 'NONE', 2: 'Vpre'},\n",
              " 9: {0: '<PAD>', 1: 'NONE', 2: 'Coun'},\n",
              " 10: {0: '<PAD>', 1: 'NONE', 2: 'Prnt'},\n",
              " 11: {0: '<PAD>', 1: 'NONE', 2: 'Name'},\n",
              " 12: {0: '<PAD>', 1: 'NONE', 2: 'Inmx'},\n",
              " 13: {0: '<PAD>', 1: 'NONE', 2: 'Subx'},\n",
              " 14: {0: '<PAD>', 1: 'NONE', 2: 'Prdx'},\n",
              " 15: {0: '<PAD>', 1: 'NONE', 2: 'Cmp2'},\n",
              " 16: {0: '<PAD>', 1: 'NONE', 2: 'Slng'},\n",
              " 17: {0: '<PAD>', 1: 'NONE', 2: 'Geox'},\n",
              " 18: {0: '<PAD>', 1: 'NONE', 2: 'Dmns'},\n",
              " 19: {0: '<PAD>', 1: 'NONE', 2: 'Abbr'},\n",
              " 20: {0: '<PAD>', 1: 'NONE', 2: 'Poss'},\n",
              " 21: {0: '<PAD>', 1: 'NONE', 2: 'Orgn'},\n",
              " 22: {0: '<PAD>', 1: 'NONE', 2: 'Ques'},\n",
              " 23: {0: '<PAD>', 1: 'NONE', 2: 'Af-p'},\n",
              " 24: {0: '<PAD>', 1: 'NONE', 2: 'Patr'},\n",
              " 25: {0: '<PAD>', 1: 'NONE', 2: 'Infr'},\n",
              " 26: {0: '<PAD>', 1: 'NONE', 2: 'Arch'},\n",
              " 27: {0: '<PAD>', 1: 'NONE', 2: 'Coll'},\n",
              " 28: {0: '<PAD>', 1: 'NONE', 2: 'Apro'}}"
            ]
          },
          "metadata": {
            "tags": []
          },
          "execution_count": 222
        }
      ]
    }
  ]
}