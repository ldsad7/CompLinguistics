{
  "nbformat": 4,
  "nbformat_minor": 0,
  "metadata": {
    "colab": {
      "name": "Copy of HW1.ipynb",
      "version": "0.3.2",
      "provenance": [],
      "collapsed_sections": [
        "e2EnN-U7MemU",
        "9yCVYfbpNhXd",
        "22tJKQnaOjie",
        "I4m1rDQ3PAqO",
        "7vVPaaVwPVwg",
        "cdakRHahQp-l",
        "uyVQ5Gm7Qzcz",
        "QU3M3osxRd1l",
        "FE9Cc9WDRd1l",
        "yyGUuiJuRd1m"
      ],
      "include_colab_link": true
    },
    "language_info": {
      "codemirror_mode": {
        "name": "ipython",
        "version": 3
      },
      "file_extension": ".py",
      "mimetype": "text/x-python",
      "name": "python",
      "nbconvert_exporter": "python",
      "pygments_lexer": "ipython3",
      "version": "3.6.5"
    },
    "kernelspec": {
      "name": "python3",
      "display_name": "Python 3"
    },
    "accelerator": "GPU"
  },
  "cells": [
    {
      "cell_type": "markdown",
      "metadata": {
        "id": "view-in-github",
        "colab_type": "text"
      },
      "source": [
        "<a href=\"https://colab.research.google.com/github/ldsad7/CompLinguistics/blob/master/HW1.ipynb\" target=\"_parent\"><img src=\"https://colab.research.google.com/assets/colab-badge.svg\" alt=\"Open In Colab\"/></a>"
      ]
    },
    {
      "cell_type": "markdown",
      "metadata": {
        "colab_type": "text",
        "id": "E7ME-ag0hoDA"
      },
      "source": [
        "# Данные"
      ]
    },
    {
      "cell_type": "code",
      "metadata": {
        "colab_type": "code",
        "id": "eVLBU4s9fF-q",
        "outputId": "ea136de4-2c07-4283-c32c-05caca43e714",
        "colab": {
          "base_uri": "https://localhost:8080/",
          "height": 371
        }
      },
      "source": [
        "!wget https://www.dropbox.com/s/nd7v1fod89xla6j/vk_texts_with_sources.csv"
      ],
      "execution_count": 1,
      "outputs": [
        {
          "output_type": "stream",
          "text": [
            "--2019-06-09 20:11:35--  https://www.dropbox.com/s/nd7v1fod89xla6j/vk_texts_with_sources.csv\n",
            "Resolving www.dropbox.com (www.dropbox.com)... 162.125.8.1, 2620:100:6031:1::a27d:5101\n",
            "Connecting to www.dropbox.com (www.dropbox.com)|162.125.8.1|:443... connected.\n",
            "HTTP request sent, awaiting response... 301 Moved Permanently\n",
            "Location: /s/raw/nd7v1fod89xla6j/vk_texts_with_sources.csv [following]\n",
            "--2019-06-09 20:11:35--  https://www.dropbox.com/s/raw/nd7v1fod89xla6j/vk_texts_with_sources.csv\n",
            "Reusing existing connection to www.dropbox.com:443.\n",
            "HTTP request sent, awaiting response... 302 Found\n",
            "Location: https://uce20d834e05f1bb1c80811341b7.dl.dropboxusercontent.com/cd/0/inline/AijltdG7fRULUQlDmBQXOjnlTPe5wgQEOqtiK4WOGvB4yA5uF9DhGqSLDZeI88f7vva6vf2IYnsAj-fuvodeNZDRnYkPPCrHmFz740RhKihEpA/file# [following]\n",
            "--2019-06-09 20:11:35--  https://uce20d834e05f1bb1c80811341b7.dl.dropboxusercontent.com/cd/0/inline/AijltdG7fRULUQlDmBQXOjnlTPe5wgQEOqtiK4WOGvB4yA5uF9DhGqSLDZeI88f7vva6vf2IYnsAj-fuvodeNZDRnYkPPCrHmFz740RhKihEpA/file\n",
            "Resolving uce20d834e05f1bb1c80811341b7.dl.dropboxusercontent.com (uce20d834e05f1bb1c80811341b7.dl.dropboxusercontent.com)... 162.125.9.6, 2620:100:6031:6::a27d:5106\n",
            "Connecting to uce20d834e05f1bb1c80811341b7.dl.dropboxusercontent.com (uce20d834e05f1bb1c80811341b7.dl.dropboxusercontent.com)|162.125.9.6|:443... connected.\n",
            "HTTP request sent, awaiting response... 200 OK\n",
            "Length: 14406837 (14M) [text/plain]\n",
            "Saving to: ‘vk_texts_with_sources.csv.5’\n",
            "\n",
            "vk_texts_with_sourc 100%[===================>]  13.74M  58.0MB/s    in 0.2s    \n",
            "\n",
            "2019-06-09 20:11:36 (58.0 MB/s) - ‘vk_texts_with_sources.csv.5’ saved [14406837/14406837]\n",
            "\n"
          ],
          "name": "stdout"
        }
      ]
    },
    {
      "cell_type": "code",
      "metadata": {
        "colab_type": "code",
        "id": "qxZMU8CBK664",
        "outputId": "144d3c95-2e6e-4b31-da28-ea1d1d793971",
        "colab": {
          "base_uri": "https://localhost:8080/",
          "height": 196
        }
      },
      "source": [
        "import pandas as pd\n",
        "df = pd.read_csv('vk_texts_with_sources.csv', usecols=['text', 'source'])\n",
        "df.head()"
      ],
      "execution_count": 2,
      "outputs": [
        {
          "output_type": "execute_result",
          "data": {
            "text/html": [
              "<div>\n",
              "<style scoped>\n",
              "    .dataframe tbody tr th:only-of-type {\n",
              "        vertical-align: middle;\n",
              "    }\n",
              "\n",
              "    .dataframe tbody tr th {\n",
              "        vertical-align: top;\n",
              "    }\n",
              "\n",
              "    .dataframe thead th {\n",
              "        text-align: right;\n",
              "    }\n",
              "</style>\n",
              "<table border=\"1\" class=\"dataframe\">\n",
              "  <thead>\n",
              "    <tr style=\"text-align: right;\">\n",
              "      <th></th>\n",
              "      <th>text</th>\n",
              "      <th>source</th>\n",
              "    </tr>\n",
              "  </thead>\n",
              "  <tbody>\n",
              "    <tr>\n",
              "      <th>0</th>\n",
              "      <td>Начальник Главного оперативного управления Ген...</td>\n",
              "      <td>mil</td>\n",
              "    </tr>\n",
              "    <tr>\n",
              "      <th>1</th>\n",
              "      <td>Артиллерийские подразделения общевойскового об...</td>\n",
              "      <td>mil</td>\n",
              "    </tr>\n",
              "    <tr>\n",
              "      <th>2</th>\n",
              "      <td>Подразделения морской пехоты Каспийской флотил...</td>\n",
              "      <td>mil</td>\n",
              "    </tr>\n",
              "    <tr>\n",
              "      <th>3</th>\n",
              "      <td>Команды на всеармейских этапах конкурсов АрМИ-...</td>\n",
              "      <td>mil</td>\n",
              "    </tr>\n",
              "    <tr>\n",
              "      <th>4</th>\n",
              "      <td>На большом учебно-методическом командирском сб...</td>\n",
              "      <td>mil</td>\n",
              "    </tr>\n",
              "  </tbody>\n",
              "</table>\n",
              "</div>"
            ],
            "text/plain": [
              "                                                text source\n",
              "0  Начальник Главного оперативного управления Ген...    mil\n",
              "1  Артиллерийские подразделения общевойскового об...    mil\n",
              "2  Подразделения морской пехоты Каспийской флотил...    mil\n",
              "3  Команды на всеармейских этапах конкурсов АрМИ-...    mil\n",
              "4  На большом учебно-методическом командирском сб...    mil"
            ]
          },
          "metadata": {
            "tags": []
          },
          "execution_count": 2
        }
      ]
    },
    {
      "cell_type": "markdown",
      "metadata": {
        "colab_type": "text",
        "id": "dYNCAr17MFA3"
      },
      "source": [
        "# Домашнее задание\n",
        "\n",
        "В этом домашнем задании вы будете решать задачу тематической классификации. Даны тексты, опубликованные в нескольких пабликах VK.com, посвященных государственным и муниципальным службам. Формально задача заключается в том, чтобы по тексту ($d$) определить в каком паблике он опубликован, то есть, к какому классу $c$ он принадлежит. "
      ]
    },
    {
      "cell_type": "markdown",
      "metadata": {
        "colab_type": "text",
        "id": "e2EnN-U7MemU"
      },
      "source": [
        "## Задание 1 [1 балл]. Описательные статистики\n",
        "Посчитайте:\n",
        "* количество текстов и количество классов\n",
        "* количество слов (без лемматизации и с лемматизацией) в коллекции\n",
        "* среднюю длину текста в словах и символах\n",
        "* найдите 5 самых частых существительных в текстах каждого паблика \n",
        "\n",
        "*Рекомендуем использовать pandas для расчета описательных статистик.*"
      ]
    },
    {
      "cell_type": "code",
      "metadata": {
        "id": "nekIoNBkYU3X",
        "colab_type": "code",
        "colab": {}
      },
      "source": [
        "# let's delete nans\n",
        "df = df.dropna(how='any')\n",
        "# update index after\n",
        "df = df.reset_index(drop=True)"
      ],
      "execution_count": 0,
      "outputs": []
    },
    {
      "cell_type": "code",
      "metadata": {
        "id": "ZwfdHC_rSDus",
        "colab_type": "code",
        "outputId": "9fd6e73f-3add-4bfe-bb1b-f094a3c47295",
        "colab": {
          "base_uri": "https://localhost:8080/",
          "height": 33
        }
      },
      "source": [
        "# количество текстов и количество классов\n",
        "print(\"Количество текстов:\", df.shape[0])"
      ],
      "execution_count": 4,
      "outputs": [
        {
          "output_type": "stream",
          "text": [
            "Количество текстов: 11526\n"
          ],
          "name": "stdout"
        }
      ]
    },
    {
      "cell_type": "code",
      "metadata": {
        "id": "J50vUcJESHfL",
        "colab_type": "code",
        "outputId": "0dc4c35a-52ea-44a1-9435-bf434a488cb8",
        "colab": {
          "base_uri": "https://localhost:8080/",
          "height": 33
        }
      },
      "source": [
        "print(\"Количество классов:\", len(pd.unique(df[:][\"source\"])))"
      ],
      "execution_count": 5,
      "outputs": [
        {
          "output_type": "stream",
          "text": [
            "Количество классов: 4\n"
          ],
          "name": "stdout"
        }
      ]
    },
    {
      "cell_type": "code",
      "metadata": {
        "id": "R_T9Vv98SHhk",
        "colab_type": "code",
        "outputId": "fc1a8b77-722d-4d5b-8278-401307b2ecf1",
        "colab": {
          "base_uri": "https://localhost:8080/",
          "height": 134
        }
      },
      "source": [
        "import nltk\n",
        "nltk.download('punkt')\n",
        "from nltk.tokenize import word_tokenize\n",
        "!pip install pymorphy2[fast]\n",
        "import pymorphy2\n",
        "from pymorphy2 import MorphAnalyzer\n",
        "pymorphy2_analyzer = MorphAnalyzer()\n",
        "from string import punctuation"
      ],
      "execution_count": 6,
      "outputs": [
        {
          "output_type": "stream",
          "text": [
            "[nltk_data] Downloading package punkt to /root/nltk_data...\n",
            "[nltk_data]   Package punkt is already up-to-date!\n",
            "Requirement already satisfied: pymorphy2[fast] in /usr/local/lib/python3.6/dist-packages (0.8)\n",
            "Requirement already satisfied: pymorphy2-dicts<3.0,>=2.4 in /usr/local/lib/python3.6/dist-packages (from pymorphy2[fast]) (2.4.393442.3710985)\n",
            "Requirement already satisfied: dawg-python>=0.7 in /usr/local/lib/python3.6/dist-packages (from pymorphy2[fast]) (0.7.2)\n",
            "Requirement already satisfied: docopt>=0.6 in /usr/local/lib/python3.6/dist-packages (from pymorphy2[fast]) (0.6.2)\n",
            "Requirement already satisfied: DAWG>=0.7.3; extra == \"fast\" in /usr/local/lib/python3.6/dist-packages (from pymorphy2[fast]) (0.7.8)\n"
          ],
          "name": "stdout"
        }
      ]
    },
    {
      "cell_type": "code",
      "metadata": {
        "id": "RHpMPTxxb_n4",
        "colab_type": "code",
        "colab": {}
      },
      "source": [
        "# we delete punctuation marks but save stop-words\n",
        "df['lowered_words'] = df['text'].apply(lambda text: [word.strip(punctuation + '<>«»') for word in word_tokenize(text.lower()) if word not in (punctuation + '<>«»') and word.strip(punctuation + '<>«»')])"
      ],
      "execution_count": 0,
      "outputs": []
    },
    {
      "cell_type": "code",
      "metadata": {
        "id": "2hT9FcC_df2M",
        "colab_type": "code",
        "colab": {}
      },
      "source": [
        "df['Parse'] = df['lowered_words'].apply(lambda words: [pymorphy2_analyzer.parse(word)[0] for word in words])"
      ],
      "execution_count": 0,
      "outputs": []
    },
    {
      "cell_type": "code",
      "metadata": {
        "id": "gZge_AeWhxe6",
        "colab_type": "code",
        "colab": {}
      },
      "source": [
        "df['lemmatized_words'] = df['Parse'].apply(lambda parse_words: [word.normal_form if word.normal_form else word.word for word in parse_words])"
      ],
      "execution_count": 0,
      "outputs": []
    },
    {
      "cell_type": "code",
      "metadata": {
        "id": "ms5iPi-lTMi7",
        "colab_type": "code",
        "colab": {}
      },
      "source": [
        "words = set()\n",
        "for i in range(df.shape[0]):\n",
        "    words.update(set(df.iloc[i][\"lowered_words\"]))"
      ],
      "execution_count": 0,
      "outputs": []
    },
    {
      "cell_type": "code",
      "metadata": {
        "id": "UDskHP7jUXab",
        "colab_type": "code",
        "outputId": "15086ed3-47ce-48f1-d710-4854aa9f6d4d",
        "colab": {
          "base_uri": "https://localhost:8080/",
          "height": 33
        }
      },
      "source": [
        "# количество слов (без лемматизации и с лемматизацией) в коллекции\n",
        "print(\"Количество слов без лемматизации:\", len(words))"
      ],
      "execution_count": 11,
      "outputs": [
        {
          "output_type": "stream",
          "text": [
            "Количество слов без лемматизации: 84892\n"
          ],
          "name": "stdout"
        }
      ]
    },
    {
      "cell_type": "code",
      "metadata": {
        "id": "Bw6fc2-uWDDB",
        "colab_type": "code",
        "colab": {}
      },
      "source": [
        "lemmatized_words = set()\n",
        "for i in range(df.shape[0]):\n",
        "    lemmatized_words.update(set(df.iloc[i][\"lemmatized_words\"]))"
      ],
      "execution_count": 0,
      "outputs": []
    },
    {
      "cell_type": "code",
      "metadata": {
        "id": "X2uS79dvXAag",
        "colab_type": "code",
        "outputId": "1a786227-6de1-4d7a-aebb-7acad5227877",
        "colab": {
          "base_uri": "https://localhost:8080/",
          "height": 33
        }
      },
      "source": [
        "print(\"Количество слов с лемматизацией:\", len(lemmatized_words))"
      ],
      "execution_count": 13,
      "outputs": [
        {
          "output_type": "stream",
          "text": [
            "Количество слов с лемматизацией: 39292\n"
          ],
          "name": "stdout"
        }
      ]
    },
    {
      "cell_type": "markdown",
      "metadata": {
        "id": "1qZ0e5nfXgP3",
        "colab_type": "text"
      },
      "source": [
        "Т.е. больше в среднем в корпусе по две (даже чуть больше) словоформы на каждую лексему."
      ]
    },
    {
      "cell_type": "code",
      "metadata": {
        "id": "hSF7_CxdX4P6",
        "colab_type": "code",
        "colab": {}
      },
      "source": [
        "df['symbols_length'] = df['text'].apply(lambda x: len(x))\n",
        "df['words_length'] = df['lowered_words'].apply(lambda x: len(x))"
      ],
      "execution_count": 0,
      "outputs": []
    },
    {
      "cell_type": "code",
      "metadata": {
        "id": "FGqVXUYaYE6Y",
        "colab_type": "code",
        "outputId": "57014aa4-cf37-4f95-d6f0-b6eec692f0ac",
        "colab": {
          "base_uri": "https://localhost:8080/",
          "height": 33
        }
      },
      "source": [
        "# средние длины текстов в словах и символах\n",
        "print(\"Средняя длина текста в символах:\", df['symbols_length'].mean())"
      ],
      "execution_count": 15,
      "outputs": [
        {
          "output_type": "stream",
          "text": [
            "Средняя длина текста в символах: 690.7630574353635\n"
          ],
          "name": "stdout"
        }
      ]
    },
    {
      "cell_type": "code",
      "metadata": {
        "id": "GP2KiNluabwe",
        "colab_type": "code",
        "outputId": "3158ed38-f4ad-48eb-ce26-188cb7d6e9e9",
        "colab": {
          "base_uri": "https://localhost:8080/",
          "height": 33
        }
      },
      "source": [
        "print(\"Средняя длина текста в словах:\", df['words_length'].mean())"
      ],
      "execution_count": 16,
      "outputs": [
        {
          "output_type": "stream",
          "text": [
            "Средняя длина текста в словах: 91.3601422870033\n"
          ],
          "name": "stdout"
        }
      ]
    },
    {
      "cell_type": "code",
      "metadata": {
        "id": "5m9jmOoijv4K",
        "colab_type": "code",
        "colab": {}
      },
      "source": [
        "df['POS'] = df['Parse'].apply(lambda parse_words: [parse_word.tag.POS for parse_word in parse_words])"
      ],
      "execution_count": 0,
      "outputs": []
    },
    {
      "cell_type": "code",
      "metadata": {
        "id": "N4jrOtN2kLqZ",
        "colab_type": "code",
        "outputId": "6c79c730-cf46-4616-ac89-85f95b405834",
        "colab": {
          "base_uri": "https://localhost:8080/",
          "height": 447
        }
      },
      "source": [
        "df.head()"
      ],
      "execution_count": 18,
      "outputs": [
        {
          "output_type": "execute_result",
          "data": {
            "text/html": [
              "<div>\n",
              "<style scoped>\n",
              "    .dataframe tbody tr th:only-of-type {\n",
              "        vertical-align: middle;\n",
              "    }\n",
              "\n",
              "    .dataframe tbody tr th {\n",
              "        vertical-align: top;\n",
              "    }\n",
              "\n",
              "    .dataframe thead th {\n",
              "        text-align: right;\n",
              "    }\n",
              "</style>\n",
              "<table border=\"1\" class=\"dataframe\">\n",
              "  <thead>\n",
              "    <tr style=\"text-align: right;\">\n",
              "      <th></th>\n",
              "      <th>text</th>\n",
              "      <th>source</th>\n",
              "      <th>lowered_words</th>\n",
              "      <th>Parse</th>\n",
              "      <th>lemmatized_words</th>\n",
              "      <th>symbols_length</th>\n",
              "      <th>words_length</th>\n",
              "      <th>POS</th>\n",
              "    </tr>\n",
              "  </thead>\n",
              "  <tbody>\n",
              "    <tr>\n",
              "      <th>0</th>\n",
              "      <td>Начальник Главного оперативного управления Ген...</td>\n",
              "      <td>mil</td>\n",
              "      <td>[начальник, главного, оперативного, управления...</td>\n",
              "      <td>[(начальник, NOUN,anim,masc sing,nomn, начальн...</td>\n",
              "      <td>[начальник, главный, оперативный, управление, ...</td>\n",
              "      <td>13306</td>\n",
              "      <td>1727</td>\n",
              "      <td>[NOUN, ADJF, ADJF, NOUN, ADJF, NOUN, ADJF, NOU...</td>\n",
              "    </tr>\n",
              "    <tr>\n",
              "      <th>1</th>\n",
              "      <td>Артиллерийские подразделения общевойскового об...</td>\n",
              "      <td>mil</td>\n",
              "      <td>[артиллерийские, подразделения, общевойскового...</td>\n",
              "      <td>[(артиллерийские, ADJF plur,nomn, артиллерийск...</td>\n",
              "      <td>[артиллерийский, подразделение, общевойсковой,...</td>\n",
              "      <td>759</td>\n",
              "      <td>96</td>\n",
              "      <td>[ADJF, NOUN, ADJF, NOUN, None, PREP, ADJF, NOU...</td>\n",
              "    </tr>\n",
              "    <tr>\n",
              "      <th>2</th>\n",
              "      <td>Подразделения морской пехоты Каспийской флотил...</td>\n",
              "      <td>mil</td>\n",
              "      <td>[подразделения, морской, пехоты, каспийской, ф...</td>\n",
              "      <td>[(подразделения, NOUN,inan,neut sing,gent, под...</td>\n",
              "      <td>[подразделение, морской, пехота, каспийский, ф...</td>\n",
              "      <td>499</td>\n",
              "      <td>58</td>\n",
              "      <td>[NOUN, ADJF, NOUN, ADJF, NOUN, VERB, NOUN, NOU...</td>\n",
              "    </tr>\n",
              "    <tr>\n",
              "      <th>3</th>\n",
              "      <td>Команды на всеармейских этапах конкурсов АрМИ-...</td>\n",
              "      <td>mil</td>\n",
              "      <td>[команды, на, всеармейских, этапах, конкурсов,...</td>\n",
              "      <td>[(команды, NOUN,inan,femn sing,gent, команда, ...</td>\n",
              "      <td>[команда, на, всеармейский, этап, конкурс, арм...</td>\n",
              "      <td>1091</td>\n",
              "      <td>138</td>\n",
              "      <td>[NOUN, PREP, ADJF, NOUN, NOUN, None, ADJF, NOU...</td>\n",
              "    </tr>\n",
              "    <tr>\n",
              "      <th>4</th>\n",
              "      <td>На большом учебно-методическом командирском сб...</td>\n",
              "      <td>mil</td>\n",
              "      <td>[на, большом, учебно-методическом, командирско...</td>\n",
              "      <td>[(на, PREP, на, 0.99931, ((&lt;DictionaryAnalyzer...</td>\n",
              "      <td>[на, большой, учебно-методический, командирски...</td>\n",
              "      <td>719</td>\n",
              "      <td>88</td>\n",
              "      <td>[PREP, ADJF, ADJF, ADJF, NOUN, PRTF, PREP, NUM...</td>\n",
              "    </tr>\n",
              "  </tbody>\n",
              "</table>\n",
              "</div>"
            ],
            "text/plain": [
              "                                                text  ...                                                POS\n",
              "0  Начальник Главного оперативного управления Ген...  ...  [NOUN, ADJF, ADJF, NOUN, ADJF, NOUN, ADJF, NOU...\n",
              "1  Артиллерийские подразделения общевойскового об...  ...  [ADJF, NOUN, ADJF, NOUN, None, PREP, ADJF, NOU...\n",
              "2  Подразделения морской пехоты Каспийской флотил...  ...  [NOUN, ADJF, NOUN, ADJF, NOUN, VERB, NOUN, NOU...\n",
              "3  Команды на всеармейских этапах конкурсов АрМИ-...  ...  [NOUN, PREP, ADJF, NOUN, NOUN, None, ADJF, NOU...\n",
              "4  На большом учебно-методическом командирском сб...  ...  [PREP, ADJF, ADJF, ADJF, NOUN, PRTF, PREP, NUM...\n",
              "\n",
              "[5 rows x 8 columns]"
            ]
          },
          "metadata": {
            "tags": []
          },
          "execution_count": 18
        }
      ]
    },
    {
      "cell_type": "code",
      "metadata": {
        "id": "qObeL3hebLRt",
        "colab_type": "code",
        "outputId": "722f96b5-d403-4fb4-b1f9-6b12f7562c46",
        "colab": {
          "base_uri": "https://localhost:8080/",
          "height": 150
        }
      },
      "source": [
        "# найдите 5 самых частых существительных в текстах каждого паблика\n",
        "from collections import Counter\n",
        "\n",
        "for public in pd.unique(df[:][\"source\"]):\n",
        "    words = []\n",
        "    for text, poses in zip(df[df['source'] == public]['lemmatized_words'], df[df['source'] == public]['POS']):\n",
        "        words.extend([word for i, word in enumerate(text) if poses[i] == 'NOUN'])\n",
        "    print('Public:', public)\n",
        "    print(*Counter(words).most_common(5))"
      ],
      "execution_count": 19,
      "outputs": [
        {
          "output_type": "stream",
          "text": [
            "Public: mil\n",
            "('минобороны', 1824) ('военный', 1372) ('россия', 1321) ('год', 1306) ('оборона', 920)\n",
            "Public: mchsgov\n",
            "('мчс', 3582) ('мчсроссия', 1879) ('россия', 1714) ('спасатель', 684) ('год', 567)\n",
            "Public: russianpost\n",
            "('почта', 3269) ('россия', 2699) ('год', 2173) ('отделение', 1630) ('письмо', 1492)\n",
            "Public: mospolice\n",
            "('полиция', 5934) ('год', 5344) ('мвд', 4969) ('москва', 4276) ('россия', 4018)\n"
          ],
          "name": "stdout"
        }
      ]
    },
    {
      "cell_type": "code",
      "metadata": {
        "id": "6nQvyBRZbLUn",
        "colab_type": "code",
        "colab": {}
      },
      "source": [
        "# if we want to delete some columns\n",
        "# df = df.drop(['symbols_length', 'words_length', 'lowered_words', 'Parse', 'lemmatized_words', 'POS'], axis=1)"
      ],
      "execution_count": 0,
      "outputs": []
    },
    {
      "cell_type": "markdown",
      "metadata": {
        "id": "_3_99brCpKpj",
        "colab_type": "text"
      },
      "source": [
        "Добавим также лемматизированный текст для 5-го задания."
      ]
    },
    {
      "cell_type": "code",
      "metadata": {
        "id": "1VoxmLFipK4z",
        "colab_type": "code",
        "colab": {}
      },
      "source": [
        "df['lemmatized_text'] = df['lemmatized_words'].apply(lambda x: ' '.join(x))"
      ],
      "execution_count": 0,
      "outputs": []
    },
    {
      "cell_type": "markdown",
      "metadata": {
        "colab_type": "text",
        "id": "fTJPlulvQSqQ"
      },
      "source": [
        "Разделите коллекцию текстов на обучающую и тестовую части. "
      ]
    },
    {
      "cell_type": "code",
      "metadata": {
        "id": "pnpT0Z8jmUvQ",
        "colab_type": "code",
        "colab": {}
      },
      "source": [
        "from sklearn.model_selection import train_test_split"
      ],
      "execution_count": 0,
      "outputs": []
    },
    {
      "cell_type": "code",
      "metadata": {
        "id": "IGhm78vpmbjv",
        "colab_type": "code",
        "colab": {}
      },
      "source": [
        "X_train_full, X_test_full, y_train, y_test = train_test_split(df.loc[:, df.columns != 'source'], df['source'], test_size=0.3, random_state=21)"
      ],
      "execution_count": 0,
      "outputs": []
    },
    {
      "cell_type": "code",
      "metadata": {
        "id": "zMNud_IKm6oY",
        "colab_type": "code",
        "outputId": "8d7bab9a-6f33-433d-bfa5-34f9113a0a21",
        "colab": {
          "base_uri": "https://localhost:8080/",
          "height": 33
        }
      },
      "source": [
        "X_train_full.shape, X_test_full.shape, y_train.shape, y_test.shape"
      ],
      "execution_count": 24,
      "outputs": [
        {
          "output_type": "execute_result",
          "data": {
            "text/plain": [
              "((8068, 8), (3458, 8), (8068,), (3458,))"
            ]
          },
          "metadata": {
            "tags": []
          },
          "execution_count": 24
        }
      ]
    },
    {
      "cell_type": "markdown",
      "metadata": {
        "colab_type": "text",
        "id": "9yCVYfbpNhXd"
      },
      "source": [
        " ## Задание 2 [2 балла]. Классификация по правилам\n",
        " \n",
        " * Разработайте несколько правил вида \"Если встречается слово $w$, то текст относится к паблику $c$\"\n",
        " * Посчитайте, какую точность, полноту, $f$-меру и $accuracy$ вы получаете при классификации по правилам\n",
        " * Получилось ли у вас придумать правило, которое никогда не ошибается?"
      ]
    },
    {
      "cell_type": "code",
      "metadata": {
        "id": "Ox2LbuQqnpsW",
        "colab_type": "code",
        "colab": {}
      },
      "source": [
        "import random\n",
        "\n",
        "def rules(text):\n",
        "    if text & {'минобороны', 'военный', 'оборона'}:\n",
        "        return 'mil'\n",
        "    elif text & {'мчс', 'мчсроссия', 'спасатель'}:\n",
        "        return 'mchsgov'\n",
        "    elif text & {'почта', 'отделение', 'письмо'}:\n",
        "        return 'russianpost'\n",
        "    elif text & {'полиция', 'мвд', 'москва'}:\n",
        "        return 'mospolice'\n",
        "    else: # случайный выбор\n",
        "        return random.choice(['mil', 'mchsgov', 'russianpost', 'mospolice'])"
      ],
      "execution_count": 0,
      "outputs": []
    },
    {
      "cell_type": "code",
      "metadata": {
        "id": "MneBxuCqnp9O",
        "colab_type": "code",
        "colab": {}
      },
      "source": [
        "import numpy as np\n",
        "from sklearn.metrics import confusion_matrix\n",
        "import seaborn as sn\n",
        "import pandas as pd\n",
        "import matplotlib.pyplot as plt\n",
        "\n",
        "labels=['mil', 'mchsgov', 'russianpost', 'mospolice']\n",
        "\n",
        "def get_cm(X, y):\n",
        "    predictions = []\n",
        "    for index, row in X.iterrows():\n",
        "        predictions.append(rules(set(row['lowered_words'])))\n",
        "    cm = confusion_matrix(y, predictions, labels)\n",
        "    return cm\n",
        "\n",
        "def plot_cm(cm):\n",
        "    df_cm = pd.DataFrame(cm, index=labels, columns=labels)\n",
        "    plt.figure(figsize = (10,7))\n",
        "    sn.heatmap(df_cm, annot=True);\n",
        "\n",
        "def print_metrics_from_cm(cm):\n",
        "    precisions = np.diag(cm) / np.sum(cm, axis=0)\n",
        "    recalls = np.diag(cm) / np.sum(cm, axis=1)\n",
        "    mean_precision = np.mean(precisions)\n",
        "    print(\"Mean Precision:\", mean_precision)\n",
        "    mean_recall = np.mean(recalls)\n",
        "    print(\"Mean Recall\", mean_recall)\n",
        "    print(\"Accuracy:\", np.sum(np.diag(cm)) / np.sum(cm))\n",
        "    print(\"F1 score:\", 2 * mean_precision * mean_recall / (mean_precision + mean_recall))"
      ],
      "execution_count": 0,
      "outputs": []
    },
    {
      "cell_type": "code",
      "metadata": {
        "id": "1TPUSUxlnqJF",
        "colab_type": "code",
        "outputId": "ef3e4590-64ad-4d36-8fd1-b7376659a058",
        "colab": {
          "base_uri": "https://localhost:8080/",
          "height": 499
        }
      },
      "source": [
        "# На обучающей выборке\n",
        "\n",
        "cm = get_cm(X_train_full, y_train)\n",
        "plot_cm(cm)\n",
        "print_metrics_from_cm(cm)"
      ],
      "execution_count": 147,
      "outputs": [
        {
          "output_type": "stream",
          "text": [
            "Mean Precision: 0.7517917662735328\n",
            "Mean Recall 0.7473349379353688\n",
            "Accuracy: 0.7518591968269708\n",
            "F1 score: 0.7495567271411372\n"
          ],
          "name": "stdout"
        },
        {
          "output_type": "display_data",
          "data": {
            "image/png": "[encoded data removed]",
            "text/plain": [
              "<Figure size 720x504 with 2 Axes>"
            ]
          },
          "metadata": {
            "tags": []
          }
        }
      ]
    },
    {
      "cell_type": "code",
      "metadata": {
        "id": "uPS4ReT5pMm7",
        "colab_type": "code",
        "outputId": "76dda4e3-90ec-4a1a-ec63-aa31b9df712b",
        "colab": {
          "base_uri": "https://localhost:8080/",
          "height": 520
        }
      },
      "source": [
        "# На тестовой выборке\n",
        "\n",
        "cm = get_cm(X_test_full, y_test)\n",
        "plot_cm(cm)\n",
        "print_metrics_from_cm(cm)"
      ],
      "execution_count": 0,
      "outputs": [
        {
          "output_type": "stream",
          "text": [
            "Mean Precision: 0.750587281881323\n",
            "Mean Recall 0.7470973472317826\n",
            "Accuracy: 0.7510121457489879\n",
            "F1 score: 0.7488382483988245\n"
          ],
          "name": "stdout"
        },
        {
          "output_type": "display_data",
          "data": {
            "image/png": "[encoded data removed]",
            "text/plain": [
              "<Figure size 720x504 with 2 Axes>"
            ]
          },
          "metadata": {
            "tags": []
          }
        }
      ]
    },
    {
      "cell_type": "code",
      "metadata": {
        "id": "-_NMcfYW34fO",
        "colab_type": "code",
        "outputId": "f2fa9aa8-40ff-43b8-f17e-ba1d6c3aa12f",
        "colab": {
          "base_uri": "https://localhost:8080/",
          "height": 520
        }
      },
      "source": [
        "# На всей выборке\n",
        "\n",
        "X = df.loc[:, df.columns != 'source']\n",
        "y = df['source']\n",
        "\n",
        "cm = get_cm(X, y)\n",
        "plot_cm(cm)\n",
        "print_metrics_from_cm(cm)"
      ],
      "execution_count": 0,
      "outputs": [
        {
          "output_type": "stream",
          "text": [
            "Mean Precision: 0.7453096610243833\n",
            "Mean Recall 0.7429100282493936\n",
            "Accuracy: 0.7470935276765573\n",
            "F1 score: 0.7441079100308969\n"
          ],
          "name": "stdout"
        },
        {
          "output_type": "display_data",
          "data": {
            "image/png": "[encoded data removed]",
            "text/plain": [
              "<Figure size 720x504 with 2 Axes>"
            ]
          },
          "metadata": {
            "tags": []
          }
        }
      ]
    },
    {
      "cell_type": "markdown",
      "metadata": {
        "id": "Qo9rBttX4Fqc",
        "colab_type": "text"
      },
      "source": [
        "Т.е. качество довольно неплохое, несмотря на не самые изощрённые правила. Определённую долю (~ 25%) правильных ответов привносит случайный выбор."
      ]
    },
    {
      "cell_type": "markdown",
      "metadata": {
        "id": "DzpCfU164YWG",
        "colab_type": "text"
      },
      "source": [
        "Проверим, есть ли среди наших правил те, которые никогда не ошибаются."
      ]
    },
    {
      "cell_type": "code",
      "metadata": {
        "id": "_0eW4zqw4QHX",
        "colab_type": "code",
        "outputId": "1392136a-0ea8-4714-83dc-66025abec4b0",
        "colab": {
          "base_uri": "https://localhost:8080/",
          "height": 105
        }
      },
      "source": [
        "fl_mil_is_not_ideal = 0\n",
        "fl_mchsgov_is_not_ideal = 0\n",
        "fl_russianpost_is_not_ideal = 0\n",
        "fl_mospolice_is_not_ideal = 0\n",
        "\n",
        "for index, row in X.iterrows():\n",
        "    if y[index] == 'mil' and not fl_mil_is_not_ideal:\n",
        "        if not (set(row['lowered_words']) & {'минобороны', 'военный', 'оборона'}):\n",
        "            fl_mil_is_not_ideal = 1\n",
        "            print('rule for mil is not ideal')\n",
        "    elif y[index] == 'mchsgov' and not fl_mchsgov_is_not_ideal:\n",
        "        if not (set(row['lowered_words']) & {'мчс', 'мчсроссия', 'спасатель'}):\n",
        "            fl_mchsgov_is_not_ideal = 1\n",
        "            print('rule for mchsgov is not ideal')\n",
        "    elif y[index] == 'russianpost' and not fl_russianpost_is_not_ideal:\n",
        "        if not (set(row['lowered_words']) & {'почта', 'отделение', 'письмо'}):\n",
        "            fl_russianpost_is_not_ideal = 1\n",
        "            print('rule for russianpost is not ideal')\n",
        "    elif not fl_mospolice_is_not_ideal: # y[index] == 'mospolice'\n",
        "        if not (set(row['lowered_words']) & {'полиция', 'мвд', 'москва'}):\n",
        "            fl_mospolice_is_not_ideal = 1\n",
        "            print('rule for mospolice is not ideal')"
      ],
      "execution_count": 0,
      "outputs": [
        {
          "output_type": "stream",
          "text": [
            "rule for mil is not ideal\n",
            "rule for mospolice is not ideal\n",
            "rule for mchsgov is not ideal\n",
            "rule for russianpost is not ideal\n"
          ],
          "name": "stdout"
        }
      ]
    },
    {
      "cell_type": "markdown",
      "metadata": {
        "id": "_HfVvBBL7LsG",
        "colab_type": "text"
      },
      "source": [
        "Естественно, ни одно из правил не является идеальным. Можно взять уникальное слово (встречающееся только один раз в данном корпусе или несколько раз, но только в одном корпусе) и создать правило типа \"если встретилось это слово, то это категория c (категория, в которой встретилось это слово)\", но и оно получено \"переобучением\" (т.е. мы знали ответы заранее), т.е. не будет универсальным для новых тестовых данных."
      ]
    },
    {
      "cell_type": "markdown",
      "metadata": {
        "id": "xswPLHrc78oq",
        "colab_type": "text"
      },
      "source": [
        "Для никогда не ошибающихся правил (но только для данного датасета) можно взять, к примеру, следующие слова:"
      ]
    },
    {
      "cell_type": "code",
      "metadata": {
        "id": "jjdHT1yo8JOq",
        "colab_type": "code",
        "colab": {}
      },
      "source": [
        "words = []\n",
        "for i in range(df.shape[0]):\n",
        "    words.extend(df.iloc[i][\"lowered_words\"])"
      ],
      "execution_count": 0,
      "outputs": []
    },
    {
      "cell_type": "code",
      "metadata": {
        "id": "fxKQpB3q8S75",
        "colab_type": "code",
        "outputId": "4ae78ace-f482-4f25-85d5-f65c732a129b",
        "colab": {
          "base_uri": "https://localhost:8080/",
          "height": 462
        }
      },
      "source": [
        "[(key, value) for key, value in Counter(words).items() if value == 1][:25]"
      ],
      "execution_count": 0,
      "outputs": [
        {
          "output_type": "execute_result",
          "data": {
            "text/plain": [
              "[('окружена', 1),\n",
              " ('кафер-аккара', 1),\n",
              " ('саббура', 1),\n",
              " ('синджара', 1),\n",
              " ('эль-хаммам', 1),\n",
              " ('возобновлено', 1),\n",
              " ('соединяющей', 1),\n",
              " ('хаму', 1),\n",
              " ('разграничения', 1),\n",
              " ('выставлено', 1),\n",
              " ('ираном', 1),\n",
              " ('конфликтных', 1),\n",
              " ('оплотом', 1),\n",
              " ('превращен', 1),\n",
              " ('разгромленных', 1),\n",
              " ('прекратились', 1),\n",
              " ('удерживаемые', 1),\n",
              " ('нормализовалась', 1),\n",
              " ('шейхами', 1),\n",
              " ('общин', 1),\n",
              " ('разблокировании', 1),\n",
              " ('пожелавшим', 1),\n",
              " ('эр-растан', 1),\n",
              " ('аль-кантара-шимали', 1),\n",
              " ('телль-биса', 1)]"
            ]
          },
          "metadata": {
            "tags": []
          },
          "execution_count": 397
        }
      ]
    },
    {
      "cell_type": "markdown",
      "metadata": {
        "colab_type": "text",
        "id": "22tJKQnaOjie"
      },
      "source": [
        "## Задание 3 [3 балла]. Baseline\n",
        "Используйте стандартный ```sklearn.pipeline``` для классификации текстов: \n",
        "* векторизация \n",
        "* $tf-idf$ взвешивание \n",
        "* ваш любимый метод классификации.\n",
        "\n",
        "\n",
        "Оцените результаты классификации по стандартным мерам качества и проведите анализ ошибок. Для этого рекомендуем визуализировать матрицу ошибок (confusion matrix). "
      ]
    },
    {
      "cell_type": "code",
      "metadata": {
        "id": "aX3HvUvb9OsA",
        "colab_type": "code",
        "colab": {}
      },
      "source": [
        "from sklearn.metrics import classification_report\n",
        "from sklearn.pipeline import Pipeline\n",
        "from sklearn.feature_extraction.text import CountVectorizer\n",
        "from sklearn.feature_extraction.text import TfidfTransformer\n",
        "from sklearn.naive_bayes import MultinomialNB\n",
        "from sklearn.linear_model import SGDClassifier"
      ],
      "execution_count": 0,
      "outputs": []
    },
    {
      "cell_type": "markdown",
      "metadata": {
        "id": "VNbFc5HcHlhC",
        "colab_type": "text"
      },
      "source": [
        "Мультиномиальный наивный Байес даёт хороший baseline (см., например, лекции, где об этом также говорится), поэтому будем использовать именно этот классификатор. В качестве векторайзера используем BOW (частотности) с tf-idf взвешиванием."
      ]
    },
    {
      "cell_type": "code",
      "metadata": {
        "id": "CdYW0wheCpmA",
        "colab_type": "code",
        "colab": {}
      },
      "source": [
        "pipeline = Pipeline([('vectorizer', CountVectorizer()), ('tf_idf', TfidfTransformer()), ('classifier', MultinomialNB())], verbose=True)"
      ],
      "execution_count": 0,
      "outputs": []
    },
    {
      "cell_type": "code",
      "metadata": {
        "id": "JWswCesnIzXK",
        "colab_type": "code",
        "colab": {}
      },
      "source": [
        "X_train = X_train_full['text']\n",
        "X_test = X_test_full['text']"
      ],
      "execution_count": 0,
      "outputs": []
    },
    {
      "cell_type": "code",
      "metadata": {
        "id": "NSApV69zCpo9",
        "colab_type": "code",
        "outputId": "bfbbc337-cc67-4f6a-eade-898e8d46e340",
        "colab": {
          "base_uri": "https://localhost:8080/",
          "height": 357
        }
      },
      "source": [
        "pipeline.fit(X_train, y_train)"
      ],
      "execution_count": 0,
      "outputs": [
        {
          "output_type": "stream",
          "text": [
            "[Pipeline] ........ (step 1 of 3) Processing vectorizer, total=   0.7s\n",
            "[Pipeline] ............ (step 2 of 3) Processing tf_idf, total=   0.1s\n",
            "[Pipeline] ........ (step 3 of 3) Processing classifier, total=   0.0s\n"
          ],
          "name": "stdout"
        },
        {
          "output_type": "execute_result",
          "data": {
            "text/plain": [
              "Pipeline(memory=None,\n",
              "         steps=[('vectorizer',\n",
              "                 CountVectorizer(analyzer='word', binary=False,\n",
              "                                 decode_error='strict',\n",
              "                                 dtype=<class 'numpy.int64'>, encoding='utf-8',\n",
              "                                 input='content', lowercase=True, max_df=1.0,\n",
              "                                 max_features=None, min_df=1,\n",
              "                                 ngram_range=(1, 1), preprocessor=None,\n",
              "                                 stop_words=None, strip_accents=None,\n",
              "                                 token_pattern='(?u)\\\\b\\\\w\\\\w+\\\\b',\n",
              "                                 tokenizer=None, vocabulary=None)),\n",
              "                ('tf_idf',\n",
              "                 TfidfTransformer(norm='l2', smooth_idf=True,\n",
              "                                  sublinear_tf=False, use_idf=True)),\n",
              "                ('classifier',\n",
              "                 MultinomialNB(alpha=1.0, class_prior=None, fit_prior=True))],\n",
              "         verbose=True)"
            ]
          },
          "metadata": {
            "tags": []
          },
          "execution_count": 401
        }
      ]
    },
    {
      "cell_type": "code",
      "metadata": {
        "id": "Y1hIaqPNJLgr",
        "colab_type": "code",
        "colab": {}
      },
      "source": [
        "predictions = pipeline.predict(X_test)"
      ],
      "execution_count": 0,
      "outputs": []
    },
    {
      "cell_type": "code",
      "metadata": {
        "id": "dsq0gO0vJLlW",
        "colab_type": "code",
        "colab": {}
      },
      "source": [
        "cm = confusion_matrix(y_test, predictions, labels)"
      ],
      "execution_count": 0,
      "outputs": []
    },
    {
      "cell_type": "code",
      "metadata": {
        "id": "F_Ta6EZMCprx",
        "colab_type": "code",
        "outputId": "53ba1244-ed16-41e6-c0ec-0afb11417f08",
        "colab": {
          "base_uri": "https://localhost:8080/",
          "height": 432
        }
      },
      "source": [
        "plot_cm(cm)"
      ],
      "execution_count": 0,
      "outputs": [
        {
          "output_type": "display_data",
          "data": {
            "image/png": "[encoded data removed]",
            "text/plain": [
              "<Figure size 720x504 with 2 Axes>"
            ]
          },
          "metadata": {
            "tags": []
          }
        }
      ]
    },
    {
      "cell_type": "code",
      "metadata": {
        "id": "rlpFWODfKtNx",
        "colab_type": "code",
        "outputId": "9203ae5a-1d13-40d7-e760-f305eea28885",
        "colab": {
          "base_uri": "https://localhost:8080/",
          "height": 85
        }
      },
      "source": [
        "print_metrics_from_cm(cm)"
      ],
      "execution_count": 0,
      "outputs": [
        {
          "output_type": "stream",
          "text": [
            "Mean Precision: 0.9649451149905334\n",
            "Mean Recall 0.9659590149255644\n",
            "Accuracy: 0.9658762290341237\n",
            "F1 score: 0.9654517987633003\n"
          ],
          "name": "stdout"
        }
      ]
    },
    {
      "cell_type": "code",
      "metadata": {
        "id": "kqk758ckPrz1",
        "colab_type": "code",
        "outputId": "f666f11a-66d5-455f-adfe-8e81582a1e5a",
        "colab": {
          "base_uri": "https://localhost:8080/",
          "height": 204
        }
      },
      "source": [
        "print(classification_report(y_test, predictions, labels))"
      ],
      "execution_count": 0,
      "outputs": [
        {
          "output_type": "stream",
          "text": [
            "              precision    recall  f1-score   support\n",
            "\n",
            "         mil       0.99      0.97      0.98       919\n",
            "     mchsgov       0.98      0.94      0.96       914\n",
            " russianpost       0.93      0.96      0.94       780\n",
            "   mospolice       0.95      0.99      0.97       845\n",
            "\n",
            "    accuracy                           0.97      3458\n",
            "   macro avg       0.96      0.97      0.97      3458\n",
            "weighted avg       0.97      0.97      0.97      3458\n",
            "\n"
          ],
          "name": "stdout"
        }
      ]
    },
    {
      "cell_type": "markdown",
      "metadata": {
        "id": "WhM8QD_UNnBQ",
        "colab_type": "text"
      },
      "source": [
        "Качество выросло значительно.\n",
        "\n",
        "Как видно из матрицы ошибок чаще всего (41) классификатор ошибочно приписывает лейбл \"mchsgov\" к текстам, в действительности имеющим лейбл \"russianpost\". Следующей по частотности ошибкой (33) является приписывание лейбла \"russianpost\" к текстам, имеющим лейбл \"mospolice\". 11 раз текстам с лейблом \"mchsgov\" ошибочно приписывается лейбл \"mil\". Во всех остальных случаях количество ошибок меньше десяти. Лейблы \"mil\" и \"mospolice\" практически не смешиваются (всего 5 раз -- наименьшее количество), т.е. эти два паблика являются наиболее отличающимися."
      ]
    },
    {
      "cell_type": "markdown",
      "metadata": {
        "id": "-b8fWx8nMTk7",
        "colab_type": "text"
      },
      "source": [
        "Попробуем также считающийся лучшим линейный классификатор с обучением с помощью стохастического градиентного спуска (SGD классификатор на дефолтных параметрах)."
      ]
    },
    {
      "cell_type": "code",
      "metadata": {
        "id": "wJwm3hqHMRoA",
        "colab_type": "code",
        "colab": {}
      },
      "source": [
        "pipeline = Pipeline([('vectorizer', CountVectorizer()), ('tf_idf', TfidfTransformer()), ('classifier', SGDClassifier())], verbose=True)"
      ],
      "execution_count": 0,
      "outputs": []
    },
    {
      "cell_type": "code",
      "metadata": {
        "id": "ZtYDSdCjMpGv",
        "colab_type": "code",
        "outputId": "7039b922-39c8-468f-984b-37c226c87b65",
        "colab": {
          "base_uri": "https://localhost:8080/",
          "height": 425
        }
      },
      "source": [
        "pipeline.fit(X_train, y_train)"
      ],
      "execution_count": 0,
      "outputs": [
        {
          "output_type": "stream",
          "text": [
            "[Pipeline] ........ (step 1 of 3) Processing vectorizer, total=   0.7s\n",
            "[Pipeline] ............ (step 2 of 3) Processing tf_idf, total=   0.1s\n",
            "[Pipeline] ........ (step 3 of 3) Processing classifier, total=   0.1s\n"
          ],
          "name": "stdout"
        },
        {
          "output_type": "execute_result",
          "data": {
            "text/plain": [
              "Pipeline(memory=None,\n",
              "         steps=[('vectorizer',\n",
              "                 CountVectorizer(analyzer='word', binary=False,\n",
              "                                 decode_error='strict',\n",
              "                                 dtype=<class 'numpy.int64'>, encoding='utf-8',\n",
              "                                 input='content', lowercase=True, max_df=1.0,\n",
              "                                 max_features=None, min_df=1,\n",
              "                                 ngram_range=(1, 1), preprocessor=None,\n",
              "                                 stop_words=None, strip_accents=None,\n",
              "                                 token_pattern='(?u)\\\\b\\\\w\\\\w+\\\\b',\n",
              "                                 tokenizer=None, vocabula...\n",
              "                ('classifier',\n",
              "                 SGDClassifier(alpha=0.0001, average=False, class_weight=None,\n",
              "                               early_stopping=False, epsilon=0.1, eta0=0.0,\n",
              "                               fit_intercept=True, l1_ratio=0.15,\n",
              "                               learning_rate='optimal', loss='hinge',\n",
              "                               max_iter=1000, n_iter_no_change=5, n_jobs=None,\n",
              "                               penalty='l2', power_t=0.5, random_state=None,\n",
              "                               shuffle=True, tol=0.001, validation_fraction=0.1,\n",
              "                               verbose=0, warm_start=False))],\n",
              "         verbose=True)"
            ]
          },
          "metadata": {
            "tags": []
          },
          "execution_count": 408
        }
      ]
    },
    {
      "cell_type": "code",
      "metadata": {
        "id": "ttq3J9jKMqtj",
        "colab_type": "code",
        "colab": {}
      },
      "source": [
        "predictions = pipeline.predict(X_test)"
      ],
      "execution_count": 0,
      "outputs": []
    },
    {
      "cell_type": "code",
      "metadata": {
        "id": "nUMgYlxOMqw6",
        "colab_type": "code",
        "colab": {}
      },
      "source": [
        "cm = confusion_matrix(y_test, predictions, labels)"
      ],
      "execution_count": 0,
      "outputs": []
    },
    {
      "cell_type": "code",
      "metadata": {
        "id": "KgiztRc9Mtec",
        "colab_type": "code",
        "outputId": "c15cfa96-b22d-4626-b1a3-519ca49a3e7c",
        "colab": {
          "base_uri": "https://localhost:8080/",
          "height": 432
        }
      },
      "source": [
        "plot_cm(cm)"
      ],
      "execution_count": 0,
      "outputs": [
        {
          "output_type": "display_data",
          "data": {
            "image/png": "[encoded data removed]",
            "text/plain": [
              "<Figure size 720x504 with 2 Axes>"
            ]
          },
          "metadata": {
            "tags": []
          }
        }
      ]
    },
    {
      "cell_type": "code",
      "metadata": {
        "id": "dDtbpnl-Mtk-",
        "colab_type": "code",
        "outputId": "6c8c4b17-430c-46f3-d090-d07111201a17",
        "colab": {
          "base_uri": "https://localhost:8080/",
          "height": 85
        }
      },
      "source": [
        "print_metrics_from_cm(cm)"
      ],
      "execution_count": 0,
      "outputs": [
        {
          "output_type": "stream",
          "text": [
            "Mean Precision: 0.9779779413705584\n",
            "Mean Recall 0.9783004572726648\n",
            "Accuracy: 0.9786003470213996\n",
            "F1 score: 0.9781391727363089\n"
          ],
          "name": "stdout"
        }
      ]
    },
    {
      "cell_type": "code",
      "metadata": {
        "id": "31ZsiYZSK1yT",
        "colab_type": "code",
        "outputId": "e7db1876-5e76-409a-a5ff-14548475f106",
        "colab": {
          "base_uri": "https://localhost:8080/",
          "height": 204
        }
      },
      "source": [
        "print(classification_report(y_test, predictions, labels))"
      ],
      "execution_count": 0,
      "outputs": [
        {
          "output_type": "stream",
          "text": [
            "              precision    recall  f1-score   support\n",
            "\n",
            "         mil       0.99      0.99      0.99       919\n",
            "     mchsgov       0.98      0.97      0.98       914\n",
            " russianpost       0.96      0.96      0.96       780\n",
            "   mospolice       0.97      1.00      0.98       845\n",
            "\n",
            "    accuracy                           0.98      3458\n",
            "   macro avg       0.98      0.98      0.98      3458\n",
            "weighted avg       0.98      0.98      0.98      3458\n",
            "\n"
          ],
          "name": "stdout"
        }
      ]
    },
    {
      "cell_type": "markdown",
      "metadata": {
        "id": "_48F3OztREP1",
        "colab_type": "text"
      },
      "source": [
        "Качество стало ещё  лучше.\n",
        "\n",
        "Аналогично MultinomialNB SGDClassifier также путает \"mchsgov\" с \"russianpost\" (23), \"russianpost\" c \"mospolice\" (25) и \"mil\" с \"mchsgov\" (11), но уже в меньшей мере. Минимум ошибок наблюдается для тем \"mchsgov\" и \"mospolice\" (всего 1 ошибка), \"mil\" и \"mospolice\" (всего 2 ошибки), \"mil\" и \"russianpost\" (также), т.е. классификатор очень даже неплохо обучился отличать посты в отдельных парах. Заранее трудно было предположить, что \"mil\" и \"mospolice\" окажутся чётче разграничены, чем, например, \"russianpost\" c \"mospolice\", поскольку, к примеру, и в постах про \"mil\", и в постах про \"mospolice\" может идти речь, например, о вооружении. Возможно, это связано с нечёткой тематикой у \"russianpost\"."
      ]
    },
    {
      "cell_type": "markdown",
      "metadata": {
        "colab_type": "text",
        "id": "I4m1rDQ3PAqO"
      },
      "source": [
        "## Задание 4 [2 балла]. Снижение размерности\n",
        "Добавьте в ваш ```sklearn.pipeline```  методы снижения размерности:  PCA / LSI / LSA / LDA / другое. Какие методы классификации разумно использовать после снижения размерности? Как изменились результаты классификации после добавления нового шага?"
      ]
    },
    {
      "cell_type": "code",
      "metadata": {
        "id": "pkKVnVS1UfqD",
        "colab_type": "code",
        "colab": {}
      },
      "source": [
        "# Используем LSA (латентно-семантический анализ): применяем TruncatedSVD после tf-idf трансформатора.\n",
        "from sklearn.decomposition import TruncatedSVD"
      ],
      "execution_count": 0,
      "outputs": []
    },
    {
      "cell_type": "code",
      "metadata": {
        "id": "IJ2nFfmTTkg0",
        "colab_type": "code",
        "outputId": "ccc198d6-4211-4aa4-b48b-4749a23d33e1",
        "colab": {
          "base_uri": "https://localhost:8080/",
          "height": 105
        }
      },
      "source": [
        "pipeline = Pipeline(steps=[('vectorizer', CountVectorizer()), ('tf_idf', TfidfTransformer()), ('lsa', TruncatedSVD()), ('classifier', SGDClassifier())], verbose=True)\n",
        "pipeline.fit(X_train, y_train)\n",
        "predictions = pipeline.predict(X_test)"
      ],
      "execution_count": 0,
      "outputs": [
        {
          "output_type": "stream",
          "text": [
            "[Pipeline] ........ (step 1 of 4) Processing vectorizer, total=   0.7s\n",
            "[Pipeline] ............ (step 2 of 4) Processing tf_idf, total=   0.1s\n",
            "[Pipeline] ............... (step 3 of 4) Processing lsa, total=   0.3s\n",
            "[Pipeline] ........ (step 4 of 4) Processing classifier, total=   0.0s\n"
          ],
          "name": "stdout"
        }
      ]
    },
    {
      "cell_type": "code",
      "metadata": {
        "id": "reBKDI1XTlMU",
        "colab_type": "code",
        "outputId": "bea5928b-1244-4ed6-d3bd-6f945c043625",
        "colab": {
          "base_uri": "https://localhost:8080/",
          "height": 520
        }
      },
      "source": [
        "cm = confusion_matrix(y_test, predictions, labels)\n",
        "plot_cm(cm)\n",
        "print_metrics_from_cm(cm)"
      ],
      "execution_count": 0,
      "outputs": [
        {
          "output_type": "stream",
          "text": [
            "Mean Precision: 0.598647748981582\n",
            "Mean Recall 0.643985078108332\n",
            "Accuracy: 0.6576055523423945\n",
            "F1 score: 0.6204893496820294\n"
          ],
          "name": "stdout"
        },
        {
          "output_type": "display_data",
          "data": {
            "image/png": "[encoded data removed]",
            "text/plain": [
              "<Figure size 720x504 with 2 Axes>"
            ]
          },
          "metadata": {
            "tags": []
          }
        }
      ]
    },
    {
      "cell_type": "markdown",
      "metadata": {
        "id": "i3sQd48SbPGh",
        "colab_type": "text"
      },
      "source": [
        "После tf-idf у нас есть sparce матрица, после понижения размерности с помощью, например, PCA, получаем dense матрицу.\n",
        "\n",
        "SGD классификатор (как и, например, LinearSVC классификатор) явно не подходит для использования после PCA, поскольку он ожидает именно sparce матрицу (это видно и по сильно упавшему качеству выше: даже ниже, чем у предсказания по правилам), а мы сознательно уменьшаем её размерность. MultinomialNB в принципе выдаёт ошибку из-за несовместимости.\n",
        "\n",
        "Поэтому разумно использовать классификаторы, которые ожидают на вход именно dense матрицу. Среди таковых, например, случайный лес (RandomForestClassifier()), "
      ]
    },
    {
      "cell_type": "code",
      "metadata": {
        "id": "YYnXdWeuU6tV",
        "colab_type": "code",
        "colab": {}
      },
      "source": [
        "from sklearn.ensemble import RandomForestClassifier\n",
        "\n",
        "pipeline = Pipeline(steps=[('vectorizer', CountVectorizer()), ('tf_idf', TfidfTransformer()), ('lsa', TruncatedSVD()), ('classifier', RandomForestClassifier())], verbose=True)"
      ],
      "execution_count": 0,
      "outputs": []
    },
    {
      "cell_type": "code",
      "metadata": {
        "id": "xkjw6D-aU6w0",
        "colab_type": "code",
        "outputId": "a4baed6a-fd46-4861-ce13-840ad8d0c8c0",
        "colab": {
          "base_uri": "https://localhost:8080/",
          "height": 139
        }
      },
      "source": [
        "pipeline.fit(X_train, y_train)\n",
        "predictions = pipeline.predict(X_test)"
      ],
      "execution_count": 0,
      "outputs": [
        {
          "output_type": "stream",
          "text": [
            "[Pipeline] ........ (step 1 of 4) Processing vectorizer, total=   0.7s\n",
            "[Pipeline] ............ (step 2 of 4) Processing tf_idf, total=   0.1s\n",
            "[Pipeline] ............... (step 3 of 4) Processing lsa, total=   0.3s\n",
            "[Pipeline] ........ (step 4 of 4) Processing classifier, total=   0.1s\n"
          ],
          "name": "stdout"
        },
        {
          "output_type": "stream",
          "text": [
            "/usr/local/lib/python3.6/dist-packages/sklearn/ensemble/forest.py:245: FutureWarning: The default value of n_estimators will change from 10 in version 0.20 to 100 in 0.22.\n",
            "  \"10 in version 0.20 to 100 in 0.22.\", FutureWarning)\n"
          ],
          "name": "stderr"
        }
      ]
    },
    {
      "cell_type": "code",
      "metadata": {
        "id": "nmdZEE5ZXab6",
        "colab_type": "code",
        "outputId": "cb88d172-31fe-4333-d437-ab8c5414b784",
        "colab": {
          "base_uri": "https://localhost:8080/",
          "height": 520
        }
      },
      "source": [
        "cm = confusion_matrix(y_test, predictions, labels)\n",
        "plot_cm(cm)\n",
        "print_metrics_from_cm(cm)"
      ],
      "execution_count": 0,
      "outputs": [
        {
          "output_type": "stream",
          "text": [
            "Mean Precision: 0.7339045360883352\n",
            "Mean Recall 0.7377622903666792\n",
            "Accuracy: 0.7446500867553499\n",
            "F1 score: 0.7358283569648381\n"
          ],
          "name": "stdout"
        },
        {
          "output_type": "display_data",
          "data": {
            "image/png": "[encoded data removed]",
            "text/plain": [
              "<Figure size 720x504 with 2 Axes>"
            ]
          },
          "metadata": {
            "tags": []
          }
        }
      ]
    },
    {
      "cell_type": "code",
      "metadata": {
        "id": "WIJ1fXNfjIV8",
        "colab_type": "code",
        "colab": {}
      },
      "source": [
        "from sklearn.linear_model import LogisticRegression"
      ],
      "execution_count": 0,
      "outputs": []
    },
    {
      "cell_type": "code",
      "metadata": {
        "id": "dLTVDvDtjJja",
        "colab_type": "code",
        "outputId": "1ed79f45-56f4-4429-f82a-13d30e94a213",
        "colab": {
          "base_uri": "https://localhost:8080/",
          "height": 173
        }
      },
      "source": [
        "pipeline = Pipeline(steps=[('vectorizer', CountVectorizer()), ('tf_idf', TfidfTransformer()), ('lsa', TruncatedSVD()), ('classifier', LogisticRegression())], verbose=True)\n",
        "pipeline.fit(X_train, y_train)\n",
        "predictions = pipeline.predict(X_test)"
      ],
      "execution_count": 0,
      "outputs": [
        {
          "output_type": "stream",
          "text": [
            "[Pipeline] ........ (step 1 of 4) Processing vectorizer, total=   0.7s\n",
            "[Pipeline] ............ (step 2 of 4) Processing tf_idf, total=   0.1s\n",
            "[Pipeline] ............... (step 3 of 4) Processing lsa, total=   0.3s\n",
            "[Pipeline] ........ (step 4 of 4) Processing classifier, total=   0.0s\n"
          ],
          "name": "stdout"
        },
        {
          "output_type": "stream",
          "text": [
            "/usr/local/lib/python3.6/dist-packages/sklearn/linear_model/logistic.py:432: FutureWarning: Default solver will be changed to 'lbfgs' in 0.22. Specify a solver to silence this warning.\n",
            "  FutureWarning)\n",
            "/usr/local/lib/python3.6/dist-packages/sklearn/linear_model/logistic.py:469: FutureWarning: Default multi_class will be changed to 'auto' in 0.22. Specify the multi_class option to silence this warning.\n",
            "  \"this warning.\", FutureWarning)\n"
          ],
          "name": "stderr"
        }
      ]
    },
    {
      "cell_type": "code",
      "metadata": {
        "id": "tL4dYuScjJdy",
        "colab_type": "code",
        "outputId": "880e1c6a-dd08-4329-9e48-978765a97177",
        "colab": {
          "base_uri": "https://localhost:8080/",
          "height": 537
        }
      },
      "source": [
        "# Вдобавок появляются nan-ы\n",
        "cm = confusion_matrix(y_test, predictions, labels)\n",
        "plot_cm(cm)\n",
        "print_metrics_from_cm(cm)"
      ],
      "execution_count": 0,
      "outputs": [
        {
          "output_type": "stream",
          "text": [
            "/usr/local/lib/python3.6/dist-packages/ipykernel_launcher.py:22: RuntimeWarning: invalid value encountered in true_divide\n"
          ],
          "name": "stderr"
        },
        {
          "output_type": "stream",
          "text": [
            "Mean Precision: nan\n",
            "Mean Recall 0.6622567883735277\n",
            "Accuracy: 0.6827646038172354\n",
            "F1 score: nan\n"
          ],
          "name": "stdout"
        },
        {
          "output_type": "display_data",
          "data": {
            "image/png": "[encoded data removed]",
            "text/plain": [
              "<Figure size 720x504 with 2 Axes>"
            ]
          },
          "metadata": {
            "tags": []
          }
        }
      ]
    },
    {
      "cell_type": "code",
      "metadata": {
        "id": "p5y8Bx8xjJbA",
        "colab_type": "code",
        "outputId": "7aa4a03d-3656-433c-a067-df194015b647",
        "colab": {
          "base_uri": "https://localhost:8080/",
          "height": 326
        }
      },
      "source": [
        "print(classification_report(y_test, predictions, labels))"
      ],
      "execution_count": 0,
      "outputs": [
        {
          "output_type": "stream",
          "text": [
            "              precision    recall  f1-score   support\n",
            "\n",
            "         mil       0.51      0.89      0.65       919\n",
            "     mchsgov       0.91      0.82      0.86       914\n",
            " russianpost       0.00      0.00      0.00       780\n",
            "   mospolice       0.78      0.94      0.85       845\n",
            "\n",
            "    accuracy                           0.68      3458\n",
            "   macro avg       0.55      0.66      0.59      3458\n",
            "weighted avg       0.57      0.68      0.61      3458\n",
            "\n"
          ],
          "name": "stdout"
        },
        {
          "output_type": "stream",
          "text": [
            "/usr/local/lib/python3.6/dist-packages/sklearn/metrics/classification.py:1437: UndefinedMetricWarning: Precision and F-score are ill-defined and being set to 0.0 in labels with no predicted samples.\n",
            "  'precision', 'predicted', average, warn_for)\n",
            "/usr/local/lib/python3.6/dist-packages/sklearn/metrics/classification.py:1437: UndefinedMetricWarning: Precision and F-score are ill-defined and being set to 0.0 in labels with no predicted samples.\n",
            "  'precision', 'predicted', average, warn_for)\n",
            "/usr/local/lib/python3.6/dist-packages/sklearn/metrics/classification.py:1437: UndefinedMetricWarning: Precision and F-score are ill-defined and being set to 0.0 in labels with no predicted samples.\n",
            "  'precision', 'predicted', average, warn_for)\n"
          ],
          "name": "stderr"
        }
      ]
    },
    {
      "cell_type": "code",
      "metadata": {
        "id": "jvxkFUAVnQMO",
        "colab_type": "code",
        "colab": {}
      },
      "source": [
        "from sklearn.ensemble import AdaBoostClassifier"
      ],
      "execution_count": 0,
      "outputs": []
    },
    {
      "cell_type": "code",
      "metadata": {
        "id": "DAKaw820nQQC",
        "colab_type": "code",
        "outputId": "b3ecc23c-4ffa-48b0-e405-ce840d8816bf",
        "colab": {
          "base_uri": "https://localhost:8080/",
          "height": 84
        }
      },
      "source": [
        "pipeline = Pipeline(steps=[('vectorizer', CountVectorizer()), ('tf_idf', TfidfTransformer()), ('lsa', TruncatedSVD()), ('classifier', AdaBoostClassifier())], verbose=True)\n",
        "pipeline.fit(X_train, y_train)\n",
        "predictions = pipeline.predict(X_test)"
      ],
      "execution_count": 173,
      "outputs": [
        {
          "output_type": "stream",
          "text": [
            "[Pipeline] ........ (step 1 of 4) Processing vectorizer, total=   0.7s\n",
            "[Pipeline] ............ (step 2 of 4) Processing tf_idf, total=   0.1s\n",
            "[Pipeline] ............... (step 3 of 4) Processing lsa, total=   0.3s\n",
            "[Pipeline] ........ (step 4 of 4) Processing classifier, total=   0.6s\n"
          ],
          "name": "stdout"
        }
      ]
    },
    {
      "cell_type": "code",
      "metadata": {
        "id": "dfsXkZUQnU1L",
        "colab_type": "code",
        "outputId": "3e15401a-c8ba-4698-954f-095c15deb616",
        "colab": {
          "base_uri": "https://localhost:8080/",
          "height": 499
        }
      },
      "source": [
        "cm = confusion_matrix(y_test, predictions, labels)\n",
        "plot_cm(cm)\n",
        "print_metrics_from_cm(cm)"
      ],
      "execution_count": 174,
      "outputs": [
        {
          "output_type": "stream",
          "text": [
            "Mean Precision: 0.6727494441397254\n",
            "Mean Recall 0.6406890034682112\n",
            "Accuracy: 0.6561596298438404\n",
            "F1 score: 0.6563279333487804\n"
          ],
          "name": "stdout"
        },
        {
          "output_type": "display_data",
          "data": {
            "image/png": "[encoded data removed]",
            "text/plain": [
              "<Figure size 720x504 with 2 Axes>"
            ]
          },
          "metadata": {
            "tags": []
          }
        }
      ]
    },
    {
      "cell_type": "markdown",
      "metadata": {
        "id": "LKT2-la7gZf8",
        "colab_type": "text"
      },
      "source": [
        "Качестве лучше, чем у SGDClassifier-а, но по-прежнему оставляет желать лучшего (впрочем, случайный лес и другие выше используемые алгоритмы в принципе обчно хуже, чем SGD классификатор на sparce матрицах). Т.е. результаты ухудшились после добавления нового шага. Нет смысла терять информацию, понижая размерность, если в данной задаче хватает памяти, чтобы хранить sparse матрицы."
      ]
    },
    {
      "cell_type": "markdown",
      "metadata": {
        "colab_type": "text",
        "id": "7vVPaaVwPVwg"
      },
      "source": [
        "## Задание 5 [1 балл]. Лемматизация\n",
        "Посмотрите, как влияет лемматизация на качество классификации. Как изменится качество классификации, если вы используете ```CountVectorizer``` на словах или $n$-граммах на лемматизированных текстах?"
      ]
    },
    {
      "cell_type": "code",
      "metadata": {
        "id": "hULBHNKVqDdw",
        "colab_type": "code",
        "colab": {}
      },
      "source": [
        "X_train = X_train_full['lemmatized_text']\n",
        "X_test = X_test_full['lemmatized_text']"
      ],
      "execution_count": 0,
      "outputs": []
    },
    {
      "cell_type": "code",
      "metadata": {
        "id": "Qd-q086poC2h",
        "colab_type": "code",
        "outputId": "28d38232-d197-4751-e1c8-1121e4cdbcef",
        "colab": {
          "base_uri": "https://localhost:8080/",
          "height": 88
        }
      },
      "source": [
        "pipeline = Pipeline([('vectorizer', CountVectorizer()), ('tf_idf', TfidfTransformer()), ('classifier', SGDClassifier())], verbose=True)\n",
        "pipeline.fit(X_train, y_train)\n",
        "predictions = pipeline.predict(X_test)"
      ],
      "execution_count": 0,
      "outputs": [
        {
          "output_type": "stream",
          "text": [
            "[Pipeline] ........ (step 1 of 3) Processing vectorizer, total=   0.5s\n",
            "[Pipeline] ............ (step 2 of 3) Processing tf_idf, total=   0.0s\n",
            "[Pipeline] ........ (step 3 of 3) Processing classifier, total=   0.1s\n"
          ],
          "name": "stdout"
        }
      ]
    },
    {
      "cell_type": "code",
      "metadata": {
        "id": "_nmUbuQpoY8u",
        "colab_type": "code",
        "outputId": "621bf7ec-4e6b-4537-fbca-e0a5a16a446e",
        "colab": {
          "base_uri": "https://localhost:8080/",
          "height": 520
        }
      },
      "source": [
        "cm = confusion_matrix(y_test, predictions, labels)\n",
        "plot_cm(cm)\n",
        "print_metrics_from_cm(cm)"
      ],
      "execution_count": 0,
      "outputs": [
        {
          "output_type": "stream",
          "text": [
            "Mean Precision: 0.9777910494287504\n",
            "Mean Recall 0.9778636297507506\n",
            "Accuracy: 0.9783111625216888\n",
            "F1 score: 0.9778273382429117\n"
          ],
          "name": "stdout"
        },
        {
          "output_type": "display_data",
          "data": {
            "image/png": "[encoded data removed]",
            "text/plain": [
              "<Figure size 720x504 with 2 Axes>"
            ]
          },
          "metadata": {
            "tags": []
          }
        }
      ]
    },
    {
      "cell_type": "code",
      "metadata": {
        "id": "UGpXE6taoZGP",
        "colab_type": "code",
        "outputId": "e3c8a5c6-a021-4173-8bc4-e36546dcc42c",
        "colab": {
          "base_uri": "https://localhost:8080/",
          "height": 224
        }
      },
      "source": [
        "print(classification_report(y_test, predictions, labels))"
      ],
      "execution_count": 0,
      "outputs": [
        {
          "output_type": "stream",
          "text": [
            "              precision    recall  f1-score   support\n",
            "\n",
            "         mil       0.99      0.99      0.99       919\n",
            "     mchsgov       0.98      0.97      0.98       914\n",
            " russianpost       0.97      0.96      0.96       780\n",
            "   mospolice       0.97      1.00      0.98       845\n",
            "\n",
            "    accuracy                           0.98      3458\n",
            "   macro avg       0.98      0.98      0.98      3458\n",
            "weighted avg       0.98      0.98      0.98      3458\n",
            "\n"
          ],
          "name": "stdout"
        }
      ]
    },
    {
      "cell_type": "markdown",
      "metadata": {
        "id": "gi6TXkGVovyS",
        "colab_type": "text"
      },
      "source": [
        "На лемматизированных текстах результат лучше, хотя, возможно, это в пределах погрешности, т.к. превосходит незначительно. По цифрам в матрице ошибок всё не так однозначно, кое-где стало немного больше ошибок, кое-где наоборот немного меньше."
      ]
    },
    {
      "cell_type": "markdown",
      "metadata": {
        "id": "Oc_P5qLNptB-",
        "colab_type": "text"
      },
      "source": [
        "Попробуем использовать n-граммы с n<=5 и посмотрим на качество."
      ]
    },
    {
      "cell_type": "code",
      "metadata": {
        "id": "8I8Uj6XBpyvK",
        "colab_type": "code",
        "outputId": "0fb5ba1b-f540-4d0c-cb8a-39a22971b499",
        "colab": {
          "base_uri": "https://localhost:8080/",
          "height": 88
        }
      },
      "source": [
        "n = 5\n",
        "pipeline = Pipeline([('vectorizer', CountVectorizer(ngram_range=(1, n))), ('tf_idf', TfidfTransformer()), ('classifier', SGDClassifier())], verbose=True)\n",
        "pipeline.fit(X_train, y_train)\n",
        "predictions = pipeline.predict(X_test)"
      ],
      "execution_count": 0,
      "outputs": [
        {
          "output_type": "stream",
          "text": [
            "[Pipeline] ........ (step 1 of 3) Processing vectorizer, total=  14.2s\n",
            "[Pipeline] ............ (step 2 of 3) Processing tf_idf, total=   0.8s\n",
            "[Pipeline] ........ (step 3 of 3) Processing classifier, total=   1.2s\n"
          ],
          "name": "stdout"
        }
      ]
    },
    {
      "cell_type": "code",
      "metadata": {
        "id": "n-9yXZTtqUDI",
        "colab_type": "code",
        "outputId": "c578d260-72e3-446d-b46a-c7c7a3c3f613",
        "colab": {
          "base_uri": "https://localhost:8080/",
          "height": 520
        }
      },
      "source": [
        "cm = confusion_matrix(y_test, predictions, labels)\n",
        "plot_cm(cm)\n",
        "print_metrics_from_cm(cm)"
      ],
      "execution_count": 0,
      "outputs": [
        {
          "output_type": "stream",
          "text": [
            "Mean Precision: 0.978285092408903\n",
            "Mean Recall 0.9785963152608305\n",
            "Accuracy: 0.9788895315211105\n",
            "F1 score: 0.9784406790863911\n"
          ],
          "name": "stdout"
        },
        {
          "output_type": "display_data",
          "data": {
            "image/png": "[encoded data removed]",
            "text/plain": [
              "<Figure size 720x504 with 2 Axes>"
            ]
          },
          "metadata": {
            "tags": []
          }
        }
      ]
    },
    {
      "cell_type": "code",
      "metadata": {
        "id": "EkE-CJqtqUHQ",
        "colab_type": "code",
        "outputId": "caa3440c-ad2f-46eb-8737-710b7a366733",
        "colab": {
          "base_uri": "https://localhost:8080/",
          "height": 224
        }
      },
      "source": [
        "print(classification_report(y_test, predictions, labels))"
      ],
      "execution_count": 0,
      "outputs": [
        {
          "output_type": "stream",
          "text": [
            "              precision    recall  f1-score   support\n",
            "\n",
            "         mil       1.00      0.99      0.99       919\n",
            "     mchsgov       0.98      0.97      0.98       914\n",
            " russianpost       0.97      0.96      0.96       780\n",
            "   mospolice       0.97      1.00      0.98       845\n",
            "\n",
            "    accuracy                           0.98      3458\n",
            "   macro avg       0.98      0.98      0.98      3458\n",
            "weighted avg       0.98      0.98      0.98      3458\n",
            "\n"
          ],
          "name": "stdout"
        }
      ]
    },
    {
      "cell_type": "markdown",
      "metadata": {
        "id": "Si3vPx19raEA",
        "colab_type": "text"
      },
      "source": [
        "Качество естественным образом улучшилось, хоть и незначительно."
      ]
    },
    {
      "cell_type": "markdown",
      "metadata": {
        "colab_type": "text",
        "id": "cdakRHahQp-l"
      },
      "source": [
        "## Задание 6 [3 балла]. Continuous bag of words\n",
        "Для baseline решения мы использовали обычное представление текста в виде мешка слов. Попробуйте использовать другие модели представления текста – например, в виде непрерывного мешка слов, то есть, в виде набора эмбеддингов. Для того, чтобы получить вектор текста попробуйте:\n",
        "* усреднить все эмбеддинги слов, входящих в этот текст\n",
        "* усреднить все эмбеддинги слов, входящих в этот текст с $tf-idf$ весами\n",
        "* использовать любую модель эмбеддинга документа.\n",
        "\n",
        "Используйте любую модель эмбеддингов по вашему вкусу. \n",
        "\n",
        "\n",
        "Оцените результаты классификации по стандартным мерам качества и проведите анализ ошибок. Для этого рекомендуем визуализировать матрицу ошибок (confusion matrix). "
      ]
    },
    {
      "cell_type": "markdown",
      "metadata": {
        "id": "kbjxRUNqvJIj",
        "colab_type": "text"
      },
      "source": [
        "Также используем лемматизированные тексты, поскольку на них качество получше (см. задание 5)."
      ]
    },
    {
      "cell_type": "code",
      "metadata": {
        "id": "IzaIK0KzzC5h",
        "colab_type": "code",
        "colab": {}
      },
      "source": [
        "# training word2vec model\n",
        "from gensim.models import Word2Vec"
      ],
      "execution_count": 0,
      "outputs": []
    },
    {
      "cell_type": "code",
      "metadata": {
        "id": "DtfnVr8X0gW6",
        "colab_type": "code",
        "colab": {}
      },
      "source": [
        "size_of_embedding = 300\n",
        "corpus = df['lemmatized_words']"
      ],
      "execution_count": 0,
      "outputs": []
    },
    {
      "cell_type": "code",
      "metadata": {
        "id": "B9mcUoN10gZo",
        "colab_type": "code",
        "outputId": "35ccb843-e32a-41b9-b7d0-b0e972cd8c83",
        "colab": {
          "base_uri": "https://localhost:8080/",
          "height": 71
        }
      },
      "source": [
        "# set parameters and seed\n",
        "model = Word2Vec(corpus, size=size_of_embedding, window=7, min_count=0, iter=10, workers=4, seed=21)\n",
        "model.wv.init_sims(replace=True) # save only normalized vectors\n",
        "model.save(\"word2vec.model\")"
      ],
      "execution_count": 0,
      "outputs": [
        {
          "output_type": "stream",
          "text": [
            "/usr/local/lib/python3.6/dist-packages/smart_open/smart_open_lib.py:398: UserWarning: This function is deprecated, use smart_open.open instead. See the migration notes for details: https://github.com/RaRe-Technologies/smart_open/blob/master/README.rst#migrating-to-the-new-open-function\n",
            "  'See the migration notes for details: %s' % _MIGRATION_NOTES_URL\n"
          ],
          "name": "stderr"
        }
      ]
    },
    {
      "cell_type": "code",
      "metadata": {
        "id": "x9ddb3yH0gcU",
        "colab_type": "code",
        "colab": {}
      },
      "source": [
        "word_vectors = model.wv"
      ],
      "execution_count": 0,
      "outputs": []
    },
    {
      "cell_type": "code",
      "metadata": {
        "id": "BwAq5yEbUIXV",
        "colab_type": "code",
        "colab": {}
      },
      "source": [
        "corpus_vectors = []\n",
        "for num_text, text in enumerate(corpus):\n",
        "    corpus_vectors.append([])\n",
        "    for word in text:\n",
        "        corpus_vectors[num_text].append(word_vectors[word])"
      ],
      "execution_count": 0,
      "outputs": []
    },
    {
      "cell_type": "code",
      "metadata": {
        "id": "HHkSNngbUIcu",
        "colab_type": "code",
        "colab": {}
      },
      "source": [
        "# усреднить все эмбеддинги слов, входящих в этот текст\n",
        "\n",
        "docs_vectors = np.zeros(shape=(len(corpus), size_of_embedding))\n",
        "for num_text in range(len(corpus)):\n",
        "    docs_vectors[num_text] = np.sum(corpus_vectors[num_text], axis=0) / len(corpus_vectors[num_text])"
      ],
      "execution_count": 0,
      "outputs": []
    },
    {
      "cell_type": "code",
      "metadata": {
        "id": "YDXsBPv9W7M_",
        "colab_type": "code",
        "outputId": "6c71af65-daef-48ae-fbbe-3718c21d5fba",
        "colab": {
          "base_uri": "https://localhost:8080/",
          "height": 34
        }
      },
      "source": [
        "docs_vectors.shape"
      ],
      "execution_count": 0,
      "outputs": [
        {
          "output_type": "execute_result",
          "data": {
            "text/plain": [
              "(11526, 300)"
            ]
          },
          "metadata": {
            "tags": []
          },
          "execution_count": 440
        }
      ]
    },
    {
      "cell_type": "code",
      "metadata": {
        "id": "tLRUmfnEZkFV",
        "colab_type": "code",
        "colab": {}
      },
      "source": [
        "X_train, X_test, y_train, y_test = train_test_split(docs_vectors, df['source'], test_size=0.3, random_state=21)"
      ],
      "execution_count": 0,
      "outputs": []
    },
    {
      "cell_type": "code",
      "metadata": {
        "id": "BNx0UjEKW7PY",
        "colab_type": "code",
        "colab": {}
      },
      "source": [
        "clf = SGDClassifier().fit(X_train, y_train)"
      ],
      "execution_count": 0,
      "outputs": []
    },
    {
      "cell_type": "code",
      "metadata": {
        "id": "KMBdwhs9ZKOL",
        "colab_type": "code",
        "colab": {}
      },
      "source": [
        "predictions = clf.predict(X_test)"
      ],
      "execution_count": 0,
      "outputs": []
    },
    {
      "cell_type": "code",
      "metadata": {
        "id": "KWs9jF8uZKQt",
        "colab_type": "code",
        "outputId": "6d9e14a9-721f-4e2c-f2cc-75b20b3cdd9b",
        "colab": {
          "base_uri": "https://localhost:8080/",
          "height": 500
        }
      },
      "source": [
        "cm = confusion_matrix(y_test, predictions, labels)\n",
        "plot_cm(cm)\n",
        "print_metrics_from_cm(cm)"
      ],
      "execution_count": 0,
      "outputs": [
        {
          "output_type": "stream",
          "text": [
            "Mean Precision: 0.9269445056618801\n",
            "Mean Recall 0.9282003832492873\n",
            "Accuracy: 0.9274146905725853\n",
            "F1 score: 0.9275720193598072\n"
          ],
          "name": "stdout"
        },
        {
          "output_type": "display_data",
          "data": {
            "image/png": "[encoded data removed]",
            "text/plain": [
              "<Figure size 720x504 with 2 Axes>"
            ]
          },
          "metadata": {
            "tags": []
          }
        }
      ]
    },
    {
      "cell_type": "code",
      "metadata": {
        "id": "p91ZhJrTgtrx",
        "colab_type": "code",
        "outputId": "99532c8f-d8a0-4dc2-d4e9-5865f92789c2",
        "colab": {
          "base_uri": "https://localhost:8080/",
          "height": 204
        }
      },
      "source": [
        "print(classification_report(y_test, predictions, labels))"
      ],
      "execution_count": 0,
      "outputs": [
        {
          "output_type": "stream",
          "text": [
            "              precision    recall  f1-score   support\n",
            "\n",
            "         mil       0.94      0.95      0.95       919\n",
            "     mchsgov       0.96      0.87      0.91       914\n",
            " russianpost       0.88      0.93      0.90       780\n",
            "   mospolice       0.93      0.97      0.95       845\n",
            "\n",
            "    accuracy                           0.93      3458\n",
            "   macro avg       0.93      0.93      0.93      3458\n",
            "weighted avg       0.93      0.93      0.93      3458\n",
            "\n"
          ],
          "name": "stdout"
        }
      ]
    },
    {
      "cell_type": "markdown",
      "metadata": {
        "id": "y-pfCPlrhDrL",
        "colab_type": "text"
      },
      "source": [
        "Качество гораздо хуже, чем у baseline в задании 3-м, поскольку среднее векторов документа (без весов, вернее, с одинаковыми весами == 1 / n, где n -- количество слов в документе) не является очень хорошим представлением документа. Ошибки по большей части те же, хотя добавляются новые (например, \"mospolice\" ошибочно атрибутируется статьям с тематикой \"mospolice\")."
      ]
    },
    {
      "cell_type": "code",
      "metadata": {
        "id": "TvT4bTVThumg",
        "colab_type": "code",
        "colab": {}
      },
      "source": [
        "# функция для подсчёта tf слов в документе\n",
        "def tfs(words):\n",
        "    tf = Counter(words)\n",
        "    return [tf[word] / len(words) for word in words]"
      ],
      "execution_count": 0,
      "outputs": []
    },
    {
      "cell_type": "code",
      "metadata": {
        "id": "4IbdWDIPhupA",
        "colab_type": "code",
        "colab": {}
      },
      "source": [
        "import math\n",
        "\n",
        "# функция для подсчёта idf слова в документе\n",
        "def idf(word, corpus):\n",
        "    return math.log10(len(corpus) / (1 + len([1 for text in corpus if word in text]))) # added 1 so that we don't divide by zero"
      ],
      "execution_count": 0,
      "outputs": []
    },
    {
      "cell_type": "code",
      "metadata": {
        "id": "3SNrz2gNgtvD",
        "colab_type": "code",
        "colab": {}
      },
      "source": [
        "# усреднить все эмбеддинги слов, входящих в этот текст, с 𝑡𝑓−𝑖𝑑𝑓 весами\n",
        "\n",
        "# считает очень долго, поэтому отказываемся от \"ручного\" подсчёта tf-idf\n",
        "# docs_vectors = np.zeros(shape=(len(corpus), size_of_embedding))\n",
        "# for num_text, text in enumerate(corpus):\n",
        "#     print(num_text)\n",
        "#     term_frequencies = tfs(text)\n",
        "#     for num_word in range(len(term_frequencies)):\n",
        "#         tf_word = term_frequencies[num_word]\n",
        "#         idf_word = idf(corpus[num_text][num_word], corpus)\n",
        "#         docs_vectors[num_text] += tf_word * idf_word * corpus_vectors[num_text][num_word]"
      ],
      "execution_count": 0,
      "outputs": []
    },
    {
      "cell_type": "code",
      "metadata": {
        "id": "H-vra9TqjxRr",
        "colab_type": "code",
        "colab": {}
      },
      "source": [
        "# вместо этого используем TfidfVectorizer\n",
        "from sklearn.feature_extraction.text import TfidfVectorizer"
      ],
      "execution_count": 0,
      "outputs": []
    },
    {
      "cell_type": "code",
      "metadata": {
        "id": "HVbaZsYcvECD",
        "colab_type": "code",
        "colab": {}
      },
      "source": [
        "# используем тот же токенизатор, что и при подсчёте уникальных слов в первом задании\n",
        "vectorizer = TfidfVectorizer(analyzer='word', tokenizer=word_tokenize)\n",
        "tfidf_matrix = vectorizer.fit_transform(df['lemmatized_text'])"
      ],
      "execution_count": 0,
      "outputs": []
    },
    {
      "cell_type": "code",
      "metadata": {
        "id": "L7sSVpxpvEKE",
        "colab_type": "code",
        "outputId": "05c149d4-6c2e-4ae2-9502-811708e77279",
        "colab": {
          "base_uri": "https://localhost:8080/",
          "height": 34
        }
      },
      "source": [
        "tfidf_matrix.shape"
      ],
      "execution_count": 0,
      "outputs": [
        {
          "output_type": "execute_result",
          "data": {
            "text/plain": [
              "(11526, 39292)"
            ]
          },
          "metadata": {
            "tags": []
          },
          "execution_count": 451
        }
      ]
    },
    {
      "cell_type": "code",
      "metadata": {
        "id": "eu0Q70MZuaHT",
        "colab_type": "code",
        "colab": {}
      },
      "source": [
        "feature_names = vectorizer.get_feature_names()"
      ],
      "execution_count": 0,
      "outputs": []
    },
    {
      "cell_type": "code",
      "metadata": {
        "id": "CmBSoDbHucoT",
        "colab_type": "code",
        "outputId": "f684947b-05a9-46ec-d6c3-f37b603a6fb4",
        "colab": {
          "base_uri": "https://localhost:8080/",
          "height": 34
        }
      },
      "source": [
        "# все слова сохранились, т.е. ошибок быть не должно\n",
        "'в' in feature_names"
      ],
      "execution_count": 0,
      "outputs": [
        {
          "output_type": "execute_result",
          "data": {
            "text/plain": [
              "True"
            ]
          },
          "metadata": {
            "tags": []
          },
          "execution_count": 453
        }
      ]
    },
    {
      "cell_type": "code",
      "metadata": {
        "id": "DXKNe4e-vvKx",
        "colab_type": "code",
        "colab": {}
      },
      "source": [
        "docs_vectors = np.zeros(shape=(len(corpus), size_of_embedding))\n",
        "for num_text in range(len(corpus)):\n",
        "    print(num_text)\n",
        "\n",
        "    # get not-null word indices (columns)\n",
        "    word_indices = tfidf_matrix[num_text, :].nonzero()[1]\n",
        "\n",
        "    for word_index, word in enumerate(corpus[num_text]):\n",
        "        index = feature_names.index(word)\n",
        "        tf_idf = tfidf_matrix[num_text, index]\n",
        "        # считаем tf-idf взвешенное векторов слов в документе\n",
        "        docs_vectors[num_text] += corpus_vectors[num_text][word_index] * tf_idf\n",
        "\n",
        "# print(len([tfidf_matrix[doc, word_index] for word_index in word_indices]))"
      ],
      "execution_count": 0,
      "outputs": []
    },
    {
      "cell_type": "code",
      "metadata": {
        "id": "sdbVZt0faM-H",
        "colab_type": "code",
        "outputId": "1aaee2be-611b-4028-cc11-c9b8dd989431",
        "colab": {
          "base_uri": "https://localhost:8080/",
          "height": 34
        }
      },
      "source": [
        "docs_vectors.shape"
      ],
      "execution_count": 0,
      "outputs": [
        {
          "output_type": "execute_result",
          "data": {
            "text/plain": [
              "(11526, 300)"
            ]
          },
          "metadata": {
            "tags": []
          },
          "execution_count": 455
        }
      ]
    },
    {
      "cell_type": "code",
      "metadata": {
        "id": "24zaBgRKf4Sl",
        "colab_type": "code",
        "colab": {}
      },
      "source": [
        "X_train, X_test, y_train, y_test = train_test_split(docs_vectors, df['source'], test_size=0.3, random_state=21)"
      ],
      "execution_count": 0,
      "outputs": []
    },
    {
      "cell_type": "code",
      "metadata": {
        "id": "DIXMvTs6f4qG",
        "colab_type": "code",
        "colab": {}
      },
      "source": [
        "clf = SGDClassifier().fit(X_train, y_train)"
      ],
      "execution_count": 0,
      "outputs": []
    },
    {
      "cell_type": "code",
      "metadata": {
        "id": "xnj_zlGZf72L",
        "colab_type": "code",
        "colab": {}
      },
      "source": [
        "predictions = clf.predict(X_test)"
      ],
      "execution_count": 0,
      "outputs": []
    },
    {
      "cell_type": "code",
      "metadata": {
        "id": "b5-fzIfvf740",
        "colab_type": "code",
        "outputId": "a67d5a95-d59b-4161-cc1f-31f03125012a",
        "colab": {
          "base_uri": "https://localhost:8080/",
          "height": 500
        }
      },
      "source": [
        "cm = confusion_matrix(y_test, predictions, labels)\n",
        "plot_cm(cm)\n",
        "print_metrics_from_cm(cm)"
      ],
      "execution_count": 0,
      "outputs": [
        {
          "output_type": "stream",
          "text": [
            "Mean Precision: 0.93741657835195\n",
            "Mean Recall 0.9376751753303098\n",
            "Accuracy: 0.9384037015615962\n",
            "F1 score: 0.9375458590093633\n"
          ],
          "name": "stdout"
        },
        {
          "output_type": "display_data",
          "data": {
            "image/png": "[encoded data removed]",
            "text/plain": [
              "<Figure size 720x504 with 2 Axes>"
            ]
          },
          "metadata": {
            "tags": []
          }
        }
      ]
    },
    {
      "cell_type": "code",
      "metadata": {
        "id": "rqp0xxRCf4sj",
        "colab_type": "code",
        "outputId": "9866768d-e8c5-4053-c1af-9d793e4a4dab",
        "colab": {
          "base_uri": "https://localhost:8080/",
          "height": 204
        }
      },
      "source": [
        "print(classification_report(y_test, predictions, labels))"
      ],
      "execution_count": 0,
      "outputs": [
        {
          "output_type": "stream",
          "text": [
            "              precision    recall  f1-score   support\n",
            "\n",
            "         mil       0.96      0.96      0.96       919\n",
            "     mchsgov       0.94      0.92      0.93       914\n",
            " russianpost       0.91      0.91      0.91       780\n",
            "   mospolice       0.95      0.96      0.95       845\n",
            "\n",
            "    accuracy                           0.94      3458\n",
            "   macro avg       0.94      0.94      0.94      3458\n",
            "weighted avg       0.94      0.94      0.94      3458\n",
            "\n"
          ],
          "name": "stdout"
        }
      ]
    },
    {
      "cell_type": "markdown",
      "metadata": {
        "id": "wN3ajtAagIV9",
        "colab_type": "text"
      },
      "source": [
        "Качество улучшилось примерно на процент, т.е. tf-idf взвешивание даёт более точное представление вектора документа, но всё же оно далеко от идеала (см. качество в задании 3, хотя там используется совершенно другой подход). Самые популярные ошибки совпадают с описывавшимися в задании 3. Также > 11 ошибок (минимум 12 наблюдается на постах с лейблами \"mil\" и \"mospolice\") наблюдается в каждой паре."
      ]
    },
    {
      "cell_type": "code",
      "metadata": {
        "id": "t3hkY_00gAcL",
        "colab_type": "code",
        "colab": {}
      },
      "source": [
        "# использовать любую модель эмбеддинга документа.\n",
        "\n",
        "# используем Doc2Vec из библиотеки gensim\n",
        "from gensim.models.doc2vec import Doc2Vec, TaggedDocument "
      ],
      "execution_count": 0,
      "outputs": []
    },
    {
      "cell_type": "code",
      "metadata": {
        "id": "FQoFChB_gAeu",
        "colab_type": "code",
        "colab": {}
      },
      "source": [
        "# приводим к нужному формату документы\n",
        "docs = [TaggedDocument(words=df.loc[num_text, \"lemmatized_words\"], tags=[num_text]) for num_text in range(len(corpus))]"
      ],
      "execution_count": 0,
      "outputs": []
    },
    {
      "cell_type": "code",
      "metadata": {
        "id": "_BSYd2A-ndc5",
        "colab_type": "code",
        "colab": {}
      },
      "source": [
        "# dm == 0 => используем PV-DBOW (не сохраняем порядок)\n",
        "model = Doc2Vec(vector_size=size_of_embedding, window=300, min_count=1, workers=4)"
      ],
      "execution_count": 0,
      "outputs": []
    },
    {
      "cell_type": "code",
      "metadata": {
        "id": "lTibEYGAoSRz",
        "colab_type": "code",
        "colab": {}
      },
      "source": [
        "model.build_vocab(docs)"
      ],
      "execution_count": 0,
      "outputs": []
    },
    {
      "cell_type": "code",
      "metadata": {
        "id": "-J8cnH7nroED",
        "colab_type": "code",
        "colab": {}
      },
      "source": [
        "# обучаем только в течение 5 эпох, т.к. обучается долго\n",
        "for epoch in range(5):\n",
        "    model.train(docs,\n",
        "                total_examples=model.corpus_count,\n",
        "                epochs=model.iter)"
      ],
      "execution_count": 0,
      "outputs": []
    },
    {
      "cell_type": "code",
      "metadata": {
        "id": "r-MOD42KrsB4",
        "colab_type": "code",
        "outputId": "363f8978-9d14-405e-b6e9-a773a614f8ce",
        "colab": {
          "base_uri": "https://localhost:8080/",
          "height": 34
        }
      },
      "source": [
        "len(model.docvecs)"
      ],
      "execution_count": 0,
      "outputs": [
        {
          "output_type": "execute_result",
          "data": {
            "text/plain": [
              "11526"
            ]
          },
          "metadata": {
            "tags": []
          },
          "execution_count": 565
        }
      ]
    },
    {
      "cell_type": "code",
      "metadata": {
        "id": "IIke9ksZrsEl",
        "colab_type": "code",
        "colab": {}
      },
      "source": [
        "X_train, X_test, y_train, y_test = train_test_split(model.docvecs, df['source'], test_size=0.3, random_state=21)"
      ],
      "execution_count": 0,
      "outputs": []
    },
    {
      "cell_type": "code",
      "metadata": {
        "id": "wHNEF931wpgU",
        "colab_type": "code",
        "outputId": "9799a8a1-16bc-440a-eff6-d0ecc2964662",
        "colab": {
          "base_uri": "https://localhost:8080/",
          "height": 500
        }
      },
      "source": [
        "clf = SGDClassifier().fit(X_train, y_train)\n",
        "predictions = clf.predict(X_test)\n",
        "cm = confusion_matrix(y_test, predictions, labels)\n",
        "plot_cm(cm)\n",
        "print_metrics_from_cm(cm)"
      ],
      "execution_count": 0,
      "outputs": [
        {
          "output_type": "stream",
          "text": [
            "Mean Precision: 0.40766598434245493\n",
            "Mean Recall 0.39668604189910367\n",
            "Accuracy: 0.4068825910931174\n",
            "F1 score: 0.4021010713464528\n"
          ],
          "name": "stdout"
        },
        {
          "output_type": "display_data",
          "data": {
            "image/png": "[encoded data removed]",
            "text/plain": [
              "<Figure size 720x504 with 2 Axes>"
            ]
          },
          "metadata": {
            "tags": []
          }
        }
      ]
    },
    {
      "cell_type": "code",
      "metadata": {
        "id": "n_AqJg2Wwxxt",
        "colab_type": "code",
        "outputId": "cf6ea3de-e43e-4c59-a45d-029d8d842381",
        "colab": {
          "base_uri": "https://localhost:8080/",
          "height": 204
        }
      },
      "source": [
        "print(classification_report(y_test, predictions, labels))"
      ],
      "execution_count": 0,
      "outputs": [
        {
          "output_type": "stream",
          "text": [
            "              precision    recall  f1-score   support\n",
            "\n",
            "         mil       0.34      0.47      0.39       919\n",
            "     mchsgov       0.47      0.56      0.51       914\n",
            " russianpost       0.39      0.11      0.17       780\n",
            "   mospolice       0.44      0.45      0.44       845\n",
            "\n",
            "    accuracy                           0.41      3458\n",
            "   macro avg       0.41      0.40      0.38      3458\n",
            "weighted avg       0.41      0.41      0.39      3458\n",
            "\n"
          ],
          "name": "stdout"
        }
      ]
    },
    {
      "cell_type": "markdown",
      "metadata": {
        "id": "TKypAzwos9QF",
        "colab_type": "text"
      },
      "source": [
        "Как видно, подход с эмбеддингами не смог предоставить качество лучше, чем в задании 3. На большем количестве эпох качество было бы лучше, но векторы обучаются очень долго, поэтому для демонстрации мы ограничились 5 эпохами. На 5 эпохах ошибок очень много: качество гораздо хуже, чем классификация по правилам."
      ]
    },
    {
      "cell_type": "markdown",
      "metadata": {
        "colab_type": "text",
        "id": "uyVQ5Gm7Qzcz"
      },
      "source": [
        "## Задание 7 [2 балла]. fastText\n",
        "\n",
        "Используйте ```fastText``` в режиме классификации. Оцените результаты классификации по стандартным мерам качества и проведите анализ ошибок. Для этого рекомендуем визуализировать матрицу ошибок (confusion matrix). "
      ]
    },
    {
      "cell_type": "code",
      "metadata": {
        "id": "Hb-txQonze18",
        "colab_type": "code",
        "outputId": "cccea3f0-4943-44f4-e055-be7f78ba7c33",
        "colab": {
          "base_uri": "https://localhost:8080/",
          "height": 68
        }
      },
      "source": [
        "# !pip install fasttext\n",
        "import fasttext"
      ],
      "execution_count": 0,
      "outputs": [
        {
          "output_type": "stream",
          "text": [
            "Requirement already satisfied: fasttext in /usr/local/lib/python3.6/dist-packages (0.8.3)\n",
            "Requirement already satisfied: numpy>=1 in /usr/local/lib/python3.6/dist-packages (from fasttext) (1.16.4)\n",
            "Requirement already satisfied: future in /usr/local/lib/python3.6/dist-packages (from fasttext) (0.16.0)\n"
          ],
          "name": "stdout"
        }
      ]
    },
    {
      "cell_type": "code",
      "metadata": {
        "id": "89YvCLU_3nqn",
        "colab_type": "code",
        "colab": {}
      },
      "source": [
        "X_train, X_test, y_train, y_test = train_test_split(df['lemmatized_text'], df['source'], test_size=0.3, random_state=21)"
      ],
      "execution_count": 0,
      "outputs": []
    },
    {
      "cell_type": "code",
      "metadata": {
        "id": "Jdu6WQVv3Jgw",
        "colab_type": "code",
        "colab": {}
      },
      "source": [
        "with open('train.txt', 'w', encoding='utf-8') as f:\n",
        "    for text, target in zip(X_train, y_train):\n",
        "        f.write(\"__label__\" + target + ' ' + text + '\\n')"
      ],
      "execution_count": 0,
      "outputs": []
    },
    {
      "cell_type": "code",
      "metadata": {
        "id": "QniW0WGT5TCe",
        "colab_type": "code",
        "colab": {}
      },
      "source": [
        "with open('test.txt', 'w', encoding='utf-8') as f:\n",
        "    for text, target in zip(X_test, y_test):\n",
        "        f.write(\"__label__\" + target + ' ' + text + '\\n')"
      ],
      "execution_count": 0,
      "outputs": []
    },
    {
      "cell_type": "code",
      "metadata": {
        "id": "d62-APEL449w",
        "colab_type": "code",
        "colab": {}
      },
      "source": [
        "classifier = fasttext.supervised('train.txt', 'model', label_prefix='__label__')"
      ],
      "execution_count": 0,
      "outputs": []
    },
    {
      "cell_type": "code",
      "metadata": {
        "id": "K_kT6dip5OMI",
        "colab_type": "code",
        "colab": {}
      },
      "source": [
        "result = classifier.test('test.txt')"
      ],
      "execution_count": 0,
      "outputs": []
    },
    {
      "cell_type": "code",
      "metadata": {
        "id": "yfEZIJ_u5OTl",
        "colab_type": "code",
        "outputId": "70875067-dbf8-4611-bb07-26c48f3d694c",
        "colab": {
          "base_uri": "https://localhost:8080/",
          "height": 68
        }
      },
      "source": [
        "print('P@1:', result.precision)\n",
        "print('R@1:', result.recall)\n",
        "print('Number of examples:', result.nexamples)"
      ],
      "execution_count": 0,
      "outputs": [
        {
          "output_type": "stream",
          "text": [
            "P@1: 0.9707923655292077\n",
            "R@1: 0.9707923655292077\n",
            "Number of examples: 3458\n"
          ],
          "name": "stdout"
        }
      ]
    },
    {
      "cell_type": "code",
      "metadata": {
        "id": "OkDceT6x5uTm",
        "colab_type": "code",
        "colab": {}
      },
      "source": [
        "predictions = [label[0] for label in classifier.predict(X_test)]"
      ],
      "execution_count": 0,
      "outputs": []
    },
    {
      "cell_type": "code",
      "metadata": {
        "id": "QvwFUttA5OZ_",
        "colab_type": "code",
        "outputId": "47eacf64-652d-4295-f4cd-eefb7ae6d8b6",
        "colab": {
          "base_uri": "https://localhost:8080/",
          "height": 500
        }
      },
      "source": [
        "cm = confusion_matrix(y_test, predictions, labels)\n",
        "plot_cm(cm)\n",
        "print_metrics_from_cm(cm)"
      ],
      "execution_count": 0,
      "outputs": [
        {
          "output_type": "stream",
          "text": [
            "Mean Precision: 0.9701733267776453\n",
            "Mean Recall 0.9703020054733031\n",
            "Accuracy: 0.9707923655292077\n",
            "F1 score: 0.9702376618589406\n"
          ],
          "name": "stdout"
        },
        {
          "output_type": "display_data",
          "data": {
            "image/png": "[encoded data removed]",
            "text/plain": [
              "<Figure size 720x504 with 2 Axes>"
            ]
          },
          "metadata": {
            "tags": []
          }
        }
      ]
    },
    {
      "cell_type": "code",
      "metadata": {
        "id": "ACj8T_-64PFf",
        "colab_type": "code",
        "outputId": "6dbb9cb6-7eba-4e7b-92f5-96a4ca527dc1",
        "colab": {
          "base_uri": "https://localhost:8080/",
          "height": 204
        }
      },
      "source": [
        "print(classification_report(y_test, predictions, labels))"
      ],
      "execution_count": 0,
      "outputs": [
        {
          "output_type": "stream",
          "text": [
            "              precision    recall  f1-score   support\n",
            "\n",
            "         mil       0.99      0.98      0.98       919\n",
            "     mchsgov       0.97      0.96      0.97       914\n",
            " russianpost       0.96      0.95      0.95       780\n",
            "   mospolice       0.97      0.98      0.97       845\n",
            "\n",
            "    accuracy                           0.97      3458\n",
            "   macro avg       0.97      0.97      0.97      3458\n",
            "weighted avg       0.97      0.97      0.97      3458\n",
            "\n"
          ],
          "name": "stdout"
        }
      ]
    },
    {
      "cell_type": "markdown",
      "metadata": {
        "id": "V0vtnPZ-6Uee",
        "colab_type": "text"
      },
      "source": [
        "Качество немного меньше, чем в 7-м задании (в среднем на 0.7 по метрикам).\n",
        "\n",
        "Здесь частотнее ошибка с атрибуцией 'russianpost' к текстам с лейблом 'mospolice'. Самыми разграниченными классами также (как и во многих случаях выше) является пара 'mospolice' и 'mil'. Как видно из confusion matrix выше, ошибки те же самые, только с немного другими пропорциями, поэтому пересказывать не буду."
      ]
    },
    {
      "cell_type": "markdown",
      "metadata": {
        "id": "QU3M3osxRd1l",
        "colab_type": "text"
      },
      "source": [
        "## Задание 8 [4 балла]. CNN\n",
        "\n",
        "Реализуйте модель Kim et al (2014) для решения задачи классификации с помощью CNN. Оцените результаты классификации по стандартным мерам качества и проведите анализ ошибок. Для этого рекомендуем визуализировать матрицу ошибок (confusion matrix).\n",
        "Ссылка: Kim Y. Convolutional Neural Networks for Sentence Classification. 2014"
      ]
    },
    {
      "cell_type": "code",
      "metadata": {
        "id": "GG0OeOWT7wr0",
        "colab_type": "code",
        "colab": {
          "base_uri": "https://localhost:8080/",
          "height": 33
        },
        "outputId": "fa89c801-2c0f-444e-c7dd-5e0032d6c8e4"
      },
      "source": [
        "from keras.preprocessing.text import Tokenizer\n",
        "from sklearn.preprocessing import LabelEncoder\n",
        "\n",
        "from keras.layers import Embedding, Conv1D, MaxPooling1D, Flatten, Dense, Dropout\n",
        "from keras.models import Model, Sequential\n",
        "from keras.utils import np_utils\n",
        "\n",
        "import numpy as np\n",
        "\n",
        "np.random.seed(21) # for reproducibility"
      ],
      "execution_count": 25,
      "outputs": [
        {
          "output_type": "stream",
          "text": [
            "Using TensorFlow backend.\n"
          ],
          "name": "stderr"
        }
      ]
    },
    {
      "cell_type": "code",
      "metadata": {
        "id": "ZNEFysXfSx0-",
        "colab_type": "code",
        "colab": {}
      },
      "source": [
        "# set hyperparameters\n",
        "TEXT_LENGTH = 1800\n",
        "VOCABULARY_SIZE = 250000\n",
        "EMBEDDING_DIM = 300\n",
        "batch_size = 32\n",
        "nb_epoch = 50"
      ],
      "execution_count": 0,
      "outputs": []
    },
    {
      "cell_type": "code",
      "metadata": {
        "id": "mnHA5wePfaGw",
        "colab_type": "code",
        "colab": {}
      },
      "source": [
        "X_train, X_test, y_train, y_test = train_test_split(df['lemmatized_text'], df['source'], test_size=0.3, random_state=21)"
      ],
      "execution_count": 0,
      "outputs": []
    },
    {
      "cell_type": "code",
      "metadata": {
        "id": "KdYFZKgcUxoq",
        "colab_type": "code",
        "colab": {}
      },
      "source": [
        "# токенизируем и фитим на обучающих текстах\n",
        "tokenizer = Tokenizer(num_words=TEXT_LENGTH)\n",
        "tokenizer.fit_on_texts(X_train.values)"
      ],
      "execution_count": 0,
      "outputs": []
    },
    {
      "cell_type": "code",
      "metadata": {
        "id": "Q-8vU_AoeCYB",
        "colab_type": "code",
        "colab": {}
      },
      "source": [
        "# sequence --> matrix\n",
        "sequences = tokenizer.texts_to_sequences(X_train.values)\n",
        "X_train = tokenizer.sequences_to_matrix(sequences, mode='count')\n",
        "sequences = tokenizer.texts_to_sequences(X_test.values)\n",
        "X_test = tokenizer.sequences_to_matrix(sequences, mode='count')"
      ],
      "execution_count": 0,
      "outputs": []
    },
    {
      "cell_type": "code",
      "metadata": {
        "id": "bTs3NVUTeMKK",
        "colab_type": "code",
        "colab": {
          "base_uri": "https://localhost:8080/",
          "height": 70
        },
        "outputId": "583f4da9-690c-4eec-da39-acb5388249d8"
      },
      "source": [
        "print('First seq:', sequences[0])\n",
        "print('First doc:', X_test[0])"
      ],
      "execution_count": 155,
      "outputs": [
        {
          "output_type": "stream",
          "text": [
            "First seq: [1321, 256, 558, 4, 272, 884, 89, 987, 3, 140, 246, 253, 4, 44, 356, 353, 1, 1, 2, 82, 420, 126, 1128, 1782, 261, 281, 6, 1062, 566, 13, 65, 1157, 433, 13, 775, 1128, 1311, 433, 1157, 3, 433, 1722, 2, 125, 1, 1, 2, 420, 1783, 597, 775, 1763, 137, 433, 6, 1034, 1145, 453, 216, 261, 13, 356, 5, 566, 253, 4, 579, 283, 353, 1, 1, 60, 558, 1157, 464]\n",
            "First doc: [0. 6. 3. ... 0. 0. 0.]\n"
          ],
          "name": "stdout"
        }
      ]
    },
    {
      "cell_type": "code",
      "metadata": {
        "id": "uhtSH5rXea4r",
        "colab_type": "code",
        "colab": {
          "base_uri": "https://localhost:8080/",
          "height": 33
        },
        "outputId": "5aeea8e5-37d0-4a24-ec4f-b2b113997977"
      },
      "source": [
        "# one-hot кодируем целевую переменную, создавая LabelEncoder\n",
        "le = LabelEncoder()\n",
        "classes = y_train.unique()\n",
        "le.fit(classes)\n",
        "y_formatted_train = np_utils.to_categorical(le.transform(y_train), len(classes))\n",
        "y_formatted_test = np_utils.to_categorical(le.transform(y_test), len(classes))\n",
        "y_formatted_true = le.transform(y_test)\n",
        "print(y_formatted_train[0]) # example"
      ],
      "execution_count": 156,
      "outputs": [
        {
          "output_type": "stream",
          "text": [
            "[1. 0. 0. 0.]\n"
          ],
          "name": "stdout"
        }
      ]
    },
    {
      "cell_type": "code",
      "metadata": {
        "id": "j5HeP2-aQHVm",
        "colab_type": "code",
        "colab": {}
      },
      "source": [
        "# Пробуем архитектуру\n",
        "model = Sequential()\n",
        "model.add(Embedding(VOCABULARY_SIZE,\n",
        "                    EMBEDDING_DIM,\n",
        "                    input_length=TEXT_LENGTH,\n",
        "                    trainable=True))\n",
        "model.add(Conv1D(128, len(classes), activation='relu'))\n",
        "model.add(MaxPooling1D())\n",
        "model.add(Dropout(0.2))\n",
        "model.add(Flatten())\n",
        "model.add(Dense(len(classes), activation='softmax'))\n",
        "# специфицирует метрику, алгоритм обновления параметров и функцию потерь\n",
        "model.compile(loss='categorical_crossentropy', optimizer='adam', metrics=['acc'])"
      ],
      "execution_count": 0,
      "outputs": []
    },
    {
      "cell_type": "code",
      "metadata": {
        "id": "MbSSetIlP41N",
        "colab_type": "code",
        "colab": {
          "base_uri": "https://localhost:8080/",
          "height": 334
        },
        "outputId": "e0a082f1-32aa-4900-a4c2-ec891aeaa165"
      },
      "source": [
        "model.summary()"
      ],
      "execution_count": 158,
      "outputs": [
        {
          "output_type": "stream",
          "text": [
            "_________________________________________________________________\n",
            "Layer (type)                 Output Shape              Param #   \n",
            "=================================================================\n",
            "embedding_8 (Embedding)      (None, 1800, 300)         75000000  \n",
            "_________________________________________________________________\n",
            "conv1d_8 (Conv1D)            (None, 1797, 128)         153728    \n",
            "_________________________________________________________________\n",
            "max_pooling1d_8 (MaxPooling1 (None, 898, 128)          0         \n",
            "_________________________________________________________________\n",
            "dropout_8 (Dropout)          (None, 898, 128)          0         \n",
            "_________________________________________________________________\n",
            "flatten_8 (Flatten)          (None, 114944)            0         \n",
            "_________________________________________________________________\n",
            "dense_8 (Dense)              (None, 4)                 459780    \n",
            "=================================================================\n",
            "Total params: 75,613,508\n",
            "Trainable params: 75,613,508\n",
            "Non-trainable params: 0\n",
            "_________________________________________________________________\n"
          ],
          "name": "stdout"
        }
      ]
    },
    {
      "cell_type": "code",
      "metadata": {
        "id": "rSl8OtD6P44i",
        "colab_type": "code",
        "colab": {
          "base_uri": "https://localhost:8080/",
          "height": 1723
        },
        "outputId": "989768c2-ebc9-4e39-d25f-8600082ba43a"
      },
      "source": [
        "model.fit(X_train, y_formatted_train, epochs=nb_epoch, batch_size=batch_size, validation_split=0.1)"
      ],
      "execution_count": 159,
      "outputs": [
        {
          "output_type": "stream",
          "text": [
            "Train on 7261 samples, validate on 807 samples\n",
            "Epoch 1/50\n",
            "7261/7261 [==============================] - 19s 3ms/step - loss: 0.2830 - acc: 0.9192 - val_loss: 0.1309 - val_acc: 0.9566\n",
            "Epoch 2/50\n",
            "7261/7261 [==============================] - 17s 2ms/step - loss: 0.0869 - acc: 0.9785 - val_loss: 0.1291 - val_acc: 0.9653\n",
            "Epoch 3/50\n",
            "7261/7261 [==============================] - 17s 2ms/step - loss: 0.0543 - acc: 0.9864 - val_loss: 0.1502 - val_acc: 0.9603\n",
            "Epoch 4/50\n",
            "7261/7261 [==============================] - 17s 2ms/step - loss: 0.0365 - acc: 0.9912 - val_loss: 0.1943 - val_acc: 0.9529\n",
            "Epoch 5/50\n",
            "7261/7261 [==============================] - 17s 2ms/step - loss: 0.0291 - acc: 0.9919 - val_loss: 0.2024 - val_acc: 0.9628\n",
            "Epoch 6/50\n",
            "7261/7261 [==============================] - 17s 2ms/step - loss: 0.0358 - acc: 0.9923 - val_loss: 0.1643 - val_acc: 0.9616\n",
            "Epoch 7/50\n",
            "7261/7261 [==============================] - 17s 2ms/step - loss: 0.0258 - acc: 0.9945 - val_loss: 0.2213 - val_acc: 0.9492\n",
            "Epoch 8/50\n",
            "7261/7261 [==============================] - 17s 2ms/step - loss: 0.0214 - acc: 0.9949 - val_loss: 0.2326 - val_acc: 0.9455\n",
            "Epoch 9/50\n",
            "7261/7261 [==============================] - 17s 2ms/step - loss: 0.0190 - acc: 0.9952 - val_loss: 0.2582 - val_acc: 0.9616\n",
            "Epoch 10/50\n",
            "7261/7261 [==============================] - 17s 2ms/step - loss: 0.0206 - acc: 0.9948 - val_loss: 0.3305 - val_acc: 0.9281\n",
            "Epoch 11/50\n",
            "7261/7261 [==============================] - 17s 2ms/step - loss: 0.0264 - acc: 0.9924 - val_loss: 0.2428 - val_acc: 0.9579\n",
            "Epoch 12/50\n",
            "7261/7261 [==============================] - 17s 2ms/step - loss: 0.0287 - acc: 0.9930 - val_loss: 0.2406 - val_acc: 0.9591\n",
            "Epoch 13/50\n",
            "7261/7261 [==============================] - 17s 2ms/step - loss: 0.0236 - acc: 0.9955 - val_loss: 0.2608 - val_acc: 0.9616\n",
            "Epoch 14/50\n",
            "7261/7261 [==============================] - 17s 2ms/step - loss: 0.0177 - acc: 0.9968 - val_loss: 0.2854 - val_acc: 0.9591\n",
            "Epoch 15/50\n",
            "7261/7261 [==============================] - 17s 2ms/step - loss: 0.0149 - acc: 0.9979 - val_loss: 0.2503 - val_acc: 0.9616\n",
            "Epoch 16/50\n",
            "7261/7261 [==============================] - 17s 2ms/step - loss: 0.0159 - acc: 0.9974 - val_loss: 0.2810 - val_acc: 0.9517\n",
            "Epoch 17/50\n",
            "7261/7261 [==============================] - 17s 2ms/step - loss: 0.0177 - acc: 0.9968 - val_loss: 0.3199 - val_acc: 0.9492\n",
            "Epoch 18/50\n",
            "7261/7261 [==============================] - 17s 2ms/step - loss: 0.0252 - acc: 0.9952 - val_loss: 0.3422 - val_acc: 0.9517\n",
            "Epoch 19/50\n",
            "7261/7261 [==============================] - 17s 2ms/step - loss: 0.0351 - acc: 0.9928 - val_loss: 0.2581 - val_acc: 0.9504\n",
            "Epoch 20/50\n",
            "7261/7261 [==============================] - 17s 2ms/step - loss: 0.0182 - acc: 0.9961 - val_loss: 0.3613 - val_acc: 0.9442\n",
            "Epoch 21/50\n",
            "7261/7261 [==============================] - 17s 2ms/step - loss: 0.0183 - acc: 0.9964 - val_loss: 0.3195 - val_acc: 0.9566\n",
            "Epoch 22/50\n",
            "7261/7261 [==============================] - 17s 2ms/step - loss: 0.0220 - acc: 0.9946 - val_loss: 0.3091 - val_acc: 0.9504\n",
            "Epoch 23/50\n",
            "7261/7261 [==============================] - 17s 2ms/step - loss: 0.0141 - acc: 0.9970 - val_loss: 0.3078 - val_acc: 0.9517\n",
            "Epoch 24/50\n",
            "7261/7261 [==============================] - 17s 2ms/step - loss: 0.0122 - acc: 0.9975 - val_loss: 0.2980 - val_acc: 0.9542\n",
            "Epoch 25/50\n",
            "7261/7261 [==============================] - 17s 2ms/step - loss: 0.0118 - acc: 0.9978 - val_loss: 0.2792 - val_acc: 0.9542\n",
            "Epoch 26/50\n",
            "7261/7261 [==============================] - 17s 2ms/step - loss: 0.0109 - acc: 0.9981 - val_loss: 0.3006 - val_acc: 0.9504\n",
            "Epoch 27/50\n",
            "7261/7261 [==============================] - 17s 2ms/step - loss: 0.0108 - acc: 0.9983 - val_loss: 0.2936 - val_acc: 0.9480\n",
            "Epoch 28/50\n",
            "7261/7261 [==============================] - 17s 2ms/step - loss: 0.0089 - acc: 0.9982 - val_loss: 0.2889 - val_acc: 0.9517\n",
            "Epoch 29/50\n",
            "7261/7261 [==============================] - 17s 2ms/step - loss: 0.0113 - acc: 0.9981 - val_loss: 0.3104 - val_acc: 0.9529\n",
            "Epoch 30/50\n",
            "7261/7261 [==============================] - 17s 2ms/step - loss: 0.0109 - acc: 0.9978 - val_loss: 0.2448 - val_acc: 0.9554\n",
            "Epoch 31/50\n",
            "7261/7261 [==============================] - 17s 2ms/step - loss: 0.0120 - acc: 0.9977 - val_loss: 0.3503 - val_acc: 0.9430\n",
            "Epoch 32/50\n",
            "7261/7261 [==============================] - 17s 2ms/step - loss: 0.0161 - acc: 0.9964 - val_loss: 0.3303 - val_acc: 0.9405\n",
            "Epoch 33/50\n",
            "7261/7261 [==============================] - 17s 2ms/step - loss: 0.0145 - acc: 0.9971 - val_loss: 0.3272 - val_acc: 0.9480\n",
            "Epoch 34/50\n",
            "7261/7261 [==============================] - 17s 2ms/step - loss: 0.0118 - acc: 0.9979 - val_loss: 0.2432 - val_acc: 0.9641\n",
            "Epoch 35/50\n",
            "7261/7261 [==============================] - 17s 2ms/step - loss: 0.0122 - acc: 0.9979 - val_loss: 0.3472 - val_acc: 0.9492\n",
            "Epoch 36/50\n",
            "7261/7261 [==============================] - 17s 2ms/step - loss: 0.0128 - acc: 0.9972 - val_loss: 0.2701 - val_acc: 0.9542\n",
            "Epoch 37/50\n",
            "7261/7261 [==============================] - 17s 2ms/step - loss: 0.0125 - acc: 0.9970 - val_loss: 0.2954 - val_acc: 0.9542\n",
            "Epoch 38/50\n",
            "7261/7261 [==============================] - 17s 2ms/step - loss: 0.0102 - acc: 0.9982 - val_loss: 0.2803 - val_acc: 0.9517\n",
            "Epoch 39/50\n",
            "7261/7261 [==============================] - 17s 2ms/step - loss: 0.0113 - acc: 0.9975 - val_loss: 0.2890 - val_acc: 0.9517\n",
            "Epoch 40/50\n",
            "7261/7261 [==============================] - 17s 2ms/step - loss: 0.0110 - acc: 0.9974 - val_loss: 0.3805 - val_acc: 0.9455\n",
            "Epoch 41/50\n",
            "7261/7261 [==============================] - 17s 2ms/step - loss: 0.0129 - acc: 0.9966 - val_loss: 0.2849 - val_acc: 0.9542\n",
            "Epoch 42/50\n",
            "7261/7261 [==============================] - 17s 2ms/step - loss: 0.0153 - acc: 0.9968 - val_loss: 0.3741 - val_acc: 0.9480\n",
            "Epoch 43/50\n",
            "7261/7261 [==============================] - 17s 2ms/step - loss: 0.0204 - acc: 0.9953 - val_loss: 0.3063 - val_acc: 0.9517\n",
            "Epoch 44/50\n",
            "7261/7261 [==============================] - 17s 2ms/step - loss: 0.0174 - acc: 0.9966 - val_loss: 0.3231 - val_acc: 0.9517\n",
            "Epoch 45/50\n",
            "7261/7261 [==============================] - 17s 2ms/step - loss: 0.0147 - acc: 0.9972 - val_loss: 0.3071 - val_acc: 0.9442\n",
            "Epoch 46/50\n",
            "7261/7261 [==============================] - 17s 2ms/step - loss: 0.0109 - acc: 0.9979 - val_loss: 0.2352 - val_acc: 0.9616\n",
            "Epoch 47/50\n",
            "7261/7261 [==============================] - 17s 2ms/step - loss: 0.0115 - acc: 0.9975 - val_loss: 0.2818 - val_acc: 0.9542\n",
            "Epoch 48/50\n",
            "7261/7261 [==============================] - 17s 2ms/step - loss: 0.0105 - acc: 0.9981 - val_loss: 0.2998 - val_acc: 0.9517\n",
            "Epoch 49/50\n",
            "7261/7261 [==============================] - 17s 2ms/step - loss: 0.0096 - acc: 0.9982 - val_loss: 0.2495 - val_acc: 0.9492\n",
            "Epoch 50/50\n",
            "7261/7261 [==============================] - 17s 2ms/step - loss: 0.0102 - acc: 0.9982 - val_loss: 0.3133 - val_acc: 0.9542\n"
          ],
          "name": "stdout"
        },
        {
          "output_type": "execute_result",
          "data": {
            "text/plain": [
              "<keras.callbacks.History at 0x7fbe87fffda0>"
            ]
          },
          "metadata": {
            "tags": []
          },
          "execution_count": 159
        }
      ]
    },
    {
      "cell_type": "code",
      "metadata": {
        "id": "0eotfYSLRCub",
        "colab_type": "code",
        "colab": {}
      },
      "source": [
        "y_pred = model.predict_classes(X_test)\n",
        "predictions = le.inverse_transform(y_pred)"
      ],
      "execution_count": 0,
      "outputs": []
    },
    {
      "cell_type": "code",
      "metadata": {
        "id": "ny78yajGRCqt",
        "colab_type": "code",
        "colab": {
          "base_uri": "https://localhost:8080/",
          "height": 499
        },
        "outputId": "48817280-cab1-4e92-c950-d57f9c744640"
      },
      "source": [
        "cm = confusion_matrix(y_test, predictions, classes)\n",
        "plot_cm(cm)\n",
        "print_metrics_from_cm(cm)"
      ],
      "execution_count": 161,
      "outputs": [
        {
          "output_type": "stream",
          "text": [
            "Mean Precision: 0.9520427944784393\n",
            "Mean Recall 0.9515522761884496\n",
            "Accuracy: 0.9522845575477155\n",
            "F1 score: 0.9517974721350793\n"
          ],
          "name": "stdout"
        },
        {
          "output_type": "display_data",
          "data": {
            "image/png": "[encoded data removed]",
            "text/plain": [
              "<Figure size 720x504 with 2 Axes>"
            ]
          },
          "metadata": {
            "tags": []
          }
        }
      ]
    },
    {
      "cell_type": "code",
      "metadata": {
        "id": "j3Z8LuRElaD8",
        "colab_type": "code",
        "colab": {
          "base_uri": "https://localhost:8080/",
          "height": 201
        },
        "outputId": "fe2ba8cc-66e0-4645-b190-a388d6d16c71"
      },
      "source": [
        "print(classification_report(y_test, predictions, classes))"
      ],
      "execution_count": 162,
      "outputs": [
        {
          "output_type": "stream",
          "text": [
            "              precision    recall  f1-score   support\n",
            "\n",
            "     mchsgov       0.95      0.94      0.94       914\n",
            "         mil       0.97      0.96      0.97       919\n",
            "   mospolice       0.95      0.98      0.96       845\n",
            " russianpost       0.95      0.92      0.93       780\n",
            "\n",
            "    accuracy                           0.95      3458\n",
            "   macro avg       0.95      0.95      0.95      3458\n",
            "weighted avg       0.95      0.95      0.95      3458\n",
            "\n"
          ],
          "name": "stdout"
        }
      ]
    },
    {
      "cell_type": "markdown",
      "metadata": {
        "id": "WPoHrPydpqvO",
        "colab_type": "text"
      },
      "source": [
        "Судя по метрикам на валидирующей выборке, качество не увеличивается (нестабильно, скачет туда-сюда) на протяжении многих эпох, поэтому достаточно было меньшего количества эпох. Также, по-видимому, архитектура подобрана не самым удачным образом, поэтому попробуем её поменять, обучить на 10 эпохах и посмотреть на качество."
      ]
    },
    {
      "cell_type": "code",
      "metadata": {
        "id": "2ORnSFH1pp0Y",
        "colab_type": "code",
        "colab": {}
      },
      "source": [
        "nb_epoch = 10"
      ],
      "execution_count": 0,
      "outputs": []
    },
    {
      "cell_type": "code",
      "metadata": {
        "id": "ZNx9jgY8pp4n",
        "colab_type": "code",
        "colab": {}
      },
      "source": [
        "# удалил dropout, поскольку, на мой взгляд, нет смысла выбрасывать ценную информацию в данной задаче\n",
        "model = Sequential()\n",
        "model.add(Embedding(VOCABULARY_SIZE,\n",
        "                    EMBEDDING_DIM,\n",
        "                    input_length=TEXT_LENGTH,\n",
        "                    trainable=True))\n",
        "model.add(Conv1D(512, len(classes), activation='relu'))\n",
        "model.add(MaxPooling1D())\n",
        "model.add(Conv1D(256, len(classes), activation='relu'))\n",
        "model.add(Flatten())\n",
        "model.add(Dense(len(classes), activation='softmax'))\n",
        "model.compile(loss='categorical_crossentropy', optimizer='adam', metrics=['acc'])"
      ],
      "execution_count": 0,
      "outputs": []
    },
    {
      "cell_type": "code",
      "metadata": {
        "id": "vr2lHKxQqMFh",
        "colab_type": "code",
        "colab": {
          "base_uri": "https://localhost:8080/",
          "height": 334
        },
        "outputId": "930c531b-f7a0-49b5-e8ea-6f01a17dbfc1"
      },
      "source": [
        "model.summary()"
      ],
      "execution_count": 165,
      "outputs": [
        {
          "output_type": "stream",
          "text": [
            "_________________________________________________________________\n",
            "Layer (type)                 Output Shape              Param #   \n",
            "=================================================================\n",
            "embedding_9 (Embedding)      (None, 1800, 300)         75000000  \n",
            "_________________________________________________________________\n",
            "conv1d_9 (Conv1D)            (None, 1797, 512)         614912    \n",
            "_________________________________________________________________\n",
            "max_pooling1d_9 (MaxPooling1 (None, 898, 512)          0         \n",
            "_________________________________________________________________\n",
            "conv1d_10 (Conv1D)           (None, 895, 256)          524544    \n",
            "_________________________________________________________________\n",
            "flatten_9 (Flatten)          (None, 229120)            0         \n",
            "_________________________________________________________________\n",
            "dense_9 (Dense)              (None, 4)                 916484    \n",
            "=================================================================\n",
            "Total params: 77,055,940\n",
            "Trainable params: 77,055,940\n",
            "Non-trainable params: 0\n",
            "_________________________________________________________________\n"
          ],
          "name": "stdout"
        }
      ]
    },
    {
      "cell_type": "code",
      "metadata": {
        "id": "W3FncK-tqMCG",
        "colab_type": "code",
        "colab": {
          "base_uri": "https://localhost:8080/",
          "height": 385
        },
        "outputId": "72dea5f2-7d70-4ba1-8d07-9a316baa5c07"
      },
      "source": [
        "model.fit(X_train, y_formatted_train, epochs=nb_epoch, batch_size=batch_size, validation_split=0.1)"
      ],
      "execution_count": 166,
      "outputs": [
        {
          "output_type": "stream",
          "text": [
            "Train on 7261 samples, validate on 807 samples\n",
            "Epoch 1/10\n",
            "7261/7261 [==============================] - 34s 5ms/step - loss: 0.3399 - acc: 0.8955 - val_loss: 0.1409 - val_acc: 0.9653\n",
            "Epoch 2/10\n",
            "7261/7261 [==============================] - 31s 4ms/step - loss: 0.0935 - acc: 0.9760 - val_loss: 0.1562 - val_acc: 0.9641\n",
            "Epoch 3/10\n",
            "7261/7261 [==============================] - 32s 4ms/step - loss: 0.0553 - acc: 0.9850 - val_loss: 0.1642 - val_acc: 0.9529\n",
            "Epoch 4/10\n",
            "7261/7261 [==============================] - 32s 4ms/step - loss: 0.0422 - acc: 0.9888 - val_loss: 0.1673 - val_acc: 0.9678\n",
            "Epoch 5/10\n",
            "7261/7261 [==============================] - 32s 4ms/step - loss: 0.0230 - acc: 0.9937 - val_loss: 0.1900 - val_acc: 0.9641\n",
            "Epoch 6/10\n",
            "7261/7261 [==============================] - 32s 4ms/step - loss: 0.0202 - acc: 0.9944 - val_loss: 0.3280 - val_acc: 0.9504\n",
            "Epoch 7/10\n",
            "7261/7261 [==============================] - 32s 4ms/step - loss: 0.0298 - acc: 0.9924 - val_loss: 0.3202 - val_acc: 0.9368\n",
            "Epoch 8/10\n",
            "7261/7261 [==============================] - 32s 4ms/step - loss: 0.0285 - acc: 0.9921 - val_loss: 0.2081 - val_acc: 0.9542\n",
            "Epoch 9/10\n",
            "7261/7261 [==============================] - 32s 4ms/step - loss: 0.0192 - acc: 0.9955 - val_loss: 0.1919 - val_acc: 0.9566\n",
            "Epoch 10/10\n",
            "7261/7261 [==============================] - 32s 4ms/step - loss: 0.0201 - acc: 0.9949 - val_loss: 0.1966 - val_acc: 0.9641\n"
          ],
          "name": "stdout"
        },
        {
          "output_type": "execute_result",
          "data": {
            "text/plain": [
              "<keras.callbacks.History at 0x7fbe70ac0358>"
            ]
          },
          "metadata": {
            "tags": []
          },
          "execution_count": 166
        }
      ]
    },
    {
      "cell_type": "code",
      "metadata": {
        "id": "2FoHaH0-qUqG",
        "colab_type": "code",
        "colab": {}
      },
      "source": [
        "y_pred = model.predict_classes(X_test)\n",
        "predictions = le.inverse_transform(y_pred)"
      ],
      "execution_count": 0,
      "outputs": []
    },
    {
      "cell_type": "code",
      "metadata": {
        "id": "06OsTKqNqVk6",
        "colab_type": "code",
        "colab": {
          "base_uri": "https://localhost:8080/",
          "height": 499
        },
        "outputId": "d1b0b2a5-f059-4444-fb4d-25316740b562"
      },
      "source": [
        "cm = confusion_matrix(y_test, predictions, classes)\n",
        "plot_cm(cm)\n",
        "print_metrics_from_cm(cm)"
      ],
      "execution_count": 168,
      "outputs": [
        {
          "output_type": "stream",
          "text": [
            "Mean Precision: 0.9558349828975472\n",
            "Mean Recall 0.9562132215143055\n",
            "Accuracy: 0.9566223250433776\n",
            "F1 score: 0.9560240647946177\n"
          ],
          "name": "stdout"
        },
        {
          "output_type": "display_data",
          "data": {
            "image/png": "[encoded data removed]",
            "text/plain": [
              "<Figure size 720x504 with 2 Axes>"
            ]
          },
          "metadata": {
            "tags": []
          }
        }
      ]
    },
    {
      "cell_type": "markdown",
      "metadata": {
        "id": "_UdmX8ujteW3",
        "colab_type": "text"
      },
      "source": [
        "Качество чуть получше, чем на предыдущей архитектуре, но всё равно далеко от baseline-а. Возможно, на лучше подобранной архитектуре и на большем количестве эпох качество было бы получше."
      ]
    },
    {
      "cell_type": "markdown",
      "metadata": {
        "id": "Ska_dOzcFv5f",
        "colab_type": "text"
      },
      "source": [
        "Попобуем ещё следующую архитектуру:"
      ]
    },
    {
      "cell_type": "code",
      "metadata": {
        "id": "QHNZ6BV6vcl6",
        "colab_type": "code",
        "colab": {}
      },
      "source": [
        "model = Sequential()\n",
        "model.add(Embedding(VOCABULARY_SIZE,\n",
        "                    EMBEDDING_DIM,\n",
        "                    input_length=TEXT_LENGTH,\n",
        "                    trainable=True))\n",
        "\n",
        "model.add(Conv1D(512, len(classes), activation='relu'))\n",
        "model.add(Conv1D(256, len(classes), activation='relu'))\n",
        "model.add(MaxPooling1D())\n",
        "model.add(Dense(128, activation='relu'))\n",
        "model.add(Dense(64, activation='relu'))\n",
        "model.add(Flatten())\n",
        "model.add(Dense(len(classes), activation='softmax'))\n",
        "\n",
        "model.compile(optimizer='adam', loss='binary_crossentropy', metrics=['acc'])\n",
        "model.compile(loss='categorical_crossentropy', optimizer='adam', metrics=['accuracy'])"
      ],
      "execution_count": 0,
      "outputs": []
    },
    {
      "cell_type": "code",
      "metadata": {
        "id": "fbFA8ZT6vdch",
        "colab_type": "code",
        "colab": {
          "base_uri": "https://localhost:8080/",
          "height": 401
        },
        "outputId": "617b660e-1abf-489e-8d05-0554944f407d"
      },
      "source": [
        "model.summary()"
      ],
      "execution_count": 177,
      "outputs": [
        {
          "output_type": "stream",
          "text": [
            "_________________________________________________________________\n",
            "Layer (type)                 Output Shape              Param #   \n",
            "=================================================================\n",
            "embedding_12 (Embedding)     (None, 1800, 300)         75000000  \n",
            "_________________________________________________________________\n",
            "conv1d_17 (Conv1D)           (None, 1797, 512)         614912    \n",
            "_________________________________________________________________\n",
            "conv1d_18 (Conv1D)           (None, 1794, 256)         524544    \n",
            "_________________________________________________________________\n",
            "max_pooling1d_13 (MaxPooling (None, 897, 256)          0         \n",
            "_________________________________________________________________\n",
            "dense_12 (Dense)             (None, 897, 128)          32896     \n",
            "_________________________________________________________________\n",
            "dense_13 (Dense)             (None, 897, 64)           8256      \n",
            "_________________________________________________________________\n",
            "flatten_11 (Flatten)         (None, 57408)             0         \n",
            "_________________________________________________________________\n",
            "dense_14 (Dense)             (None, 4)                 229636    \n",
            "=================================================================\n",
            "Total params: 76,410,244\n",
            "Trainable params: 76,410,244\n",
            "Non-trainable params: 0\n",
            "_________________________________________________________________\n"
          ],
          "name": "stdout"
        }
      ]
    },
    {
      "cell_type": "code",
      "metadata": {
        "id": "oJMPBe8Lvlxf",
        "colab_type": "code",
        "colab": {
          "base_uri": "https://localhost:8080/",
          "height": 385
        },
        "outputId": "c9819fde-cd7f-4705-ef14-a3d8dce120dc"
      },
      "source": [
        "model.fit(X_train, y_formatted_train, epochs=nb_epoch, batch_size=batch_size, validation_split=0.1)"
      ],
      "execution_count": 178,
      "outputs": [
        {
          "output_type": "stream",
          "text": [
            "Train on 7261 samples, validate on 807 samples\n",
            "Epoch 1/10\n",
            "7261/7261 [==============================] - 41s 6ms/step - loss: 0.3184 - acc: 0.8948 - val_loss: 0.1439 - val_acc: 0.9591\n",
            "Epoch 2/10\n",
            "7261/7261 [==============================] - 39s 5ms/step - loss: 0.0981 - acc: 0.9749 - val_loss: 0.1413 - val_acc: 0.9641\n",
            "Epoch 3/10\n",
            "7261/7261 [==============================] - 40s 5ms/step - loss: 0.0504 - acc: 0.9893 - val_loss: 0.2055 - val_acc: 0.9554\n",
            "Epoch 4/10\n",
            "7261/7261 [==============================] - 39s 5ms/step - loss: 0.0424 - acc: 0.9904 - val_loss: 0.2647 - val_acc: 0.9343\n",
            "Epoch 5/10\n",
            "7261/7261 [==============================] - 40s 5ms/step - loss: 0.0313 - acc: 0.9926 - val_loss: 0.3130 - val_acc: 0.9380\n",
            "Epoch 6/10\n",
            "7261/7261 [==============================] - 39s 5ms/step - loss: 0.0272 - acc: 0.9941 - val_loss: 0.2430 - val_acc: 0.9542\n",
            "Epoch 7/10\n",
            "7261/7261 [==============================] - 39s 5ms/step - loss: 0.0307 - acc: 0.9931 - val_loss: 0.2176 - val_acc: 0.9442\n",
            "Epoch 8/10\n",
            "7261/7261 [==============================] - 39s 5ms/step - loss: 0.0268 - acc: 0.9945 - val_loss: 0.3866 - val_acc: 0.9257\n",
            "Epoch 9/10\n",
            "7261/7261 [==============================] - 39s 5ms/step - loss: 0.0251 - acc: 0.9938 - val_loss: 0.2510 - val_acc: 0.9517\n",
            "Epoch 10/10\n",
            "7261/7261 [==============================] - 39s 5ms/step - loss: 0.0242 - acc: 0.9941 - val_loss: 0.3306 - val_acc: 0.9529\n"
          ],
          "name": "stdout"
        },
        {
          "output_type": "execute_result",
          "data": {
            "text/plain": [
              "<keras.callbacks.History at 0x7fbc1f928e80>"
            ]
          },
          "metadata": {
            "tags": []
          },
          "execution_count": 178
        }
      ]
    },
    {
      "cell_type": "code",
      "metadata": {
        "id": "1W0gOnDsvl1T",
        "colab_type": "code",
        "colab": {}
      },
      "source": [
        "y_pred = model.predict_classes(X_test)\n",
        "predictions = le.inverse_transform(y_pred)"
      ],
      "execution_count": 0,
      "outputs": []
    },
    {
      "cell_type": "code",
      "metadata": {
        "id": "_xQqtF6_vl7a",
        "colab_type": "code",
        "colab": {
          "base_uri": "https://localhost:8080/",
          "height": 499
        },
        "outputId": "32cee81a-c0ef-44b9-f95d-ffa4a4c42e45"
      },
      "source": [
        "cm = confusion_matrix(y_test, predictions, classes)\n",
        "plot_cm(cm)\n",
        "print_metrics_from_cm(cm)"
      ],
      "execution_count": 180,
      "outputs": [
        {
          "output_type": "stream",
          "text": [
            "Mean Precision: 0.9529537175436749\n",
            "Mean Recall 0.9531128404342617\n",
            "Accuracy: 0.9537304800462695\n",
            "F1 score: 0.953033272346993\n"
          ],
          "name": "stdout"
        },
        {
          "output_type": "display_data",
          "data": {
            "image/png": "[encoded data removed]",
            "text/plain": [
              "<Figure size 720x504 with 2 Axes>"
            ]
          },
          "metadata": {
            "tags": []
          }
        }
      ]
    },
    {
      "cell_type": "markdown",
      "metadata": {
        "id": "srAPqF_LxTnM",
        "colab_type": "text"
      },
      "source": [
        "Здесь качество ещё больше упало. Самой частотной парой является, как ни странно, пара \"mospolice\" - \"mil\", хотя на методах без использования нейросетей именно в ней реже всего ошибались модели, т.е. это в очередной раз свидетельствует о сильно отличающихся подходах к решению задачи классификации.\n",
        "\n",
        "В случае с CNN, много ошибок также в парах \"russianpost\" - \"mospolice\" и \"mchsgoc\" - \"mil\", что было характерно не в такой мере для подходов без использования нейронных сетей."
      ]
    },
    {
      "cell_type": "markdown",
      "metadata": {
        "id": "FE9Cc9WDRd1l",
        "colab_type": "text"
      },
      "source": [
        "## Задание 9 [4 + 2 балла]. RNN\n",
        "\n",
        "(4 балла)Используйте ```RNN``` (BLSTM с какими-то признаками и пулинг поверх) для решения задачи текстовой классификации. Оцените результаты классификации по стандартным мерам качества и проведите анализ ошибок. Для этого рекомендуем визуализировать матрицу ошибок (confusion matrix).\n",
        "\n",
        "За дополнительные 2 балла добавьте в модель символьные признаки - CharCNN или CharRNN"
      ]
    },
    {
      "cell_type": "code",
      "metadata": {
        "id": "zRrx8Goay_Ri",
        "colab_type": "code",
        "colab": {}
      },
      "source": [
        "from keras.layers import LSTM, Bidirectional, GlobalMaxPooling1D\n",
        "from keras.preprocessing import sequence"
      ],
      "execution_count": 0,
      "outputs": []
    },
    {
      "cell_type": "code",
      "metadata": {
        "id": "VJCfR9WOzlPS",
        "colab_type": "code",
        "colab": {}
      },
      "source": [
        "X_train, X_test, y_train, y_test = train_test_split(df['lemmatized_text'], df['source'], test_size=0.3, random_state=21)"
      ],
      "execution_count": 0,
      "outputs": []
    },
    {
      "cell_type": "code",
      "metadata": {
        "id": "I2VaceXA68VT",
        "colab_type": "code",
        "colab": {}
      },
      "source": [
        "tokenizer = Tokenizer(num_words=TEXT_LENGTH)\n",
        "tokenizer.fit_on_texts(X_train.values)"
      ],
      "execution_count": 0,
      "outputs": []
    },
    {
      "cell_type": "code",
      "metadata": {
        "id": "PbPVbCsxzlhX",
        "colab_type": "code",
        "colab": {}
      },
      "source": [
        "# падим последовательности для одинаковой длины (не больше TEXT_LENGTH=1800) всех входных последовательностей\n",
        "sequences = tokenizer.texts_to_sequences(X_train)\n",
        "X_train = sequence.pad_sequences(sequences, maxlen=TEXT_LENGTH, padding='post')\n",
        "sequences = tokenizer.texts_to_sequences(X_test)\n",
        "X_test = sequence.pad_sequences(sequences, maxlen=TEXT_LENGTH, padding='post')"
      ],
      "execution_count": 0,
      "outputs": []
    },
    {
      "cell_type": "code",
      "metadata": {
        "id": "eAKe3bJW34JK",
        "colab_type": "code",
        "colab": {
          "base_uri": "https://localhost:8080/",
          "height": 33
        },
        "outputId": "30ad15c7-6e24-4316-ff50-9e111611e5a9"
      },
      "source": [
        "le = LabelEncoder()\n",
        "classes = y_train.unique()\n",
        "le.fit(classes)\n",
        "y_formatted_train = np_utils.to_categorical(le.transform(y_train), len(classes))\n",
        "y_formatted_test = np_utils.to_categorical(le.transform(y_test), len(classes))\n",
        "y_formatted_true = le.transform(y_test)\n",
        "print(y_formatted_train[0])"
      ],
      "execution_count": 50,
      "outputs": [
        {
          "output_type": "stream",
          "text": [
            "[1. 0. 0. 0.]\n"
          ],
          "name": "stdout"
        }
      ]
    },
    {
      "cell_type": "code",
      "metadata": {
        "id": "4orWXhL9z98D",
        "colab_type": "code",
        "colab": {
          "base_uri": "https://localhost:8080/",
          "height": 87
        },
        "outputId": "a4a95e59-98cb-4a18-b54c-f54f4c708ff1"
      },
      "source": [
        "# архитектура с BiLSTM и maxpooling-ом после\n",
        "model = Sequential()\n",
        "model.add(Embedding(VOCABULARY_SIZE,\n",
        "                    EMBEDDING_DIM,\n",
        "                    input_length=TEXT_LENGTH,\n",
        "                    trainable=True))\n",
        "# конктенируем вывод из LStM по левому и правому контекстам\n",
        "model.add(Bidirectional(LSTM(10, return_sequences=True), merge_mode='concat', weights=None))\n",
        "model.add(GlobalMaxPooling1D())\n",
        "model.add(Dense(len(classes), activation='softmax'))\n",
        "model.compile(loss='categorical_crossentropy', optimizer='adam', metrics=['acc'])"
      ],
      "execution_count": 44,
      "outputs": [
        {
          "output_type": "stream",
          "text": [
            "WARNING:tensorflow:From /usr/local/lib/python3.6/dist-packages/tensorflow/python/framework/op_def_library.py:263: colocate_with (from tensorflow.python.framework.ops) is deprecated and will be removed in a future version.\n",
            "Instructions for updating:\n",
            "Colocations handled automatically by placer.\n"
          ],
          "name": "stdout"
        }
      ]
    },
    {
      "cell_type": "code",
      "metadata": {
        "id": "s6jBtZp522OQ",
        "colab_type": "code",
        "colab": {
          "base_uri": "https://localhost:8080/",
          "height": 268
        },
        "outputId": "2ed5c45e-e045-4642-80af-1813496f9be8"
      },
      "source": [
        "model.summary()"
      ],
      "execution_count": 45,
      "outputs": [
        {
          "output_type": "stream",
          "text": [
            "_________________________________________________________________\n",
            "Layer (type)                 Output Shape              Param #   \n",
            "=================================================================\n",
            "embedding_1 (Embedding)      (None, 1800, 300)         75000000  \n",
            "_________________________________________________________________\n",
            "bidirectional_1 (Bidirection (None, 1800, 20)          24880     \n",
            "_________________________________________________________________\n",
            "global_max_pooling1d_1 (Glob (None, 20)                0         \n",
            "_________________________________________________________________\n",
            "dense_1 (Dense)              (None, 4)                 84        \n",
            "=================================================================\n",
            "Total params: 75,024,964\n",
            "Trainable params: 75,024,964\n",
            "Non-trainable params: 0\n",
            "_________________________________________________________________\n"
          ],
          "name": "stdout"
        }
      ]
    },
    {
      "cell_type": "code",
      "metadata": {
        "id": "KvvPdKuvz94y",
        "colab_type": "code",
        "colab": {
          "base_uri": "https://localhost:8080/",
          "height": 204
        },
        "outputId": "226d56d5-80cf-4cae-eddc-0361fabcd036"
      },
      "source": [
        "model.fit(X_train, y_formatted_train, validation_data=(X_test, y_formatted_test), epochs=1, batch_size=batch_size)"
      ],
      "execution_count": 46,
      "outputs": [
        {
          "output_type": "stream",
          "text": [
            "WARNING:tensorflow:From /usr/local/lib/python3.6/dist-packages/tensorflow/python/ops/math_ops.py:3066: to_int32 (from tensorflow.python.ops.math_ops) is deprecated and will be removed in a future version.\n",
            "Instructions for updating:\n",
            "Use tf.cast instead.\n",
            "WARNING:tensorflow:From /usr/local/lib/python3.6/dist-packages/tensorflow/python/ops/math_grad.py:102: div (from tensorflow.python.ops.math_ops) is deprecated and will be removed in a future version.\n",
            "Instructions for updating:\n",
            "Deprecated in favor of operator or tf.math.divide.\n",
            "Train on 8068 samples, validate on 3458 samples\n",
            "Epoch 1/1\n",
            "8068/8068 [==============================] - 1508s 187ms/step - loss: 0.4640 - acc: 0.9160 - val_loss: 0.1509 - val_acc: 0.9717\n"
          ],
          "name": "stdout"
        },
        {
          "output_type": "execute_result",
          "data": {
            "text/plain": [
              "<keras.callbacks.History at 0x7fbd41fab9e8>"
            ]
          },
          "metadata": {
            "tags": []
          },
          "execution_count": 46
        }
      ]
    },
    {
      "cell_type": "code",
      "metadata": {
        "id": "ZHmHpk0a2siD",
        "colab_type": "code",
        "colab": {}
      },
      "source": [
        "y_pred = model.predict_classes(X_test)\n",
        "predictions = le.inverse_transform(y_pred)"
      ],
      "execution_count": 0,
      "outputs": []
    },
    {
      "cell_type": "code",
      "metadata": {
        "id": "nZmI71Wv2set",
        "colab_type": "code",
        "colab": {
          "base_uri": "https://localhost:8080/",
          "height": 499
        },
        "outputId": "e7cb9068-4b66-408b-9396-8a0d99e56943"
      },
      "source": [
        "cm = confusion_matrix(y_test, predictions, classes)\n",
        "plot_cm(cm)\n",
        "print_metrics_from_cm(cm)"
      ],
      "execution_count": 51,
      "outputs": [
        {
          "output_type": "stream",
          "text": [
            "Mean Precision: 0.9712467686326223\n",
            "Mean Recall 0.9710383553094037\n",
            "Accuracy: 0.97165991902834\n",
            "F1 score: 0.9711425507893093\n"
          ],
          "name": "stdout"
        },
        {
          "output_type": "display_data",
          "data": {
            "image/png": "[encoded data removed]",
            "text/plain": [
              "<Figure size 720x504 with 2 Axes>"
            ]
          },
          "metadata": {
            "tags": []
          }
        }
      ]
    },
    {
      "cell_type": "markdown",
      "metadata": {
        "id": "hUapY7T_CcNI",
        "colab_type": "text"
      },
      "source": [
        "Примерно на 0.06 хуже, чем у SGDClassifier-а в 3-м задании, но мы обучали только на одной эпохе (т.к. обучение очень долгое), поэтому результат скорее всего мог быть и лучше при большем количестве эпох.\n",
        "\n",
        "Ошибки те же, что и в CNN, но с немного другими пропорциями. Любопытно, что в паре russianpost ~ mchsgov практически нет ошибок (всего 2), хотя для моделей без использования нейронных сетей составляет трудность не путать два этих класса."
      ]
    },
    {
      "cell_type": "markdown",
      "metadata": {
        "id": "vCtOPZVCNShK",
        "colab_type": "text"
      },
      "source": [
        "Чтобы добавить символьные признаки воспользуемся реализацией объединённого эмбеддинга для слова и симольных признаков в библиотеке keras_wc_embd"
      ]
    },
    {
      "cell_type": "code",
      "metadata": {
        "id": "39lNsmuwNSxL",
        "colab_type": "code",
        "colab": {}
      },
      "source": [
        "# !pip install keras-word-char-embd\n",
        "from keras_wc_embd import WordCharEmbd"
      ],
      "execution_count": 0,
      "outputs": []
    },
    {
      "cell_type": "code",
      "metadata": {
        "id": "vvgXivFaNf5R",
        "colab_type": "code",
        "colab": {}
      },
      "source": [
        "wc_embd = WordCharEmbd(word_min_freq=0, char_min_freq=0, word_ignore_case=True, char_ignore_case=True)"
      ],
      "execution_count": 0,
      "outputs": []
    },
    {
      "cell_type": "code",
      "metadata": {
        "id": "dk3uCtUbTN9o",
        "colab_type": "code",
        "colab": {}
      },
      "source": [
        "corpus = df['lemmatized_text']\n",
        "X_train, X_test, y_train, y_test = train_test_split(df['lemmatized_text'], df['source'], test_size=0.3, random_state=21)"
      ],
      "execution_count": 0,
      "outputs": []
    },
    {
      "cell_type": "code",
      "metadata": {
        "id": "7_lQ_Q3gNf_O",
        "colab_type": "code",
        "colab": {}
      },
      "source": [
        "for sentence in corpus:\n",
        "    wc_embd.update_dicts(sentence)"
      ],
      "execution_count": 0,
      "outputs": []
    },
    {
      "cell_type": "code",
      "metadata": {
        "id": "MxmM9QBeNy68",
        "colab_type": "code",
        "colab": {
          "base_uri": "https://localhost:8080/",
          "height": 87
        },
        "outputId": "da3cf95f-deed-4b08-8b28-04239f8fbf29"
      },
      "source": [
        "inputs, embd_layer = wc_embd.get_embedding_layer(word_mask_zero=False, char_mask_zero=False)"
      ],
      "execution_count": 37,
      "outputs": [
        {
          "output_type": "stream",
          "text": [
            "WARNING:tensorflow:From /usr/local/lib/python3.6/dist-packages/tensorflow/python/framework/op_def_library.py:263: colocate_with (from tensorflow.python.framework.ops) is deprecated and will be removed in a future version.\n",
            "Instructions for updating:\n",
            "Colocations handled automatically by placer.\n"
          ],
          "name": "stdout"
        }
      ]
    },
    {
      "cell_type": "code",
      "metadata": {
        "id": "NlYDKxA3Nf8d",
        "colab_type": "code",
        "colab": {}
      },
      "source": [
        "blstm_layer = Bidirectional(LSTM(10, return_sequences=True), merge_mode='concat', weights=None)(embd_layer)\n",
        "next_layer = GlobalMaxPooling1D()(blstm_layer)\n",
        "softmax_layer = Dense(len(classes), activation='softmax')(next_layer)\n",
        "model = Model(inputs=inputs, outputs=softmax_layer)\n",
        "model.compile(optimizer='adam', loss='categorical_crossentropy', metrics=['acc'])"
      ],
      "execution_count": 0,
      "outputs": []
    },
    {
      "cell_type": "code",
      "metadata": {
        "id": "vSsGmPT2SY0O",
        "colab_type": "code",
        "colab": {
          "base_uri": "https://localhost:8080/",
          "height": 452
        },
        "outputId": "0a9e5005-9f04-4111-a379-e29a99af34d6"
      },
      "source": [
        "model.summary()"
      ],
      "execution_count": 42,
      "outputs": [
        {
          "output_type": "stream",
          "text": [
            "__________________________________________________________________________________________________\n",
            "Layer (type)                    Output Shape         Param #     Connected to                     \n",
            "==================================================================================================\n",
            "Input_Char (InputLayer)         (None, None, 1)      0                                            \n",
            "__________________________________________________________________________________________________\n",
            "Input_Word (InputLayer)         (None, None)         0                                            \n",
            "__________________________________________________________________________________________________\n",
            "Embedding_Char_Pre (Embedding)  (None, None, 1, 30)  5400        Input_Char[0][0]                 \n",
            "__________________________________________________________________________________________________\n",
            "Embedding_Word (Embedding)      (None, None, 300)    54000       Input_Word[0][0]                 \n",
            "__________________________________________________________________________________________________\n",
            "Embedding_Char (TimeDistributed (None, None, 300)    217200      Embedding_Char_Pre[0][0]         \n",
            "__________________________________________________________________________________________________\n",
            "Embedding (Concatenate)         (None, None, 600)    0           Embedding_Word[0][0]             \n",
            "                                                                 Embedding_Char[0][0]             \n",
            "__________________________________________________________________________________________________\n",
            "bidirectional_1 (Bidirectional) (None, None, 20)     48880       Embedding[0][0]                  \n",
            "__________________________________________________________________________________________________\n",
            "global_max_pooling1d_1 (GlobalM (None, 20)           0           bidirectional_1[0][0]            \n",
            "__________________________________________________________________________________________________\n",
            "dense_1 (Dense)                 (None, 4)            84          global_max_pooling1d_1[0][0]     \n",
            "==================================================================================================\n",
            "Total params: 325,564\n",
            "Trainable params: 325,564\n",
            "Non-trainable params: 0\n",
            "__________________________________________________________________________________________________\n"
          ],
          "name": "stdout"
        }
      ]
    },
    {
      "cell_type": "code",
      "metadata": {
        "id": "OLZu0YcxYfWS",
        "colab_type": "code",
        "colab": {}
      },
      "source": [
        "def batch_generator(corpus):\n",
        "    while True:\n",
        "        yield wc_embd.get_batch_input(corpus), np.asarray([0, 1])"
      ],
      "execution_count": 0,
      "outputs": []
    },
    {
      "cell_type": "code",
      "metadata": {
        "id": "K0CSJR_aSrV3",
        "colab_type": "code",
        "colab": {}
      },
      "source": [
        "model.fit_generator(\n",
        "    generator=batch_generator(X_train),\n",
        "    steps_per_epoch=20,\n",
        "    epochs=1,\n",
        ")"
      ],
      "execution_count": 0,
      "outputs": []
    },
    {
      "cell_type": "markdown",
      "metadata": {
        "id": "s5E4RjgHens5",
        "colab_type": "text"
      },
      "source": [
        "К сожалению, ядро (даже GPU) умирает, поэтому обучить в колабе, используя эту библиотеку, не получится."
      ]
    },
    {
      "cell_type": "markdown",
      "metadata": {
        "id": "yyGUuiJuRd1m",
        "colab_type": "text"
      },
      "source": [
        "## Задание 10 [8 баллов]. ULMFit\n",
        "\n",
        "Используйте ```ULMFit``` для решения задачи классификации. Оцените результаты классификации по стандартным мерам качества и проведите анализ ошибок. Для этого рекомендуем визуализировать матрицу ошибок (confusion matrix). "
      ]
    },
    {
      "cell_type": "code",
      "metadata": {
        "id": "NRkOAXVHpAiQ",
        "colab_type": "code",
        "colab": {}
      },
      "source": [
        "# !pip install torch_nightly -f https://download.pytorch.org/whl/nightly/cu92/torch_nightly.html\n",
        "# !pip install fastai"
      ],
      "execution_count": 0,
      "outputs": []
    },
    {
      "cell_type": "code",
      "metadata": {
        "id": "TnE_rE0_fmSU",
        "colab_type": "code",
        "colab": {}
      },
      "source": [
        "# подключаем необходимые библиотеки с реализованной ULMFiT (SOTA-моделью для текстовой классификации).\n",
        "import fastai\n",
        "from fastai import *\n",
        "from fastai.text import *"
      ],
      "execution_count": 0,
      "outputs": []
    },
    {
      "cell_type": "code",
      "metadata": {
        "id": "kq8RpGkw5muT",
        "colab_type": "code",
        "colab": {}
      },
      "source": [
        "# приведём к датафрейму с нужными названиями колонок (label и text)\n",
        "tmp_df = pd.DataFrame({'label':df.source, 'text':df.lemmatized_words})"
      ],
      "execution_count": 0,
      "outputs": []
    },
    {
      "cell_type": "code",
      "metadata": {
        "id": "iL_4s9Kvnmjl",
        "colab_type": "code",
        "colab": {}
      },
      "source": [
        "# train_test_split на обучающий датафрейм и датафрейм для валидации\n",
        "df_trn, df_val = train_test_split(tmp_df, stratify=tmp_df['label'], test_size=0.3, random_state=21)"
      ],
      "execution_count": 0,
      "outputs": []
    },
    {
      "cell_type": "code",
      "metadata": {
        "id": "Rk3R_YPNnmdN",
        "colab_type": "code",
        "colab": {
          "base_uri": "https://localhost:8080/",
          "height": 33
        },
        "outputId": "31432709-799c-42a2-9861-b85dea44fe32"
      },
      "source": [
        "df_trn.shape, df_val.shape"
      ],
      "execution_count": 153,
      "outputs": [
        {
          "output_type": "execute_result",
          "data": {
            "text/plain": [
              "((8068, 2), (3458, 2))"
            ]
          },
          "metadata": {
            "tags": []
          },
          "execution_count": 153
        }
      ]
    },
    {
      "cell_type": "code",
      "metadata": {
        "id": "TTmKLjOoox9S",
        "colab_type": "code",
        "colab": {}
      },
      "source": [
        "# получаем из датасетов языковая модель из датафрейма\n",
        "data_lm = TextLMDataBunch.from_df(train_df=df_trn, valid_df=df_val, path=\"\")"
      ],
      "execution_count": 0,
      "outputs": []
    },
    {
      "cell_type": "code",
      "metadata": {
        "id": "4pAx1LZqo21z",
        "colab_type": "code",
        "colab": {}
      },
      "source": [
        "# получаем из датасетов модель для классификации\n",
        "data_clas = TextClasDataBunch.from_df(path=\"\", train_df=df_trn, valid_df=df_val, vocab=data_lm.train_ds.vocab, bs=24)"
      ],
      "execution_count": 0,
      "outputs": []
    },
    {
      "cell_type": "code",
      "metadata": {
        "id": "WY4Vrlnno3GJ",
        "colab_type": "code",
        "colab": {}
      },
      "source": [
        "# LanguageLearner\n",
        "learn = language_model_learner(data_lm, arch=AWD_LSTM, drop_mult=0.5)"
      ],
      "execution_count": 0,
      "outputs": []
    },
    {
      "cell_type": "code",
      "metadata": {
        "id": "A_gHaDsno7G3",
        "colab_type": "code",
        "colab": {
          "base_uri": "https://localhost:8080/",
          "height": 77
        },
        "outputId": "03353931-df84-4f49-91e2-ca40791f25af"
      },
      "source": [
        "# своего рода регуляризация для улучшений качества (скорость обучения = 0.01)\n",
        "learn.fit_one_cycle(cyc_len=1, max_lr=0.01)"
      ],
      "execution_count": 157,
      "outputs": [
        {
          "output_type": "display_data",
          "data": {
            "text/html": [
              "<table border=\"1\" class=\"dataframe\">\n",
              "  <thead>\n",
              "    <tr style=\"text-align: left;\">\n",
              "      <th>epoch</th>\n",
              "      <th>train_loss</th>\n",
              "      <th>valid_loss</th>\n",
              "      <th>accuracy</th>\n",
              "      <th>time</th>\n",
              "    </tr>\n",
              "  </thead>\n",
              "  <tbody>\n",
              "    <tr>\n",
              "      <td>0</td>\n",
              "      <td>1.584808</td>\n",
              "      <td>1.492893</td>\n",
              "      <td>0.785894</td>\n",
              "      <td>03:06</td>\n",
              "    </tr>\n",
              "  </tbody>\n",
              "</table>"
            ],
            "text/plain": [
              "<IPython.core.display.HTML object>"
            ]
          },
          "metadata": {
            "tags": []
          }
        }
      ]
    },
    {
      "cell_type": "code",
      "metadata": {
        "id": "QTxvm3eg1OSg",
        "colab_type": "code",
        "colab": {}
      },
      "source": [
        "# сохраняем encoder\n",
        "learn.save_encoder('encoder')"
      ],
      "execution_count": 0,
      "outputs": []
    },
    {
      "cell_type": "code",
      "metadata": {
        "id": "QQOJsrlnp78H",
        "colab_type": "code",
        "colab": {}
      },
      "source": [
        "# используем data_clas, чтобы построить классификатор с помощью сохранённого encoder-а\n",
        "learn = text_classifier_learner(data_clas, arch=AWD_LSTM, drop_mult=0.5)"
      ],
      "execution_count": 0,
      "outputs": []
    },
    {
      "cell_type": "code",
      "metadata": {
        "id": "um4MhYbEtCuo",
        "colab_type": "code",
        "colab": {}
      },
      "source": [
        "# загружаем encoder\n",
        "learn.load_encoder('encoder')"
      ],
      "execution_count": 0,
      "outputs": []
    },
    {
      "cell_type": "code",
      "metadata": {
        "id": "lqVdiUkFqLob",
        "colab_type": "code",
        "colab": {
          "base_uri": "https://localhost:8080/",
          "height": 77
        },
        "outputId": "f5e21b28-607c-4899-8501-d56ab2b2245b"
      },
      "source": [
        "# как ни странно, значение функции потерь на валидирующей выборке значительно меньше, чем на обучающей выборке\n",
        "learn.fit_one_cycle(cyc_len=1, max_lr=0.01)"
      ],
      "execution_count": 161,
      "outputs": [
        {
          "output_type": "display_data",
          "data": {
            "text/html": [
              "<table border=\"1\" class=\"dataframe\">\n",
              "  <thead>\n",
              "    <tr style=\"text-align: left;\">\n",
              "      <th>epoch</th>\n",
              "      <th>train_loss</th>\n",
              "      <th>valid_loss</th>\n",
              "      <th>accuracy</th>\n",
              "      <th>time</th>\n",
              "    </tr>\n",
              "  </thead>\n",
              "  <tbody>\n",
              "    <tr>\n",
              "      <td>0</td>\n",
              "      <td>0.509198</td>\n",
              "      <td>0.179206</td>\n",
              "      <td>0.949393</td>\n",
              "      <td>02:32</td>\n",
              "    </tr>\n",
              "  </tbody>\n",
              "</table>"
            ],
            "text/plain": [
              "<IPython.core.display.HTML object>"
            ]
          },
          "metadata": {
            "tags": []
          }
        }
      ]
    },
    {
      "cell_type": "code",
      "metadata": {
        "id": "u2HhsbgmroaA",
        "colab_type": "code",
        "colab": {}
      },
      "source": [
        "# предсказания и целевая переменная\n",
        "preds, targets = learn.get_preds()"
      ],
      "execution_count": 0,
      "outputs": []
    },
    {
      "cell_type": "code",
      "metadata": {
        "id": "CK2K5vNGsVA-",
        "colab_type": "code",
        "colab": {}
      },
      "source": [
        "predictions = np.argmax(preds, axis=1)"
      ],
      "execution_count": 0,
      "outputs": []
    },
    {
      "cell_type": "code",
      "metadata": {
        "id": "CZiPKYQF9PcV",
        "colab_type": "code",
        "colab": {
          "base_uri": "https://localhost:8080/",
          "height": 499
        },
        "outputId": "3ce5d161-e764-4d11-e3c7-75dda71ce8a2"
      },
      "source": [
        "cm = confusion_matrix(targets, predictions)\n",
        "plot_cm(cm)\n",
        "print_metrics_from_cm(cm)"
      ],
      "execution_count": 165,
      "outputs": [
        {
          "output_type": "stream",
          "text": [
            "Mean Precision: 0.9498271901723504\n",
            "Mean Recall 0.9501357700047226\n",
            "Accuracy: 0.9493927125506073\n",
            "F1 score: 0.9499814550297552\n"
          ],
          "name": "stdout"
        },
        {
          "output_type": "display_data",
          "data": {
            "image/png": "[encoded data removed]",
            "text/plain": [
              "<Figure size 720x504 with 2 Axes>"
            ]
          },
          "metadata": {
            "tags": []
          }
        }
      ]
    },
    {
      "cell_type": "markdown",
      "metadata": {
        "id": "T3E69Adf94Ok",
        "colab_type": "text"
      },
      "source": [
        "Качество чуть меньше, чем 0.95. Очень часто модель ошибочно приписывает лейбл 'mil' текстам с лейблом 'mospolice' (82 ошибки такого рода). Так же, как и ранее, редко совершаются ошибки в паре 'mchsgov' - 'russianpost', но много ошибок в парах 'russianpost' - 'mospolice' и 'mchsgov' - 'mil'."
      ]
    },
    {
      "cell_type": "markdown",
      "metadata": {
        "colab_type": "text",
        "id": "_8fKqCD6Q5tW"
      },
      "source": [
        "## Конец\n",
        "Выполните какие-то из предыдущих заданий. Для всех заданий, кроме задания 1 требуется вычислить метрику accuracy метода.\n",
        "\n",
        "Подведите итоги и проведите сравнение всех использованных методов. Какой из них показался вам лучше и почему?\n",
        "\n",
        "**NB!** Задание обязательное вне зависимости от того, сколько из предыдущих пунктов вы выполнили, и дополнительных баллов не дает.\n",
        "\n",
        "\n",
        "Для получения полной оценки за NLP-часть достаточно набрать **20 баллов**."
      ]
    },
    {
      "cell_type": "markdown",
      "metadata": {
        "id": "ghQOyWzfUX2-",
        "colab_type": "text"
      },
      "source": [
        "Сравним по метрике accuracy (приводится наилучшее значение) все использованные в данной тетрадке модели:\n",
        "\n",
        "1) rules-based approach: 0.7518591968269708\n",
        "\n",
        "2) CountVectorizer + TfidfTransformer + MultinomialNB: 0.9658762290341237\n",
        "\n",
        "3) CountVectorizer + TfidfTransformer + SGDClassifier: 0.9786003470213996\n",
        "\n",
        "4) CountVectorizer + TfidfTransformer + LSA + SGDClassifier: 0.6576055523423945\n",
        "\n",
        "5) CountVectorizer + TfidfTransformer + LSA + RandomForestClassifier: 0.7446500867553499\n",
        "\n",
        "6) CountVectorizer + TfidfTransformer + LSA + LogisticRegression: 0.6827646038172354\n",
        "\n",
        "7) CountVectorizer + TfidfTransformer + LSA + AdaBoostClassifier: 0.6561596298438404\n",
        "\n",
        "8) CountVectorizer + TfidfTransformer + SGDClassifier (with lemmatization): 0.9783111625216888\n",
        "\n",
        "9) CountVectorizer + TfidfTransformer + SGDClassifier (with lemmatization and n-grams (n <= 5)): 0.9788895315211105\n",
        "\n",
        "10) Doc Embeddings (mean of all vectors): 0.9274146905725853\n",
        "\n",
        "11) Doc Embeddings (tf-idf weighting): 0.9384037015615962\n",
        "\n",
        "12) doc2vec (gensim, 5 epochs): 0.4068825910931174\n",
        "\n",
        "13) fasttext: 0.9707923655292077\n",
        "\n",
        "14) CNN: 0.9566223250433776\n",
        "\n",
        "15) BiLSTM (1 epoch): 0.97165991902834\n",
        "\n",
        "16) ULMFit: 0.9493927125506073"
      ]
    },
    {
      "cell_type": "markdown",
      "metadata": {
        "id": "ZeZaYqB3YVX3",
        "colab_type": "text"
      },
      "source": [
        "По метрике accuracy побеждает модель \"CountVectorizer + TfidfTransformer + SGDClassifier (with lemmatization and n-grams (n <= 5))\" с результатом 0.9788895315211105.\n",
        "\n",
        "Хорошо себя показывают также fasttext, BiLSTM (>= 0.97).\n",
        "\n",
        "Чуть хуже, но также в пределах \"нормы\": CountVectorizer + TfidfTransformer + MultinomialNB/, CNN, ULMFit, Doc Embeddings (tf-idf weighting/mean), ...\n",
        "\n",
        "Все остальные варианты дают не очень хорошее качество либо по причине недообучения, либо по причине простоты самой модели (rule-based approach, например)."
      ]
    },
    {
      "cell_type": "markdown",
      "metadata": {
        "colab_type": "text",
        "id": "4FkOuR_NiXeT"
      },
      "source": [
        "# Правила сдачи \n",
        "\n",
        "1. Домашняя работа должна быть выполнена в ipynb-тетрадке.\n",
        "2. Сделанную тетрадку нужно отправить ассистенту (ссылка на контакты будет в вики).\n",
        "3. Задание выполняется индивидуально.\n",
        "4. Все вычисления должны быть снабжены пояснениями!\n",
        "5. Дедлайн – 10 июня в 10.00.\n"
      ]
    },
    {
      "cell_type": "code",
      "metadata": {
        "id": "5MH1j6a2Rd1p",
        "colab_type": "code",
        "colab": {}
      },
      "source": [
        ""
      ],
      "execution_count": 0,
      "outputs": []
    }
  ]
}